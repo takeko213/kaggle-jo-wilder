{
 "cells": [
  {
   "attachments": {},
   "cell_type": "markdown",
   "metadata": {},
   "source": [
    "# sequence_encoder"
   ]
  },
  {
   "attachments": {},
   "cell_type": "markdown",
   "metadata": {},
   "source": [
    "level追加"
   ]
  },
  {
   "cell_type": "code",
   "execution_count": 35,
   "metadata": {},
   "outputs": [],
   "source": [
    "import os\n",
    "import sys\n",
    "import traceback\n",
    "import gc\n",
    "import random\n",
    "import pickle\n",
    "import pathlib\n",
    "import subprocess\n",
    "from dataclasses import dataclass\n",
    "\n",
    "import pandas as pd\n",
    "import polars as pl\n",
    "import numpy as np\n",
    "from sklearn.metrics import f1_score\n",
    "from sklearn.model_selection import GroupKFold\n",
    "import lightgbm as lgb\n",
    "\n",
    "import matplotlib.pyplot as plt\n",
    "import seaborn as sns\n",
    "from tqdm import tqdm\n"
   ]
  },
  {
   "cell_type": "code",
   "execution_count": 36,
   "metadata": {},
   "outputs": [],
   "source": [
    "@dataclass\n",
    "class Cfg:\n",
    "    input_dir = \"/mnt/predict-student-performance-from-game-play/input/\"\n",
    "    output_dir = \"/mnt/predict-student-performance-from-game-play/output/\"\n",
    "    prep_dir = \"/mnt/predict-student-performance-from-game-play/prep/\"\n",
    "cfg = Cfg()"
   ]
  },
  {
   "cell_type": "code",
   "execution_count": 37,
   "metadata": {},
   "outputs": [],
   "source": [
    "level_groups = ['0-4', '5-12', '13-22']"
   ]
  },
  {
   "cell_type": "code",
   "execution_count": 38,
   "metadata": {},
   "outputs": [],
   "source": [
    "train = pd.read_csv(cfg.input_dir + \"train.csv\")"
   ]
  },
  {
   "cell_type": "code",
   "execution_count": 39,
   "metadata": {},
   "outputs": [],
   "source": [
    "room_fqids = train[\"room_fqid\"].unique().tolist()\n",
    "room_fqid_encoder = {room_fqid: str(i) for i,room_fqid in enumerate(room_fqids)}\n",
    "room_fqid_decoder = {str(i): room_fqid for i,room_fqid in enumerate(room_fqids)}"
   ]
  },
  {
   "cell_type": "code",
   "execution_count": 40,
   "metadata": {},
   "outputs": [],
   "source": [
    "sequence_encoders = {}\n",
    "for group in level_groups:\n",
    "    df = pl.from_pandas(train[train[\"level_group\"]==group])\n",
    "    df = df.with_columns(pl.col(\"room_fqid\").map_dict(room_fqid_encoder).alias(\"room_fqid_encode\"))\n",
    "    df = df.groupby(\"session_id\").agg(pl.col(\"room_fqid_encode\").filter(pl.col(\"room_fqid_encode\")!=pl.col(\"room_fqid_encode\").shift(1)).str.concat(\"\"))\n",
    "    room_fqid_sequences = list(df[\"room_fqid_encode\"].unique())\n",
    "    room_fqid_sequence_encoder = {room_fqid_seq: i for i,room_fqid_seq in enumerate(room_fqid_sequences)}\n",
    "    sequence_encoders[group] = {}\n",
    "    sequence_encoders[group][\"room_fqid\"] = room_fqid_sequence_encoder"
   ]
  },
  {
   "cell_type": "code",
   "execution_count": 43,
   "metadata": {},
   "outputs": [],
   "source": [
    "with open(cfg.prep_dir + \"room_fqid_encoder.pkl\", \"wb\") as f:\n",
    "    pickle.dump(room_fqid_encoder, f)\n",
    "\n",
    "with open(cfg.prep_dir + \"sequence_encoders.pkl\", \"wb\") as f:\n",
    "    pickle.dump(sequence_encoders, f)"
   ]
  },
  {
   "cell_type": "code",
   "execution_count": 42,
   "metadata": {},
   "outputs": [],
   "source": [
    "#df.groupby(\"session_id\").agg(pl.col(\"room_fqid_encode\").filter(pl.col(\"room_fqid_encode\")!=pl.col(\"room_fqid_encode\").shift(1)).str.concat(\"\").map_dict(room_fqid_sequence_encoder))"
   ]
  }
 ],
 "metadata": {
  "kernelspec": {
   "display_name": "Python 3 (ipykernel)",
   "language": "python",
   "name": "python3"
  },
  "language_info": {
   "codemirror_mode": {
    "name": "ipython",
    "version": 3
   },
   "file_extension": ".py",
   "mimetype": "text/x-python",
   "name": "python",
   "nbconvert_exporter": "python",
   "pygments_lexer": "ipython3",
   "version": "3.10.10"
  },
  "orig_nbformat": 4
 },
 "nbformat": 4,
 "nbformat_minor": 2
}
