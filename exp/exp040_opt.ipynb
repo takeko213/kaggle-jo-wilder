{
 "cells": [
  {
   "attachments": {},
   "cell_type": "markdown",
   "metadata": {},
   "source": [
    "# exp040_opt"
   ]
  },
  {
   "attachments": {},
   "cell_type": "markdown",
   "metadata": {},
   "source": []
  },
  {
   "cell_type": "code",
   "execution_count": 1,
   "metadata": {},
   "outputs": [],
   "source": [
    "import os\n",
    "import sys\n",
    "import traceback\n",
    "import gc\n",
    "import random\n",
    "import pickle\n",
    "import pathlib\n",
    "import subprocess\n",
    "from dataclasses import dataclass\n",
    "from collections import defaultdict\n",
    "\n",
    "import pandas as pd\n",
    "import numpy as np\n",
    "from sklearn.metrics import f1_score\n",
    "from sklearn.metrics import log_loss\n",
    "from sklearn.model_selection import GroupKFold\n",
    "import lightgbm as lgb\n",
    "\n",
    "import matplotlib.pyplot as plt\n",
    "import seaborn as sns\n",
    "import optuna.integration.lightgbm as optuna_lgb"
   ]
  },
  {
   "cell_type": "code",
   "execution_count": 2,
   "metadata": {},
   "outputs": [],
   "source": [
    "@dataclass\n",
    "class Cfg:\n",
    "    mode = \"local_cv\" # \"local_cv\" or \"kaggle_inf\" \n",
    "    exp_name = \"exp040\"\n",
    "    input_dir = \"/mnt/predict-student-performance-from-game-play/input/\"\n",
    "    output_dir = \"/mnt/predict-student-performance-from-game-play/output/\"\n",
    "    prep_dir = \"/mnt/predict-student-performance-from-game-play/prep/\"\n",
    "    seed = 42\n",
    "    n_splits = 5\n",
    "    best_threshold = 0.630 # local_cvの結果を入れる\n",
    "cfg = Cfg()\n",
    "\n",
    "if cfg.mode == \"local_cv\":\n",
    "    os.makedirs(os.path.join(cfg.output_dir, cfg.exp_name), exist_ok=True)\n",
    "    os.makedirs(os.path.join(cfg.output_dir, cfg.exp_name, \"cache\"), exist_ok=True)\n",
    "\n",
    "elif cfg.mode == \"kaggle_inf\":\n",
    "    import jo_wilder"
   ]
  },
  {
   "cell_type": "code",
   "execution_count": 3,
   "metadata": {},
   "outputs": [],
   "source": [
    "params = {\n",
    "    'objective': 'binary', \n",
    "    'boosting': 'gbdt', \n",
    "    'learning_rate': 0.01, \n",
    "    'metric': 'binary_logloss', \n",
    "    'seed': cfg.seed, \n",
    "    'feature_pre_filter': False, \n",
    "    'lambda_l1': 3.86172588734434e-05, \n",
    "    'lambda_l2': 8.164200511365216, \n",
    "    'num_leaves': 31, \n",
    "    'feature_fraction': 0.4, \n",
    "    'bagging_fraction': 0.9437148886789388, \n",
    "    'bagging_freq': 1, \n",
    "    'min_child_samples': 50\n",
    "}"
   ]
  },
  {
   "cell_type": "code",
   "execution_count": 4,
   "metadata": {},
   "outputs": [],
   "source": [
    "features_used_total = [\n",
    "    'record_cnt'\n",
    "]"
   ]
  },
  {
   "cell_type": "code",
   "execution_count": 5,
   "metadata": {},
   "outputs": [],
   "source": [
    "level_group_list = ['0-4', '5-12', '13-22']\n",
    "\n",
    "event_name_list = [\n",
    "    'cutscene_click', 'person_click', 'navigate_click',\n",
    "    'observation_click', 'notification_click', 'object_click',\n",
    "    'object_hover', 'map_hover', 'map_click', 'checkpoint',\n",
    "    'notebook_click'\n",
    "]\n",
    "\n",
    "name_list = [\n",
    "    'basic', 'undefined', 'close', 'open', 'prev', 'next'\n",
    "]\n",
    "\n",
    "page_list = [0.0, 1.0, 2.0, 3.0, 4.0, 5.0, 6.0]  \n",
    "\n",
    "level_list = [ 0,  1,  2,  3,  4,  5,  6,  7,  8,  9, 10, 11, 12, 13, 14, 15, 16,\n",
    "               17, 18, 19, 20, 21, 22]\n",
    "\n",
    "room_fqid_list = ['tunic.historicalsociety.closet',\n",
    " 'tunic.historicalsociety.basement',\n",
    " 'tunic.historicalsociety.entry',\n",
    " 'tunic.historicalsociety.collection',\n",
    " 'tunic.historicalsociety.stacks',\n",
    " 'tunic.kohlcenter.halloffame',\n",
    " 'tunic.capitol_0.hall',\n",
    " 'tunic.historicalsociety.closet_dirty',\n",
    " 'tunic.historicalsociety.frontdesk',\n",
    " 'tunic.humanecology.frontdesk',\n",
    " 'tunic.drycleaner.frontdesk',\n",
    " 'tunic.library.frontdesk',\n",
    " 'tunic.library.microfiche',\n",
    " 'tunic.capitol_1.hall',\n",
    " 'tunic.historicalsociety.cage',\n",
    " 'tunic.historicalsociety.collection_flag',\n",
    " 'tunic.wildlife.center',\n",
    " 'tunic.flaghouse.entry',\n",
    " 'tunic.capitol_2.hall']"
   ]
  },
  {
   "cell_type": "code",
   "execution_count": 6,
   "metadata": {},
   "outputs": [],
   "source": [
    "def transform_labels_df(labels_):\n",
    "    \"\"\"\n",
    "    labelsデータを整形する\n",
    "    \"\"\"\n",
    "    labels = labels_.copy()\n",
    "    labels[\"question\"] = labels[\"session_id\"].apply(lambda x: x.split(\"_\")[1].replace(\"q\", \"\")).astype(int)\n",
    "    labels[\"session_id\"] = labels[\"session_id\"].apply(lambda x: x.split(\"_\")[0]).astype(int)\n",
    "    \n",
    "    # trainの特徴量と結合するためにquestionに対応するlabel_groupを列として設けておく\n",
    "    labels[\"level_group\"] = \"\"\n",
    "    labels.loc[labels[\"question\"]<=3, \"level_group\"] = \"0-4\"\n",
    "    labels.loc[(labels[\"question\"]>=4)&(labels[\"question\"]<=13), \"level_group\"] = \"5-12\"\n",
    "    labels.loc[labels[\"question\"]>=14, \"level_group\"] = \"13-22\"\n",
    "\n",
    "    return labels"
   ]
  },
  {
   "cell_type": "code",
   "execution_count": 7,
   "metadata": {},
   "outputs": [],
   "source": [
    "class Features:\n",
    "    def __init__(self, _sessions):\n",
    "        self.sessions = _sessions.copy()\n",
    "        self.features = self.sessions[[\"session_id\", \"level_group\"]].drop_duplicates().copy()\n",
    "\n",
    "    def _prep(self):\n",
    "        self.sessions = self.sessions.sort_values([\"session_id\", \"level_group\", \"elapsed_time\"], ignore_index=True)\n",
    "        self.sessions[\"elapsed_time_diff\"] = self.sessions[\"elapsed_time\"] - self.sessions.groupby([\"session_id\", \"level_group\"])[\"elapsed_time\"].shift(1)\n",
    "\n",
    "    def _record_cnt(self):\n",
    "        \"\"\"level_groupごとのレコード数\n",
    "        \"\"\"\n",
    "        add_features = self.sessions.groupby([\"session_id\", \"level_group\"])[\"index\"].count().reset_index().rename(columns={\"index\":\"record_cnt\"})\n",
    "        self.features = self.features.merge(add_features, on=[\"session_id\", \"level_group\"], how=\"left\")\n",
    "\n",
    "    def _event_name_record_cnt(self):\n",
    "        \"\"\"level_groupごと、各event_nameのレコード数\n",
    "        \"\"\"\n",
    "        add_features = self.sessions.groupby([\"session_id\", \"level_group\", \"event_name\"])[\"index\"].count().reset_index().rename(columns={\"index\":\"cnt\"})\n",
    "        for event in event_name_list:\n",
    "            new_col = f\"{event}_record_cnt\"\n",
    "            tmp = add_features[add_features[\"event_name\"]==event][[\"session_id\", \"level_group\", \"cnt\"]].copy()\n",
    "            if len(tmp) > 0:\n",
    "                tmp = tmp.rename(columns={\"cnt\": new_col})\n",
    "                self.features = self.features.merge(tmp, on=[\"session_id\", \"level_group\"], how=\"left\")\n",
    "                self.features[new_col] = self.features[new_col].fillna(-1)\n",
    "            else:\n",
    "                self.features[new_col] = -1\n",
    "\n",
    "    def _name_record_cnt(self):\n",
    "        \"\"\"level_groupごと、各nameのレコード数\n",
    "        \"\"\"\n",
    "        add_features = self.sessions.groupby([\"session_id\", \"level_group\", \"name\"])[\"index\"].count().reset_index().rename(columns={\"index\":\"cnt\"})\n",
    "        for name in name_list:\n",
    "            new_col = f\"{name}_record_cnt\"\n",
    "            tmp = add_features[add_features[\"name\"]==name][[\"session_id\", \"level_group\", \"cnt\"]].copy()\n",
    "            if len(tmp) > 0:\n",
    "                tmp = tmp.rename(columns={\"cnt\": new_col})\n",
    "                self.features = self.features.merge(tmp, on=[\"session_id\", \"level_group\"], how=\"left\")\n",
    "                self.features[new_col] = self.features[new_col].fillna(-1)\n",
    "            else:\n",
    "                self.features[new_col] = -1\n",
    "\n",
    "    def _page_record_cnt(self):\n",
    "        \"\"\"level_groupごと、各pageのレコード数\n",
    "        \"\"\"\n",
    "        add_features = self.sessions.groupby([\"session_id\", \"level_group\", \"page\"])[\"index\"].count().reset_index().rename(columns={\"index\":\"cnt\"})\n",
    "        for page in page_list:\n",
    "            new_col = f\"page{str(int(page))}_cnt\"\n",
    "            tmp = add_features[add_features[\"page\"]==page][[\"session_id\", \"level_group\", \"cnt\"]].copy()\n",
    "            if len(tmp) > 0:\n",
    "                tmp = tmp.rename(columns={\"cnt\": new_col})\n",
    "                self.features = self.features.merge(tmp, on=[\"session_id\", \"level_group\"], how=\"left\")\n",
    "                self.features[new_col] = self.features[new_col].fillna(-1)\n",
    "            else:\n",
    "                self.features[new_col] = -1\n",
    "\n",
    "    def _room_fqid_record_cnt(self):\n",
    "        \"\"\"level_groupごと、各room_fqidのレコード数\n",
    "        \"\"\"\n",
    "        add_features = self.sessions.groupby([\"session_id\", \"level_group\", \"room_fqid\"])[\"index\"].count().reset_index().rename(columns={\"index\":\"cnt\"})\n",
    "        for room in room_fqid_list:\n",
    "            new_col = f\"{room}_cnt\"\n",
    "            tmp = add_features[add_features[\"room_fqid\"]==room][[\"session_id\", \"level_group\", \"cnt\"]].copy()\n",
    "            if len(tmp) > 0:\n",
    "                tmp = tmp.rename(columns={\"cnt\": new_col})\n",
    "                self.features = self.features.merge(tmp, on=[\"session_id\", \"level_group\"], how=\"left\")\n",
    "                self.features[new_col] = self.features[new_col].fillna(-1)\n",
    "            else:\n",
    "                self.features[new_col] = -1\n",
    "\n",
    "    def _level_record_cnt(self):\n",
    "        \"\"\"各levelのレコード数\n",
    "        \"\"\"\n",
    "        add_features = self.sessions.groupby([\"session_id\", \"level_group\", \"level\"])[\"index\"].count().reset_index().rename(columns={\"index\":\"cnt\"})\n",
    "        for level in level_list:\n",
    "            new_col = f\"level{str(int(level))}_cnt\"\n",
    "            tmp = add_features[add_features[\"level\"]==level][[\"session_id\", \"level_group\", \"cnt\"]].copy()\n",
    "            if len(tmp) > 0:\n",
    "                tmp = tmp.rename(columns={\"cnt\": new_col})\n",
    "                self.features = self.features.merge(tmp, on=[\"session_id\", \"level_group\"], how=\"left\")\n",
    "                self.features[new_col] = self.features[new_col].fillna(-1)\n",
    "            else:\n",
    "                self.features[new_col] = -1\n",
    "\n",
    "    def _elapsed_time(self):\n",
    "        \"\"\"level_groupごと、epapsed_timeのmax - min（経過時間）\n",
    "        \"\"\"\n",
    "        add_features = self.sessions.groupby([\"session_id\", \"level_group\"])[\"elapsed_time\"].agg([max,min]).reset_index()\n",
    "        add_features[\"elapsed_time\"] = add_features[\"max\"] - add_features[\"min\"]\n",
    "        add_features = add_features[[\"session_id\", \"level_group\", \"elapsed_time\"]].copy()\n",
    "        self.features = self.features.merge(add_features, on=[\"session_id\", \"level_group\"], how=\"left\")\n",
    "\n",
    "    def _coor_mean(self):\n",
    "        \"\"\"level_groupごと、座標系の平均値\n",
    "        \"\"\"\n",
    "        add_features = self.sessions.groupby([\"session_id\", \"level_group\"])[[\"room_coor_x\", \"room_coor_y\", \"screen_coor_x\", \"screen_coor_y\"]].mean().reset_index()\n",
    "        add_features = add_features.rename(columns={\"room_coor_x\":\"room_coor_x_mean\", \"room_coor_y\":\"room_coor_y_mean\", \"screen_coor_x\":\"screen_coor_x_mean\", \"screen_coor_y\":\"screen_coor_y_mean\"})\n",
    "        self.features = self.features.merge(add_features, on=[\"session_id\", \"level_group\"], how=\"left\")\n",
    "\n",
    "    def _event_name_coor_mean(self):\n",
    "        \"\"\"level_groupごと、evemt_nameごとの座標系の平均値\n",
    "        \"\"\"\n",
    "        coor_cols = [\"room_coor_x\", \"room_coor_y\", \"screen_coor_x\", \"screen_coor_y\"]\n",
    "        add_features = self.sessions.groupby([\"session_id\", \"level_group\", \"event_name\"])[coor_cols].mean().reset_index()\n",
    "        for event in event_name_list:\n",
    "            if event in ['checkpoint', 'map_hover', 'object_hover']:\n",
    "                # これらのデータには座標データが存在しないので特徴量化をスキップ\n",
    "                continue\n",
    "            col_map = {col:f\"{event}_elapsed_{col}_mean\" for col in coor_cols}\n",
    "            new_cols = list(col_map.values())\n",
    "            tmp = add_features[add_features[\"event_name\"]==event].copy()\n",
    "            if len(tmp) > 0:\n",
    "                tmp = tmp.rename(columns=col_map)\n",
    "                tmp = tmp.drop(columns=[\"event_name\"])\n",
    "                self.features = self.features.merge(tmp, on=[\"session_id\", \"level_group\"], how=\"left\")\n",
    "                self.features[new_cols] = self.features[new_cols].fillna(-1)\n",
    "            else:\n",
    "                self.features[new_cols] = -1\n",
    "\n",
    "    def _name_coor_mean(self):\n",
    "        \"\"\"level_groupごと、nameごとの座標系の平均値\n",
    "        \"\"\"\n",
    "        coor_cols = [\"room_coor_x\", \"room_coor_y\", \"screen_coor_x\", \"screen_coor_y\"]\n",
    "        add_features = self.sessions.groupby([\"session_id\", \"level_group\", \"name\"])[coor_cols].mean().reset_index()\n",
    "        for name in name_list:\n",
    "            col_map = {col:f\"{name}_elapsed_{col}_mean\" for col in coor_cols}\n",
    "            new_cols = list(col_map.values())\n",
    "            tmp = add_features[add_features[\"name\"]==name].copy()\n",
    "            if len(tmp) > 0:\n",
    "                tmp = tmp.rename(columns=col_map)\n",
    "                tmp = tmp.drop(columns=[\"name\"])\n",
    "                self.features = self.features.merge(tmp, on=[\"session_id\", \"level_group\"], how=\"left\")\n",
    "                self.features[new_cols] = self.features[new_cols].fillna(-1)\n",
    "            else:\n",
    "                self.features[new_cols] = -1\n",
    "\n",
    "    def _cat_col_nunique(self, col):\n",
    "        \"\"\"level_groupごと、[col]のユニーク数\n",
    "        \"\"\"\n",
    "        add_features = self.sessions.dropna(subset=[col]).drop_duplicates([\"session_id\", \"level_group\", col])\n",
    "        add_features = add_features.groupby([\"session_id\", \"level_group\"])[\"index\"].count().reset_index().rename(columns={\"index\":f\"{col}_nunique\"})\n",
    "        self.features = self.features.merge(add_features, on=[\"session_id\", \"level_group\"], how=\"left\")\n",
    "\n",
    "    def _elapsed_time_diff_agg(self):\n",
    "        \"\"\"level_groupごと、前後のレコードのelapsed_timeの差分に関する集計量\n",
    "        \"\"\"\n",
    "        add_features = self.sessions.copy()\n",
    "        add_features = add_features.groupby([\"session_id\", \"level_group\"])[\"elapsed_time_diff\"].agg([\"max\", \"min\", \"mean\", \"std\"]).reset_index()\n",
    "        add_features = add_features.rename(columns={\"max\":\"elapsed_time_diff_max\", \"min\":\"elapsed_time_diff_min\", \"mean\":\"elapsed_time_diff_mean\", \"std\":\"elapsed_time_diff_std\"})\n",
    "        self.features = self.features.merge(add_features, on=[\"session_id\", \"level_group\"], how=\"left\")\n",
    "\n",
    "    def _event_name_elapsed_time_diff_agg(self, agg):\n",
    "        \"\"\"level_group、event_nameごとelapsed_timeの差分に関する集計量\n",
    "        \"\"\"\n",
    "        add_features = self.sessions.groupby([\"session_id\", \"level_group\", \"event_name\"])[\"elapsed_time_diff\"].agg(agg).reset_index()\n",
    "        for event in event_name_list:\n",
    "            col_map = {a:f\"{event}_elapsed_time_diff_{a}\" for a in agg}\n",
    "            new_cols = list(col_map.values())\n",
    "            tmp = add_features[add_features[\"event_name\"]==event].copy()\n",
    "            if len(tmp) > 0:\n",
    "                tmp = tmp.rename(columns=col_map)\n",
    "                tmp = tmp.drop(columns=[\"event_name\"])\n",
    "                self.features = self.features.merge(tmp, on=[\"session_id\", \"level_group\"], how=\"left\")\n",
    "                self.features[new_cols] = self.features[new_cols].fillna(-1)\n",
    "            else:\n",
    "                self.features[new_cols] = -1\n",
    "\n",
    "    def _room_fqid_elapsed_time_diff_agg(self, agg):\n",
    "        \"\"\"level_group、room_fqidごとelapsed_timeの差分に関する集計量\n",
    "        \"\"\"\n",
    "        add_features = self.sessions.groupby([\"session_id\", \"level_group\", \"room_fqid\"])[\"elapsed_time_diff\"].agg(agg).reset_index()\n",
    "        for room in room_fqid_list:\n",
    "            col_map = {a:f\"{room}_elapsed_time_diff_{a}\" for a in agg}\n",
    "            new_cols = list(col_map.values())\n",
    "            tmp = add_features[add_features[\"room_fqid\"]==room].copy()\n",
    "            if len(tmp) > 0:\n",
    "                tmp = tmp.rename(columns=col_map)\n",
    "                tmp = tmp.drop(columns=[\"room_fqid\"])\n",
    "                self.features = self.features.merge(tmp, on=[\"session_id\", \"level_group\"], how=\"left\")\n",
    "                self.features[new_cols] = self.features[new_cols].fillna(-1)\n",
    "            else:\n",
    "                self.features[new_cols] = -1\n",
    "                \n",
    "    def _hover_duration_agg(self, agg):\n",
    "        \"\"\"level_groupごと、前後のレコードのelapsed_timeの差分に関する集計量\n",
    "        \"\"\"\n",
    "        col_map = {a:f\"hover_duration_{a}\" for a in agg}\n",
    "        add_features = self.sessions.copy()\n",
    "        add_features = add_features.groupby([\"session_id\", \"level_group\"])[\"hover_duration\"].agg(agg).reset_index()\n",
    "        add_features = add_features.rename(columns=col_map)\n",
    "        self.features = self.features.merge(add_features, on=[\"session_id\", \"level_group\"], how=\"left\")\n",
    "\n",
    "\n",
    "    def get_features(self):\n",
    "        self._prep()\n",
    "        self._record_cnt()\n",
    "        self._event_name_record_cnt()\n",
    "        self._name_record_cnt()\n",
    "        self._elapsed_time()\n",
    "        self._coor_mean()\n",
    "        self._cat_col_nunique(\"text\")\n",
    "        self._elapsed_time_diff_agg()\n",
    "        self._event_name_elapsed_time_diff_agg([\"mean\", \"max\", \"min\", \"std\"])\n",
    "        self._event_name_coor_mean()\n",
    "        self._name_coor_mean()\n",
    "        self._page_record_cnt()\n",
    "        self._hover_duration_agg([\"mean\", \"max\", \"min\", \"std\"])\n",
    "        self._level_record_cnt()\n",
    "        self._room_fqid_elapsed_time_diff_agg([\"mean\", \"max\", \"min\", \"std\"])\n",
    "        self._room_fqid_record_cnt()\n",
    "        return self.features"
   ]
  },
  {
   "cell_type": "code",
   "execution_count": 8,
   "metadata": {},
   "outputs": [],
   "source": [
    "class History:\n",
    "    def __init__(self):\n",
    "        self.store = {}\n",
    "        for c in features_used_total:\n",
    "            self.store[c] = defaultdict(int)\n",
    "\n",
    "    def record(self, train):\n",
    "        df = train.drop_duplicates(\"session_id\").set_index(\"session_id\")[features_used_total]\n",
    "        for session in df.index:\n",
    "            for c in features_used_total:\n",
    "                self.store[c][session] += df.at[session, c]\n",
    "\n",
    "    def add_total_features(self, train):\n",
    "        for c in features_used_total:\n",
    "            train[f\"total_{c}\"] = train[\"session_id\"].map(self.store[c])\n",
    "        return train"
   ]
  },
  {
   "cell_type": "code",
   "execution_count": 9,
   "metadata": {},
   "outputs": [],
   "source": [
    "def calc_metrics(oof):\n",
    "    logloss = log_loss(oof[\"correct\"], oof[\"pred\"])\n",
    "\n",
    "    # find best th\n",
    "    scores = []; thresholds = []\n",
    "    best_score = 0; best_threshold = 0\n",
    "\n",
    "    for threshold in np.arange(0.4,0.81,0.01):\n",
    "        preds = (oof[\"pred\"].values>threshold).astype(int)\n",
    "        m = f1_score(oof[\"correct\"].values, preds, average='macro')   \n",
    "        scores.append(m)\n",
    "        thresholds.append(threshold)\n",
    "        if m>best_score:\n",
    "            best_score = m\n",
    "            best_threshold = threshold\n",
    "    print(\"logloss\", format(logloss, \".6f\"))\n",
    "    print(\"best_score\", format(best_score, \".6f\"))\n",
    "    print(\"best_threshold\", format(best_threshold, \".3f\"))\n",
    "\n",
    "    # Q別スコア\n",
    "    print(\"---\"*10)\n",
    "    for q in range(18):\n",
    "        q = q + 1\n",
    "        preds = (oof[oof[\"question\"]==q][\"pred\"].values>threshold).astype(int)\n",
    "        m = f1_score(oof[oof[\"question\"]==q][\"correct\"].values, preds, average='macro')\n",
    "        print(f\"Q{q} : F1 = {format(m, '.6f')}\")\n",
    "    return best_threshold"
   ]
  },
  {
   "cell_type": "code",
   "execution_count": 10,
   "metadata": {},
   "outputs": [],
   "source": [
    "def get_train_data(sessions, labels, hist):\n",
    "    # labelデータの整形\n",
    "    labels = transform_labels_df(labels)\n",
    "\n",
    "    # 特徴量生成\n",
    "    feat = Features(sessions)\n",
    "    features = feat.get_features()\n",
    "    \n",
    "    train = features.merge(labels, on=[\"session_id\", \"level_group\"], how=\"left\")\n",
    "    train[\"level_group\"] = train[\"level_group\"].map({\"0-4\":0, \"5-12\":1, \"13-22\":2}).astype(\"category\")\n",
    "    train[\"question\"] = train[\"question\"].astype(\"category\")\n",
    "\n",
    "    # level_groupの特徴量記録＆過去のgroup含めたtotal値の特徴量取得\n",
    "    hist.record(train)\n",
    "    train = hist.add_total_features(train)\n",
    "\n",
    "    return train, hist"
   ]
  },
  {
   "cell_type": "code",
   "execution_count": 11,
   "metadata": {},
   "outputs": [],
   "source": [
    "def run_train():\n",
    "    dfs = []\n",
    "    hist = History()\n",
    "    for group in level_group_list:\n",
    "        # データ読み込み\n",
    "        train_sessions = pd.read_csv(cfg.prep_dir + f\"train{group}.csv\")\n",
    "        labels = pd.read_csv(cfg.prep_dir + f\"train_labels{group}.csv\")\n",
    "        train_group, hist = get_train_data(train_sessions, labels, hist)\n",
    "        dfs.append(train_group)\n",
    "    train = pd.concat(dfs, ignore_index=True)\n",
    "    # concatするとcategory型がリセットされてしまうので再度cast\n",
    "    train[\"level_group\"] = train[\"level_group\"].astype(\"category\")\n",
    "    train[\"question\"] = train[\"question\"].astype(\"category\")\n",
    "\n",
    "    target = \"correct\"\n",
    "    not_use_cols = [target, \"session_id\", \"level_group\"]\n",
    "    features = [c for c in train.columns if c not in not_use_cols]\n",
    "\n",
    "    gkf = GroupKFold(n_splits=cfg.n_splits)\n",
    "    fis = []\n",
    "    oofs = []\n",
    "    for i, (tr_idx, vl_idx) in enumerate(gkf.split(train[features], train[target], train[\"session_id\"])):\n",
    "        print(f\"fold : {i}\")\n",
    "        tr_x, tr_y = train.iloc[tr_idx][features], train.iloc[tr_idx][target]\n",
    "        vl_x, vl_y = train.iloc[vl_idx][features], train.iloc[vl_idx][target]\n",
    "        tr_data = lgb.Dataset(tr_x, label=tr_y)\n",
    "        vl_data = lgb.Dataset(vl_x, label=vl_y)\n",
    "\n",
    "        model = lgb.train(params, tr_data, valid_sets=[tr_data, vl_data],\n",
    "                        num_boost_round=2000000, early_stopping_rounds=100, verbose_eval=100)\n",
    "        # モデル出力\n",
    "        model.save_model(cfg.output_dir + f\"{cfg.exp_name}/{cfg.exp_name}_model{i}.lgb\")\n",
    "        \n",
    "        # valid_pred\n",
    "        oof_fold = train.iloc[vl_idx].copy()\n",
    "        oof_fold[\"pred\"] = model.predict(vl_x, num_iteration=model.best_iteration)\n",
    "        oofs.append(oof_fold)\n",
    "\n",
    "        # 特徴量重要度\n",
    "        fi_fold = pd.DataFrame()\n",
    "        fi_fold[\"feature\"] = model.feature_name()\n",
    "        fi_fold[\"importance\"] = model.feature_importance(importance_type=\"gain\")\n",
    "        fi_fold[\"fold\"] = i\n",
    "        fis.append(fi_fold)\n",
    "\n",
    "    fi = pd.concat(fis)    \n",
    "    fi_n = fi['feature'].nunique()\n",
    "    order = list(fi.groupby(\"feature\").mean().sort_values(\"importance\", ascending=False).index)\n",
    "    plt.figure(figsize=(10, fi_n*0.2))\n",
    "    sns.barplot(x=\"importance\", y=\"feature\", data=fi, order=order)\n",
    "    plt.title(f\"LGBM importance\")\n",
    "    plt.tight_layout()\n",
    "    plt.savefig(cfg.output_dir + f'{cfg.exp_name}/lgbm_importance.png')\n",
    "\n",
    "    # cv\n",
    "    oof = pd.concat(oofs)\n",
    "    best_threshold = calc_metrics(oof)\n",
    "    cfg.best_threshold = best_threshold\n",
    "    oof.to_csv(cfg.output_dir + f\"{cfg.exp_name}/oof.csv.gz\", compression=\"gzip\", index=False)"
   ]
  },
  {
   "cell_type": "code",
   "execution_count": 12,
   "metadata": {},
   "outputs": [],
   "source": [
    "def get_mock_iter_test():\n",
    "    test = pd.read_csv(cfg.input_dir + \"test.csv\")\n",
    "    sub = pd.read_csv(cfg.input_dir + \"sample_submission.csv\")\n",
    "    tests = [df[1].drop(columns=\"session_level\").reset_index(drop=True) for df in test.groupby(\"session_level\")]\n",
    "    subs = [df[1].drop(columns=\"session_level\").reset_index(drop=True) for df in sub.groupby(\"session_level\")]\n",
    "    return zip(subs, tests)"
   ]
  },
  {
   "cell_type": "code",
   "execution_count": 13,
   "metadata": {},
   "outputs": [],
   "source": [
    "def inference(mode):\n",
    "    if mode == \"local_cv\":\n",
    "        # time series apiを模したiterをモックとして用意する\n",
    "        iter_test = get_mock_iter_test()\n",
    "    elif mode == \"kaggle_inf\":\n",
    "        env = jo_wilder.make_env()\n",
    "        iter_test = env.iter_test()\n",
    "        \n",
    "    models = []\n",
    "    for i in range(cfg.n_splits):\n",
    "        if mode == \"local_cv\":\n",
    "            model_path = cfg.output_dir + f\"{cfg.exp_name}/{cfg.exp_name}_model{i}.lgb\"\n",
    "        elif mode == \"kaggle_inf\":\n",
    "            model_path = f\"/kaggle/input/jo-wilder-{cfg.exp_name}/{cfg.exp_name}_model{i}.lgb\"\n",
    "        models.append(lgb.Booster(model_file=model_path))\n",
    "    \n",
    "    hist = History()\n",
    "    for (sample_submission, test_sessions) in iter_test:\n",
    "        test, hist = get_train_data(test_sessions, sample_submission, hist)\n",
    "        preds = np.zeros(len(test))\n",
    "        for i in range(cfg.n_splits):\n",
    "            model = models[i]\n",
    "            features = model.feature_name()\n",
    "            preds += model.predict(test[features], num_iteration=model.best_iteration) / cfg.n_splits\n",
    "        preds = (preds>cfg.best_threshold).astype(int)\n",
    "        sample_submission[\"correct\"] = preds\n",
    "\n",
    "        if mode == \"local_cv\":\n",
    "            print(sample_submission[\"correct\"].values)\n",
    "        elif mode == \"kaggle_inf\":\n",
    "            env.predict(sample_submission)"
   ]
  },
  {
   "cell_type": "code",
   "execution_count": 15,
   "metadata": {},
   "outputs": [
    {
     "name": "stdout",
     "output_type": "stream",
     "text": [
      "{'objective': 'binary', 'boosting': 'gbdt', 'learning_rate': 0.01, 'metric': 'binary_logloss', 'seed': 42, 'feature_pre_filter': False, 'lambda_l1': 4.134488140102331, 'lambda_l2': 0.007775200046481757, 'num_leaves': 75, 'feature_fraction': 0.5, 'bagging_fraction': 0.7036110805680353, 'bagging_freq': 3, 'min_data_in_leaf': 50, 'min_child_samples': 100, 'num_iterations': 2000000, 'early_stopping_round': 100, 'categorical_column': [257]}\n"
     ]
    }
   ],
   "source": [
    "print(model.params)"
   ]
  },
  {
   "cell_type": "code",
   "execution_count": 14,
   "metadata": {},
   "outputs": [
    {
     "name": "stdout",
     "output_type": "stream",
     "text": [
      "fold : 0\n"
     ]
    },
    {
     "name": "stderr",
     "output_type": "stream",
     "text": [
      "\u001b[32m[I 2023-02-13 08:24:46,447]\u001b[0m A new study created in memory with name: no-name-f147a9ea-36cd-451f-b631-2bebb427b0be\u001b[0m\n",
      "feature_fraction, val_score: inf:   0%|          | 0/7 [00:00<?, ?it/s]/home/kaggler/.local/lib/python3.8/site-packages/lightgbm/engine.py:181: UserWarning: 'early_stopping_rounds' argument is deprecated and will be removed in a future release of LightGBM. Pass 'early_stopping()' callback via 'callbacks' argument instead.\n",
      "  _log_warning(\"'early_stopping_rounds' argument is deprecated and will be removed in a future release of LightGBM. \"\n",
      "/home/kaggler/.local/lib/python3.8/site-packages/lightgbm/engine.py:239: UserWarning: 'verbose_eval' argument is deprecated and will be removed in a future release of LightGBM. Pass 'log_evaluation()' callback via 'callbacks' argument instead.\n",
      "  _log_warning(\"'verbose_eval' argument is deprecated and will be removed in a future release of LightGBM. \"\n"
     ]
    },
    {
     "name": "stdout",
     "output_type": "stream",
     "text": [
      "[LightGBM] [Warning] min_data_in_leaf is set=50, min_child_samples=20 will be ignored. Current value: min_data_in_leaf=50\n",
      "[LightGBM] [Warning] min_data_in_leaf is set=50, min_child_samples=20 will be ignored. Current value: min_data_in_leaf=50\n",
      "[LightGBM] [Info] Number of positive: 119434, number of negative: 50180\n",
      "[LightGBM] [Warning] Auto-choosing col-wise multi-threading, the overhead of testing was 0.071560 seconds.\n",
      "You can set `force_col_wise=true` to remove the overhead.\n",
      "[LightGBM] [Info] Total Bins 58130\n",
      "[LightGBM] [Info] Number of data points in the train set: 169614, number of used features: 259\n"
     ]
    },
    {
     "name": "stderr",
     "output_type": "stream",
     "text": [
      "/home/kaggler/.local/lib/python3.8/site-packages/lightgbm/basic.py:1780: UserWarning: Overriding the parameters from Reference Dataset.\n",
      "  _log_warning('Overriding the parameters from Reference Dataset.')\n",
      "/home/kaggler/.local/lib/python3.8/site-packages/lightgbm/basic.py:1513: UserWarning: categorical_column in param dict is overridden.\n",
      "  _log_warning(f'{cat_alias} in param dict is overridden.')\n"
     ]
    },
    {
     "name": "stdout",
     "output_type": "stream",
     "text": [
      "[LightGBM] [Warning] min_data_in_leaf is set=50, min_child_samples=20 will be ignored. Current value: min_data_in_leaf=50\n"
     ]
    },
    {
     "name": "stderr",
     "output_type": "stream",
     "text": [
      "/home/kaggler/.local/lib/python3.8/site-packages/lightgbm/basic.py:1780: UserWarning: Overriding the parameters from Reference Dataset.\n",
      "  _log_warning('Overriding the parameters from Reference Dataset.')\n",
      "/home/kaggler/.local/lib/python3.8/site-packages/lightgbm/basic.py:1513: UserWarning: categorical_column in param dict is overridden.\n",
      "  _log_warning(f'{cat_alias} in param dict is overridden.')\n"
     ]
    },
    {
     "name": "stdout",
     "output_type": "stream",
     "text": [
      "[LightGBM] [Warning] min_data_in_leaf is set=50, min_child_samples=20 will be ignored. Current value: min_data_in_leaf=50\n",
      "[LightGBM] [Info] [binary:BoostFromScore]: pavg=0.704152 -> initscore=0.867147\n",
      "[LightGBM] [Info] Start training from score 0.867147\n",
      "Training until validation scores don't improve for 100 rounds\n",
      "[100]\tvalid_0's binary_logloss: 0.53244\tvalid_1's binary_logloss: 0.532999\n",
      "[200]\tvalid_0's binary_logloss: 0.507593\tvalid_1's binary_logloss: 0.508985\n",
      "[300]\tvalid_0's binary_logloss: 0.496215\tvalid_1's binary_logloss: 0.498839\n",
      "[400]\tvalid_0's binary_logloss: 0.48992\tvalid_1's binary_logloss: 0.494157\n",
      "[500]\tvalid_0's binary_logloss: 0.485557\tvalid_1's binary_logloss: 0.491731\n",
      "[600]\tvalid_0's binary_logloss: 0.481973\tvalid_1's binary_logloss: 0.490345\n",
      "[700]\tvalid_0's binary_logloss: 0.478774\tvalid_1's binary_logloss: 0.489335\n",
      "[800]\tvalid_0's binary_logloss: 0.475834\tvalid_1's binary_logloss: 0.488593\n",
      "[900]\tvalid_0's binary_logloss: 0.473192\tvalid_1's binary_logloss: 0.488069\n",
      "[1000]\tvalid_0's binary_logloss: 0.470757\tvalid_1's binary_logloss: 0.48765\n",
      "[1100]\tvalid_0's binary_logloss: 0.468555\tvalid_1's binary_logloss: 0.487355\n",
      "[1200]\tvalid_0's binary_logloss: 0.466435\tvalid_1's binary_logloss: 0.487149\n",
      "[1300]\tvalid_0's binary_logloss: 0.464426\tvalid_1's binary_logloss: 0.486906\n",
      "[1400]\tvalid_0's binary_logloss: 0.462504\tvalid_1's binary_logloss: 0.486703\n",
      "[1500]\tvalid_0's binary_logloss: 0.46065\tvalid_1's binary_logloss: 0.486569\n",
      "[1600]\tvalid_0's binary_logloss: 0.458876\tvalid_1's binary_logloss: 0.486428\n",
      "[1700]\tvalid_0's binary_logloss: 0.457156\tvalid_1's binary_logloss: 0.486319\n",
      "[1800]\tvalid_0's binary_logloss: 0.455446\tvalid_1's binary_logloss: 0.486179\n",
      "[1900]\tvalid_0's binary_logloss: 0.453831\tvalid_1's binary_logloss: 0.486082\n",
      "[2000]\tvalid_0's binary_logloss: 0.452242\tvalid_1's binary_logloss: 0.485958\n",
      "[2100]\tvalid_0's binary_logloss: 0.45067\tvalid_1's binary_logloss: 0.485877\n",
      "[2200]\tvalid_0's binary_logloss: 0.449183\tvalid_1's binary_logloss: 0.48582\n",
      "[2300]\tvalid_0's binary_logloss: 0.447641\tvalid_1's binary_logloss: 0.485743\n",
      "[2400]\tvalid_0's binary_logloss: 0.446196\tvalid_1's binary_logloss: 0.485686\n",
      "[2500]\tvalid_0's binary_logloss: 0.444733\tvalid_1's binary_logloss: 0.485666\n",
      "[2600]\tvalid_0's binary_logloss: 0.44333\tvalid_1's binary_logloss: 0.485615\n",
      "[2700]\tvalid_0's binary_logloss: 0.44195\tvalid_1's binary_logloss: 0.485563\n",
      "[2800]\tvalid_0's binary_logloss: 0.440614\tvalid_1's binary_logloss: 0.485535\n",
      "[2900]\tvalid_0's binary_logloss: 0.439287\tvalid_1's binary_logloss: 0.485454\n",
      "[3000]\tvalid_0's binary_logloss: 0.437962\tvalid_1's binary_logloss: 0.48544\n",
      "[3100]\tvalid_0's binary_logloss: 0.436665\tvalid_1's binary_logloss: 0.485409\n",
      "[3200]\tvalid_0's binary_logloss: 0.435375\tvalid_1's binary_logloss: 0.485354\n",
      "[3300]\tvalid_0's binary_logloss: 0.434121\tvalid_1's binary_logloss: 0.485264\n",
      "[3400]\tvalid_0's binary_logloss: 0.432841\tvalid_1's binary_logloss: 0.485234\n",
      "[3500]\tvalid_0's binary_logloss: 0.431618\tvalid_1's binary_logloss: 0.4852\n",
      "[3600]\tvalid_0's binary_logloss: 0.43043\tvalid_1's binary_logloss: 0.485169\n",
      "[3700]\tvalid_0's binary_logloss: 0.429205\tvalid_1's binary_logloss: 0.485088\n",
      "[3800]\tvalid_0's binary_logloss: 0.428012\tvalid_1's binary_logloss: 0.485047\n",
      "[3900]\tvalid_0's binary_logloss: 0.426864\tvalid_1's binary_logloss: 0.48503\n"
     ]
    },
    {
     "name": "stderr",
     "output_type": "stream",
     "text": [
      "feature_fraction, val_score: 0.485021:  14%|#4        | 1/7 [01:26<08:41, 86.92s/it]\u001b[32m[I 2023-02-13 08:26:13,368]\u001b[0m Trial 0 finished with value: 0.4850208768854759 and parameters: {'feature_fraction': 0.6}. Best is trial 0 with value: 0.4850208768854759.\u001b[0m\n",
      "feature_fraction, val_score: 0.485021:  14%|#4        | 1/7 [01:26<08:41, 86.92s/it]"
     ]
    },
    {
     "name": "stdout",
     "output_type": "stream",
     "text": [
      "Early stopping, best iteration is:\n",
      "[3868]\tvalid_0's binary_logloss: 0.427217\tvalid_1's binary_logloss: 0.485021\n"
     ]
    },
    {
     "name": "stderr",
     "output_type": "stream",
     "text": [
      "/home/kaggler/.local/lib/python3.8/site-packages/lightgbm/engine.py:181: UserWarning: 'early_stopping_rounds' argument is deprecated and will be removed in a future release of LightGBM. Pass 'early_stopping()' callback via 'callbacks' argument instead.\n",
      "  _log_warning(\"'early_stopping_rounds' argument is deprecated and will be removed in a future release of LightGBM. \"\n",
      "/home/kaggler/.local/lib/python3.8/site-packages/lightgbm/engine.py:239: UserWarning: 'verbose_eval' argument is deprecated and will be removed in a future release of LightGBM. Pass 'log_evaluation()' callback via 'callbacks' argument instead.\n",
      "  _log_warning(\"'verbose_eval' argument is deprecated and will be removed in a future release of LightGBM. \"\n"
     ]
    },
    {
     "name": "stdout",
     "output_type": "stream",
     "text": [
      "[LightGBM] [Warning] min_data_in_leaf is set=50, min_child_samples=20 will be ignored. Current value: min_data_in_leaf=50\n",
      "[LightGBM] [Warning] min_data_in_leaf is set=50, min_child_samples=20 will be ignored. Current value: min_data_in_leaf=50\n",
      "[LightGBM] [Info] Number of positive: 119434, number of negative: 50180\n",
      "[LightGBM] [Warning] Auto-choosing col-wise multi-threading, the overhead of testing was 0.047587 seconds.\n",
      "You can set `force_col_wise=true` to remove the overhead.\n",
      "[LightGBM] [Info] Total Bins 58130\n",
      "[LightGBM] [Info] Number of data points in the train set: 169614, number of used features: 259\n"
     ]
    },
    {
     "name": "stderr",
     "output_type": "stream",
     "text": [
      "/home/kaggler/.local/lib/python3.8/site-packages/lightgbm/basic.py:1780: UserWarning: Overriding the parameters from Reference Dataset.\n",
      "  _log_warning('Overriding the parameters from Reference Dataset.')\n",
      "/home/kaggler/.local/lib/python3.8/site-packages/lightgbm/basic.py:1513: UserWarning: categorical_column in param dict is overridden.\n",
      "  _log_warning(f'{cat_alias} in param dict is overridden.')\n"
     ]
    },
    {
     "name": "stdout",
     "output_type": "stream",
     "text": [
      "[LightGBM] [Warning] min_data_in_leaf is set=50, min_child_samples=20 will be ignored. Current value: min_data_in_leaf=50\n"
     ]
    },
    {
     "name": "stderr",
     "output_type": "stream",
     "text": [
      "/home/kaggler/.local/lib/python3.8/site-packages/lightgbm/basic.py:1780: UserWarning: Overriding the parameters from Reference Dataset.\n",
      "  _log_warning('Overriding the parameters from Reference Dataset.')\n",
      "/home/kaggler/.local/lib/python3.8/site-packages/lightgbm/basic.py:1513: UserWarning: categorical_column in param dict is overridden.\n",
      "  _log_warning(f'{cat_alias} in param dict is overridden.')\n"
     ]
    },
    {
     "name": "stdout",
     "output_type": "stream",
     "text": [
      "[LightGBM] [Warning] min_data_in_leaf is set=50, min_child_samples=20 will be ignored. Current value: min_data_in_leaf=50\n",
      "[LightGBM] [Info] [binary:BoostFromScore]: pavg=0.704152 -> initscore=0.867147\n",
      "[LightGBM] [Info] Start training from score 0.867147\n",
      "Training until validation scores don't improve for 100 rounds\n",
      "[100]\tvalid_0's binary_logloss: 0.53869\tvalid_1's binary_logloss: 0.539158\n",
      "[200]\tvalid_0's binary_logloss: 0.511298\tvalid_1's binary_logloss: 0.512571\n",
      "[300]\tvalid_0's binary_logloss: 0.498187\tvalid_1's binary_logloss: 0.500713\n",
      "[400]\tvalid_0's binary_logloss: 0.490928\tvalid_1's binary_logloss: 0.495064\n",
      "[500]\tvalid_0's binary_logloss: 0.486139\tvalid_1's binary_logloss: 0.492092\n",
      "[600]\tvalid_0's binary_logloss: 0.482476\tvalid_1's binary_logloss: 0.490512\n",
      "[700]\tvalid_0's binary_logloss: 0.479254\tvalid_1's binary_logloss: 0.489341\n",
      "[800]\tvalid_0's binary_logloss: 0.476401\tvalid_1's binary_logloss: 0.488609\n",
      "[900]\tvalid_0's binary_logloss: 0.473816\tvalid_1's binary_logloss: 0.488071\n",
      "[1000]\tvalid_0's binary_logloss: 0.4714\tvalid_1's binary_logloss: 0.487647\n",
      "[1100]\tvalid_0's binary_logloss: 0.469155\tvalid_1's binary_logloss: 0.487343\n",
      "[1200]\tvalid_0's binary_logloss: 0.467058\tvalid_1's binary_logloss: 0.487165\n",
      "[1300]\tvalid_0's binary_logloss: 0.465037\tvalid_1's binary_logloss: 0.48691\n",
      "[1400]\tvalid_0's binary_logloss: 0.463124\tvalid_1's binary_logloss: 0.486684\n",
      "[1500]\tvalid_0's binary_logloss: 0.461308\tvalid_1's binary_logloss: 0.486546\n",
      "[1600]\tvalid_0's binary_logloss: 0.459564\tvalid_1's binary_logloss: 0.486398\n",
      "[1700]\tvalid_0's binary_logloss: 0.457827\tvalid_1's binary_logloss: 0.486304\n",
      "[1800]\tvalid_0's binary_logloss: 0.456162\tvalid_1's binary_logloss: 0.48619\n",
      "[1900]\tvalid_0's binary_logloss: 0.454554\tvalid_1's binary_logloss: 0.486087\n",
      "[2000]\tvalid_0's binary_logloss: 0.452983\tvalid_1's binary_logloss: 0.486012\n",
      "[2100]\tvalid_0's binary_logloss: 0.451415\tvalid_1's binary_logloss: 0.48586\n",
      "[2200]\tvalid_0's binary_logloss: 0.44994\tvalid_1's binary_logloss: 0.485795\n",
      "[2300]\tvalid_0's binary_logloss: 0.448457\tvalid_1's binary_logloss: 0.485673\n",
      "[2400]\tvalid_0's binary_logloss: 0.447039\tvalid_1's binary_logloss: 0.485591\n",
      "[2500]\tvalid_0's binary_logloss: 0.445576\tvalid_1's binary_logloss: 0.485519\n",
      "[2600]\tvalid_0's binary_logloss: 0.444177\tvalid_1's binary_logloss: 0.485428\n",
      "[2700]\tvalid_0's binary_logloss: 0.442821\tvalid_1's binary_logloss: 0.485397\n",
      "[2800]\tvalid_0's binary_logloss: 0.441512\tvalid_1's binary_logloss: 0.485327\n",
      "[2900]\tvalid_0's binary_logloss: 0.440175\tvalid_1's binary_logloss: 0.485232\n",
      "[3000]\tvalid_0's binary_logloss: 0.43892\tvalid_1's binary_logloss: 0.485197\n",
      "[3100]\tvalid_0's binary_logloss: 0.43764\tvalid_1's binary_logloss: 0.485178\n",
      "[3200]\tvalid_0's binary_logloss: 0.436366\tvalid_1's binary_logloss: 0.485115\n",
      "[3300]\tvalid_0's binary_logloss: 0.435133\tvalid_1's binary_logloss: 0.485102\n",
      "[3400]\tvalid_0's binary_logloss: 0.433904\tvalid_1's binary_logloss: 0.485073\n",
      "[3500]\tvalid_0's binary_logloss: 0.432723\tvalid_1's binary_logloss: 0.485023\n",
      "[3600]\tvalid_0's binary_logloss: 0.431572\tvalid_1's binary_logloss: 0.484988\n",
      "[3700]\tvalid_0's binary_logloss: 0.430399\tvalid_1's binary_logloss: 0.484919\n",
      "[3800]\tvalid_0's binary_logloss: 0.429256\tvalid_1's binary_logloss: 0.484889\n",
      "[3900]\tvalid_0's binary_logloss: 0.428134\tvalid_1's binary_logloss: 0.484863\n",
      "[4000]\tvalid_0's binary_logloss: 0.427049\tvalid_1's binary_logloss: 0.48485\n",
      "[4100]\tvalid_0's binary_logloss: 0.425935\tvalid_1's binary_logloss: 0.484829\n",
      "[4200]\tvalid_0's binary_logloss: 0.42484\tvalid_1's binary_logloss: 0.484809\n",
      "[4300]\tvalid_0's binary_logloss: 0.423779\tvalid_1's binary_logloss: 0.484794\n",
      "[4400]\tvalid_0's binary_logloss: 0.422718\tvalid_1's binary_logloss: 0.484779\n",
      "[4500]\tvalid_0's binary_logloss: 0.421684\tvalid_1's binary_logloss: 0.484721\n",
      "[4600]\tvalid_0's binary_logloss: 0.420632\tvalid_1's binary_logloss: 0.484701\n",
      "[4700]\tvalid_0's binary_logloss: 0.419597\tvalid_1's binary_logloss: 0.484691\n",
      "[4800]\tvalid_0's binary_logloss: 0.41856\tvalid_1's binary_logloss: 0.48467\n"
     ]
    },
    {
     "name": "stderr",
     "output_type": "stream",
     "text": [
      "feature_fraction, val_score: 0.484651:  29%|##8       | 2/7 [02:55<07:18, 87.61s/it]\u001b[32m[I 2023-02-13 08:27:41,464]\u001b[0m Trial 1 finished with value: 0.4846509026365998 and parameters: {'feature_fraction': 0.5}. Best is trial 1 with value: 0.4846509026365998.\u001b[0m\n",
      "feature_fraction, val_score: 0.484651:  29%|##8       | 2/7 [02:55<07:18, 87.61s/it]"
     ]
    },
    {
     "name": "stdout",
     "output_type": "stream",
     "text": [
      "Early stopping, best iteration is:\n",
      "[4747]\tvalid_0's binary_logloss: 0.419103\tvalid_1's binary_logloss: 0.484651\n"
     ]
    },
    {
     "name": "stderr",
     "output_type": "stream",
     "text": [
      "/home/kaggler/.local/lib/python3.8/site-packages/lightgbm/engine.py:181: UserWarning: 'early_stopping_rounds' argument is deprecated and will be removed in a future release of LightGBM. Pass 'early_stopping()' callback via 'callbacks' argument instead.\n",
      "  _log_warning(\"'early_stopping_rounds' argument is deprecated and will be removed in a future release of LightGBM. \"\n",
      "/home/kaggler/.local/lib/python3.8/site-packages/lightgbm/engine.py:239: UserWarning: 'verbose_eval' argument is deprecated and will be removed in a future release of LightGBM. Pass 'log_evaluation()' callback via 'callbacks' argument instead.\n",
      "  _log_warning(\"'verbose_eval' argument is deprecated and will be removed in a future release of LightGBM. \"\n"
     ]
    },
    {
     "name": "stdout",
     "output_type": "stream",
     "text": [
      "[LightGBM] [Warning] min_data_in_leaf is set=50, min_child_samples=20 will be ignored. Current value: min_data_in_leaf=50\n",
      "[LightGBM] [Warning] min_data_in_leaf is set=50, min_child_samples=20 will be ignored. Current value: min_data_in_leaf=50\n",
      "[LightGBM] [Info] Number of positive: 119434, number of negative: 50180\n",
      "[LightGBM] [Warning] Auto-choosing col-wise multi-threading, the overhead of testing was 0.055947 seconds.\n",
      "You can set `force_col_wise=true` to remove the overhead.\n",
      "[LightGBM] [Info] Total Bins 58130\n",
      "[LightGBM] [Info] Number of data points in the train set: 169614, number of used features: 259\n"
     ]
    },
    {
     "name": "stderr",
     "output_type": "stream",
     "text": [
      "/home/kaggler/.local/lib/python3.8/site-packages/lightgbm/basic.py:1780: UserWarning: Overriding the parameters from Reference Dataset.\n",
      "  _log_warning('Overriding the parameters from Reference Dataset.')\n",
      "/home/kaggler/.local/lib/python3.8/site-packages/lightgbm/basic.py:1513: UserWarning: categorical_column in param dict is overridden.\n",
      "  _log_warning(f'{cat_alias} in param dict is overridden.')\n"
     ]
    },
    {
     "name": "stdout",
     "output_type": "stream",
     "text": [
      "[LightGBM] [Warning] min_data_in_leaf is set=50, min_child_samples=20 will be ignored. Current value: min_data_in_leaf=50\n"
     ]
    },
    {
     "name": "stderr",
     "output_type": "stream",
     "text": [
      "/home/kaggler/.local/lib/python3.8/site-packages/lightgbm/basic.py:1780: UserWarning: Overriding the parameters from Reference Dataset.\n",
      "  _log_warning('Overriding the parameters from Reference Dataset.')\n",
      "/home/kaggler/.local/lib/python3.8/site-packages/lightgbm/basic.py:1513: UserWarning: categorical_column in param dict is overridden.\n",
      "  _log_warning(f'{cat_alias} in param dict is overridden.')\n"
     ]
    },
    {
     "name": "stdout",
     "output_type": "stream",
     "text": [
      "[LightGBM] [Warning] min_data_in_leaf is set=50, min_child_samples=20 will be ignored. Current value: min_data_in_leaf=50\n",
      "[LightGBM] [Info] [binary:BoostFromScore]: pavg=0.704152 -> initscore=0.867147\n",
      "[LightGBM] [Info] Start training from score 0.867147\n",
      "Training until validation scores don't improve for 100 rounds\n",
      "[100]\tvalid_0's binary_logloss: 0.530235\tvalid_1's binary_logloss: 0.530613\n",
      "[200]\tvalid_0's binary_logloss: 0.506251\tvalid_1's binary_logloss: 0.507417\n",
      "[300]\tvalid_0's binary_logloss: 0.495544\tvalid_1's binary_logloss: 0.498003\n",
      "[400]\tvalid_0's binary_logloss: 0.489565\tvalid_1's binary_logloss: 0.493743\n",
      "[500]\tvalid_0's binary_logloss: 0.485319\tvalid_1's binary_logloss: 0.491506\n",
      "[600]\tvalid_0's binary_logloss: 0.481684\tvalid_1's binary_logloss: 0.490113\n",
      "[700]\tvalid_0's binary_logloss: 0.47838\tvalid_1's binary_logloss: 0.489138\n",
      "[800]\tvalid_0's binary_logloss: 0.475408\tvalid_1's binary_logloss: 0.488402\n",
      "[900]\tvalid_0's binary_logloss: 0.472782\tvalid_1's binary_logloss: 0.48792\n",
      "[1000]\tvalid_0's binary_logloss: 0.470347\tvalid_1's binary_logloss: 0.487584\n",
      "[1100]\tvalid_0's binary_logloss: 0.468142\tvalid_1's binary_logloss: 0.487271\n",
      "[1200]\tvalid_0's binary_logloss: 0.466038\tvalid_1's binary_logloss: 0.487047\n",
      "[1300]\tvalid_0's binary_logloss: 0.464005\tvalid_1's binary_logloss: 0.486835\n",
      "[1400]\tvalid_0's binary_logloss: 0.46204\tvalid_1's binary_logloss: 0.486674\n",
      "[1500]\tvalid_0's binary_logloss: 0.4602\tvalid_1's binary_logloss: 0.486504\n",
      "[1600]\tvalid_0's binary_logloss: 0.458408\tvalid_1's binary_logloss: 0.486386\n",
      "[1700]\tvalid_0's binary_logloss: 0.456647\tvalid_1's binary_logloss: 0.486264\n",
      "[1800]\tvalid_0's binary_logloss: 0.454932\tvalid_1's binary_logloss: 0.486169\n",
      "[1900]\tvalid_0's binary_logloss: 0.453264\tvalid_1's binary_logloss: 0.486051\n",
      "[2000]\tvalid_0's binary_logloss: 0.451636\tvalid_1's binary_logloss: 0.4859\n",
      "[2100]\tvalid_0's binary_logloss: 0.450068\tvalid_1's binary_logloss: 0.485823\n",
      "[2200]\tvalid_0's binary_logloss: 0.44852\tvalid_1's binary_logloss: 0.485728\n",
      "[2300]\tvalid_0's binary_logloss: 0.446989\tvalid_1's binary_logloss: 0.48566\n",
      "[2400]\tvalid_0's binary_logloss: 0.445499\tvalid_1's binary_logloss: 0.485564\n",
      "[2500]\tvalid_0's binary_logloss: 0.444022\tvalid_1's binary_logloss: 0.485506\n",
      "[2600]\tvalid_0's binary_logloss: 0.442555\tvalid_1's binary_logloss: 0.485435\n",
      "[2700]\tvalid_0's binary_logloss: 0.441139\tvalid_1's binary_logloss: 0.485368\n",
      "[2800]\tvalid_0's binary_logloss: 0.439767\tvalid_1's binary_logloss: 0.485317\n",
      "[2900]\tvalid_0's binary_logloss: 0.438447\tvalid_1's binary_logloss: 0.485257\n",
      "[3000]\tvalid_0's binary_logloss: 0.437112\tvalid_1's binary_logloss: 0.485252\n",
      "[3100]\tvalid_0's binary_logloss: 0.435798\tvalid_1's binary_logloss: 0.48524\n",
      "[3200]\tvalid_0's binary_logloss: 0.434464\tvalid_1's binary_logloss: 0.485152\n",
      "[3300]\tvalid_0's binary_logloss: 0.43319\tvalid_1's binary_logloss: 0.485067\n",
      "[3400]\tvalid_0's binary_logloss: 0.431893\tvalid_1's binary_logloss: 0.484995\n",
      "[3500]\tvalid_0's binary_logloss: 0.430633\tvalid_1's binary_logloss: 0.484924\n",
      "[3600]\tvalid_0's binary_logloss: 0.429392\tvalid_1's binary_logloss: 0.48488\n",
      "[3700]\tvalid_0's binary_logloss: 0.428175\tvalid_1's binary_logloss: 0.484837\n",
      "[3800]\tvalid_0's binary_logloss: 0.426965\tvalid_1's binary_logloss: 0.484806\n"
     ]
    },
    {
     "name": "stderr",
     "output_type": "stream",
     "text": [
      "feature_fraction, val_score: 0.484651:  43%|####2     | 3/7 [04:23<05:52, 88.06s/it]\u001b[32m[I 2023-02-13 08:29:10,064]\u001b[0m Trial 2 finished with value: 0.4848014061265819 and parameters: {'feature_fraction': 0.7}. Best is trial 1 with value: 0.4846509026365998.\u001b[0m\n",
      "feature_fraction, val_score: 0.484651:  43%|####2     | 3/7 [04:23<05:52, 88.06s/it]"
     ]
    },
    {
     "name": "stdout",
     "output_type": "stream",
     "text": [
      "Early stopping, best iteration is:\n",
      "[3744]\tvalid_0's binary_logloss: 0.427637\tvalid_1's binary_logloss: 0.484801\n"
     ]
    },
    {
     "name": "stderr",
     "output_type": "stream",
     "text": [
      "/home/kaggler/.local/lib/python3.8/site-packages/lightgbm/engine.py:181: UserWarning: 'early_stopping_rounds' argument is deprecated and will be removed in a future release of LightGBM. Pass 'early_stopping()' callback via 'callbacks' argument instead.\n",
      "  _log_warning(\"'early_stopping_rounds' argument is deprecated and will be removed in a future release of LightGBM. \"\n",
      "/home/kaggler/.local/lib/python3.8/site-packages/lightgbm/engine.py:239: UserWarning: 'verbose_eval' argument is deprecated and will be removed in a future release of LightGBM. Pass 'log_evaluation()' callback via 'callbacks' argument instead.\n",
      "  _log_warning(\"'verbose_eval' argument is deprecated and will be removed in a future release of LightGBM. \"\n"
     ]
    },
    {
     "name": "stdout",
     "output_type": "stream",
     "text": [
      "[LightGBM] [Warning] min_data_in_leaf is set=50, min_child_samples=20 will be ignored. Current value: min_data_in_leaf=50\n",
      "[LightGBM] [Warning] min_data_in_leaf is set=50, min_child_samples=20 will be ignored. Current value: min_data_in_leaf=50\n",
      "[LightGBM] [Info] Number of positive: 119434, number of negative: 50180\n",
      "[LightGBM] [Warning] Auto-choosing col-wise multi-threading, the overhead of testing was 0.046108 seconds.\n",
      "You can set `force_col_wise=true` to remove the overhead.\n",
      "[LightGBM] [Info] Total Bins 58130\n",
      "[LightGBM] [Info] Number of data points in the train set: 169614, number of used features: 259\n"
     ]
    },
    {
     "name": "stderr",
     "output_type": "stream",
     "text": [
      "/home/kaggler/.local/lib/python3.8/site-packages/lightgbm/basic.py:1780: UserWarning: Overriding the parameters from Reference Dataset.\n",
      "  _log_warning('Overriding the parameters from Reference Dataset.')\n",
      "/home/kaggler/.local/lib/python3.8/site-packages/lightgbm/basic.py:1513: UserWarning: categorical_column in param dict is overridden.\n",
      "  _log_warning(f'{cat_alias} in param dict is overridden.')\n"
     ]
    },
    {
     "name": "stdout",
     "output_type": "stream",
     "text": [
      "[LightGBM] [Warning] min_data_in_leaf is set=50, min_child_samples=20 will be ignored. Current value: min_data_in_leaf=50\n"
     ]
    },
    {
     "name": "stderr",
     "output_type": "stream",
     "text": [
      "/home/kaggler/.local/lib/python3.8/site-packages/lightgbm/basic.py:1780: UserWarning: Overriding the parameters from Reference Dataset.\n",
      "  _log_warning('Overriding the parameters from Reference Dataset.')\n",
      "/home/kaggler/.local/lib/python3.8/site-packages/lightgbm/basic.py:1513: UserWarning: categorical_column in param dict is overridden.\n",
      "  _log_warning(f'{cat_alias} in param dict is overridden.')\n"
     ]
    },
    {
     "name": "stdout",
     "output_type": "stream",
     "text": [
      "[LightGBM] [Warning] min_data_in_leaf is set=50, min_child_samples=20 will be ignored. Current value: min_data_in_leaf=50\n",
      "[LightGBM] [Info] [binary:BoostFromScore]: pavg=0.704152 -> initscore=0.867147\n",
      "[LightGBM] [Info] Start training from score 0.867147\n",
      "Training until validation scores don't improve for 100 rounds\n",
      "[100]\tvalid_0's binary_logloss: 0.543834\tvalid_1's binary_logloss: 0.544241\n",
      "[200]\tvalid_0's binary_logloss: 0.515753\tvalid_1's binary_logloss: 0.517062\n",
      "[300]\tvalid_0's binary_logloss: 0.501014\tvalid_1's binary_logloss: 0.503634\n",
      "[400]\tvalid_0's binary_logloss: 0.492946\tvalid_1's binary_logloss: 0.497173\n",
      "[500]\tvalid_0's binary_logloss: 0.487508\tvalid_1's binary_logloss: 0.493485\n",
      "[600]\tvalid_0's binary_logloss: 0.48353\tvalid_1's binary_logloss: 0.491479\n",
      "[700]\tvalid_0's binary_logloss: 0.480074\tvalid_1's binary_logloss: 0.489929\n",
      "[800]\tvalid_0's binary_logloss: 0.477192\tvalid_1's binary_logloss: 0.48901\n",
      "[900]\tvalid_0's binary_logloss: 0.474592\tvalid_1's binary_logloss: 0.488305\n",
      "[1000]\tvalid_0's binary_logloss: 0.4722\tvalid_1's binary_logloss: 0.487818\n",
      "[1100]\tvalid_0's binary_logloss: 0.47\tvalid_1's binary_logloss: 0.487407\n",
      "[1200]\tvalid_0's binary_logloss: 0.467888\tvalid_1's binary_logloss: 0.487118\n",
      "[1300]\tvalid_0's binary_logloss: 0.465902\tvalid_1's binary_logloss: 0.486829\n",
      "[1400]\tvalid_0's binary_logloss: 0.464013\tvalid_1's binary_logloss: 0.486631\n",
      "[1500]\tvalid_0's binary_logloss: 0.462211\tvalid_1's binary_logloss: 0.486485\n",
      "[1600]\tvalid_0's binary_logloss: 0.460499\tvalid_1's binary_logloss: 0.486335\n",
      "[1700]\tvalid_0's binary_logloss: 0.458809\tvalid_1's binary_logloss: 0.486224\n",
      "[1800]\tvalid_0's binary_logloss: 0.457199\tvalid_1's binary_logloss: 0.486099\n",
      "[1900]\tvalid_0's binary_logloss: 0.455583\tvalid_1's binary_logloss: 0.485999\n",
      "[2000]\tvalid_0's binary_logloss: 0.454033\tvalid_1's binary_logloss: 0.48591\n",
      "[2100]\tvalid_0's binary_logloss: 0.452501\tvalid_1's binary_logloss: 0.485806\n",
      "[2200]\tvalid_0's binary_logloss: 0.451078\tvalid_1's binary_logloss: 0.485763\n",
      "[2300]\tvalid_0's binary_logloss: 0.449629\tvalid_1's binary_logloss: 0.485704\n",
      "[2400]\tvalid_0's binary_logloss: 0.44825\tvalid_1's binary_logloss: 0.485608\n",
      "[2500]\tvalid_0's binary_logloss: 0.446854\tvalid_1's binary_logloss: 0.485513\n",
      "[2600]\tvalid_0's binary_logloss: 0.445497\tvalid_1's binary_logloss: 0.48544\n",
      "[2700]\tvalid_0's binary_logloss: 0.444188\tvalid_1's binary_logloss: 0.485406\n",
      "[2800]\tvalid_0's binary_logloss: 0.442896\tvalid_1's binary_logloss: 0.485333\n",
      "[2900]\tvalid_0's binary_logloss: 0.441599\tvalid_1's binary_logloss: 0.485235\n",
      "[3000]\tvalid_0's binary_logloss: 0.440346\tvalid_1's binary_logloss: 0.485197\n",
      "[3100]\tvalid_0's binary_logloss: 0.439125\tvalid_1's binary_logloss: 0.48514\n",
      "[3200]\tvalid_0's binary_logloss: 0.437876\tvalid_1's binary_logloss: 0.485082\n",
      "[3300]\tvalid_0's binary_logloss: 0.436703\tvalid_1's binary_logloss: 0.485044\n",
      "[3400]\tvalid_0's binary_logloss: 0.435533\tvalid_1's binary_logloss: 0.485019\n",
      "[3500]\tvalid_0's binary_logloss: 0.434376\tvalid_1's binary_logloss: 0.484953\n",
      "[3600]\tvalid_0's binary_logloss: 0.433236\tvalid_1's binary_logloss: 0.484938\n",
      "[3700]\tvalid_0's binary_logloss: 0.432095\tvalid_1's binary_logloss: 0.484872\n",
      "[3800]\tvalid_0's binary_logloss: 0.430995\tvalid_1's binary_logloss: 0.484837\n",
      "[3900]\tvalid_0's binary_logloss: 0.429936\tvalid_1's binary_logloss: 0.484834\n"
     ]
    },
    {
     "name": "stderr",
     "output_type": "stream",
     "text": [
      "feature_fraction, val_score: 0.484651:  57%|#####7    | 4/7 [05:30<03:59, 79.71s/it]\u001b[32m[I 2023-02-13 08:30:16,973]\u001b[0m Trial 3 finished with value: 0.48482738799097885 and parameters: {'feature_fraction': 0.4}. Best is trial 1 with value: 0.4846509026365998.\u001b[0m\n",
      "feature_fraction, val_score: 0.484651:  57%|#####7    | 4/7 [05:30<03:59, 79.71s/it]"
     ]
    },
    {
     "name": "stdout",
     "output_type": "stream",
     "text": [
      "Early stopping, best iteration is:\n",
      "[3867]\tvalid_0's binary_logloss: 0.43028\tvalid_1's binary_logloss: 0.484827\n"
     ]
    },
    {
     "name": "stderr",
     "output_type": "stream",
     "text": [
      "/home/kaggler/.local/lib/python3.8/site-packages/lightgbm/engine.py:181: UserWarning: 'early_stopping_rounds' argument is deprecated and will be removed in a future release of LightGBM. Pass 'early_stopping()' callback via 'callbacks' argument instead.\n",
      "  _log_warning(\"'early_stopping_rounds' argument is deprecated and will be removed in a future release of LightGBM. \"\n",
      "/home/kaggler/.local/lib/python3.8/site-packages/lightgbm/engine.py:239: UserWarning: 'verbose_eval' argument is deprecated and will be removed in a future release of LightGBM. Pass 'log_evaluation()' callback via 'callbacks' argument instead.\n",
      "  _log_warning(\"'verbose_eval' argument is deprecated and will be removed in a future release of LightGBM. \"\n"
     ]
    },
    {
     "name": "stdout",
     "output_type": "stream",
     "text": [
      "[LightGBM] [Warning] min_data_in_leaf is set=50, min_child_samples=20 will be ignored. Current value: min_data_in_leaf=50\n",
      "[LightGBM] [Warning] min_data_in_leaf is set=50, min_child_samples=20 will be ignored. Current value: min_data_in_leaf=50\n",
      "[LightGBM] [Info] Number of positive: 119434, number of negative: 50180\n",
      "[LightGBM] [Warning] Auto-choosing col-wise multi-threading, the overhead of testing was 0.057653 seconds.\n",
      "You can set `force_col_wise=true` to remove the overhead.\n",
      "[LightGBM] [Info] Total Bins 58130\n",
      "[LightGBM] [Info] Number of data points in the train set: 169614, number of used features: 259\n"
     ]
    },
    {
     "name": "stderr",
     "output_type": "stream",
     "text": [
      "/home/kaggler/.local/lib/python3.8/site-packages/lightgbm/basic.py:1780: UserWarning: Overriding the parameters from Reference Dataset.\n",
      "  _log_warning('Overriding the parameters from Reference Dataset.')\n",
      "/home/kaggler/.local/lib/python3.8/site-packages/lightgbm/basic.py:1513: UserWarning: categorical_column in param dict is overridden.\n",
      "  _log_warning(f'{cat_alias} in param dict is overridden.')\n"
     ]
    },
    {
     "name": "stdout",
     "output_type": "stream",
     "text": [
      "[LightGBM] [Warning] min_data_in_leaf is set=50, min_child_samples=20 will be ignored. Current value: min_data_in_leaf=50\n"
     ]
    },
    {
     "name": "stderr",
     "output_type": "stream",
     "text": [
      "/home/kaggler/.local/lib/python3.8/site-packages/lightgbm/basic.py:1780: UserWarning: Overriding the parameters from Reference Dataset.\n",
      "  _log_warning('Overriding the parameters from Reference Dataset.')\n",
      "/home/kaggler/.local/lib/python3.8/site-packages/lightgbm/basic.py:1513: UserWarning: categorical_column in param dict is overridden.\n",
      "  _log_warning(f'{cat_alias} in param dict is overridden.')\n"
     ]
    },
    {
     "name": "stdout",
     "output_type": "stream",
     "text": [
      "[LightGBM] [Warning] min_data_in_leaf is set=50, min_child_samples=20 will be ignored. Current value: min_data_in_leaf=50\n",
      "[LightGBM] [Info] [binary:BoostFromScore]: pavg=0.704152 -> initscore=0.867147\n",
      "[LightGBM] [Info] Start training from score 0.867147\n",
      "Training until validation scores don't improve for 100 rounds\n",
      "[100]\tvalid_0's binary_logloss: 0.523543\tvalid_1's binary_logloss: 0.523657\n",
      "[200]\tvalid_0's binary_logloss: 0.502872\tvalid_1's binary_logloss: 0.503589\n",
      "[300]\tvalid_0's binary_logloss: 0.494321\tvalid_1's binary_logloss: 0.496473\n",
      "[400]\tvalid_0's binary_logloss: 0.488644\tvalid_1's binary_logloss: 0.492908\n",
      "[500]\tvalid_0's binary_logloss: 0.48415\tvalid_1's binary_logloss: 0.490817\n",
      "[600]\tvalid_0's binary_logloss: 0.480329\tvalid_1's binary_logloss: 0.489508\n",
      "[700]\tvalid_0's binary_logloss: 0.477017\tvalid_1's binary_logloss: 0.488612\n",
      "[800]\tvalid_0's binary_logloss: 0.474112\tvalid_1's binary_logloss: 0.48799\n",
      "[900]\tvalid_0's binary_logloss: 0.471559\tvalid_1's binary_logloss: 0.487582\n",
      "[1000]\tvalid_0's binary_logloss: 0.469167\tvalid_1's binary_logloss: 0.487327\n",
      "[1100]\tvalid_0's binary_logloss: 0.466935\tvalid_1's binary_logloss: 0.487062\n",
      "[1200]\tvalid_0's binary_logloss: 0.464832\tvalid_1's binary_logloss: 0.486866\n",
      "[1300]\tvalid_0's binary_logloss: 0.462769\tvalid_1's binary_logloss: 0.486676\n",
      "[1400]\tvalid_0's binary_logloss: 0.460816\tvalid_1's binary_logloss: 0.486546\n",
      "[1500]\tvalid_0's binary_logloss: 0.458895\tvalid_1's binary_logloss: 0.48641\n",
      "[1600]\tvalid_0's binary_logloss: 0.457065\tvalid_1's binary_logloss: 0.48628\n",
      "[1700]\tvalid_0's binary_logloss: 0.455286\tvalid_1's binary_logloss: 0.486136\n",
      "[1800]\tvalid_0's binary_logloss: 0.453528\tvalid_1's binary_logloss: 0.486003\n",
      "[1900]\tvalid_0's binary_logloss: 0.45183\tvalid_1's binary_logloss: 0.485922\n",
      "[2000]\tvalid_0's binary_logloss: 0.450217\tvalid_1's binary_logloss: 0.485808\n",
      "[2100]\tvalid_0's binary_logloss: 0.448591\tvalid_1's binary_logloss: 0.485724\n",
      "[2200]\tvalid_0's binary_logloss: 0.44697\tvalid_1's binary_logloss: 0.485654\n",
      "[2300]\tvalid_0's binary_logloss: 0.445419\tvalid_1's binary_logloss: 0.485586\n",
      "[2400]\tvalid_0's binary_logloss: 0.443864\tvalid_1's binary_logloss: 0.485499\n",
      "[2500]\tvalid_0's binary_logloss: 0.442397\tvalid_1's binary_logloss: 0.48547\n",
      "[2600]\tvalid_0's binary_logloss: 0.440852\tvalid_1's binary_logloss: 0.485374\n",
      "[2700]\tvalid_0's binary_logloss: 0.439346\tvalid_1's binary_logloss: 0.485304\n",
      "[2800]\tvalid_0's binary_logloss: 0.43793\tvalid_1's binary_logloss: 0.485252\n",
      "[2900]\tvalid_0's binary_logloss: 0.436552\tvalid_1's binary_logloss: 0.485195\n",
      "[3000]\tvalid_0's binary_logloss: 0.435175\tvalid_1's binary_logloss: 0.485176\n",
      "[3100]\tvalid_0's binary_logloss: 0.433765\tvalid_1's binary_logloss: 0.485111\n",
      "[3200]\tvalid_0's binary_logloss: 0.432337\tvalid_1's binary_logloss: 0.485045\n",
      "[3300]\tvalid_0's binary_logloss: 0.430947\tvalid_1's binary_logloss: 0.485003\n",
      "[3400]\tvalid_0's binary_logloss: 0.429563\tvalid_1's binary_logloss: 0.484983\n",
      "[3500]\tvalid_0's binary_logloss: 0.428175\tvalid_1's binary_logloss: 0.484928\n",
      "[3600]\tvalid_0's binary_logloss: 0.426891\tvalid_1's binary_logloss: 0.48491\n",
      "[3700]\tvalid_0's binary_logloss: 0.425615\tvalid_1's binary_logloss: 0.48488\n"
     ]
    },
    {
     "name": "stderr",
     "output_type": "stream",
     "text": [
      "feature_fraction, val_score: 0.484651:  71%|#######1  | 5/7 [07:10<02:54, 87.05s/it]\u001b[32m[I 2023-02-13 08:31:57,038]\u001b[0m Trial 4 finished with value: 0.4848744539189075 and parameters: {'feature_fraction': 1.0}. Best is trial 1 with value: 0.4846509026365998.\u001b[0m\n",
      "feature_fraction, val_score: 0.484651:  71%|#######1  | 5/7 [07:10<02:54, 87.05s/it]"
     ]
    },
    {
     "name": "stdout",
     "output_type": "stream",
     "text": [
      "[3800]\tvalid_0's binary_logloss: 0.424356\tvalid_1's binary_logloss: 0.48489\n",
      "Early stopping, best iteration is:\n",
      "[3704]\tvalid_0's binary_logloss: 0.425563\tvalid_1's binary_logloss: 0.484874\n"
     ]
    },
    {
     "name": "stderr",
     "output_type": "stream",
     "text": [
      "/home/kaggler/.local/lib/python3.8/site-packages/lightgbm/engine.py:181: UserWarning: 'early_stopping_rounds' argument is deprecated and will be removed in a future release of LightGBM. Pass 'early_stopping()' callback via 'callbacks' argument instead.\n",
      "  _log_warning(\"'early_stopping_rounds' argument is deprecated and will be removed in a future release of LightGBM. \"\n",
      "/home/kaggler/.local/lib/python3.8/site-packages/lightgbm/engine.py:239: UserWarning: 'verbose_eval' argument is deprecated and will be removed in a future release of LightGBM. Pass 'log_evaluation()' callback via 'callbacks' argument instead.\n",
      "  _log_warning(\"'verbose_eval' argument is deprecated and will be removed in a future release of LightGBM. \"\n"
     ]
    },
    {
     "name": "stdout",
     "output_type": "stream",
     "text": [
      "[LightGBM] [Warning] min_data_in_leaf is set=50, min_child_samples=20 will be ignored. Current value: min_data_in_leaf=50\n",
      "[LightGBM] [Warning] min_data_in_leaf is set=50, min_child_samples=20 will be ignored. Current value: min_data_in_leaf=50\n",
      "[LightGBM] [Info] Number of positive: 119434, number of negative: 50180\n",
      "[LightGBM] [Warning] Auto-choosing col-wise multi-threading, the overhead of testing was 0.057786 seconds.\n",
      "You can set `force_col_wise=true` to remove the overhead.\n",
      "[LightGBM] [Info] Total Bins 58130\n",
      "[LightGBM] [Info] Number of data points in the train set: 169614, number of used features: 259\n"
     ]
    },
    {
     "name": "stderr",
     "output_type": "stream",
     "text": [
      "/home/kaggler/.local/lib/python3.8/site-packages/lightgbm/basic.py:1780: UserWarning: Overriding the parameters from Reference Dataset.\n",
      "  _log_warning('Overriding the parameters from Reference Dataset.')\n",
      "/home/kaggler/.local/lib/python3.8/site-packages/lightgbm/basic.py:1513: UserWarning: categorical_column in param dict is overridden.\n",
      "  _log_warning(f'{cat_alias} in param dict is overridden.')\n"
     ]
    },
    {
     "name": "stdout",
     "output_type": "stream",
     "text": [
      "[LightGBM] [Warning] min_data_in_leaf is set=50, min_child_samples=20 will be ignored. Current value: min_data_in_leaf=50\n"
     ]
    },
    {
     "name": "stderr",
     "output_type": "stream",
     "text": [
      "/home/kaggler/.local/lib/python3.8/site-packages/lightgbm/basic.py:1780: UserWarning: Overriding the parameters from Reference Dataset.\n",
      "  _log_warning('Overriding the parameters from Reference Dataset.')\n",
      "/home/kaggler/.local/lib/python3.8/site-packages/lightgbm/basic.py:1513: UserWarning: categorical_column in param dict is overridden.\n",
      "  _log_warning(f'{cat_alias} in param dict is overridden.')\n"
     ]
    },
    {
     "name": "stdout",
     "output_type": "stream",
     "text": [
      "[LightGBM] [Warning] min_data_in_leaf is set=50, min_child_samples=20 will be ignored. Current value: min_data_in_leaf=50\n",
      "[LightGBM] [Info] [binary:BoostFromScore]: pavg=0.704152 -> initscore=0.867147\n",
      "[LightGBM] [Info] Start training from score 0.867147\n",
      "Training until validation scores don't improve for 100 rounds\n",
      "[100]\tvalid_0's binary_logloss: 0.524783\tvalid_1's binary_logloss: 0.524977\n",
      "[200]\tvalid_0's binary_logloss: 0.503357\tvalid_1's binary_logloss: 0.504262\n",
      "[300]\tvalid_0's binary_logloss: 0.494567\tvalid_1's binary_logloss: 0.496743\n",
      "[400]\tvalid_0's binary_logloss: 0.489057\tvalid_1's binary_logloss: 0.493147\n",
      "[500]\tvalid_0's binary_logloss: 0.484598\tvalid_1's binary_logloss: 0.491029\n",
      "[600]\tvalid_0's binary_logloss: 0.480785\tvalid_1's binary_logloss: 0.489732\n",
      "[700]\tvalid_0's binary_logloss: 0.477476\tvalid_1's binary_logloss: 0.488757\n",
      "[800]\tvalid_0's binary_logloss: 0.474572\tvalid_1's binary_logloss: 0.488134\n",
      "[900]\tvalid_0's binary_logloss: 0.471963\tvalid_1's binary_logloss: 0.487695\n",
      "[1000]\tvalid_0's binary_logloss: 0.469557\tvalid_1's binary_logloss: 0.487337\n",
      "[1100]\tvalid_0's binary_logloss: 0.467306\tvalid_1's binary_logloss: 0.487048\n",
      "[1200]\tvalid_0's binary_logloss: 0.465209\tvalid_1's binary_logloss: 0.486863\n",
      "[1300]\tvalid_0's binary_logloss: 0.463157\tvalid_1's binary_logloss: 0.486652\n",
      "[1400]\tvalid_0's binary_logloss: 0.461181\tvalid_1's binary_logloss: 0.486499\n",
      "[1500]\tvalid_0's binary_logloss: 0.459294\tvalid_1's binary_logloss: 0.486335\n",
      "[1600]\tvalid_0's binary_logloss: 0.457477\tvalid_1's binary_logloss: 0.486224\n",
      "[1700]\tvalid_0's binary_logloss: 0.45571\tvalid_1's binary_logloss: 0.486104\n",
      "[1800]\tvalid_0's binary_logloss: 0.453935\tvalid_1's binary_logloss: 0.486018\n",
      "[1900]\tvalid_0's binary_logloss: 0.452271\tvalid_1's binary_logloss: 0.4859\n",
      "[2000]\tvalid_0's binary_logloss: 0.45065\tvalid_1's binary_logloss: 0.485808\n",
      "[2100]\tvalid_0's binary_logloss: 0.449047\tvalid_1's binary_logloss: 0.485746\n",
      "[2200]\tvalid_0's binary_logloss: 0.447436\tvalid_1's binary_logloss: 0.485696\n",
      "[2300]\tvalid_0's binary_logloss: 0.445902\tvalid_1's binary_logloss: 0.485559\n",
      "[2400]\tvalid_0's binary_logloss: 0.444349\tvalid_1's binary_logloss: 0.485481\n",
      "[2500]\tvalid_0's binary_logloss: 0.442809\tvalid_1's binary_logloss: 0.485403\n",
      "[2600]\tvalid_0's binary_logloss: 0.441277\tvalid_1's binary_logloss: 0.485314\n",
      "[2700]\tvalid_0's binary_logloss: 0.439811\tvalid_1's binary_logloss: 0.485277\n",
      "[2800]\tvalid_0's binary_logloss: 0.438412\tvalid_1's binary_logloss: 0.485236\n",
      "[2900]\tvalid_0's binary_logloss: 0.437032\tvalid_1's binary_logloss: 0.485172\n",
      "[3000]\tvalid_0's binary_logloss: 0.435672\tvalid_1's binary_logloss: 0.485129\n",
      "[3100]\tvalid_0's binary_logloss: 0.434297\tvalid_1's binary_logloss: 0.485082\n",
      "[3200]\tvalid_0's binary_logloss: 0.432899\tvalid_1's binary_logloss: 0.485013\n",
      "[3300]\tvalid_0's binary_logloss: 0.43153\tvalid_1's binary_logloss: 0.48493\n",
      "[3400]\tvalid_0's binary_logloss: 0.430199\tvalid_1's binary_logloss: 0.484907\n",
      "[3500]\tvalid_0's binary_logloss: 0.428869\tvalid_1's binary_logloss: 0.484901\n",
      "[3600]\tvalid_0's binary_logloss: 0.4276\tvalid_1's binary_logloss: 0.484871\n",
      "[3700]\tvalid_0's binary_logloss: 0.426308\tvalid_1's binary_logloss: 0.484855\n",
      "[3800]\tvalid_0's binary_logloss: 0.425051\tvalid_1's binary_logloss: 0.484832\n"
     ]
    },
    {
     "name": "stderr",
     "output_type": "stream",
     "text": [
      "feature_fraction, val_score: 0.484651:  86%|########5 | 6/7 [08:47<01:30, 90.27s/it]\u001b[32m[I 2023-02-13 08:33:33,564]\u001b[0m Trial 5 finished with value: 0.4848300056994951 and parameters: {'feature_fraction': 0.8999999999999999}. Best is trial 1 with value: 0.4846509026365998.\u001b[0m\n",
      "feature_fraction, val_score: 0.484651:  86%|########5 | 6/7 [08:47<01:30, 90.27s/it]"
     ]
    },
    {
     "name": "stdout",
     "output_type": "stream",
     "text": [
      "Early stopping, best iteration is:\n",
      "[3730]\tvalid_0's binary_logloss: 0.425922\tvalid_1's binary_logloss: 0.48483\n"
     ]
    },
    {
     "name": "stderr",
     "output_type": "stream",
     "text": [
      "/home/kaggler/.local/lib/python3.8/site-packages/lightgbm/engine.py:181: UserWarning: 'early_stopping_rounds' argument is deprecated and will be removed in a future release of LightGBM. Pass 'early_stopping()' callback via 'callbacks' argument instead.\n",
      "  _log_warning(\"'early_stopping_rounds' argument is deprecated and will be removed in a future release of LightGBM. \"\n",
      "/home/kaggler/.local/lib/python3.8/site-packages/lightgbm/engine.py:239: UserWarning: 'verbose_eval' argument is deprecated and will be removed in a future release of LightGBM. Pass 'log_evaluation()' callback via 'callbacks' argument instead.\n",
      "  _log_warning(\"'verbose_eval' argument is deprecated and will be removed in a future release of LightGBM. \"\n"
     ]
    },
    {
     "name": "stdout",
     "output_type": "stream",
     "text": [
      "[LightGBM] [Warning] min_data_in_leaf is set=50, min_child_samples=20 will be ignored. Current value: min_data_in_leaf=50\n",
      "[LightGBM] [Warning] min_data_in_leaf is set=50, min_child_samples=20 will be ignored. Current value: min_data_in_leaf=50\n",
      "[LightGBM] [Info] Number of positive: 119434, number of negative: 50180\n",
      "[LightGBM] [Warning] Auto-choosing col-wise multi-threading, the overhead of testing was 0.057662 seconds.\n",
      "You can set `force_col_wise=true` to remove the overhead.\n",
      "[LightGBM] [Info] Total Bins 58130\n",
      "[LightGBM] [Info] Number of data points in the train set: 169614, number of used features: 259\n"
     ]
    },
    {
     "name": "stderr",
     "output_type": "stream",
     "text": [
      "/home/kaggler/.local/lib/python3.8/site-packages/lightgbm/basic.py:1780: UserWarning: Overriding the parameters from Reference Dataset.\n",
      "  _log_warning('Overriding the parameters from Reference Dataset.')\n",
      "/home/kaggler/.local/lib/python3.8/site-packages/lightgbm/basic.py:1513: UserWarning: categorical_column in param dict is overridden.\n",
      "  _log_warning(f'{cat_alias} in param dict is overridden.')\n"
     ]
    },
    {
     "name": "stdout",
     "output_type": "stream",
     "text": [
      "[LightGBM] [Warning] min_data_in_leaf is set=50, min_child_samples=20 will be ignored. Current value: min_data_in_leaf=50\n"
     ]
    },
    {
     "name": "stderr",
     "output_type": "stream",
     "text": [
      "/home/kaggler/.local/lib/python3.8/site-packages/lightgbm/basic.py:1780: UserWarning: Overriding the parameters from Reference Dataset.\n",
      "  _log_warning('Overriding the parameters from Reference Dataset.')\n",
      "/home/kaggler/.local/lib/python3.8/site-packages/lightgbm/basic.py:1513: UserWarning: categorical_column in param dict is overridden.\n",
      "  _log_warning(f'{cat_alias} in param dict is overridden.')\n"
     ]
    },
    {
     "name": "stdout",
     "output_type": "stream",
     "text": [
      "[LightGBM] [Warning] min_data_in_leaf is set=50, min_child_samples=20 will be ignored. Current value: min_data_in_leaf=50\n",
      "[LightGBM] [Info] [binary:BoostFromScore]: pavg=0.704152 -> initscore=0.867147\n",
      "[LightGBM] [Info] Start training from score 0.867147\n",
      "Training until validation scores don't improve for 100 rounds\n",
      "[100]\tvalid_0's binary_logloss: 0.527874\tvalid_1's binary_logloss: 0.528126\n",
      "[200]\tvalid_0's binary_logloss: 0.504666\tvalid_1's binary_logloss: 0.505668\n",
      "[300]\tvalid_0's binary_logloss: 0.494936\tvalid_1's binary_logloss: 0.497253\n",
      "[400]\tvalid_0's binary_logloss: 0.489397\tvalid_1's binary_logloss: 0.493457\n",
      "[500]\tvalid_0's binary_logloss: 0.48506\tvalid_1's binary_logloss: 0.491245\n",
      "[600]\tvalid_0's binary_logloss: 0.481245\tvalid_1's binary_logloss: 0.489886\n",
      "[700]\tvalid_0's binary_logloss: 0.477877\tvalid_1's binary_logloss: 0.488927\n",
      "[800]\tvalid_0's binary_logloss: 0.474909\tvalid_1's binary_logloss: 0.488245\n",
      "[900]\tvalid_0's binary_logloss: 0.472294\tvalid_1's binary_logloss: 0.487773\n",
      "[1000]\tvalid_0's binary_logloss: 0.469903\tvalid_1's binary_logloss: 0.487414\n",
      "[1100]\tvalid_0's binary_logloss: 0.467673\tvalid_1's binary_logloss: 0.487111\n",
      "[1200]\tvalid_0's binary_logloss: 0.465574\tvalid_1's binary_logloss: 0.486976\n",
      "[1300]\tvalid_0's binary_logloss: 0.463564\tvalid_1's binary_logloss: 0.486754\n",
      "[1400]\tvalid_0's binary_logloss: 0.461652\tvalid_1's binary_logloss: 0.486606\n",
      "[1500]\tvalid_0's binary_logloss: 0.459779\tvalid_1's binary_logloss: 0.48641\n",
      "[1600]\tvalid_0's binary_logloss: 0.45797\tvalid_1's binary_logloss: 0.48629\n",
      "[1700]\tvalid_0's binary_logloss: 0.456217\tvalid_1's binary_logloss: 0.486216\n",
      "[1800]\tvalid_0's binary_logloss: 0.454482\tvalid_1's binary_logloss: 0.486104\n",
      "[1900]\tvalid_0's binary_logloss: 0.452797\tvalid_1's binary_logloss: 0.48601\n",
      "[2000]\tvalid_0's binary_logloss: 0.451159\tvalid_1's binary_logloss: 0.485906\n",
      "[2100]\tvalid_0's binary_logloss: 0.449553\tvalid_1's binary_logloss: 0.485821\n",
      "[2200]\tvalid_0's binary_logloss: 0.447996\tvalid_1's binary_logloss: 0.485724\n",
      "[2300]\tvalid_0's binary_logloss: 0.446476\tvalid_1's binary_logloss: 0.485648\n",
      "[2400]\tvalid_0's binary_logloss: 0.445\tvalid_1's binary_logloss: 0.485583\n",
      "[2500]\tvalid_0's binary_logloss: 0.443509\tvalid_1's binary_logloss: 0.485519\n",
      "[2600]\tvalid_0's binary_logloss: 0.442022\tvalid_1's binary_logloss: 0.485422\n",
      "[2700]\tvalid_0's binary_logloss: 0.440604\tvalid_1's binary_logloss: 0.485378\n",
      "[2800]\tvalid_0's binary_logloss: 0.439229\tvalid_1's binary_logloss: 0.485301\n",
      "[2900]\tvalid_0's binary_logloss: 0.437872\tvalid_1's binary_logloss: 0.485261\n",
      "[3000]\tvalid_0's binary_logloss: 0.436497\tvalid_1's binary_logloss: 0.485192\n",
      "[3100]\tvalid_0's binary_logloss: 0.435152\tvalid_1's binary_logloss: 0.48513\n",
      "[3200]\tvalid_0's binary_logloss: 0.433761\tvalid_1's binary_logloss: 0.485064\n",
      "[3300]\tvalid_0's binary_logloss: 0.432458\tvalid_1's binary_logloss: 0.485011\n",
      "[3400]\tvalid_0's binary_logloss: 0.431154\tvalid_1's binary_logloss: 0.48494\n",
      "[3500]\tvalid_0's binary_logloss: 0.42988\tvalid_1's binary_logloss: 0.484895\n",
      "[3600]\tvalid_0's binary_logloss: 0.428645\tvalid_1's binary_logloss: 0.484867\n",
      "[3700]\tvalid_0's binary_logloss: 0.427399\tvalid_1's binary_logloss: 0.484842\n",
      "[3800]\tvalid_0's binary_logloss: 0.426156\tvalid_1's binary_logloss: 0.484797\n",
      "[3900]\tvalid_0's binary_logloss: 0.424946\tvalid_1's binary_logloss: 0.484804\n"
     ]
    },
    {
     "name": "stderr",
     "output_type": "stream",
     "text": [
      "feature_fraction, val_score: 0.484651: 100%|##########| 7/7 [10:19<00:00, 90.92s/it]\u001b[32m[I 2023-02-13 08:35:05,826]\u001b[0m Trial 6 finished with value: 0.48478795404498926 and parameters: {'feature_fraction': 0.8}. Best is trial 1 with value: 0.4846509026365998.\u001b[0m\n",
      "feature_fraction, val_score: 0.484651: 100%|##########| 7/7 [10:19<00:00, 88.48s/it]\n"
     ]
    },
    {
     "name": "stdout",
     "output_type": "stream",
     "text": [
      "Early stopping, best iteration is:\n",
      "[3823]\tvalid_0's binary_logloss: 0.425859\tvalid_1's binary_logloss: 0.484788\n"
     ]
    },
    {
     "name": "stderr",
     "output_type": "stream",
     "text": [
      "num_leaves, val_score: 0.484651:   0%|          | 0/20 [00:00<?, ?it/s]/home/kaggler/.local/lib/python3.8/site-packages/lightgbm/engine.py:181: UserWarning: 'early_stopping_rounds' argument is deprecated and will be removed in a future release of LightGBM. Pass 'early_stopping()' callback via 'callbacks' argument instead.\n",
      "  _log_warning(\"'early_stopping_rounds' argument is deprecated and will be removed in a future release of LightGBM. \"\n",
      "/home/kaggler/.local/lib/python3.8/site-packages/lightgbm/engine.py:239: UserWarning: 'verbose_eval' argument is deprecated and will be removed in a future release of LightGBM. Pass 'log_evaluation()' callback via 'callbacks' argument instead.\n",
      "  _log_warning(\"'verbose_eval' argument is deprecated and will be removed in a future release of LightGBM. \"\n"
     ]
    },
    {
     "name": "stdout",
     "output_type": "stream",
     "text": [
      "[LightGBM] [Warning] min_data_in_leaf is set=50, min_child_samples=20 will be ignored. Current value: min_data_in_leaf=50\n",
      "[LightGBM] [Warning] min_data_in_leaf is set=50, min_child_samples=20 will be ignored. Current value: min_data_in_leaf=50\n",
      "[LightGBM] [Info] Number of positive: 119434, number of negative: 50180\n",
      "[LightGBM] [Warning] Auto-choosing col-wise multi-threading, the overhead of testing was 0.046504 seconds.\n",
      "You can set `force_col_wise=true` to remove the overhead.\n",
      "[LightGBM] [Info] Total Bins 58130\n",
      "[LightGBM] [Info] Number of data points in the train set: 169614, number of used features: 259\n"
     ]
    },
    {
     "name": "stderr",
     "output_type": "stream",
     "text": [
      "/home/kaggler/.local/lib/python3.8/site-packages/lightgbm/basic.py:1780: UserWarning: Overriding the parameters from Reference Dataset.\n",
      "  _log_warning('Overriding the parameters from Reference Dataset.')\n",
      "/home/kaggler/.local/lib/python3.8/site-packages/lightgbm/basic.py:1513: UserWarning: categorical_column in param dict is overridden.\n",
      "  _log_warning(f'{cat_alias} in param dict is overridden.')\n"
     ]
    },
    {
     "name": "stdout",
     "output_type": "stream",
     "text": [
      "[LightGBM] [Warning] min_data_in_leaf is set=50, min_child_samples=20 will be ignored. Current value: min_data_in_leaf=50\n"
     ]
    },
    {
     "name": "stderr",
     "output_type": "stream",
     "text": [
      "/home/kaggler/.local/lib/python3.8/site-packages/lightgbm/basic.py:1780: UserWarning: Overriding the parameters from Reference Dataset.\n",
      "  _log_warning('Overriding the parameters from Reference Dataset.')\n",
      "/home/kaggler/.local/lib/python3.8/site-packages/lightgbm/basic.py:1513: UserWarning: categorical_column in param dict is overridden.\n",
      "  _log_warning(f'{cat_alias} in param dict is overridden.')\n"
     ]
    },
    {
     "name": "stdout",
     "output_type": "stream",
     "text": [
      "[LightGBM] [Warning] min_data_in_leaf is set=50, min_child_samples=20 will be ignored. Current value: min_data_in_leaf=50\n",
      "[LightGBM] [Info] [binary:BoostFromScore]: pavg=0.704152 -> initscore=0.867147\n",
      "[LightGBM] [Info] Start training from score 0.867147\n",
      "Training until validation scores don't improve for 100 rounds\n",
      "[100]\tvalid_0's binary_logloss: 0.521953\tvalid_1's binary_logloss: 0.535266\n",
      "[200]\tvalid_0's binary_logloss: 0.483149\tvalid_1's binary_logloss: 0.50763\n",
      "[300]\tvalid_0's binary_logloss: 0.460418\tvalid_1's binary_logloss: 0.495787\n",
      "[400]\tvalid_0's binary_logloss: 0.444606\tvalid_1's binary_logloss: 0.49036\n",
      "[500]\tvalid_0's binary_logloss: 0.432154\tvalid_1's binary_logloss: 0.487637\n",
      "[600]\tvalid_0's binary_logloss: 0.421885\tvalid_1's binary_logloss: 0.486467\n",
      "[700]\tvalid_0's binary_logloss: 0.412359\tvalid_1's binary_logloss: 0.485602\n",
      "[800]\tvalid_0's binary_logloss: 0.404139\tvalid_1's binary_logloss: 0.485213\n",
      "[900]\tvalid_0's binary_logloss: 0.396533\tvalid_1's binary_logloss: 0.484934\n",
      "[1000]\tvalid_0's binary_logloss: 0.389461\tvalid_1's binary_logloss: 0.484773\n",
      "[1100]\tvalid_0's binary_logloss: 0.38312\tvalid_1's binary_logloss: 0.484657\n",
      "[1200]\tvalid_0's binary_logloss: 0.377038\tvalid_1's binary_logloss: 0.484639\n"
     ]
    },
    {
     "name": "stderr",
     "output_type": "stream",
     "text": [
      "num_leaves, val_score: 0.484572:   5%|5         | 1/20 [01:23<26:26, 83.48s/it]\u001b[32m[I 2023-02-13 08:36:29,309]\u001b[0m Trial 7 finished with value: 0.4845716457719393 and parameters: {'num_leaves': 219}. Best is trial 7 with value: 0.4845716457719393.\u001b[0m\n",
      "num_leaves, val_score: 0.484572:   5%|5         | 1/20 [01:23<26:26, 83.48s/it]"
     ]
    },
    {
     "name": "stdout",
     "output_type": "stream",
     "text": [
      "Early stopping, best iteration is:\n",
      "[1161]\tvalid_0's binary_logloss: 0.379446\tvalid_1's binary_logloss: 0.484572\n"
     ]
    },
    {
     "name": "stderr",
     "output_type": "stream",
     "text": [
      "/home/kaggler/.local/lib/python3.8/site-packages/lightgbm/engine.py:181: UserWarning: 'early_stopping_rounds' argument is deprecated and will be removed in a future release of LightGBM. Pass 'early_stopping()' callback via 'callbacks' argument instead.\n",
      "  _log_warning(\"'early_stopping_rounds' argument is deprecated and will be removed in a future release of LightGBM. \"\n",
      "/home/kaggler/.local/lib/python3.8/site-packages/lightgbm/engine.py:239: UserWarning: 'verbose_eval' argument is deprecated and will be removed in a future release of LightGBM. Pass 'log_evaluation()' callback via 'callbacks' argument instead.\n",
      "  _log_warning(\"'verbose_eval' argument is deprecated and will be removed in a future release of LightGBM. \"\n"
     ]
    },
    {
     "name": "stdout",
     "output_type": "stream",
     "text": [
      "[LightGBM] [Warning] min_data_in_leaf is set=50, min_child_samples=20 will be ignored. Current value: min_data_in_leaf=50\n",
      "[LightGBM] [Warning] min_data_in_leaf is set=50, min_child_samples=20 will be ignored. Current value: min_data_in_leaf=50\n",
      "[LightGBM] [Info] Number of positive: 119434, number of negative: 50180\n",
      "[LightGBM] [Warning] Auto-choosing col-wise multi-threading, the overhead of testing was 0.063122 seconds.\n",
      "You can set `force_col_wise=true` to remove the overhead.\n",
      "[LightGBM] [Info] Total Bins 58130\n",
      "[LightGBM] [Info] Number of data points in the train set: 169614, number of used features: 259\n"
     ]
    },
    {
     "name": "stderr",
     "output_type": "stream",
     "text": [
      "/home/kaggler/.local/lib/python3.8/site-packages/lightgbm/basic.py:1780: UserWarning: Overriding the parameters from Reference Dataset.\n",
      "  _log_warning('Overriding the parameters from Reference Dataset.')\n",
      "/home/kaggler/.local/lib/python3.8/site-packages/lightgbm/basic.py:1513: UserWarning: categorical_column in param dict is overridden.\n",
      "  _log_warning(f'{cat_alias} in param dict is overridden.')\n"
     ]
    },
    {
     "name": "stdout",
     "output_type": "stream",
     "text": [
      "[LightGBM] [Warning] min_data_in_leaf is set=50, min_child_samples=20 will be ignored. Current value: min_data_in_leaf=50\n"
     ]
    },
    {
     "name": "stderr",
     "output_type": "stream",
     "text": [
      "/home/kaggler/.local/lib/python3.8/site-packages/lightgbm/basic.py:1780: UserWarning: Overriding the parameters from Reference Dataset.\n",
      "  _log_warning('Overriding the parameters from Reference Dataset.')\n",
      "/home/kaggler/.local/lib/python3.8/site-packages/lightgbm/basic.py:1513: UserWarning: categorical_column in param dict is overridden.\n",
      "  _log_warning(f'{cat_alias} in param dict is overridden.')\n"
     ]
    },
    {
     "name": "stdout",
     "output_type": "stream",
     "text": [
      "[LightGBM] [Warning] min_data_in_leaf is set=50, min_child_samples=20 will be ignored. Current value: min_data_in_leaf=50\n",
      "[LightGBM] [Info] [binary:BoostFromScore]: pavg=0.704152 -> initscore=0.867147\n",
      "[LightGBM] [Info] Start training from score 0.867147\n",
      "Training until validation scores don't improve for 100 rounds\n",
      "[100]\tvalid_0's binary_logloss: 0.536195\tvalid_1's binary_logloss: 0.537884\n",
      "[200]\tvalid_0's binary_logloss: 0.50742\tvalid_1's binary_logloss: 0.510982\n",
      "[300]\tvalid_0's binary_logloss: 0.49325\tvalid_1's binary_logloss: 0.499177\n",
      "[400]\tvalid_0's binary_logloss: 0.484998\tvalid_1's binary_logloss: 0.493579\n",
      "[500]\tvalid_0's binary_logloss: 0.479262\tvalid_1's binary_logloss: 0.490755\n",
      "[600]\tvalid_0's binary_logloss: 0.474662\tvalid_1's binary_logloss: 0.489281\n",
      "[700]\tvalid_0's binary_logloss: 0.470608\tvalid_1's binary_logloss: 0.488156\n",
      "[800]\tvalid_0's binary_logloss: 0.466972\tvalid_1's binary_logloss: 0.48751\n",
      "[900]\tvalid_0's binary_logloss: 0.463685\tvalid_1's binary_logloss: 0.487085\n",
      "[1000]\tvalid_0's binary_logloss: 0.460618\tvalid_1's binary_logloss: 0.486652\n",
      "[1100]\tvalid_0's binary_logloss: 0.457757\tvalid_1's binary_logloss: 0.486371\n",
      "[1200]\tvalid_0's binary_logloss: 0.455069\tvalid_1's binary_logloss: 0.486146\n",
      "[1300]\tvalid_0's binary_logloss: 0.452506\tvalid_1's binary_logloss: 0.485937\n",
      "[1400]\tvalid_0's binary_logloss: 0.450096\tvalid_1's binary_logloss: 0.485769\n",
      "[1500]\tvalid_0's binary_logloss: 0.447755\tvalid_1's binary_logloss: 0.485567\n",
      "[1600]\tvalid_0's binary_logloss: 0.445533\tvalid_1's binary_logloss: 0.48545\n",
      "[1700]\tvalid_0's binary_logloss: 0.443355\tvalid_1's binary_logloss: 0.485356\n",
      "[1800]\tvalid_0's binary_logloss: 0.44122\tvalid_1's binary_logloss: 0.485248\n",
      "[1900]\tvalid_0's binary_logloss: 0.439162\tvalid_1's binary_logloss: 0.485137\n",
      "[2000]\tvalid_0's binary_logloss: 0.437148\tvalid_1's binary_logloss: 0.485028\n",
      "[2100]\tvalid_0's binary_logloss: 0.435156\tvalid_1's binary_logloss: 0.484946\n",
      "[2200]\tvalid_0's binary_logloss: 0.433271\tvalid_1's binary_logloss: 0.484894\n",
      "[2300]\tvalid_0's binary_logloss: 0.43142\tvalid_1's binary_logloss: 0.484826\n",
      "[2400]\tvalid_0's binary_logloss: 0.429604\tvalid_1's binary_logloss: 0.484731\n",
      "[2500]\tvalid_0's binary_logloss: 0.42782\tvalid_1's binary_logloss: 0.484685\n",
      "[2600]\tvalid_0's binary_logloss: 0.426027\tvalid_1's binary_logloss: 0.484642\n",
      "[2700]\tvalid_0's binary_logloss: 0.424304\tvalid_1's binary_logloss: 0.48461\n",
      "[2800]\tvalid_0's binary_logloss: 0.422621\tvalid_1's binary_logloss: 0.484582\n",
      "[2900]\tvalid_0's binary_logloss: 0.420963\tvalid_1's binary_logloss: 0.484505\n",
      "[3000]\tvalid_0's binary_logloss: 0.41933\tvalid_1's binary_logloss: 0.484472\n",
      "[3100]\tvalid_0's binary_logloss: 0.417733\tvalid_1's binary_logloss: 0.48445\n",
      "[3200]\tvalid_0's binary_logloss: 0.416154\tvalid_1's binary_logloss: 0.484396\n",
      "[3300]\tvalid_0's binary_logloss: 0.414666\tvalid_1's binary_logloss: 0.484361\n",
      "[3400]\tvalid_0's binary_logloss: 0.413125\tvalid_1's binary_logloss: 0.484326\n",
      "[3500]\tvalid_0's binary_logloss: 0.411652\tvalid_1's binary_logloss: 0.484325\n",
      "[3600]\tvalid_0's binary_logloss: 0.410218\tvalid_1's binary_logloss: 0.484289\n",
      "[3700]\tvalid_0's binary_logloss: 0.408718\tvalid_1's binary_logloss: 0.48425\n",
      "[3800]\tvalid_0's binary_logloss: 0.407275\tvalid_1's binary_logloss: 0.484237\n"
     ]
    },
    {
     "name": "stderr",
     "output_type": "stream",
     "text": [
      "num_leaves, val_score: 0.484231:  10%|#         | 2/20 [02:50<25:41, 85.63s/it]\u001b[32m[I 2023-02-13 08:37:56,440]\u001b[0m Trial 8 finished with value: 0.4842311620225588 and parameters: {'num_leaves': 47}. Best is trial 8 with value: 0.4842311620225588.\u001b[0m\n",
      "num_leaves, val_score: 0.484231:  10%|#         | 2/20 [02:50<25:41, 85.63s/it]"
     ]
    },
    {
     "name": "stdout",
     "output_type": "stream",
     "text": [
      "Early stopping, best iteration is:\n",
      "[3746]\tvalid_0's binary_logloss: 0.408057\tvalid_1's binary_logloss: 0.484231\n"
     ]
    },
    {
     "name": "stderr",
     "output_type": "stream",
     "text": [
      "/home/kaggler/.local/lib/python3.8/site-packages/lightgbm/engine.py:181: UserWarning: 'early_stopping_rounds' argument is deprecated and will be removed in a future release of LightGBM. Pass 'early_stopping()' callback via 'callbacks' argument instead.\n",
      "  _log_warning(\"'early_stopping_rounds' argument is deprecated and will be removed in a future release of LightGBM. \"\n",
      "/home/kaggler/.local/lib/python3.8/site-packages/lightgbm/engine.py:239: UserWarning: 'verbose_eval' argument is deprecated and will be removed in a future release of LightGBM. Pass 'log_evaluation()' callback via 'callbacks' argument instead.\n",
      "  _log_warning(\"'verbose_eval' argument is deprecated and will be removed in a future release of LightGBM. \"\n"
     ]
    },
    {
     "name": "stdout",
     "output_type": "stream",
     "text": [
      "[LightGBM] [Warning] min_data_in_leaf is set=50, min_child_samples=20 will be ignored. Current value: min_data_in_leaf=50\n",
      "[LightGBM] [Warning] min_data_in_leaf is set=50, min_child_samples=20 will be ignored. Current value: min_data_in_leaf=50\n",
      "[LightGBM] [Info] Number of positive: 119434, number of negative: 50180\n",
      "[LightGBM] [Warning] Auto-choosing col-wise multi-threading, the overhead of testing was 0.050309 seconds.\n",
      "You can set `force_col_wise=true` to remove the overhead.\n",
      "[LightGBM] [Info] Total Bins 58130\n",
      "[LightGBM] [Info] Number of data points in the train set: 169614, number of used features: 259\n"
     ]
    },
    {
     "name": "stderr",
     "output_type": "stream",
     "text": [
      "/home/kaggler/.local/lib/python3.8/site-packages/lightgbm/basic.py:1780: UserWarning: Overriding the parameters from Reference Dataset.\n",
      "  _log_warning('Overriding the parameters from Reference Dataset.')\n",
      "/home/kaggler/.local/lib/python3.8/site-packages/lightgbm/basic.py:1513: UserWarning: categorical_column in param dict is overridden.\n",
      "  _log_warning(f'{cat_alias} in param dict is overridden.')\n"
     ]
    },
    {
     "name": "stdout",
     "output_type": "stream",
     "text": [
      "[LightGBM] [Warning] min_data_in_leaf is set=50, min_child_samples=20 will be ignored. Current value: min_data_in_leaf=50\n"
     ]
    },
    {
     "name": "stderr",
     "output_type": "stream",
     "text": [
      "/home/kaggler/.local/lib/python3.8/site-packages/lightgbm/basic.py:1780: UserWarning: Overriding the parameters from Reference Dataset.\n",
      "  _log_warning('Overriding the parameters from Reference Dataset.')\n",
      "/home/kaggler/.local/lib/python3.8/site-packages/lightgbm/basic.py:1513: UserWarning: categorical_column in param dict is overridden.\n",
      "  _log_warning(f'{cat_alias} in param dict is overridden.')\n"
     ]
    },
    {
     "name": "stdout",
     "output_type": "stream",
     "text": [
      "[LightGBM] [Warning] min_data_in_leaf is set=50, min_child_samples=20 will be ignored. Current value: min_data_in_leaf=50\n",
      "[LightGBM] [Info] [binary:BoostFromScore]: pavg=0.704152 -> initscore=0.867147\n",
      "[LightGBM] [Info] Start training from score 0.867147\n",
      "Training until validation scores don't improve for 100 rounds\n",
      "[100]\tvalid_0's binary_logloss: 0.524293\tvalid_1's binary_logloss: 0.535416\n",
      "[200]\tvalid_0's binary_logloss: 0.48725\tvalid_1's binary_logloss: 0.507808\n",
      "[300]\tvalid_0's binary_logloss: 0.466003\tvalid_1's binary_logloss: 0.495918\n",
      "[400]\tvalid_0's binary_logloss: 0.451538\tvalid_1's binary_logloss: 0.490515\n",
      "[500]\tvalid_0's binary_logloss: 0.44018\tvalid_1's binary_logloss: 0.487871\n",
      "[600]\tvalid_0's binary_logloss: 0.430807\tvalid_1's binary_logloss: 0.486699\n",
      "[700]\tvalid_0's binary_logloss: 0.422185\tvalid_1's binary_logloss: 0.485855\n",
      "[800]\tvalid_0's binary_logloss: 0.414656\tvalid_1's binary_logloss: 0.485441\n",
      "[900]\tvalid_0's binary_logloss: 0.407712\tvalid_1's binary_logloss: 0.48512\n",
      "[1000]\tvalid_0's binary_logloss: 0.401217\tvalid_1's binary_logloss: 0.484925\n",
      "[1100]\tvalid_0's binary_logloss: 0.39531\tvalid_1's binary_logloss: 0.48479\n",
      "[1200]\tvalid_0's binary_logloss: 0.389644\tvalid_1's binary_logloss: 0.484673\n",
      "[1300]\tvalid_0's binary_logloss: 0.384356\tvalid_1's binary_logloss: 0.484596\n",
      "[1400]\tvalid_0's binary_logloss: 0.379324\tvalid_1's binary_logloss: 0.484577\n",
      "[1500]\tvalid_0's binary_logloss: 0.374436\tvalid_1's binary_logloss: 0.484569\n",
      "[1600]\tvalid_0's binary_logloss: 0.369815\tvalid_1's binary_logloss: 0.484593\n"
     ]
    },
    {
     "name": "stderr",
     "output_type": "stream",
     "text": [
      "num_leaves, val_score: 0.484231:  15%|#5        | 3/20 [04:23<25:15, 89.13s/it]\u001b[32m[I 2023-02-13 08:39:29,735]\u001b[0m Trial 9 finished with value: 0.4845468173093982 and parameters: {'num_leaves': 182}. Best is trial 8 with value: 0.4842311620225588.\u001b[0m\n",
      "num_leaves, val_score: 0.484231:  15%|#5        | 3/20 [04:23<25:15, 89.13s/it]"
     ]
    },
    {
     "name": "stdout",
     "output_type": "stream",
     "text": [
      "Early stopping, best iteration is:\n",
      "[1513]\tvalid_0's binary_logloss: 0.373814\tvalid_1's binary_logloss: 0.484547\n"
     ]
    },
    {
     "name": "stderr",
     "output_type": "stream",
     "text": [
      "/home/kaggler/.local/lib/python3.8/site-packages/lightgbm/engine.py:181: UserWarning: 'early_stopping_rounds' argument is deprecated and will be removed in a future release of LightGBM. Pass 'early_stopping()' callback via 'callbacks' argument instead.\n",
      "  _log_warning(\"'early_stopping_rounds' argument is deprecated and will be removed in a future release of LightGBM. \"\n",
      "/home/kaggler/.local/lib/python3.8/site-packages/lightgbm/engine.py:239: UserWarning: 'verbose_eval' argument is deprecated and will be removed in a future release of LightGBM. Pass 'log_evaluation()' callback via 'callbacks' argument instead.\n",
      "  _log_warning(\"'verbose_eval' argument is deprecated and will be removed in a future release of LightGBM. \"\n"
     ]
    },
    {
     "name": "stdout",
     "output_type": "stream",
     "text": [
      "[LightGBM] [Warning] min_data_in_leaf is set=50, min_child_samples=20 will be ignored. Current value: min_data_in_leaf=50\n",
      "[LightGBM] [Warning] min_data_in_leaf is set=50, min_child_samples=20 will be ignored. Current value: min_data_in_leaf=50\n",
      "[LightGBM] [Info] Number of positive: 119434, number of negative: 50180\n",
      "[LightGBM] [Warning] Auto-choosing col-wise multi-threading, the overhead of testing was 0.050850 seconds.\n",
      "You can set `force_col_wise=true` to remove the overhead.\n",
      "[LightGBM] [Info] Total Bins 58130\n",
      "[LightGBM] [Info] Number of data points in the train set: 169614, number of used features: 259\n"
     ]
    },
    {
     "name": "stderr",
     "output_type": "stream",
     "text": [
      "/home/kaggler/.local/lib/python3.8/site-packages/lightgbm/basic.py:1780: UserWarning: Overriding the parameters from Reference Dataset.\n",
      "  _log_warning('Overriding the parameters from Reference Dataset.')\n",
      "/home/kaggler/.local/lib/python3.8/site-packages/lightgbm/basic.py:1513: UserWarning: categorical_column in param dict is overridden.\n",
      "  _log_warning(f'{cat_alias} in param dict is overridden.')\n"
     ]
    },
    {
     "name": "stdout",
     "output_type": "stream",
     "text": [
      "[LightGBM] [Warning] min_data_in_leaf is set=50, min_child_samples=20 will be ignored. Current value: min_data_in_leaf=50\n"
     ]
    },
    {
     "name": "stderr",
     "output_type": "stream",
     "text": [
      "/home/kaggler/.local/lib/python3.8/site-packages/lightgbm/basic.py:1780: UserWarning: Overriding the parameters from Reference Dataset.\n",
      "  _log_warning('Overriding the parameters from Reference Dataset.')\n",
      "/home/kaggler/.local/lib/python3.8/site-packages/lightgbm/basic.py:1513: UserWarning: categorical_column in param dict is overridden.\n",
      "  _log_warning(f'{cat_alias} in param dict is overridden.')\n"
     ]
    },
    {
     "name": "stdout",
     "output_type": "stream",
     "text": [
      "[LightGBM] [Warning] min_data_in_leaf is set=50, min_child_samples=20 will be ignored. Current value: min_data_in_leaf=50\n",
      "[LightGBM] [Info] [binary:BoostFromScore]: pavg=0.704152 -> initscore=0.867147\n",
      "[LightGBM] [Info] Start training from score 0.867147\n",
      "Training until validation scores don't improve for 100 rounds\n",
      "[100]\tvalid_0's binary_logloss: 0.523715\tvalid_1's binary_logloss: 0.535355\n",
      "[200]\tvalid_0's binary_logloss: 0.486223\tvalid_1's binary_logloss: 0.507702\n",
      "[300]\tvalid_0's binary_logloss: 0.46461\tvalid_1's binary_logloss: 0.495816\n",
      "[400]\tvalid_0's binary_logloss: 0.449786\tvalid_1's binary_logloss: 0.490413\n",
      "[500]\tvalid_0's binary_logloss: 0.438174\tvalid_1's binary_logloss: 0.48779\n",
      "[600]\tvalid_0's binary_logloss: 0.428557\tvalid_1's binary_logloss: 0.486424\n",
      "[700]\tvalid_0's binary_logloss: 0.419702\tvalid_1's binary_logloss: 0.485596\n",
      "[800]\tvalid_0's binary_logloss: 0.412001\tvalid_1's binary_logloss: 0.485204\n",
      "[900]\tvalid_0's binary_logloss: 0.404899\tvalid_1's binary_logloss: 0.484887\n",
      "[1000]\tvalid_0's binary_logloss: 0.398197\tvalid_1's binary_logloss: 0.484678\n",
      "[1100]\tvalid_0's binary_logloss: 0.392211\tvalid_1's binary_logloss: 0.484589\n",
      "[1200]\tvalid_0's binary_logloss: 0.386421\tvalid_1's binary_logloss: 0.484488\n",
      "[1300]\tvalid_0's binary_logloss: 0.380989\tvalid_1's binary_logloss: 0.484387\n",
      "[1400]\tvalid_0's binary_logloss: 0.375826\tvalid_1's binary_logloss: 0.484286\n",
      "[1500]\tvalid_0's binary_logloss: 0.370901\tvalid_1's binary_logloss: 0.484282\n",
      "[1600]\tvalid_0's binary_logloss: 0.366186\tvalid_1's binary_logloss: 0.484236\n",
      "[1700]\tvalid_0's binary_logloss: 0.361762\tvalid_1's binary_logloss: 0.484222\n",
      "[1800]\tvalid_0's binary_logloss: 0.357254\tvalid_1's binary_logloss: 0.484176\n"
     ]
    },
    {
     "name": "stderr",
     "output_type": "stream",
     "text": [
      "num_leaves, val_score: 0.484164:  20%|##        | 4/20 [06:14<25:59, 97.45s/it]\u001b[32m[I 2023-02-13 08:41:19,947]\u001b[0m Trial 10 finished with value: 0.48416364864792694 and parameters: {'num_leaves': 191}. Best is trial 10 with value: 0.48416364864792694.\u001b[0m\n",
      "num_leaves, val_score: 0.484164:  20%|##        | 4/20 [06:14<25:59, 97.45s/it]"
     ]
    },
    {
     "name": "stdout",
     "output_type": "stream",
     "text": [
      "Early stopping, best iteration is:\n",
      "[1787]\tvalid_0's binary_logloss: 0.357826\tvalid_1's binary_logloss: 0.484164\n"
     ]
    },
    {
     "name": "stderr",
     "output_type": "stream",
     "text": [
      "/home/kaggler/.local/lib/python3.8/site-packages/lightgbm/engine.py:181: UserWarning: 'early_stopping_rounds' argument is deprecated and will be removed in a future release of LightGBM. Pass 'early_stopping()' callback via 'callbacks' argument instead.\n",
      "  _log_warning(\"'early_stopping_rounds' argument is deprecated and will be removed in a future release of LightGBM. \"\n",
      "/home/kaggler/.local/lib/python3.8/site-packages/lightgbm/engine.py:239: UserWarning: 'verbose_eval' argument is deprecated and will be removed in a future release of LightGBM. Pass 'log_evaluation()' callback via 'callbacks' argument instead.\n",
      "  _log_warning(\"'verbose_eval' argument is deprecated and will be removed in a future release of LightGBM. \"\n"
     ]
    },
    {
     "name": "stdout",
     "output_type": "stream",
     "text": [
      "[LightGBM] [Warning] min_data_in_leaf is set=50, min_child_samples=20 will be ignored. Current value: min_data_in_leaf=50\n",
      "[LightGBM] [Warning] min_data_in_leaf is set=50, min_child_samples=20 will be ignored. Current value: min_data_in_leaf=50\n",
      "[LightGBM] [Info] Number of positive: 119434, number of negative: 50180\n",
      "[LightGBM] [Warning] Auto-choosing col-wise multi-threading, the overhead of testing was 0.051625 seconds.\n",
      "You can set `force_col_wise=true` to remove the overhead.\n",
      "[LightGBM] [Info] Total Bins 58130\n",
      "[LightGBM] [Info] Number of data points in the train set: 169614, number of used features: 259\n"
     ]
    },
    {
     "name": "stderr",
     "output_type": "stream",
     "text": [
      "/home/kaggler/.local/lib/python3.8/site-packages/lightgbm/basic.py:1780: UserWarning: Overriding the parameters from Reference Dataset.\n",
      "  _log_warning('Overriding the parameters from Reference Dataset.')\n",
      "/home/kaggler/.local/lib/python3.8/site-packages/lightgbm/basic.py:1513: UserWarning: categorical_column in param dict is overridden.\n",
      "  _log_warning(f'{cat_alias} in param dict is overridden.')\n"
     ]
    },
    {
     "name": "stdout",
     "output_type": "stream",
     "text": [
      "[LightGBM] [Warning] min_data_in_leaf is set=50, min_child_samples=20 will be ignored. Current value: min_data_in_leaf=50\n"
     ]
    },
    {
     "name": "stderr",
     "output_type": "stream",
     "text": [
      "/home/kaggler/.local/lib/python3.8/site-packages/lightgbm/basic.py:1780: UserWarning: Overriding the parameters from Reference Dataset.\n",
      "  _log_warning('Overriding the parameters from Reference Dataset.')\n",
      "/home/kaggler/.local/lib/python3.8/site-packages/lightgbm/basic.py:1513: UserWarning: categorical_column in param dict is overridden.\n",
      "  _log_warning(f'{cat_alias} in param dict is overridden.')\n"
     ]
    },
    {
     "name": "stdout",
     "output_type": "stream",
     "text": [
      "[LightGBM] [Warning] min_data_in_leaf is set=50, min_child_samples=20 will be ignored. Current value: min_data_in_leaf=50\n",
      "[LightGBM] [Info] [binary:BoostFromScore]: pavg=0.704152 -> initscore=0.867147\n",
      "[LightGBM] [Info] Start training from score 0.867147\n",
      "Training until validation scores don't improve for 100 rounds\n",
      "[100]\tvalid_0's binary_logloss: 0.542291\tvalid_1's binary_logloss: 0.541645\n",
      "[200]\tvalid_0's binary_logloss: 0.516488\tvalid_1's binary_logloss: 0.515796\n",
      "[300]\tvalid_0's binary_logloss: 0.504521\tvalid_1's binary_logloss: 0.504074\n",
      "[400]\tvalid_0's binary_logloss: 0.498249\tvalid_1's binary_logloss: 0.498325\n",
      "[500]\tvalid_0's binary_logloss: 0.49439\tvalid_1's binary_logloss: 0.495161\n",
      "[600]\tvalid_0's binary_logloss: 0.491669\tvalid_1's binary_logloss: 0.49334\n",
      "[700]\tvalid_0's binary_logloss: 0.489339\tvalid_1's binary_logloss: 0.491974\n",
      "[800]\tvalid_0's binary_logloss: 0.487347\tvalid_1's binary_logloss: 0.49107\n",
      "[900]\tvalid_0's binary_logloss: 0.485509\tvalid_1's binary_logloss: 0.490343\n",
      "[1000]\tvalid_0's binary_logloss: 0.483847\tvalid_1's binary_logloss: 0.48978\n",
      "[1100]\tvalid_0's binary_logloss: 0.482337\tvalid_1's binary_logloss: 0.489324\n",
      "[1200]\tvalid_0's binary_logloss: 0.480943\tvalid_1's binary_logloss: 0.489036\n",
      "[1300]\tvalid_0's binary_logloss: 0.479596\tvalid_1's binary_logloss: 0.48869\n",
      "[1400]\tvalid_0's binary_logloss: 0.478316\tvalid_1's binary_logloss: 0.488444\n",
      "[1500]\tvalid_0's binary_logloss: 0.477116\tvalid_1's binary_logloss: 0.488239\n",
      "[1600]\tvalid_0's binary_logloss: 0.475966\tvalid_1's binary_logloss: 0.488059\n",
      "[1700]\tvalid_0's binary_logloss: 0.474839\tvalid_1's binary_logloss: 0.487884\n",
      "[1800]\tvalid_0's binary_logloss: 0.473741\tvalid_1's binary_logloss: 0.487697\n",
      "[1900]\tvalid_0's binary_logloss: 0.472664\tvalid_1's binary_logloss: 0.48756\n",
      "[2000]\tvalid_0's binary_logloss: 0.471633\tvalid_1's binary_logloss: 0.487432\n",
      "[2100]\tvalid_0's binary_logloss: 0.470596\tvalid_1's binary_logloss: 0.48729\n",
      "[2200]\tvalid_0's binary_logloss: 0.469624\tvalid_1's binary_logloss: 0.487226\n",
      "[2300]\tvalid_0's binary_logloss: 0.468645\tvalid_1's binary_logloss: 0.487097\n",
      "[2400]\tvalid_0's binary_logloss: 0.467697\tvalid_1's binary_logloss: 0.486988\n",
      "[2500]\tvalid_0's binary_logloss: 0.466756\tvalid_1's binary_logloss: 0.486926\n",
      "[2600]\tvalid_0's binary_logloss: 0.465851\tvalid_1's binary_logloss: 0.486849\n",
      "[2700]\tvalid_0's binary_logloss: 0.464974\tvalid_1's binary_logloss: 0.486768\n",
      "[2800]\tvalid_0's binary_logloss: 0.464097\tvalid_1's binary_logloss: 0.486703\n",
      "[2900]\tvalid_0's binary_logloss: 0.463191\tvalid_1's binary_logloss: 0.486621\n",
      "[3000]\tvalid_0's binary_logloss: 0.462335\tvalid_1's binary_logloss: 0.486561\n",
      "[3100]\tvalid_0's binary_logloss: 0.461491\tvalid_1's binary_logloss: 0.486523\n",
      "[3200]\tvalid_0's binary_logloss: 0.460645\tvalid_1's binary_logloss: 0.486457\n",
      "[3300]\tvalid_0's binary_logloss: 0.459832\tvalid_1's binary_logloss: 0.486418\n",
      "[3400]\tvalid_0's binary_logloss: 0.458998\tvalid_1's binary_logloss: 0.486373\n",
      "[3500]\tvalid_0's binary_logloss: 0.458207\tvalid_1's binary_logloss: 0.48631\n",
      "[3600]\tvalid_0's binary_logloss: 0.457432\tvalid_1's binary_logloss: 0.486236\n",
      "[3700]\tvalid_0's binary_logloss: 0.456642\tvalid_1's binary_logloss: 0.486163\n",
      "[3800]\tvalid_0's binary_logloss: 0.455878\tvalid_1's binary_logloss: 0.486107\n",
      "[3900]\tvalid_0's binary_logloss: 0.455113\tvalid_1's binary_logloss: 0.486091\n",
      "[4000]\tvalid_0's binary_logloss: 0.45437\tvalid_1's binary_logloss: 0.486066\n",
      "[4100]\tvalid_0's binary_logloss: 0.453602\tvalid_1's binary_logloss: 0.486017\n",
      "[4200]\tvalid_0's binary_logloss: 0.452847\tvalid_1's binary_logloss: 0.485965\n",
      "[4300]\tvalid_0's binary_logloss: 0.45212\tvalid_1's binary_logloss: 0.485945\n",
      "[4400]\tvalid_0's binary_logloss: 0.451408\tvalid_1's binary_logloss: 0.485925\n",
      "[4500]\tvalid_0's binary_logloss: 0.450681\tvalid_1's binary_logloss: 0.485872\n",
      "[4600]\tvalid_0's binary_logloss: 0.449971\tvalid_1's binary_logloss: 0.485833\n",
      "[4700]\tvalid_0's binary_logloss: 0.449285\tvalid_1's binary_logloss: 0.485814\n",
      "[4800]\tvalid_0's binary_logloss: 0.448599\tvalid_1's binary_logloss: 0.485757\n",
      "[4900]\tvalid_0's binary_logloss: 0.447916\tvalid_1's binary_logloss: 0.485729\n",
      "[5000]\tvalid_0's binary_logloss: 0.447235\tvalid_1's binary_logloss: 0.485711\n",
      "[5100]\tvalid_0's binary_logloss: 0.446551\tvalid_1's binary_logloss: 0.485694\n",
      "[5200]\tvalid_0's binary_logloss: 0.4459\tvalid_1's binary_logloss: 0.485651\n",
      "[5300]\tvalid_0's binary_logloss: 0.445237\tvalid_1's binary_logloss: 0.485631\n",
      "[5400]\tvalid_0's binary_logloss: 0.444568\tvalid_1's binary_logloss: 0.485618\n",
      "[5500]\tvalid_0's binary_logloss: 0.443904\tvalid_1's binary_logloss: 0.485586\n",
      "[5600]\tvalid_0's binary_logloss: 0.443241\tvalid_1's binary_logloss: 0.485531\n",
      "[5700]\tvalid_0's binary_logloss: 0.442598\tvalid_1's binary_logloss: 0.485493\n",
      "[5800]\tvalid_0's binary_logloss: 0.441977\tvalid_1's binary_logloss: 0.485482\n",
      "[5900]\tvalid_0's binary_logloss: 0.44132\tvalid_1's binary_logloss: 0.485433\n",
      "[6000]\tvalid_0's binary_logloss: 0.440677\tvalid_1's binary_logloss: 0.485399\n",
      "[6100]\tvalid_0's binary_logloss: 0.44005\tvalid_1's binary_logloss: 0.485373\n",
      "[6200]\tvalid_0's binary_logloss: 0.439433\tvalid_1's binary_logloss: 0.485343\n",
      "[6300]\tvalid_0's binary_logloss: 0.438827\tvalid_1's binary_logloss: 0.485335\n",
      "[6400]\tvalid_0's binary_logloss: 0.438187\tvalid_1's binary_logloss: 0.485315\n",
      "[6500]\tvalid_0's binary_logloss: 0.437591\tvalid_1's binary_logloss: 0.485279\n",
      "[6600]\tvalid_0's binary_logloss: 0.436961\tvalid_1's binary_logloss: 0.48524\n",
      "[6700]\tvalid_0's binary_logloss: 0.436354\tvalid_1's binary_logloss: 0.485224\n",
      "[6800]\tvalid_0's binary_logloss: 0.435767\tvalid_1's binary_logloss: 0.485207\n",
      "[6900]\tvalid_0's binary_logloss: 0.435175\tvalid_1's binary_logloss: 0.485165\n",
      "[7000]\tvalid_0's binary_logloss: 0.434595\tvalid_1's binary_logloss: 0.485113\n",
      "[7100]\tvalid_0's binary_logloss: 0.434026\tvalid_1's binary_logloss: 0.485098\n",
      "[7200]\tvalid_0's binary_logloss: 0.433434\tvalid_1's binary_logloss: 0.485061\n",
      "[7300]\tvalid_0's binary_logloss: 0.432861\tvalid_1's binary_logloss: 0.485052\n",
      "[7400]\tvalid_0's binary_logloss: 0.432298\tvalid_1's binary_logloss: 0.485033\n",
      "[7500]\tvalid_0's binary_logloss: 0.431733\tvalid_1's binary_logloss: 0.48501\n",
      "[7600]\tvalid_0's binary_logloss: 0.431175\tvalid_1's binary_logloss: 0.484998\n",
      "[7700]\tvalid_0's binary_logloss: 0.430626\tvalid_1's binary_logloss: 0.484985\n",
      "[7800]\tvalid_0's binary_logloss: 0.43008\tvalid_1's binary_logloss: 0.484972\n",
      "[7900]\tvalid_0's binary_logloss: 0.429507\tvalid_1's binary_logloss: 0.484951\n",
      "[8000]\tvalid_0's binary_logloss: 0.428974\tvalid_1's binary_logloss: 0.48493\n",
      "[8100]\tvalid_0's binary_logloss: 0.428429\tvalid_1's binary_logloss: 0.484914\n",
      "[8200]\tvalid_0's binary_logloss: 0.427871\tvalid_1's binary_logloss: 0.4849\n",
      "[8300]\tvalid_0's binary_logloss: 0.427339\tvalid_1's binary_logloss: 0.484905\n"
     ]
    },
    {
     "name": "stderr",
     "output_type": "stream",
     "text": [
      "num_leaves, val_score: 0.484164:  25%|##5       | 5/20 [08:06<25:40, 102.67s/it]\u001b[32m[I 2023-02-13 08:43:11,869]\u001b[0m Trial 11 finished with value: 0.484889688868709 and parameters: {'num_leaves': 16}. Best is trial 10 with value: 0.48416364864792694.\u001b[0m\n",
      "num_leaves, val_score: 0.484164:  25%|##5       | 5/20 [08:06<25:40, 102.67s/it]"
     ]
    },
    {
     "name": "stdout",
     "output_type": "stream",
     "text": [
      "Early stopping, best iteration is:\n",
      "[8245]\tvalid_0's binary_logloss: 0.427624\tvalid_1's binary_logloss: 0.48489\n"
     ]
    },
    {
     "name": "stderr",
     "output_type": "stream",
     "text": [
      "/home/kaggler/.local/lib/python3.8/site-packages/lightgbm/engine.py:181: UserWarning: 'early_stopping_rounds' argument is deprecated and will be removed in a future release of LightGBM. Pass 'early_stopping()' callback via 'callbacks' argument instead.\n",
      "  _log_warning(\"'early_stopping_rounds' argument is deprecated and will be removed in a future release of LightGBM. \"\n",
      "/home/kaggler/.local/lib/python3.8/site-packages/lightgbm/engine.py:239: UserWarning: 'verbose_eval' argument is deprecated and will be removed in a future release of LightGBM. Pass 'log_evaluation()' callback via 'callbacks' argument instead.\n",
      "  _log_warning(\"'verbose_eval' argument is deprecated and will be removed in a future release of LightGBM. \"\n"
     ]
    },
    {
     "name": "stdout",
     "output_type": "stream",
     "text": [
      "[LightGBM] [Warning] min_data_in_leaf is set=50, min_child_samples=20 will be ignored. Current value: min_data_in_leaf=50\n",
      "[LightGBM] [Warning] min_data_in_leaf is set=50, min_child_samples=20 will be ignored. Current value: min_data_in_leaf=50\n",
      "[LightGBM] [Info] Number of positive: 119434, number of negative: 50180\n",
      "[LightGBM] [Warning] Auto-choosing col-wise multi-threading, the overhead of testing was 0.052626 seconds.\n",
      "You can set `force_col_wise=true` to remove the overhead.\n",
      "[LightGBM] [Info] Total Bins 58130\n",
      "[LightGBM] [Info] Number of data points in the train set: 169614, number of used features: 259\n"
     ]
    },
    {
     "name": "stderr",
     "output_type": "stream",
     "text": [
      "/home/kaggler/.local/lib/python3.8/site-packages/lightgbm/basic.py:1780: UserWarning: Overriding the parameters from Reference Dataset.\n",
      "  _log_warning('Overriding the parameters from Reference Dataset.')\n",
      "/home/kaggler/.local/lib/python3.8/site-packages/lightgbm/basic.py:1513: UserWarning: categorical_column in param dict is overridden.\n",
      "  _log_warning(f'{cat_alias} in param dict is overridden.')\n"
     ]
    },
    {
     "name": "stdout",
     "output_type": "stream",
     "text": [
      "[LightGBM] [Warning] min_data_in_leaf is set=50, min_child_samples=20 will be ignored. Current value: min_data_in_leaf=50\n"
     ]
    },
    {
     "name": "stderr",
     "output_type": "stream",
     "text": [
      "/home/kaggler/.local/lib/python3.8/site-packages/lightgbm/basic.py:1780: UserWarning: Overriding the parameters from Reference Dataset.\n",
      "  _log_warning('Overriding the parameters from Reference Dataset.')\n",
      "/home/kaggler/.local/lib/python3.8/site-packages/lightgbm/basic.py:1513: UserWarning: categorical_column in param dict is overridden.\n",
      "  _log_warning(f'{cat_alias} in param dict is overridden.')\n"
     ]
    },
    {
     "name": "stdout",
     "output_type": "stream",
     "text": [
      "[LightGBM] [Warning] min_data_in_leaf is set=50, min_child_samples=20 will be ignored. Current value: min_data_in_leaf=50\n",
      "[LightGBM] [Info] [binary:BoostFromScore]: pavg=0.704152 -> initscore=0.867147\n",
      "[LightGBM] [Info] Start training from score 0.867147\n",
      "Training until validation scores don't improve for 100 rounds\n",
      "[100]\tvalid_0's binary_logloss: 0.538142\tvalid_1's binary_logloss: 0.538822\n",
      "[200]\tvalid_0's binary_logloss: 0.510473\tvalid_1's binary_logloss: 0.512144\n",
      "[300]\tvalid_0's binary_logloss: 0.497148\tvalid_1's binary_logloss: 0.500276\n",
      "[400]\tvalid_0's binary_logloss: 0.489715\tvalid_1's binary_logloss: 0.494641\n",
      "[500]\tvalid_0's binary_logloss: 0.484738\tvalid_1's binary_logloss: 0.491733\n",
      "[600]\tvalid_0's binary_logloss: 0.480906\tvalid_1's binary_logloss: 0.490174\n",
      "[700]\tvalid_0's binary_logloss: 0.477532\tvalid_1's binary_logloss: 0.489017\n",
      "[800]\tvalid_0's binary_logloss: 0.474515\tvalid_1's binary_logloss: 0.488261\n",
      "[900]\tvalid_0's binary_logloss: 0.471772\tvalid_1's binary_logloss: 0.48776\n",
      "[1000]\tvalid_0's binary_logloss: 0.469203\tvalid_1's binary_logloss: 0.487282\n",
      "[1100]\tvalid_0's binary_logloss: 0.46684\tvalid_1's binary_logloss: 0.486951\n",
      "[1200]\tvalid_0's binary_logloss: 0.464654\tvalid_1's binary_logloss: 0.486757\n",
      "[1300]\tvalid_0's binary_logloss: 0.46257\tvalid_1's binary_logloss: 0.486513\n",
      "[1400]\tvalid_0's binary_logloss: 0.460559\tvalid_1's binary_logloss: 0.486329\n",
      "[1500]\tvalid_0's binary_logloss: 0.458628\tvalid_1's binary_logloss: 0.486167\n",
      "[1600]\tvalid_0's binary_logloss: 0.456783\tvalid_1's binary_logloss: 0.486003\n",
      "[1700]\tvalid_0's binary_logloss: 0.454994\tvalid_1's binary_logloss: 0.485893\n",
      "[1800]\tvalid_0's binary_logloss: 0.453207\tvalid_1's binary_logloss: 0.485764\n",
      "[1900]\tvalid_0's binary_logloss: 0.451489\tvalid_1's binary_logloss: 0.485665\n",
      "[2000]\tvalid_0's binary_logloss: 0.449826\tvalid_1's binary_logloss: 0.485571\n",
      "[2100]\tvalid_0's binary_logloss: 0.448179\tvalid_1's binary_logloss: 0.485488\n",
      "[2200]\tvalid_0's binary_logloss: 0.446619\tvalid_1's binary_logloss: 0.485414\n",
      "[2300]\tvalid_0's binary_logloss: 0.445037\tvalid_1's binary_logloss: 0.485296\n",
      "[2400]\tvalid_0's binary_logloss: 0.443516\tvalid_1's binary_logloss: 0.485193\n",
      "[2500]\tvalid_0's binary_logloss: 0.441999\tvalid_1's binary_logloss: 0.485129\n",
      "[2600]\tvalid_0's binary_logloss: 0.440537\tvalid_1's binary_logloss: 0.485091\n",
      "[2700]\tvalid_0's binary_logloss: 0.439118\tvalid_1's binary_logloss: 0.485055\n",
      "[2800]\tvalid_0's binary_logloss: 0.437728\tvalid_1's binary_logloss: 0.484978\n",
      "[2900]\tvalid_0's binary_logloss: 0.436294\tvalid_1's binary_logloss: 0.484892\n",
      "[3000]\tvalid_0's binary_logloss: 0.434929\tvalid_1's binary_logloss: 0.484857\n",
      "[3100]\tvalid_0's binary_logloss: 0.433578\tvalid_1's binary_logloss: 0.484816\n",
      "[3200]\tvalid_0's binary_logloss: 0.432262\tvalid_1's binary_logloss: 0.484771\n",
      "[3300]\tvalid_0's binary_logloss: 0.430978\tvalid_1's binary_logloss: 0.484748\n",
      "[3400]\tvalid_0's binary_logloss: 0.429691\tvalid_1's binary_logloss: 0.484729\n",
      "[3500]\tvalid_0's binary_logloss: 0.428454\tvalid_1's binary_logloss: 0.484679\n",
      "[3600]\tvalid_0's binary_logloss: 0.427251\tvalid_1's binary_logloss: 0.484611\n",
      "[3700]\tvalid_0's binary_logloss: 0.42603\tvalid_1's binary_logloss: 0.48455\n",
      "[3800]\tvalid_0's binary_logloss: 0.424827\tvalid_1's binary_logloss: 0.484523\n",
      "[3900]\tvalid_0's binary_logloss: 0.423648\tvalid_1's binary_logloss: 0.484493\n",
      "[4000]\tvalid_0's binary_logloss: 0.422485\tvalid_1's binary_logloss: 0.484488\n"
     ]
    },
    {
     "name": "stderr",
     "output_type": "stream",
     "text": [
      "num_leaves, val_score: 0.484164:  30%|###       | 6/20 [09:27<22:15, 95.37s/it] \u001b[32m[I 2023-02-13 08:44:33,068]\u001b[0m Trial 12 finished with value: 0.4844771201594525 and parameters: {'num_leaves': 34}. Best is trial 10 with value: 0.48416364864792694.\u001b[0m\n",
      "num_leaves, val_score: 0.484164:  30%|###       | 6/20 [09:27<22:15, 95.37s/it]"
     ]
    },
    {
     "name": "stdout",
     "output_type": "stream",
     "text": [
      "Early stopping, best iteration is:\n",
      "[3966]\tvalid_0's binary_logloss: 0.422847\tvalid_1's binary_logloss: 0.484477\n"
     ]
    },
    {
     "name": "stderr",
     "output_type": "stream",
     "text": [
      "/home/kaggler/.local/lib/python3.8/site-packages/lightgbm/engine.py:181: UserWarning: 'early_stopping_rounds' argument is deprecated and will be removed in a future release of LightGBM. Pass 'early_stopping()' callback via 'callbacks' argument instead.\n",
      "  _log_warning(\"'early_stopping_rounds' argument is deprecated and will be removed in a future release of LightGBM. \"\n",
      "/home/kaggler/.local/lib/python3.8/site-packages/lightgbm/engine.py:239: UserWarning: 'verbose_eval' argument is deprecated and will be removed in a future release of LightGBM. Pass 'log_evaluation()' callback via 'callbacks' argument instead.\n",
      "  _log_warning(\"'verbose_eval' argument is deprecated and will be removed in a future release of LightGBM. \"\n"
     ]
    },
    {
     "name": "stdout",
     "output_type": "stream",
     "text": [
      "[LightGBM] [Warning] min_data_in_leaf is set=50, min_child_samples=20 will be ignored. Current value: min_data_in_leaf=50\n",
      "[LightGBM] [Warning] min_data_in_leaf is set=50, min_child_samples=20 will be ignored. Current value: min_data_in_leaf=50\n",
      "[LightGBM] [Info] Number of positive: 119434, number of negative: 50180\n",
      "[LightGBM] [Warning] Auto-choosing col-wise multi-threading, the overhead of testing was 0.052183 seconds.\n",
      "You can set `force_col_wise=true` to remove the overhead.\n",
      "[LightGBM] [Info] Total Bins 58130\n",
      "[LightGBM] [Info] Number of data points in the train set: 169614, number of used features: 259\n"
     ]
    },
    {
     "name": "stderr",
     "output_type": "stream",
     "text": [
      "/home/kaggler/.local/lib/python3.8/site-packages/lightgbm/basic.py:1780: UserWarning: Overriding the parameters from Reference Dataset.\n",
      "  _log_warning('Overriding the parameters from Reference Dataset.')\n",
      "/home/kaggler/.local/lib/python3.8/site-packages/lightgbm/basic.py:1513: UserWarning: categorical_column in param dict is overridden.\n",
      "  _log_warning(f'{cat_alias} in param dict is overridden.')\n"
     ]
    },
    {
     "name": "stdout",
     "output_type": "stream",
     "text": [
      "[LightGBM] [Warning] min_data_in_leaf is set=50, min_child_samples=20 will be ignored. Current value: min_data_in_leaf=50\n"
     ]
    },
    {
     "name": "stderr",
     "output_type": "stream",
     "text": [
      "/home/kaggler/.local/lib/python3.8/site-packages/lightgbm/basic.py:1780: UserWarning: Overriding the parameters from Reference Dataset.\n",
      "  _log_warning('Overriding the parameters from Reference Dataset.')\n",
      "/home/kaggler/.local/lib/python3.8/site-packages/lightgbm/basic.py:1513: UserWarning: categorical_column in param dict is overridden.\n",
      "  _log_warning(f'{cat_alias} in param dict is overridden.')\n"
     ]
    },
    {
     "name": "stdout",
     "output_type": "stream",
     "text": [
      "[LightGBM] [Warning] min_data_in_leaf is set=50, min_child_samples=20 will be ignored. Current value: min_data_in_leaf=50\n",
      "[LightGBM] [Info] [binary:BoostFromScore]: pavg=0.704152 -> initscore=0.867147\n",
      "[LightGBM] [Info] Start training from score 0.867147\n",
      "Training until validation scores don't improve for 100 rounds\n",
      "[100]\tvalid_0's binary_logloss: 0.530132\tvalid_1's binary_logloss: 0.536187\n",
      "[200]\tvalid_0's binary_logloss: 0.497305\tvalid_1's binary_logloss: 0.508766\n",
      "[300]\tvalid_0's binary_logloss: 0.479681\tvalid_1's binary_logloss: 0.496936\n",
      "[400]\tvalid_0's binary_logloss: 0.468385\tvalid_1's binary_logloss: 0.491405\n",
      "[500]\tvalid_0's binary_logloss: 0.459811\tvalid_1's binary_logloss: 0.488683\n",
      "[600]\tvalid_0's binary_logloss: 0.452727\tvalid_1's binary_logloss: 0.487362\n",
      "[700]\tvalid_0's binary_logloss: 0.446352\tvalid_1's binary_logloss: 0.486338\n",
      "[800]\tvalid_0's binary_logloss: 0.440678\tvalid_1's binary_logloss: 0.485888\n",
      "[900]\tvalid_0's binary_logloss: 0.43547\tvalid_1's binary_logloss: 0.485441\n",
      "[1000]\tvalid_0's binary_logloss: 0.430619\tvalid_1's binary_logloss: 0.485168\n",
      "[1100]\tvalid_0's binary_logloss: 0.426142\tvalid_1's binary_logloss: 0.484968\n",
      "[1200]\tvalid_0's binary_logloss: 0.421847\tvalid_1's binary_logloss: 0.484761\n",
      "[1300]\tvalid_0's binary_logloss: 0.417875\tvalid_1's binary_logloss: 0.484643\n",
      "[1400]\tvalid_0's binary_logloss: 0.414027\tvalid_1's binary_logloss: 0.484512\n",
      "[1500]\tvalid_0's binary_logloss: 0.410331\tvalid_1's binary_logloss: 0.484389\n",
      "[1600]\tvalid_0's binary_logloss: 0.406847\tvalid_1's binary_logloss: 0.484331\n",
      "[1700]\tvalid_0's binary_logloss: 0.403515\tvalid_1's binary_logloss: 0.484304\n",
      "[1800]\tvalid_0's binary_logloss: 0.400116\tvalid_1's binary_logloss: 0.484267\n"
     ]
    },
    {
     "name": "stderr",
     "output_type": "stream",
     "text": [
      "num_leaves, val_score: 0.484164:  35%|###5      | 7/20 [10:41<19:10, 88.52s/it]\u001b[32m[I 2023-02-13 08:45:47,501]\u001b[0m Trial 13 finished with value: 0.48426485802926567 and parameters: {'num_leaves': 105}. Best is trial 10 with value: 0.48416364864792694.\u001b[0m\n",
      "num_leaves, val_score: 0.484164:  35%|###5      | 7/20 [10:41<19:10, 88.52s/it]"
     ]
    },
    {
     "name": "stdout",
     "output_type": "stream",
     "text": [
      "Early stopping, best iteration is:\n",
      "[1799]\tvalid_0's binary_logloss: 0.400162\tvalid_1's binary_logloss: 0.484265\n"
     ]
    },
    {
     "name": "stderr",
     "output_type": "stream",
     "text": [
      "/home/kaggler/.local/lib/python3.8/site-packages/lightgbm/engine.py:181: UserWarning: 'early_stopping_rounds' argument is deprecated and will be removed in a future release of LightGBM. Pass 'early_stopping()' callback via 'callbacks' argument instead.\n",
      "  _log_warning(\"'early_stopping_rounds' argument is deprecated and will be removed in a future release of LightGBM. \"\n",
      "/home/kaggler/.local/lib/python3.8/site-packages/lightgbm/engine.py:239: UserWarning: 'verbose_eval' argument is deprecated and will be removed in a future release of LightGBM. Pass 'log_evaluation()' callback via 'callbacks' argument instead.\n",
      "  _log_warning(\"'verbose_eval' argument is deprecated and will be removed in a future release of LightGBM. \"\n"
     ]
    },
    {
     "name": "stdout",
     "output_type": "stream",
     "text": [
      "[LightGBM] [Warning] min_data_in_leaf is set=50, min_child_samples=20 will be ignored. Current value: min_data_in_leaf=50\n",
      "[LightGBM] [Warning] min_data_in_leaf is set=50, min_child_samples=20 will be ignored. Current value: min_data_in_leaf=50\n",
      "[LightGBM] [Info] Number of positive: 119434, number of negative: 50180\n",
      "[LightGBM] [Warning] Auto-choosing col-wise multi-threading, the overhead of testing was 0.048259 seconds.\n",
      "You can set `force_col_wise=true` to remove the overhead.\n",
      "[LightGBM] [Info] Total Bins 58130\n",
      "[LightGBM] [Info] Number of data points in the train set: 169614, number of used features: 259\n"
     ]
    },
    {
     "name": "stderr",
     "output_type": "stream",
     "text": [
      "/home/kaggler/.local/lib/python3.8/site-packages/lightgbm/basic.py:1780: UserWarning: Overriding the parameters from Reference Dataset.\n",
      "  _log_warning('Overriding the parameters from Reference Dataset.')\n",
      "/home/kaggler/.local/lib/python3.8/site-packages/lightgbm/basic.py:1513: UserWarning: categorical_column in param dict is overridden.\n",
      "  _log_warning(f'{cat_alias} in param dict is overridden.')\n"
     ]
    },
    {
     "name": "stdout",
     "output_type": "stream",
     "text": [
      "[LightGBM] [Warning] min_data_in_leaf is set=50, min_child_samples=20 will be ignored. Current value: min_data_in_leaf=50\n"
     ]
    },
    {
     "name": "stderr",
     "output_type": "stream",
     "text": [
      "/home/kaggler/.local/lib/python3.8/site-packages/lightgbm/basic.py:1780: UserWarning: Overriding the parameters from Reference Dataset.\n",
      "  _log_warning('Overriding the parameters from Reference Dataset.')\n",
      "/home/kaggler/.local/lib/python3.8/site-packages/lightgbm/basic.py:1513: UserWarning: categorical_column in param dict is overridden.\n",
      "  _log_warning(f'{cat_alias} in param dict is overridden.')\n"
     ]
    },
    {
     "name": "stdout",
     "output_type": "stream",
     "text": [
      "[LightGBM] [Warning] min_data_in_leaf is set=50, min_child_samples=20 will be ignored. Current value: min_data_in_leaf=50\n",
      "[LightGBM] [Info] [binary:BoostFromScore]: pavg=0.704152 -> initscore=0.867147\n",
      "[LightGBM] [Info] Start training from score 0.867147\n",
      "Training until validation scores don't improve for 100 rounds\n",
      "[100]\tvalid_0's binary_logloss: 0.522843\tvalid_1's binary_logloss: 0.535289\n",
      "[200]\tvalid_0's binary_logloss: 0.484744\tvalid_1's binary_logloss: 0.507642\n",
      "[300]\tvalid_0's binary_logloss: 0.462606\tvalid_1's binary_logloss: 0.495813\n",
      "[400]\tvalid_0's binary_logloss: 0.447325\tvalid_1's binary_logloss: 0.490402\n",
      "[500]\tvalid_0's binary_logloss: 0.435311\tvalid_1's binary_logloss: 0.487816\n",
      "[600]\tvalid_0's binary_logloss: 0.425405\tvalid_1's binary_logloss: 0.486566\n",
      "[700]\tvalid_0's binary_logloss: 0.416273\tvalid_1's binary_logloss: 0.485797\n",
      "[800]\tvalid_0's binary_logloss: 0.408311\tvalid_1's binary_logloss: 0.485383\n",
      "[900]\tvalid_0's binary_logloss: 0.400978\tvalid_1's binary_logloss: 0.485106\n",
      "[1000]\tvalid_0's binary_logloss: 0.394127\tvalid_1's binary_logloss: 0.484887\n",
      "[1100]\tvalid_0's binary_logloss: 0.387907\tvalid_1's binary_logloss: 0.484829\n",
      "[1200]\tvalid_0's binary_logloss: 0.381913\tvalid_1's binary_logloss: 0.484782\n",
      "[1300]\tvalid_0's binary_logloss: 0.376378\tvalid_1's binary_logloss: 0.484679\n",
      "[1400]\tvalid_0's binary_logloss: 0.371168\tvalid_1's binary_logloss: 0.484642\n"
     ]
    },
    {
     "name": "stderr",
     "output_type": "stream",
     "text": [
      "num_leaves, val_score: 0.484164:  40%|####      | 8/20 [12:15<18:03, 90.26s/it]\u001b[32m[I 2023-02-13 08:47:21,465]\u001b[0m Trial 14 finished with value: 0.4846374174768284 and parameters: {'num_leaves': 204}. Best is trial 10 with value: 0.48416364864792694.\u001b[0m\n",
      "num_leaves, val_score: 0.484164:  40%|####      | 8/20 [12:15<18:03, 90.26s/it]"
     ]
    },
    {
     "name": "stdout",
     "output_type": "stream",
     "text": [
      "Early stopping, best iteration is:\n",
      "[1393]\tvalid_0's binary_logloss: 0.37152\tvalid_1's binary_logloss: 0.484637\n"
     ]
    },
    {
     "name": "stderr",
     "output_type": "stream",
     "text": [
      "/home/kaggler/.local/lib/python3.8/site-packages/lightgbm/engine.py:181: UserWarning: 'early_stopping_rounds' argument is deprecated and will be removed in a future release of LightGBM. Pass 'early_stopping()' callback via 'callbacks' argument instead.\n",
      "  _log_warning(\"'early_stopping_rounds' argument is deprecated and will be removed in a future release of LightGBM. \"\n",
      "/home/kaggler/.local/lib/python3.8/site-packages/lightgbm/engine.py:239: UserWarning: 'verbose_eval' argument is deprecated and will be removed in a future release of LightGBM. Pass 'log_evaluation()' callback via 'callbacks' argument instead.\n",
      "  _log_warning(\"'verbose_eval' argument is deprecated and will be removed in a future release of LightGBM. \"\n"
     ]
    },
    {
     "name": "stdout",
     "output_type": "stream",
     "text": [
      "[LightGBM] [Warning] min_data_in_leaf is set=50, min_child_samples=20 will be ignored. Current value: min_data_in_leaf=50\n",
      "[LightGBM] [Warning] min_data_in_leaf is set=50, min_child_samples=20 will be ignored. Current value: min_data_in_leaf=50\n",
      "[LightGBM] [Info] Number of positive: 119434, number of negative: 50180\n",
      "[LightGBM] [Warning] Auto-choosing row-wise multi-threading, the overhead of testing was 0.076274 seconds.\n",
      "You can set `force_row_wise=true` to remove the overhead.\n",
      "And if memory is not enough, you can set `force_col_wise=true`.\n",
      "[LightGBM] [Info] Total Bins 58130\n",
      "[LightGBM] [Info] Number of data points in the train set: 169614, number of used features: 259\n"
     ]
    },
    {
     "name": "stderr",
     "output_type": "stream",
     "text": [
      "/home/kaggler/.local/lib/python3.8/site-packages/lightgbm/basic.py:1780: UserWarning: Overriding the parameters from Reference Dataset.\n",
      "  _log_warning('Overriding the parameters from Reference Dataset.')\n",
      "/home/kaggler/.local/lib/python3.8/site-packages/lightgbm/basic.py:1513: UserWarning: categorical_column in param dict is overridden.\n",
      "  _log_warning(f'{cat_alias} in param dict is overridden.')\n"
     ]
    },
    {
     "name": "stdout",
     "output_type": "stream",
     "text": [
      "[LightGBM] [Warning] min_data_in_leaf is set=50, min_child_samples=20 will be ignored. Current value: min_data_in_leaf=50\n"
     ]
    },
    {
     "name": "stderr",
     "output_type": "stream",
     "text": [
      "/home/kaggler/.local/lib/python3.8/site-packages/lightgbm/basic.py:1780: UserWarning: Overriding the parameters from Reference Dataset.\n",
      "  _log_warning('Overriding the parameters from Reference Dataset.')\n",
      "/home/kaggler/.local/lib/python3.8/site-packages/lightgbm/basic.py:1513: UserWarning: categorical_column in param dict is overridden.\n",
      "  _log_warning(f'{cat_alias} in param dict is overridden.')\n"
     ]
    },
    {
     "name": "stdout",
     "output_type": "stream",
     "text": [
      "[LightGBM] [Warning] min_data_in_leaf is set=50, min_child_samples=20 will be ignored. Current value: min_data_in_leaf=50\n",
      "[LightGBM] [Info] [binary:BoostFromScore]: pavg=0.704152 -> initscore=0.867147\n",
      "[LightGBM] [Info] Start training from score 0.867147\n",
      "Training until validation scores don't improve for 100 rounds\n",
      "[100]\tvalid_0's binary_logloss: 0.540581\tvalid_1's binary_logloss: 0.540331\n",
      "[200]\tvalid_0's binary_logloss: 0.514106\tvalid_1's binary_logloss: 0.51413\n",
      "[300]\tvalid_0's binary_logloss: 0.501641\tvalid_1's binary_logloss: 0.502284\n",
      "[400]\tvalid_0's binary_logloss: 0.494972\tvalid_1's binary_logloss: 0.496559\n",
      "[500]\tvalid_0's binary_logloss: 0.490773\tvalid_1's binary_logloss: 0.493542\n",
      "[600]\tvalid_0's binary_logloss: 0.487689\tvalid_1's binary_logloss: 0.491858\n",
      "[700]\tvalid_0's binary_logloss: 0.484987\tvalid_1's binary_logloss: 0.490546\n",
      "[800]\tvalid_0's binary_logloss: 0.482628\tvalid_1's binary_logloss: 0.489728\n",
      "[900]\tvalid_0's binary_logloss: 0.480477\tvalid_1's binary_logloss: 0.4891\n",
      "[1000]\tvalid_0's binary_logloss: 0.478487\tvalid_1's binary_logloss: 0.488603\n",
      "[1100]\tvalid_0's binary_logloss: 0.476674\tvalid_1's binary_logloss: 0.488253\n",
      "[1200]\tvalid_0's binary_logloss: 0.474977\tvalid_1's binary_logloss: 0.487985\n",
      "[1300]\tvalid_0's binary_logloss: 0.473333\tvalid_1's binary_logloss: 0.4877\n",
      "[1400]\tvalid_0's binary_logloss: 0.471785\tvalid_1's binary_logloss: 0.487448\n",
      "[1500]\tvalid_0's binary_logloss: 0.470303\tvalid_1's binary_logloss: 0.487255\n",
      "[1600]\tvalid_0's binary_logloss: 0.468884\tvalid_1's binary_logloss: 0.487113\n",
      "[1700]\tvalid_0's binary_logloss: 0.467504\tvalid_1's binary_logloss: 0.48696\n",
      "[1800]\tvalid_0's binary_logloss: 0.466153\tvalid_1's binary_logloss: 0.486825\n",
      "[1900]\tvalid_0's binary_logloss: 0.464843\tvalid_1's binary_logloss: 0.486717\n",
      "[2000]\tvalid_0's binary_logloss: 0.463578\tvalid_1's binary_logloss: 0.486612\n",
      "[2100]\tvalid_0's binary_logloss: 0.462328\tvalid_1's binary_logloss: 0.486503\n",
      "[2200]\tvalid_0's binary_logloss: 0.461134\tvalid_1's binary_logloss: 0.486453\n",
      "[2300]\tvalid_0's binary_logloss: 0.459932\tvalid_1's binary_logloss: 0.486338\n",
      "[2400]\tvalid_0's binary_logloss: 0.458748\tvalid_1's binary_logloss: 0.486228\n",
      "[2500]\tvalid_0's binary_logloss: 0.457608\tvalid_1's binary_logloss: 0.486172\n",
      "[2600]\tvalid_0's binary_logloss: 0.456487\tvalid_1's binary_logloss: 0.486063\n",
      "[2700]\tvalid_0's binary_logloss: 0.455394\tvalid_1's binary_logloss: 0.486003\n",
      "[2800]\tvalid_0's binary_logloss: 0.454339\tvalid_1's binary_logloss: 0.485939\n",
      "[2900]\tvalid_0's binary_logloss: 0.453243\tvalid_1's binary_logloss: 0.485893\n",
      "[3000]\tvalid_0's binary_logloss: 0.452192\tvalid_1's binary_logloss: 0.485852\n",
      "[3100]\tvalid_0's binary_logloss: 0.451175\tvalid_1's binary_logloss: 0.485804\n",
      "[3200]\tvalid_0's binary_logloss: 0.450163\tvalid_1's binary_logloss: 0.485742\n",
      "[3300]\tvalid_0's binary_logloss: 0.449157\tvalid_1's binary_logloss: 0.485708\n",
      "[3400]\tvalid_0's binary_logloss: 0.448145\tvalid_1's binary_logloss: 0.485679\n",
      "[3500]\tvalid_0's binary_logloss: 0.447174\tvalid_1's binary_logloss: 0.485627\n",
      "[3600]\tvalid_0's binary_logloss: 0.446222\tvalid_1's binary_logloss: 0.485571\n",
      "[3700]\tvalid_0's binary_logloss: 0.445259\tvalid_1's binary_logloss: 0.485512\n",
      "[3800]\tvalid_0's binary_logloss: 0.444317\tvalid_1's binary_logloss: 0.48547\n",
      "[3900]\tvalid_0's binary_logloss: 0.443391\tvalid_1's binary_logloss: 0.485422\n",
      "[4000]\tvalid_0's binary_logloss: 0.442494\tvalid_1's binary_logloss: 0.485394\n",
      "[4100]\tvalid_0's binary_logloss: 0.441571\tvalid_1's binary_logloss: 0.48536\n",
      "[4200]\tvalid_0's binary_logloss: 0.440665\tvalid_1's binary_logloss: 0.485319\n",
      "[4300]\tvalid_0's binary_logloss: 0.439793\tvalid_1's binary_logloss: 0.485312\n",
      "[4400]\tvalid_0's binary_logloss: 0.438945\tvalid_1's binary_logloss: 0.485287\n",
      "[4500]\tvalid_0's binary_logloss: 0.438074\tvalid_1's binary_logloss: 0.485254\n",
      "[4600]\tvalid_0's binary_logloss: 0.437206\tvalid_1's binary_logloss: 0.485247\n",
      "[4700]\tvalid_0's binary_logloss: 0.436373\tvalid_1's binary_logloss: 0.485215\n",
      "[4800]\tvalid_0's binary_logloss: 0.435514\tvalid_1's binary_logloss: 0.48517\n",
      "[4900]\tvalid_0's binary_logloss: 0.434677\tvalid_1's binary_logloss: 0.485121\n",
      "[5000]\tvalid_0's binary_logloss: 0.433838\tvalid_1's binary_logloss: 0.485073\n",
      "[5100]\tvalid_0's binary_logloss: 0.433001\tvalid_1's binary_logloss: 0.485052\n",
      "[5200]\tvalid_0's binary_logloss: 0.432217\tvalid_1's binary_logloss: 0.48505\n",
      "[5300]\tvalid_0's binary_logloss: 0.431425\tvalid_1's binary_logloss: 0.485027\n",
      "[5400]\tvalid_0's binary_logloss: 0.430592\tvalid_1's binary_logloss: 0.485006\n",
      "[5500]\tvalid_0's binary_logloss: 0.429803\tvalid_1's binary_logloss: 0.484954\n",
      "[5600]\tvalid_0's binary_logloss: 0.429025\tvalid_1's binary_logloss: 0.484928\n",
      "[5700]\tvalid_0's binary_logloss: 0.428264\tvalid_1's binary_logloss: 0.484915\n",
      "[5800]\tvalid_0's binary_logloss: 0.427511\tvalid_1's binary_logloss: 0.484898\n",
      "[5900]\tvalid_0's binary_logloss: 0.426726\tvalid_1's binary_logloss: 0.484854\n",
      "[6000]\tvalid_0's binary_logloss: 0.425965\tvalid_1's binary_logloss: 0.484838\n",
      "[6100]\tvalid_0's binary_logloss: 0.425217\tvalid_1's binary_logloss: 0.484816\n",
      "[6200]\tvalid_0's binary_logloss: 0.424471\tvalid_1's binary_logloss: 0.484812\n",
      "[6300]\tvalid_0's binary_logloss: 0.423726\tvalid_1's binary_logloss: 0.484807\n"
     ]
    },
    {
     "name": "stderr",
     "output_type": "stream",
     "text": [
      "num_leaves, val_score: 0.484164:  45%|####5     | 9/20 [14:56<20:35, 112.28s/it]\u001b[32m[I 2023-02-13 08:50:02,169]\u001b[0m Trial 15 finished with value: 0.4847992946485997 and parameters: {'num_leaves': 22}. Best is trial 10 with value: 0.48416364864792694.\u001b[0m\n",
      "num_leaves, val_score: 0.484164:  45%|####5     | 9/20 [14:56<20:35, 112.28s/it]"
     ]
    },
    {
     "name": "stdout",
     "output_type": "stream",
     "text": [
      "Early stopping, best iteration is:\n",
      "[6242]\tvalid_0's binary_logloss: 0.424171\tvalid_1's binary_logloss: 0.484799\n"
     ]
    },
    {
     "name": "stderr",
     "output_type": "stream",
     "text": [
      "/home/kaggler/.local/lib/python3.8/site-packages/lightgbm/engine.py:181: UserWarning: 'early_stopping_rounds' argument is deprecated and will be removed in a future release of LightGBM. Pass 'early_stopping()' callback via 'callbacks' argument instead.\n",
      "  _log_warning(\"'early_stopping_rounds' argument is deprecated and will be removed in a future release of LightGBM. \"\n",
      "/home/kaggler/.local/lib/python3.8/site-packages/lightgbm/engine.py:239: UserWarning: 'verbose_eval' argument is deprecated and will be removed in a future release of LightGBM. Pass 'log_evaluation()' callback via 'callbacks' argument instead.\n",
      "  _log_warning(\"'verbose_eval' argument is deprecated and will be removed in a future release of LightGBM. \"\n"
     ]
    },
    {
     "name": "stdout",
     "output_type": "stream",
     "text": [
      "[LightGBM] [Warning] min_data_in_leaf is set=50, min_child_samples=20 will be ignored. Current value: min_data_in_leaf=50\n",
      "[LightGBM] [Warning] min_data_in_leaf is set=50, min_child_samples=20 will be ignored. Current value: min_data_in_leaf=50\n",
      "[LightGBM] [Info] Number of positive: 119434, number of negative: 50180\n",
      "[LightGBM] [Warning] Auto-choosing col-wise multi-threading, the overhead of testing was 0.053594 seconds.\n",
      "You can set `force_col_wise=true` to remove the overhead.\n",
      "[LightGBM] [Info] Total Bins 58130\n",
      "[LightGBM] [Info] Number of data points in the train set: 169614, number of used features: 259\n"
     ]
    },
    {
     "name": "stderr",
     "output_type": "stream",
     "text": [
      "/home/kaggler/.local/lib/python3.8/site-packages/lightgbm/basic.py:1780: UserWarning: Overriding the parameters from Reference Dataset.\n",
      "  _log_warning('Overriding the parameters from Reference Dataset.')\n",
      "/home/kaggler/.local/lib/python3.8/site-packages/lightgbm/basic.py:1513: UserWarning: categorical_column in param dict is overridden.\n",
      "  _log_warning(f'{cat_alias} in param dict is overridden.')\n"
     ]
    },
    {
     "name": "stdout",
     "output_type": "stream",
     "text": [
      "[LightGBM] [Warning] min_data_in_leaf is set=50, min_child_samples=20 will be ignored. Current value: min_data_in_leaf=50\n"
     ]
    },
    {
     "name": "stderr",
     "output_type": "stream",
     "text": [
      "/home/kaggler/.local/lib/python3.8/site-packages/lightgbm/basic.py:1780: UserWarning: Overriding the parameters from Reference Dataset.\n",
      "  _log_warning('Overriding the parameters from Reference Dataset.')\n",
      "/home/kaggler/.local/lib/python3.8/site-packages/lightgbm/basic.py:1513: UserWarning: categorical_column in param dict is overridden.\n",
      "  _log_warning(f'{cat_alias} in param dict is overridden.')\n"
     ]
    },
    {
     "name": "stdout",
     "output_type": "stream",
     "text": [
      "[LightGBM] [Warning] min_data_in_leaf is set=50, min_child_samples=20 will be ignored. Current value: min_data_in_leaf=50\n",
      "[LightGBM] [Info] [binary:BoostFromScore]: pavg=0.704152 -> initscore=0.867147\n",
      "[LightGBM] [Info] Start training from score 0.867147\n",
      "Training until validation scores don't improve for 100 rounds\n",
      "[100]\tvalid_0's binary_logloss: 0.53029\tvalid_1's binary_logloss: 0.536204\n",
      "[200]\tvalid_0's binary_logloss: 0.497587\tvalid_1's binary_logloss: 0.508823\n",
      "[300]\tvalid_0's binary_logloss: 0.48008\tvalid_1's binary_logloss: 0.497054\n",
      "[400]\tvalid_0's binary_logloss: 0.468886\tvalid_1's binary_logloss: 0.491513\n",
      "[500]\tvalid_0's binary_logloss: 0.460392\tvalid_1's binary_logloss: 0.488752\n",
      "[600]\tvalid_0's binary_logloss: 0.453361\tvalid_1's binary_logloss: 0.487408\n",
      "[700]\tvalid_0's binary_logloss: 0.44706\tvalid_1's binary_logloss: 0.486416\n",
      "[800]\tvalid_0's binary_logloss: 0.441456\tvalid_1's binary_logloss: 0.485931\n",
      "[900]\tvalid_0's binary_logloss: 0.436309\tvalid_1's binary_logloss: 0.485499\n",
      "[1000]\tvalid_0's binary_logloss: 0.431511\tvalid_1's binary_logloss: 0.485171\n",
      "[1100]\tvalid_0's binary_logloss: 0.427075\tvalid_1's binary_logloss: 0.484952\n",
      "[1200]\tvalid_0's binary_logloss: 0.422829\tvalid_1's binary_logloss: 0.48477\n",
      "[1300]\tvalid_0's binary_logloss: 0.418877\tvalid_1's binary_logloss: 0.484597\n",
      "[1400]\tvalid_0's binary_logloss: 0.415058\tvalid_1's binary_logloss: 0.484471\n",
      "[1500]\tvalid_0's binary_logloss: 0.411434\tvalid_1's binary_logloss: 0.484346\n",
      "[1600]\tvalid_0's binary_logloss: 0.407963\tvalid_1's binary_logloss: 0.484282\n",
      "[1700]\tvalid_0's binary_logloss: 0.404723\tvalid_1's binary_logloss: 0.484263\n",
      "[1800]\tvalid_0's binary_logloss: 0.401346\tvalid_1's binary_logloss: 0.484145\n",
      "[1900]\tvalid_0's binary_logloss: 0.398221\tvalid_1's binary_logloss: 0.484122\n"
     ]
    },
    {
     "name": "stderr",
     "output_type": "stream",
     "text": [
      "num_leaves, val_score: 0.484105:  50%|#####     | 10/20 [16:13<16:53, 101.31s/it]\u001b[32m[I 2023-02-13 08:51:18,912]\u001b[0m Trial 16 finished with value: 0.48410502061389316 and parameters: {'num_leaves': 103}. Best is trial 16 with value: 0.48410502061389316.\u001b[0m\n",
      "num_leaves, val_score: 0.484105:  50%|#####     | 10/20 [16:13<16:53, 101.31s/it]"
     ]
    },
    {
     "name": "stdout",
     "output_type": "stream",
     "text": [
      "Early stopping, best iteration is:\n",
      "[1887]\tvalid_0's binary_logloss: 0.398635\tvalid_1's binary_logloss: 0.484105\n"
     ]
    },
    {
     "name": "stderr",
     "output_type": "stream",
     "text": [
      "/home/kaggler/.local/lib/python3.8/site-packages/lightgbm/engine.py:181: UserWarning: 'early_stopping_rounds' argument is deprecated and will be removed in a future release of LightGBM. Pass 'early_stopping()' callback via 'callbacks' argument instead.\n",
      "  _log_warning(\"'early_stopping_rounds' argument is deprecated and will be removed in a future release of LightGBM. \"\n",
      "/home/kaggler/.local/lib/python3.8/site-packages/lightgbm/engine.py:239: UserWarning: 'verbose_eval' argument is deprecated and will be removed in a future release of LightGBM. Pass 'log_evaluation()' callback via 'callbacks' argument instead.\n",
      "  _log_warning(\"'verbose_eval' argument is deprecated and will be removed in a future release of LightGBM. \"\n"
     ]
    },
    {
     "name": "stdout",
     "output_type": "stream",
     "text": [
      "[LightGBM] [Warning] min_data_in_leaf is set=50, min_child_samples=20 will be ignored. Current value: min_data_in_leaf=50\n",
      "[LightGBM] [Warning] min_data_in_leaf is set=50, min_child_samples=20 will be ignored. Current value: min_data_in_leaf=50\n",
      "[LightGBM] [Info] Number of positive: 119434, number of negative: 50180\n",
      "[LightGBM] [Warning] Auto-choosing col-wise multi-threading, the overhead of testing was 0.049180 seconds.\n",
      "You can set `force_col_wise=true` to remove the overhead.\n",
      "[LightGBM] [Info] Total Bins 58130\n",
      "[LightGBM] [Info] Number of data points in the train set: 169614, number of used features: 259\n"
     ]
    },
    {
     "name": "stderr",
     "output_type": "stream",
     "text": [
      "/home/kaggler/.local/lib/python3.8/site-packages/lightgbm/basic.py:1780: UserWarning: Overriding the parameters from Reference Dataset.\n",
      "  _log_warning('Overriding the parameters from Reference Dataset.')\n",
      "/home/kaggler/.local/lib/python3.8/site-packages/lightgbm/basic.py:1513: UserWarning: categorical_column in param dict is overridden.\n",
      "  _log_warning(f'{cat_alias} in param dict is overridden.')\n"
     ]
    },
    {
     "name": "stdout",
     "output_type": "stream",
     "text": [
      "[LightGBM] [Warning] min_data_in_leaf is set=50, min_child_samples=20 will be ignored. Current value: min_data_in_leaf=50\n"
     ]
    },
    {
     "name": "stderr",
     "output_type": "stream",
     "text": [
      "/home/kaggler/.local/lib/python3.8/site-packages/lightgbm/basic.py:1780: UserWarning: Overriding the parameters from Reference Dataset.\n",
      "  _log_warning('Overriding the parameters from Reference Dataset.')\n",
      "/home/kaggler/.local/lib/python3.8/site-packages/lightgbm/basic.py:1513: UserWarning: categorical_column in param dict is overridden.\n",
      "  _log_warning(f'{cat_alias} in param dict is overridden.')\n"
     ]
    },
    {
     "name": "stdout",
     "output_type": "stream",
     "text": [
      "[LightGBM] [Warning] min_data_in_leaf is set=50, min_child_samples=20 will be ignored. Current value: min_data_in_leaf=50\n",
      "[LightGBM] [Info] [binary:BoostFromScore]: pavg=0.704152 -> initscore=0.867147\n",
      "[LightGBM] [Info] Start training from score 0.867147\n",
      "Training until validation scores don't improve for 100 rounds\n",
      "[100]\tvalid_0's binary_logloss: 0.529174\tvalid_1's binary_logloss: 0.536034\n",
      "[200]\tvalid_0's binary_logloss: 0.495672\tvalid_1's binary_logloss: 0.50862\n",
      "[300]\tvalid_0's binary_logloss: 0.477468\tvalid_1's binary_logloss: 0.496846\n",
      "[400]\tvalid_0's binary_logloss: 0.465676\tvalid_1's binary_logloss: 0.491322\n",
      "[500]\tvalid_0's binary_logloss: 0.456651\tvalid_1's binary_logloss: 0.488616\n",
      "[600]\tvalid_0's binary_logloss: 0.449219\tvalid_1's binary_logloss: 0.487364\n",
      "[700]\tvalid_0's binary_logloss: 0.442468\tvalid_1's binary_logloss: 0.486394\n",
      "[800]\tvalid_0's binary_logloss: 0.436483\tvalid_1's binary_logloss: 0.48589\n",
      "[900]\tvalid_0's binary_logloss: 0.431071\tvalid_1's binary_logloss: 0.485545\n",
      "[1000]\tvalid_0's binary_logloss: 0.425944\tvalid_1's binary_logloss: 0.485256\n",
      "[1100]\tvalid_0's binary_logloss: 0.421199\tvalid_1's binary_logloss: 0.485046\n",
      "[1200]\tvalid_0's binary_logloss: 0.416661\tvalid_1's binary_logloss: 0.484851\n",
      "[1300]\tvalid_0's binary_logloss: 0.412484\tvalid_1's binary_logloss: 0.484693\n",
      "[1400]\tvalid_0's binary_logloss: 0.408416\tvalid_1's binary_logloss: 0.484556\n",
      "[1500]\tvalid_0's binary_logloss: 0.404523\tvalid_1's binary_logloss: 0.484425\n",
      "[1600]\tvalid_0's binary_logloss: 0.400829\tvalid_1's binary_logloss: 0.484365\n",
      "[1700]\tvalid_0's binary_logloss: 0.397365\tvalid_1's binary_logloss: 0.484297\n",
      "[1800]\tvalid_0's binary_logloss: 0.393813\tvalid_1's binary_logloss: 0.48427\n",
      "[1900]\tvalid_0's binary_logloss: 0.390497\tvalid_1's binary_logloss: 0.484208\n",
      "[2000]\tvalid_0's binary_logloss: 0.387307\tvalid_1's binary_logloss: 0.484181\n",
      "[2100]\tvalid_0's binary_logloss: 0.384046\tvalid_1's binary_logloss: 0.484176\n",
      "[2200]\tvalid_0's binary_logloss: 0.381118\tvalid_1's binary_logloss: 0.484144\n",
      "[2300]\tvalid_0's binary_logloss: 0.378147\tvalid_1's binary_logloss: 0.484118\n",
      "[2400]\tvalid_0's binary_logloss: 0.375218\tvalid_1's binary_logloss: 0.484093\n"
     ]
    },
    {
     "name": "stderr",
     "output_type": "stream",
     "text": [
      "num_leaves, val_score: 0.484071:  55%|#####5    | 11/20 [17:52<15:07, 100.87s/it]\u001b[32m[I 2023-02-13 08:52:58,774]\u001b[0m Trial 17 finished with value: 0.48407098249446334 and parameters: {'num_leaves': 116}. Best is trial 17 with value: 0.48407098249446334.\u001b[0m\n",
      "num_leaves, val_score: 0.484071:  55%|#####5    | 11/20 [17:52<15:07, 100.87s/it]"
     ]
    },
    {
     "name": "stdout",
     "output_type": "stream",
     "text": [
      "Early stopping, best iteration is:\n",
      "[2363]\tvalid_0's binary_logloss: 0.376296\tvalid_1's binary_logloss: 0.484071\n"
     ]
    },
    {
     "name": "stderr",
     "output_type": "stream",
     "text": [
      "/home/kaggler/.local/lib/python3.8/site-packages/lightgbm/engine.py:181: UserWarning: 'early_stopping_rounds' argument is deprecated and will be removed in a future release of LightGBM. Pass 'early_stopping()' callback via 'callbacks' argument instead.\n",
      "  _log_warning(\"'early_stopping_rounds' argument is deprecated and will be removed in a future release of LightGBM. \"\n",
      "/home/kaggler/.local/lib/python3.8/site-packages/lightgbm/engine.py:239: UserWarning: 'verbose_eval' argument is deprecated and will be removed in a future release of LightGBM. Pass 'log_evaluation()' callback via 'callbacks' argument instead.\n",
      "  _log_warning(\"'verbose_eval' argument is deprecated and will be removed in a future release of LightGBM. \"\n"
     ]
    },
    {
     "name": "stdout",
     "output_type": "stream",
     "text": [
      "[LightGBM] [Warning] min_data_in_leaf is set=50, min_child_samples=20 will be ignored. Current value: min_data_in_leaf=50\n",
      "[LightGBM] [Warning] min_data_in_leaf is set=50, min_child_samples=20 will be ignored. Current value: min_data_in_leaf=50\n",
      "[LightGBM] [Info] Number of positive: 119434, number of negative: 50180\n",
      "[LightGBM] [Warning] Auto-choosing col-wise multi-threading, the overhead of testing was 0.054315 seconds.\n",
      "You can set `force_col_wise=true` to remove the overhead.\n",
      "[LightGBM] [Info] Total Bins 58130\n",
      "[LightGBM] [Info] Number of data points in the train set: 169614, number of used features: 259\n"
     ]
    },
    {
     "name": "stderr",
     "output_type": "stream",
     "text": [
      "/home/kaggler/.local/lib/python3.8/site-packages/lightgbm/basic.py:1780: UserWarning: Overriding the parameters from Reference Dataset.\n",
      "  _log_warning('Overriding the parameters from Reference Dataset.')\n",
      "/home/kaggler/.local/lib/python3.8/site-packages/lightgbm/basic.py:1513: UserWarning: categorical_column in param dict is overridden.\n",
      "  _log_warning(f'{cat_alias} in param dict is overridden.')\n"
     ]
    },
    {
     "name": "stdout",
     "output_type": "stream",
     "text": [
      "[LightGBM] [Warning] min_data_in_leaf is set=50, min_child_samples=20 will be ignored. Current value: min_data_in_leaf=50\n"
     ]
    },
    {
     "name": "stderr",
     "output_type": "stream",
     "text": [
      "/home/kaggler/.local/lib/python3.8/site-packages/lightgbm/basic.py:1780: UserWarning: Overriding the parameters from Reference Dataset.\n",
      "  _log_warning('Overriding the parameters from Reference Dataset.')\n",
      "/home/kaggler/.local/lib/python3.8/site-packages/lightgbm/basic.py:1513: UserWarning: categorical_column in param dict is overridden.\n",
      "  _log_warning(f'{cat_alias} in param dict is overridden.')\n"
     ]
    },
    {
     "name": "stdout",
     "output_type": "stream",
     "text": [
      "[LightGBM] [Warning] min_data_in_leaf is set=50, min_child_samples=20 will be ignored. Current value: min_data_in_leaf=50\n",
      "[LightGBM] [Info] [binary:BoostFromScore]: pavg=0.704152 -> initscore=0.867147\n",
      "[LightGBM] [Info] Start training from score 0.867147\n",
      "Training until validation scores don't improve for 100 rounds\n",
      "[100]\tvalid_0's binary_logloss: 0.529356\tvalid_1's binary_logloss: 0.536035\n",
      "[200]\tvalid_0's binary_logloss: 0.495975\tvalid_1's binary_logloss: 0.508611\n",
      "[300]\tvalid_0's binary_logloss: 0.477885\tvalid_1's binary_logloss: 0.49685\n",
      "[400]\tvalid_0's binary_logloss: 0.466188\tvalid_1's binary_logloss: 0.491408\n",
      "[500]\tvalid_0's binary_logloss: 0.457239\tvalid_1's binary_logloss: 0.488689\n",
      "[600]\tvalid_0's binary_logloss: 0.449852\tvalid_1's binary_logloss: 0.487347\n",
      "[700]\tvalid_0's binary_logloss: 0.443172\tvalid_1's binary_logloss: 0.48636\n",
      "[800]\tvalid_0's binary_logloss: 0.43726\tvalid_1's binary_logloss: 0.485874\n",
      "[900]\tvalid_0's binary_logloss: 0.431847\tvalid_1's binary_logloss: 0.485511\n",
      "[1000]\tvalid_0's binary_logloss: 0.426803\tvalid_1's binary_logloss: 0.485312\n",
      "[1100]\tvalid_0's binary_logloss: 0.422128\tvalid_1's binary_logloss: 0.485101\n",
      "[1200]\tvalid_0's binary_logloss: 0.417602\tvalid_1's binary_logloss: 0.484904\n",
      "[1300]\tvalid_0's binary_logloss: 0.413462\tvalid_1's binary_logloss: 0.484758\n",
      "[1400]\tvalid_0's binary_logloss: 0.409478\tvalid_1's binary_logloss: 0.484596\n",
      "[1500]\tvalid_0's binary_logloss: 0.405637\tvalid_1's binary_logloss: 0.484451\n",
      "[1600]\tvalid_0's binary_logloss: 0.402004\tvalid_1's binary_logloss: 0.48437\n",
      "[1700]\tvalid_0's binary_logloss: 0.398529\tvalid_1's binary_logloss: 0.484351\n",
      "[1800]\tvalid_0's binary_logloss: 0.395015\tvalid_1's binary_logloss: 0.484336\n",
      "[1900]\tvalid_0's binary_logloss: 0.391756\tvalid_1's binary_logloss: 0.484312\n",
      "[2000]\tvalid_0's binary_logloss: 0.388513\tvalid_1's binary_logloss: 0.484291\n",
      "[2100]\tvalid_0's binary_logloss: 0.385239\tvalid_1's binary_logloss: 0.484282\n"
     ]
    },
    {
     "name": "stderr",
     "output_type": "stream",
     "text": [
      "num_leaves, val_score: 0.484071:  60%|######    | 12/20 [19:19<12:51, 96.38s/it] \u001b[32m[I 2023-02-13 08:54:24,886]\u001b[0m Trial 18 finished with value: 0.4842602873720868 and parameters: {'num_leaves': 114}. Best is trial 17 with value: 0.48407098249446334.\u001b[0m\n",
      "num_leaves, val_score: 0.484071:  60%|######    | 12/20 [19:19<12:51, 96.38s/it]"
     ]
    },
    {
     "name": "stdout",
     "output_type": "stream",
     "text": [
      "Early stopping, best iteration is:\n",
      "[2031]\tvalid_0's binary_logloss: 0.387558\tvalid_1's binary_logloss: 0.48426\n"
     ]
    },
    {
     "name": "stderr",
     "output_type": "stream",
     "text": [
      "/home/kaggler/.local/lib/python3.8/site-packages/lightgbm/engine.py:181: UserWarning: 'early_stopping_rounds' argument is deprecated and will be removed in a future release of LightGBM. Pass 'early_stopping()' callback via 'callbacks' argument instead.\n",
      "  _log_warning(\"'early_stopping_rounds' argument is deprecated and will be removed in a future release of LightGBM. \"\n",
      "/home/kaggler/.local/lib/python3.8/site-packages/lightgbm/engine.py:239: UserWarning: 'verbose_eval' argument is deprecated and will be removed in a future release of LightGBM. Pass 'log_evaluation()' callback via 'callbacks' argument instead.\n",
      "  _log_warning(\"'verbose_eval' argument is deprecated and will be removed in a future release of LightGBM. \"\n"
     ]
    },
    {
     "name": "stdout",
     "output_type": "stream",
     "text": [
      "[LightGBM] [Warning] min_data_in_leaf is set=50, min_child_samples=20 will be ignored. Current value: min_data_in_leaf=50\n",
      "[LightGBM] [Warning] min_data_in_leaf is set=50, min_child_samples=20 will be ignored. Current value: min_data_in_leaf=50\n",
      "[LightGBM] [Info] Number of positive: 119434, number of negative: 50180\n",
      "[LightGBM] [Warning] Auto-choosing col-wise multi-threading, the overhead of testing was 0.051786 seconds.\n",
      "You can set `force_col_wise=true` to remove the overhead.\n",
      "[LightGBM] [Info] Total Bins 58130\n",
      "[LightGBM] [Info] Number of data points in the train set: 169614, number of used features: 259\n"
     ]
    },
    {
     "name": "stderr",
     "output_type": "stream",
     "text": [
      "/home/kaggler/.local/lib/python3.8/site-packages/lightgbm/basic.py:1780: UserWarning: Overriding the parameters from Reference Dataset.\n",
      "  _log_warning('Overriding the parameters from Reference Dataset.')\n",
      "/home/kaggler/.local/lib/python3.8/site-packages/lightgbm/basic.py:1513: UserWarning: categorical_column in param dict is overridden.\n",
      "  _log_warning(f'{cat_alias} in param dict is overridden.')\n"
     ]
    },
    {
     "name": "stdout",
     "output_type": "stream",
     "text": [
      "[LightGBM] [Warning] min_data_in_leaf is set=50, min_child_samples=20 will be ignored. Current value: min_data_in_leaf=50\n"
     ]
    },
    {
     "name": "stderr",
     "output_type": "stream",
     "text": [
      "/home/kaggler/.local/lib/python3.8/site-packages/lightgbm/basic.py:1780: UserWarning: Overriding the parameters from Reference Dataset.\n",
      "  _log_warning('Overriding the parameters from Reference Dataset.')\n",
      "/home/kaggler/.local/lib/python3.8/site-packages/lightgbm/basic.py:1513: UserWarning: categorical_column in param dict is overridden.\n",
      "  _log_warning(f'{cat_alias} in param dict is overridden.')\n"
     ]
    },
    {
     "name": "stdout",
     "output_type": "stream",
     "text": [
      "[LightGBM] [Warning] min_data_in_leaf is set=50, min_child_samples=20 will be ignored. Current value: min_data_in_leaf=50\n",
      "[LightGBM] [Info] [binary:BoostFromScore]: pavg=0.704152 -> initscore=0.867147\n",
      "[LightGBM] [Info] Start training from score 0.867147\n",
      "Training until validation scores don't improve for 100 rounds\n",
      "[100]\tvalid_0's binary_logloss: 0.532144\tvalid_1's binary_logloss: 0.536564\n",
      "[200]\tvalid_0's binary_logloss: 0.500738\tvalid_1's binary_logloss: 0.509337\n",
      "[300]\tvalid_0's binary_logloss: 0.484331\tvalid_1's binary_logloss: 0.497546\n",
      "[400]\tvalid_0's binary_logloss: 0.474101\tvalid_1's binary_logloss: 0.492024\n",
      "[500]\tvalid_0's binary_logloss: 0.466547\tvalid_1's binary_logloss: 0.489303\n",
      "[600]\tvalid_0's binary_logloss: 0.460271\tvalid_1's binary_logloss: 0.487881\n",
      "[700]\tvalid_0's binary_logloss: 0.454681\tvalid_1's binary_logloss: 0.4869\n",
      "[800]\tvalid_0's binary_logloss: 0.449681\tvalid_1's binary_logloss: 0.486311\n",
      "[900]\tvalid_0's binary_logloss: 0.445078\tvalid_1's binary_logloss: 0.485933\n",
      "[1000]\tvalid_0's binary_logloss: 0.440833\tvalid_1's binary_logloss: 0.485592\n",
      "[1100]\tvalid_0's binary_logloss: 0.43686\tvalid_1's binary_logloss: 0.485356\n",
      "[1200]\tvalid_0's binary_logloss: 0.433075\tvalid_1's binary_logloss: 0.485154\n",
      "[1300]\tvalid_0's binary_logloss: 0.429568\tvalid_1's binary_logloss: 0.484995\n",
      "[1400]\tvalid_0's binary_logloss: 0.426125\tvalid_1's binary_logloss: 0.484826\n",
      "[1500]\tvalid_0's binary_logloss: 0.42289\tvalid_1's binary_logloss: 0.484685\n",
      "[1600]\tvalid_0's binary_logloss: 0.4198\tvalid_1's binary_logloss: 0.484592\n",
      "[1700]\tvalid_0's binary_logloss: 0.416816\tvalid_1's binary_logloss: 0.484481\n",
      "[1800]\tvalid_0's binary_logloss: 0.413854\tvalid_1's binary_logloss: 0.484405\n",
      "[1900]\tvalid_0's binary_logloss: 0.411082\tvalid_1's binary_logloss: 0.484379\n",
      "[2000]\tvalid_0's binary_logloss: 0.408371\tvalid_1's binary_logloss: 0.484322\n",
      "[2100]\tvalid_0's binary_logloss: 0.405636\tvalid_1's binary_logloss: 0.484263\n",
      "[2200]\tvalid_0's binary_logloss: 0.403114\tvalid_1's binary_logloss: 0.484241\n",
      "[2300]\tvalid_0's binary_logloss: 0.400613\tvalid_1's binary_logloss: 0.484132\n",
      "[2400]\tvalid_0's binary_logloss: 0.398137\tvalid_1's binary_logloss: 0.484096\n",
      "[2500]\tvalid_0's binary_logloss: 0.395671\tvalid_1's binary_logloss: 0.484051\n"
     ]
    },
    {
     "name": "stderr",
     "output_type": "stream",
     "text": [
      "num_leaves, val_score: 0.484035:  65%|######5   | 13/20 [20:43<10:49, 92.82s/it]\u001b[32m[I 2023-02-13 08:55:49,514]\u001b[0m Trial 19 finished with value: 0.48403530163693687 and parameters: {'num_leaves': 83}. Best is trial 19 with value: 0.48403530163693687.\u001b[0m\n",
      "num_leaves, val_score: 0.484035:  65%|######5   | 13/20 [20:43<10:49, 92.82s/it]"
     ]
    },
    {
     "name": "stdout",
     "output_type": "stream",
     "text": [
      "Early stopping, best iteration is:\n",
      "[2481]\tvalid_0's binary_logloss: 0.39614\tvalid_1's binary_logloss: 0.484035\n"
     ]
    },
    {
     "name": "stderr",
     "output_type": "stream",
     "text": [
      "/home/kaggler/.local/lib/python3.8/site-packages/lightgbm/engine.py:181: UserWarning: 'early_stopping_rounds' argument is deprecated and will be removed in a future release of LightGBM. Pass 'early_stopping()' callback via 'callbacks' argument instead.\n",
      "  _log_warning(\"'early_stopping_rounds' argument is deprecated and will be removed in a future release of LightGBM. \"\n",
      "/home/kaggler/.local/lib/python3.8/site-packages/lightgbm/engine.py:239: UserWarning: 'verbose_eval' argument is deprecated and will be removed in a future release of LightGBM. Pass 'log_evaluation()' callback via 'callbacks' argument instead.\n",
      "  _log_warning(\"'verbose_eval' argument is deprecated and will be removed in a future release of LightGBM. \"\n"
     ]
    },
    {
     "name": "stdout",
     "output_type": "stream",
     "text": [
      "[LightGBM] [Warning] min_data_in_leaf is set=50, min_child_samples=20 will be ignored. Current value: min_data_in_leaf=50\n",
      "[LightGBM] [Warning] min_data_in_leaf is set=50, min_child_samples=20 will be ignored. Current value: min_data_in_leaf=50\n",
      "[LightGBM] [Info] Number of positive: 119434, number of negative: 50180\n",
      "[LightGBM] [Warning] Auto-choosing col-wise multi-threading, the overhead of testing was 0.057034 seconds.\n",
      "You can set `force_col_wise=true` to remove the overhead.\n",
      "[LightGBM] [Info] Total Bins 58130\n",
      "[LightGBM] [Info] Number of data points in the train set: 169614, number of used features: 259\n"
     ]
    },
    {
     "name": "stderr",
     "output_type": "stream",
     "text": [
      "/home/kaggler/.local/lib/python3.8/site-packages/lightgbm/basic.py:1780: UserWarning: Overriding the parameters from Reference Dataset.\n",
      "  _log_warning('Overriding the parameters from Reference Dataset.')\n",
      "/home/kaggler/.local/lib/python3.8/site-packages/lightgbm/basic.py:1513: UserWarning: categorical_column in param dict is overridden.\n",
      "  _log_warning(f'{cat_alias} in param dict is overridden.')\n"
     ]
    },
    {
     "name": "stdout",
     "output_type": "stream",
     "text": [
      "[LightGBM] [Warning] min_data_in_leaf is set=50, min_child_samples=20 will be ignored. Current value: min_data_in_leaf=50\n"
     ]
    },
    {
     "name": "stderr",
     "output_type": "stream",
     "text": [
      "/home/kaggler/.local/lib/python3.8/site-packages/lightgbm/basic.py:1780: UserWarning: Overriding the parameters from Reference Dataset.\n",
      "  _log_warning('Overriding the parameters from Reference Dataset.')\n",
      "/home/kaggler/.local/lib/python3.8/site-packages/lightgbm/basic.py:1513: UserWarning: categorical_column in param dict is overridden.\n",
      "  _log_warning(f'{cat_alias} in param dict is overridden.')\n"
     ]
    },
    {
     "name": "stdout",
     "output_type": "stream",
     "text": [
      "[LightGBM] [Warning] min_data_in_leaf is set=50, min_child_samples=20 will be ignored. Current value: min_data_in_leaf=50\n",
      "[LightGBM] [Info] [binary:BoostFromScore]: pavg=0.704152 -> initscore=0.867147\n",
      "[LightGBM] [Info] Start training from score 0.867147\n",
      "Training until validation scores don't improve for 100 rounds\n",
      "[100]\tvalid_0's binary_logloss: 0.526691\tvalid_1's binary_logloss: 0.535709\n",
      "[200]\tvalid_0's binary_logloss: 0.491375\tvalid_1's binary_logloss: 0.508168\n",
      "[300]\tvalid_0's binary_logloss: 0.471632\tvalid_1's binary_logloss: 0.496288\n",
      "[400]\tvalid_0's binary_logloss: 0.45846\tvalid_1's binary_logloss: 0.490898\n",
      "[500]\tvalid_0's binary_logloss: 0.44824\tvalid_1's binary_logloss: 0.488168\n",
      "[600]\tvalid_0's binary_logloss: 0.439749\tvalid_1's binary_logloss: 0.486826\n",
      "[700]\tvalid_0's binary_logloss: 0.432072\tvalid_1's binary_logloss: 0.485949\n",
      "[800]\tvalid_0's binary_logloss: 0.425288\tvalid_1's binary_logloss: 0.485532\n",
      "[900]\tvalid_0's binary_logloss: 0.419028\tvalid_1's binary_logloss: 0.485187\n",
      "[1000]\tvalid_0's binary_logloss: 0.413161\tvalid_1's binary_logloss: 0.48496\n",
      "[1100]\tvalid_0's binary_logloss: 0.407774\tvalid_1's binary_logloss: 0.484753\n",
      "[1200]\tvalid_0's binary_logloss: 0.402641\tvalid_1's binary_logloss: 0.48466\n",
      "[1300]\tvalid_0's binary_logloss: 0.397921\tvalid_1's binary_logloss: 0.484561\n",
      "[1400]\tvalid_0's binary_logloss: 0.393316\tvalid_1's binary_logloss: 0.484486\n",
      "[1500]\tvalid_0's binary_logloss: 0.388977\tvalid_1's binary_logloss: 0.484507\n",
      "[1600]\tvalid_0's binary_logloss: 0.384797\tvalid_1's binary_logloss: 0.48446\n",
      "[1700]\tvalid_0's binary_logloss: 0.380836\tvalid_1's binary_logloss: 0.484388\n"
     ]
    },
    {
     "name": "stderr",
     "output_type": "stream",
     "text": [
      "num_leaves, val_score: 0.484035:  70%|#######   | 14/20 [22:12<09:09, 91.57s/it]\u001b[32m[I 2023-02-13 08:57:18,202]\u001b[0m Trial 20 finished with value: 0.484384156231538 and parameters: {'num_leaves': 148}. Best is trial 19 with value: 0.48403530163693687.\u001b[0m\n",
      "num_leaves, val_score: 0.484035:  70%|#######   | 14/20 [22:12<09:09, 91.57s/it]"
     ]
    },
    {
     "name": "stdout",
     "output_type": "stream",
     "text": [
      "Early stopping, best iteration is:\n",
      "[1698]\tvalid_0's binary_logloss: 0.380892\tvalid_1's binary_logloss: 0.484384\n"
     ]
    },
    {
     "name": "stderr",
     "output_type": "stream",
     "text": [
      "/home/kaggler/.local/lib/python3.8/site-packages/lightgbm/engine.py:181: UserWarning: 'early_stopping_rounds' argument is deprecated and will be removed in a future release of LightGBM. Pass 'early_stopping()' callback via 'callbacks' argument instead.\n",
      "  _log_warning(\"'early_stopping_rounds' argument is deprecated and will be removed in a future release of LightGBM. \"\n",
      "/home/kaggler/.local/lib/python3.8/site-packages/lightgbm/engine.py:239: UserWarning: 'verbose_eval' argument is deprecated and will be removed in a future release of LightGBM. Pass 'log_evaluation()' callback via 'callbacks' argument instead.\n",
      "  _log_warning(\"'verbose_eval' argument is deprecated and will be removed in a future release of LightGBM. \"\n"
     ]
    },
    {
     "name": "stdout",
     "output_type": "stream",
     "text": [
      "[LightGBM] [Warning] min_data_in_leaf is set=50, min_child_samples=20 will be ignored. Current value: min_data_in_leaf=50\n",
      "[LightGBM] [Warning] min_data_in_leaf is set=50, min_child_samples=20 will be ignored. Current value: min_data_in_leaf=50\n",
      "[LightGBM] [Info] Number of positive: 119434, number of negative: 50180\n",
      "[LightGBM] [Warning] Auto-choosing col-wise multi-threading, the overhead of testing was 0.053582 seconds.\n",
      "You can set `force_col_wise=true` to remove the overhead.\n",
      "[LightGBM] [Info] Total Bins 58130\n",
      "[LightGBM] [Info] Number of data points in the train set: 169614, number of used features: 259\n"
     ]
    },
    {
     "name": "stderr",
     "output_type": "stream",
     "text": [
      "/home/kaggler/.local/lib/python3.8/site-packages/lightgbm/basic.py:1780: UserWarning: Overriding the parameters from Reference Dataset.\n",
      "  _log_warning('Overriding the parameters from Reference Dataset.')\n",
      "/home/kaggler/.local/lib/python3.8/site-packages/lightgbm/basic.py:1513: UserWarning: categorical_column in param dict is overridden.\n",
      "  _log_warning(f'{cat_alias} in param dict is overridden.')\n"
     ]
    },
    {
     "name": "stdout",
     "output_type": "stream",
     "text": [
      "[LightGBM] [Warning] min_data_in_leaf is set=50, min_child_samples=20 will be ignored. Current value: min_data_in_leaf=50\n"
     ]
    },
    {
     "name": "stderr",
     "output_type": "stream",
     "text": [
      "/home/kaggler/.local/lib/python3.8/site-packages/lightgbm/basic.py:1780: UserWarning: Overriding the parameters from Reference Dataset.\n",
      "  _log_warning('Overriding the parameters from Reference Dataset.')\n",
      "/home/kaggler/.local/lib/python3.8/site-packages/lightgbm/basic.py:1513: UserWarning: categorical_column in param dict is overridden.\n",
      "  _log_warning(f'{cat_alias} in param dict is overridden.')\n"
     ]
    },
    {
     "name": "stdout",
     "output_type": "stream",
     "text": [
      "[LightGBM] [Warning] min_data_in_leaf is set=50, min_child_samples=20 will be ignored. Current value: min_data_in_leaf=50\n",
      "[LightGBM] [Info] [binary:BoostFromScore]: pavg=0.704152 -> initscore=0.867147\n",
      "[LightGBM] [Info] Start training from score 0.867147\n",
      "Training until validation scores don't improve for 100 rounds\n",
      "[100]\tvalid_0's binary_logloss: 0.533778\tvalid_1's binary_logloss: 0.536919\n",
      "[200]\tvalid_0's binary_logloss: 0.503482\tvalid_1's binary_logloss: 0.509819\n",
      "[300]\tvalid_0's binary_logloss: 0.488046\tvalid_1's binary_logloss: 0.498034\n",
      "[400]\tvalid_0's binary_logloss: 0.478652\tvalid_1's binary_logloss: 0.492516\n",
      "[500]\tvalid_0's binary_logloss: 0.471855\tvalid_1's binary_logloss: 0.489722\n",
      "[600]\tvalid_0's binary_logloss: 0.466257\tvalid_1's binary_logloss: 0.488257\n",
      "[700]\tvalid_0's binary_logloss: 0.461326\tvalid_1's binary_logloss: 0.487273\n",
      "[800]\tvalid_0's binary_logloss: 0.456877\tvalid_1's binary_logloss: 0.48671\n",
      "[900]\tvalid_0's binary_logloss: 0.452847\tvalid_1's binary_logloss: 0.486231\n",
      "[1000]\tvalid_0's binary_logloss: 0.449063\tvalid_1's binary_logloss: 0.485855\n",
      "[1100]\tvalid_0's binary_logloss: 0.445573\tvalid_1's binary_logloss: 0.485573\n",
      "[1200]\tvalid_0's binary_logloss: 0.442218\tvalid_1's binary_logloss: 0.485428\n",
      "[1300]\tvalid_0's binary_logloss: 0.439094\tvalid_1's binary_logloss: 0.485264\n",
      "[1400]\tvalid_0's binary_logloss: 0.436089\tvalid_1's binary_logloss: 0.485139\n",
      "[1500]\tvalid_0's binary_logloss: 0.433251\tvalid_1's binary_logloss: 0.485054\n",
      "[1600]\tvalid_0's binary_logloss: 0.430439\tvalid_1's binary_logloss: 0.484994\n",
      "[1700]\tvalid_0's binary_logloss: 0.427765\tvalid_1's binary_logloss: 0.484912\n",
      "[1800]\tvalid_0's binary_logloss: 0.425147\tvalid_1's binary_logloss: 0.484758\n",
      "[1900]\tvalid_0's binary_logloss: 0.422666\tvalid_1's binary_logloss: 0.484702\n",
      "[2000]\tvalid_0's binary_logloss: 0.420216\tvalid_1's binary_logloss: 0.48462\n",
      "[2100]\tvalid_0's binary_logloss: 0.417786\tvalid_1's binary_logloss: 0.484525\n",
      "[2200]\tvalid_0's binary_logloss: 0.415516\tvalid_1's binary_logloss: 0.484514\n",
      "[2300]\tvalid_0's binary_logloss: 0.413253\tvalid_1's binary_logloss: 0.484395\n",
      "[2400]\tvalid_0's binary_logloss: 0.411029\tvalid_1's binary_logloss: 0.484334\n",
      "[2500]\tvalid_0's binary_logloss: 0.408819\tvalid_1's binary_logloss: 0.484253\n",
      "[2600]\tvalid_0's binary_logloss: 0.406693\tvalid_1's binary_logloss: 0.484217\n"
     ]
    },
    {
     "name": "stderr",
     "output_type": "stream",
     "text": [
      "num_leaves, val_score: 0.484035:  75%|#######5  | 15/20 [23:29<07:16, 87.22s/it]\u001b[32m[I 2023-02-13 08:58:35,331]\u001b[0m Trial 21 finished with value: 0.4842051353408282 and parameters: {'num_leaves': 67}. Best is trial 19 with value: 0.48403530163693687.\u001b[0m\n",
      "num_leaves, val_score: 0.484035:  75%|#######5  | 15/20 [23:29<07:16, 87.22s/it]"
     ]
    },
    {
     "name": "stdout",
     "output_type": "stream",
     "text": [
      "Early stopping, best iteration is:\n",
      "[2562]\tvalid_0's binary_logloss: 0.407492\tvalid_1's binary_logloss: 0.484205\n"
     ]
    },
    {
     "name": "stderr",
     "output_type": "stream",
     "text": [
      "/home/kaggler/.local/lib/python3.8/site-packages/lightgbm/engine.py:181: UserWarning: 'early_stopping_rounds' argument is deprecated and will be removed in a future release of LightGBM. Pass 'early_stopping()' callback via 'callbacks' argument instead.\n",
      "  _log_warning(\"'early_stopping_rounds' argument is deprecated and will be removed in a future release of LightGBM. \"\n",
      "/home/kaggler/.local/lib/python3.8/site-packages/lightgbm/engine.py:239: UserWarning: 'verbose_eval' argument is deprecated and will be removed in a future release of LightGBM. Pass 'log_evaluation()' callback via 'callbacks' argument instead.\n",
      "  _log_warning(\"'verbose_eval' argument is deprecated and will be removed in a future release of LightGBM. \"\n"
     ]
    },
    {
     "name": "stdout",
     "output_type": "stream",
     "text": [
      "[LightGBM] [Warning] min_data_in_leaf is set=50, min_child_samples=20 will be ignored. Current value: min_data_in_leaf=50\n",
      "[LightGBM] [Warning] min_data_in_leaf is set=50, min_child_samples=20 will be ignored. Current value: min_data_in_leaf=50\n",
      "[LightGBM] [Info] Number of positive: 119434, number of negative: 50180\n",
      "[LightGBM] [Warning] Auto-choosing row-wise multi-threading, the overhead of testing was 0.104697 seconds.\n",
      "You can set `force_row_wise=true` to remove the overhead.\n",
      "And if memory is not enough, you can set `force_col_wise=true`.\n",
      "[LightGBM] [Info] Total Bins 58130\n",
      "[LightGBM] [Info] Number of data points in the train set: 169614, number of used features: 259\n"
     ]
    },
    {
     "name": "stderr",
     "output_type": "stream",
     "text": [
      "/home/kaggler/.local/lib/python3.8/site-packages/lightgbm/basic.py:1780: UserWarning: Overriding the parameters from Reference Dataset.\n",
      "  _log_warning('Overriding the parameters from Reference Dataset.')\n",
      "/home/kaggler/.local/lib/python3.8/site-packages/lightgbm/basic.py:1513: UserWarning: categorical_column in param dict is overridden.\n",
      "  _log_warning(f'{cat_alias} in param dict is overridden.')\n"
     ]
    },
    {
     "name": "stdout",
     "output_type": "stream",
     "text": [
      "[LightGBM] [Warning] min_data_in_leaf is set=50, min_child_samples=20 will be ignored. Current value: min_data_in_leaf=50\n"
     ]
    },
    {
     "name": "stderr",
     "output_type": "stream",
     "text": [
      "/home/kaggler/.local/lib/python3.8/site-packages/lightgbm/basic.py:1780: UserWarning: Overriding the parameters from Reference Dataset.\n",
      "  _log_warning('Overriding the parameters from Reference Dataset.')\n",
      "/home/kaggler/.local/lib/python3.8/site-packages/lightgbm/basic.py:1513: UserWarning: categorical_column in param dict is overridden.\n",
      "  _log_warning(f'{cat_alias} in param dict is overridden.')\n"
     ]
    },
    {
     "name": "stdout",
     "output_type": "stream",
     "text": [
      "[LightGBM] [Warning] min_data_in_leaf is set=50, min_child_samples=20 will be ignored. Current value: min_data_in_leaf=50\n",
      "[LightGBM] [Info] [binary:BoostFromScore]: pavg=0.704152 -> initscore=0.867147\n",
      "[LightGBM] [Info] Start training from score 0.867147\n",
      "Training until validation scores don't improve for 100 rounds\n",
      "[100]\tvalid_0's binary_logloss: 0.526603\tvalid_1's binary_logloss: 0.5357\n",
      "[200]\tvalid_0's binary_logloss: 0.491249\tvalid_1's binary_logloss: 0.508078\n",
      "[300]\tvalid_0's binary_logloss: 0.471449\tvalid_1's binary_logloss: 0.496227\n",
      "[400]\tvalid_0's binary_logloss: 0.458222\tvalid_1's binary_logloss: 0.49076\n",
      "[500]\tvalid_0's binary_logloss: 0.447997\tvalid_1's binary_logloss: 0.488118\n",
      "[600]\tvalid_0's binary_logloss: 0.439504\tvalid_1's binary_logloss: 0.486937\n",
      "[700]\tvalid_0's binary_logloss: 0.43176\tvalid_1's binary_logloss: 0.486083\n",
      "[800]\tvalid_0's binary_logloss: 0.424971\tvalid_1's binary_logloss: 0.485622\n",
      "[900]\tvalid_0's binary_logloss: 0.418711\tvalid_1's binary_logloss: 0.485242\n",
      "[1000]\tvalid_0's binary_logloss: 0.412854\tvalid_1's binary_logloss: 0.485026\n",
      "[1100]\tvalid_0's binary_logloss: 0.4075\tvalid_1's binary_logloss: 0.484871\n",
      "[1200]\tvalid_0's binary_logloss: 0.402344\tvalid_1's binary_logloss: 0.484733\n",
      "[1300]\tvalid_0's binary_logloss: 0.397574\tvalid_1's binary_logloss: 0.484621\n",
      "[1400]\tvalid_0's binary_logloss: 0.392953\tvalid_1's binary_logloss: 0.484588\n",
      "[1500]\tvalid_0's binary_logloss: 0.388562\tvalid_1's binary_logloss: 0.484519\n",
      "[1600]\tvalid_0's binary_logloss: 0.384387\tvalid_1's binary_logloss: 0.484467\n",
      "[1700]\tvalid_0's binary_logloss: 0.380375\tvalid_1's binary_logloss: 0.4844\n"
     ]
    },
    {
     "name": "stderr",
     "output_type": "stream",
     "text": [
      "num_leaves, val_score: 0.484035:  80%|########  | 16/20 [26:18<07:27, 111.90s/it]\u001b[32m[I 2023-02-13 09:01:24,561]\u001b[0m Trial 22 finished with value: 0.48437937150687793 and parameters: {'num_leaves': 149}. Best is trial 19 with value: 0.48403530163693687.\u001b[0m\n",
      "num_leaves, val_score: 0.484035:  80%|########  | 16/20 [26:18<07:27, 111.90s/it]"
     ]
    },
    {
     "name": "stdout",
     "output_type": "stream",
     "text": [
      "Early stopping, best iteration is:\n",
      "[1695]\tvalid_0's binary_logloss: 0.380539\tvalid_1's binary_logloss: 0.484379\n"
     ]
    },
    {
     "name": "stderr",
     "output_type": "stream",
     "text": [
      "/home/kaggler/.local/lib/python3.8/site-packages/lightgbm/engine.py:181: UserWarning: 'early_stopping_rounds' argument is deprecated and will be removed in a future release of LightGBM. Pass 'early_stopping()' callback via 'callbacks' argument instead.\n",
      "  _log_warning(\"'early_stopping_rounds' argument is deprecated and will be removed in a future release of LightGBM. \"\n",
      "/home/kaggler/.local/lib/python3.8/site-packages/lightgbm/engine.py:239: UserWarning: 'verbose_eval' argument is deprecated and will be removed in a future release of LightGBM. Pass 'log_evaluation()' callback via 'callbacks' argument instead.\n",
      "  _log_warning(\"'verbose_eval' argument is deprecated and will be removed in a future release of LightGBM. \"\n"
     ]
    },
    {
     "name": "stdout",
     "output_type": "stream",
     "text": [
      "[LightGBM] [Warning] min_data_in_leaf is set=50, min_child_samples=20 will be ignored. Current value: min_data_in_leaf=50\n",
      "[LightGBM] [Warning] min_data_in_leaf is set=50, min_child_samples=20 will be ignored. Current value: min_data_in_leaf=50\n",
      "[LightGBM] [Info] Number of positive: 119434, number of negative: 50180\n",
      "[LightGBM] [Warning] Auto-choosing col-wise multi-threading, the overhead of testing was 0.049019 seconds.\n",
      "You can set `force_col_wise=true` to remove the overhead.\n",
      "[LightGBM] [Info] Total Bins 58130\n",
      "[LightGBM] [Info] Number of data points in the train set: 169614, number of used features: 259\n"
     ]
    },
    {
     "name": "stderr",
     "output_type": "stream",
     "text": [
      "/home/kaggler/.local/lib/python3.8/site-packages/lightgbm/basic.py:1780: UserWarning: Overriding the parameters from Reference Dataset.\n",
      "  _log_warning('Overriding the parameters from Reference Dataset.')\n",
      "/home/kaggler/.local/lib/python3.8/site-packages/lightgbm/basic.py:1513: UserWarning: categorical_column in param dict is overridden.\n",
      "  _log_warning(f'{cat_alias} in param dict is overridden.')\n"
     ]
    },
    {
     "name": "stdout",
     "output_type": "stream",
     "text": [
      "[LightGBM] [Warning] min_data_in_leaf is set=50, min_child_samples=20 will be ignored. Current value: min_data_in_leaf=50\n"
     ]
    },
    {
     "name": "stderr",
     "output_type": "stream",
     "text": [
      "/home/kaggler/.local/lib/python3.8/site-packages/lightgbm/basic.py:1780: UserWarning: Overriding the parameters from Reference Dataset.\n",
      "  _log_warning('Overriding the parameters from Reference Dataset.')\n",
      "/home/kaggler/.local/lib/python3.8/site-packages/lightgbm/basic.py:1513: UserWarning: categorical_column in param dict is overridden.\n",
      "  _log_warning(f'{cat_alias} in param dict is overridden.')\n"
     ]
    },
    {
     "name": "stdout",
     "output_type": "stream",
     "text": [
      "[LightGBM] [Warning] min_data_in_leaf is set=50, min_child_samples=20 will be ignored. Current value: min_data_in_leaf=50\n",
      "[LightGBM] [Info] [binary:BoostFromScore]: pavg=0.704152 -> initscore=0.867147\n",
      "[LightGBM] [Info] Start training from score 0.867147\n",
      "Training until validation scores don't improve for 100 rounds\n",
      "[100]\tvalid_0's binary_logloss: 0.519868\tvalid_1's binary_logloss: 0.535108\n",
      "[200]\tvalid_0's binary_logloss: 0.479548\tvalid_1's binary_logloss: 0.507421\n",
      "[300]\tvalid_0's binary_logloss: 0.455541\tvalid_1's binary_logloss: 0.495508\n",
      "[400]\tvalid_0's binary_logloss: 0.438683\tvalid_1's binary_logloss: 0.49014\n",
      "[500]\tvalid_0's binary_logloss: 0.425272\tvalid_1's binary_logloss: 0.48756\n",
      "[600]\tvalid_0's binary_logloss: 0.414301\tvalid_1's binary_logloss: 0.486443\n",
      "[700]\tvalid_0's binary_logloss: 0.404081\tvalid_1's binary_logloss: 0.485767\n",
      "[800]\tvalid_0's binary_logloss: 0.395265\tvalid_1's binary_logloss: 0.485406\n",
      "[900]\tvalid_0's binary_logloss: 0.387153\tvalid_1's binary_logloss: 0.485241\n",
      "[1000]\tvalid_0's binary_logloss: 0.379559\tvalid_1's binary_logloss: 0.485037\n",
      "[1100]\tvalid_0's binary_logloss: 0.372824\tvalid_1's binary_logloss: 0.484993\n",
      "[1200]\tvalid_0's binary_logloss: 0.366346\tvalid_1's binary_logloss: 0.484947\n"
     ]
    },
    {
     "name": "stderr",
     "output_type": "stream",
     "text": [
      "num_leaves, val_score: 0.484035:  85%|########5 | 17/20 [27:52<05:19, 106.39s/it]\u001b[32m[I 2023-02-13 09:02:58,130]\u001b[0m Trial 23 finished with value: 0.4849151068066626 and parameters: {'num_leaves': 254}. Best is trial 19 with value: 0.48403530163693687.\u001b[0m\n",
      "num_leaves, val_score: 0.484035:  85%|########5 | 17/20 [27:52<05:19, 106.39s/it]"
     ]
    },
    {
     "name": "stdout",
     "output_type": "stream",
     "text": [
      "Early stopping, best iteration is:\n",
      "[1144]\tvalid_0's binary_logloss: 0.370005\tvalid_1's binary_logloss: 0.484915\n"
     ]
    },
    {
     "name": "stderr",
     "output_type": "stream",
     "text": [
      "/home/kaggler/.local/lib/python3.8/site-packages/lightgbm/engine.py:181: UserWarning: 'early_stopping_rounds' argument is deprecated and will be removed in a future release of LightGBM. Pass 'early_stopping()' callback via 'callbacks' argument instead.\n",
      "  _log_warning(\"'early_stopping_rounds' argument is deprecated and will be removed in a future release of LightGBM. \"\n",
      "/home/kaggler/.local/lib/python3.8/site-packages/lightgbm/engine.py:239: UserWarning: 'verbose_eval' argument is deprecated and will be removed in a future release of LightGBM. Pass 'log_evaluation()' callback via 'callbacks' argument instead.\n",
      "  _log_warning(\"'verbose_eval' argument is deprecated and will be removed in a future release of LightGBM. \"\n"
     ]
    },
    {
     "name": "stdout",
     "output_type": "stream",
     "text": [
      "[LightGBM] [Warning] min_data_in_leaf is set=50, min_child_samples=20 will be ignored. Current value: min_data_in_leaf=50\n",
      "[LightGBM] [Warning] min_data_in_leaf is set=50, min_child_samples=20 will be ignored. Current value: min_data_in_leaf=50\n",
      "[LightGBM] [Info] Number of positive: 119434, number of negative: 50180\n",
      "[LightGBM] [Warning] Auto-choosing col-wise multi-threading, the overhead of testing was 0.054280 seconds.\n",
      "You can set `force_col_wise=true` to remove the overhead.\n",
      "[LightGBM] [Info] Total Bins 58130\n",
      "[LightGBM] [Info] Number of data points in the train set: 169614, number of used features: 259\n"
     ]
    },
    {
     "name": "stderr",
     "output_type": "stream",
     "text": [
      "/home/kaggler/.local/lib/python3.8/site-packages/lightgbm/basic.py:1780: UserWarning: Overriding the parameters from Reference Dataset.\n",
      "  _log_warning('Overriding the parameters from Reference Dataset.')\n",
      "/home/kaggler/.local/lib/python3.8/site-packages/lightgbm/basic.py:1513: UserWarning: categorical_column in param dict is overridden.\n",
      "  _log_warning(f'{cat_alias} in param dict is overridden.')\n"
     ]
    },
    {
     "name": "stdout",
     "output_type": "stream",
     "text": [
      "[LightGBM] [Warning] min_data_in_leaf is set=50, min_child_samples=20 will be ignored. Current value: min_data_in_leaf=50\n"
     ]
    },
    {
     "name": "stderr",
     "output_type": "stream",
     "text": [
      "/home/kaggler/.local/lib/python3.8/site-packages/lightgbm/basic.py:1780: UserWarning: Overriding the parameters from Reference Dataset.\n",
      "  _log_warning('Overriding the parameters from Reference Dataset.')\n",
      "/home/kaggler/.local/lib/python3.8/site-packages/lightgbm/basic.py:1513: UserWarning: categorical_column in param dict is overridden.\n",
      "  _log_warning(f'{cat_alias} in param dict is overridden.')\n"
     ]
    },
    {
     "name": "stdout",
     "output_type": "stream",
     "text": [
      "[LightGBM] [Warning] min_data_in_leaf is set=50, min_child_samples=20 will be ignored. Current value: min_data_in_leaf=50\n",
      "[LightGBM] [Info] [binary:BoostFromScore]: pavg=0.704152 -> initscore=0.867147\n",
      "[LightGBM] [Info] Start training from score 0.867147\n",
      "Training until validation scores don't improve for 100 rounds\n",
      "[100]\tvalid_0's binary_logloss: 0.532947\tvalid_1's binary_logloss: 0.536733\n",
      "[200]\tvalid_0's binary_logloss: 0.502083\tvalid_1's binary_logloss: 0.509558\n",
      "[300]\tvalid_0's binary_logloss: 0.486172\tvalid_1's binary_logloss: 0.497702\n",
      "[400]\tvalid_0's binary_logloss: 0.476354\tvalid_1's binary_logloss: 0.492198\n",
      "[500]\tvalid_0's binary_logloss: 0.469163\tvalid_1's binary_logloss: 0.489459\n",
      "[600]\tvalid_0's binary_logloss: 0.463195\tvalid_1's binary_logloss: 0.488056\n",
      "[700]\tvalid_0's binary_logloss: 0.457938\tvalid_1's binary_logloss: 0.48704\n",
      "[800]\tvalid_0's binary_logloss: 0.453228\tvalid_1's binary_logloss: 0.486417\n",
      "[900]\tvalid_0's binary_logloss: 0.448904\tvalid_1's binary_logloss: 0.486069\n",
      "[1000]\tvalid_0's binary_logloss: 0.444875\tvalid_1's binary_logloss: 0.485708\n",
      "[1100]\tvalid_0's binary_logloss: 0.441122\tvalid_1's binary_logloss: 0.485431\n",
      "[1200]\tvalid_0's binary_logloss: 0.437555\tvalid_1's binary_logloss: 0.48522\n",
      "[1300]\tvalid_0's binary_logloss: 0.434203\tvalid_1's binary_logloss: 0.484997\n",
      "[1400]\tvalid_0's binary_logloss: 0.431028\tvalid_1's binary_logloss: 0.484839\n",
      "[1500]\tvalid_0's binary_logloss: 0.427986\tvalid_1's binary_logloss: 0.484694\n",
      "[1600]\tvalid_0's binary_logloss: 0.425067\tvalid_1's binary_logloss: 0.484609\n",
      "[1700]\tvalid_0's binary_logloss: 0.422249\tvalid_1's binary_logloss: 0.484518\n",
      "[1800]\tvalid_0's binary_logloss: 0.41947\tvalid_1's binary_logloss: 0.4844\n",
      "[1900]\tvalid_0's binary_logloss: 0.416857\tvalid_1's binary_logloss: 0.484317\n",
      "[2000]\tvalid_0's binary_logloss: 0.414295\tvalid_1's binary_logloss: 0.484257\n",
      "[2100]\tvalid_0's binary_logloss: 0.411671\tvalid_1's binary_logloss: 0.484211\n",
      "[2200]\tvalid_0's binary_logloss: 0.409226\tvalid_1's binary_logloss: 0.484178\n",
      "[2300]\tvalid_0's binary_logloss: 0.406812\tvalid_1's binary_logloss: 0.484102\n",
      "[2400]\tvalid_0's binary_logloss: 0.404476\tvalid_1's binary_logloss: 0.484058\n",
      "[2500]\tvalid_0's binary_logloss: 0.402123\tvalid_1's binary_logloss: 0.484012\n",
      "[2600]\tvalid_0's binary_logloss: 0.399873\tvalid_1's binary_logloss: 0.484014\n"
     ]
    },
    {
     "name": "stderr",
     "output_type": "stream",
     "text": [
      "num_leaves, val_score: 0.483988:  90%|######### | 18/20 [29:14<03:18, 99.09s/it] \u001b[32m[I 2023-02-13 09:04:20,234]\u001b[0m Trial 24 finished with value: 0.4839883497614958 and parameters: {'num_leaves': 75}. Best is trial 24 with value: 0.4839883497614958.\u001b[0m\n",
      "num_leaves, val_score: 0.483988:  90%|######### | 18/20 [29:14<03:18, 99.09s/it]"
     ]
    },
    {
     "name": "stdout",
     "output_type": "stream",
     "text": [
      "Early stopping, best iteration is:\n",
      "[2560]\tvalid_0's binary_logloss: 0.400756\tvalid_1's binary_logloss: 0.483988\n"
     ]
    },
    {
     "name": "stderr",
     "output_type": "stream",
     "text": [
      "/home/kaggler/.local/lib/python3.8/site-packages/lightgbm/engine.py:181: UserWarning: 'early_stopping_rounds' argument is deprecated and will be removed in a future release of LightGBM. Pass 'early_stopping()' callback via 'callbacks' argument instead.\n",
      "  _log_warning(\"'early_stopping_rounds' argument is deprecated and will be removed in a future release of LightGBM. \"\n",
      "/home/kaggler/.local/lib/python3.8/site-packages/lightgbm/engine.py:239: UserWarning: 'verbose_eval' argument is deprecated and will be removed in a future release of LightGBM. Pass 'log_evaluation()' callback via 'callbacks' argument instead.\n",
      "  _log_warning(\"'verbose_eval' argument is deprecated and will be removed in a future release of LightGBM. \"\n"
     ]
    },
    {
     "name": "stdout",
     "output_type": "stream",
     "text": [
      "[LightGBM] [Warning] min_data_in_leaf is set=50, min_child_samples=20 will be ignored. Current value: min_data_in_leaf=50\n",
      "[LightGBM] [Warning] min_data_in_leaf is set=50, min_child_samples=20 will be ignored. Current value: min_data_in_leaf=50\n",
      "[LightGBM] [Info] Number of positive: 119434, number of negative: 50180\n",
      "[LightGBM] [Warning] Auto-choosing col-wise multi-threading, the overhead of testing was 0.049845 seconds.\n",
      "You can set `force_col_wise=true` to remove the overhead.\n",
      "[LightGBM] [Info] Total Bins 58130\n",
      "[LightGBM] [Info] Number of data points in the train set: 169614, number of used features: 259\n"
     ]
    },
    {
     "name": "stderr",
     "output_type": "stream",
     "text": [
      "/home/kaggler/.local/lib/python3.8/site-packages/lightgbm/basic.py:1780: UserWarning: Overriding the parameters from Reference Dataset.\n",
      "  _log_warning('Overriding the parameters from Reference Dataset.')\n",
      "/home/kaggler/.local/lib/python3.8/site-packages/lightgbm/basic.py:1513: UserWarning: categorical_column in param dict is overridden.\n",
      "  _log_warning(f'{cat_alias} in param dict is overridden.')\n"
     ]
    },
    {
     "name": "stdout",
     "output_type": "stream",
     "text": [
      "[LightGBM] [Warning] min_data_in_leaf is set=50, min_child_samples=20 will be ignored. Current value: min_data_in_leaf=50\n"
     ]
    },
    {
     "name": "stderr",
     "output_type": "stream",
     "text": [
      "/home/kaggler/.local/lib/python3.8/site-packages/lightgbm/basic.py:1780: UserWarning: Overriding the parameters from Reference Dataset.\n",
      "  _log_warning('Overriding the parameters from Reference Dataset.')\n",
      "/home/kaggler/.local/lib/python3.8/site-packages/lightgbm/basic.py:1513: UserWarning: categorical_column in param dict is overridden.\n",
      "  _log_warning(f'{cat_alias} in param dict is overridden.')\n"
     ]
    },
    {
     "name": "stdout",
     "output_type": "stream",
     "text": [
      "[LightGBM] [Warning] min_data_in_leaf is set=50, min_child_samples=20 will be ignored. Current value: min_data_in_leaf=50\n",
      "[LightGBM] [Info] [binary:BoostFromScore]: pavg=0.704152 -> initscore=0.867147\n",
      "[LightGBM] [Info] Start training from score 0.867147\n",
      "Training until validation scores don't improve for 100 rounds\n",
      "[100]\tvalid_0's binary_logloss: 0.53346\tvalid_1's binary_logloss: 0.536837\n",
      "[200]\tvalid_0's binary_logloss: 0.502944\tvalid_1's binary_logloss: 0.509706\n",
      "[300]\tvalid_0's binary_logloss: 0.487332\tvalid_1's binary_logloss: 0.497924\n",
      "[400]\tvalid_0's binary_logloss: 0.477806\tvalid_1's binary_logloss: 0.492453\n",
      "[500]\tvalid_0's binary_logloss: 0.470849\tvalid_1's binary_logloss: 0.489685\n",
      "[600]\tvalid_0's binary_logloss: 0.465095\tvalid_1's binary_logloss: 0.488242\n",
      "[700]\tvalid_0's binary_logloss: 0.460029\tvalid_1's binary_logloss: 0.487229\n",
      "[800]\tvalid_0's binary_logloss: 0.45546\tvalid_1's binary_logloss: 0.486626\n",
      "[900]\tvalid_0's binary_logloss: 0.451323\tvalid_1's binary_logloss: 0.486234\n",
      "[1000]\tvalid_0's binary_logloss: 0.447452\tvalid_1's binary_logloss: 0.485926\n",
      "[1100]\tvalid_0's binary_logloss: 0.443867\tvalid_1's binary_logloss: 0.485646\n",
      "[1200]\tvalid_0's binary_logloss: 0.440462\tvalid_1's binary_logloss: 0.485451\n",
      "[1300]\tvalid_0's binary_logloss: 0.437268\tvalid_1's binary_logloss: 0.485307\n",
      "[1400]\tvalid_0's binary_logloss: 0.434236\tvalid_1's binary_logloss: 0.485171\n",
      "[1500]\tvalid_0's binary_logloss: 0.431333\tvalid_1's binary_logloss: 0.485038\n",
      "[1600]\tvalid_0's binary_logloss: 0.428504\tvalid_1's binary_logloss: 0.484945\n",
      "[1700]\tvalid_0's binary_logloss: 0.425771\tvalid_1's binary_logloss: 0.484891\n",
      "[1800]\tvalid_0's binary_logloss: 0.423136\tvalid_1's binary_logloss: 0.48476\n",
      "[1900]\tvalid_0's binary_logloss: 0.4206\tvalid_1's binary_logloss: 0.484699\n",
      "[2000]\tvalid_0's binary_logloss: 0.41807\tvalid_1's binary_logloss: 0.484617\n",
      "[2100]\tvalid_0's binary_logloss: 0.415569\tvalid_1's binary_logloss: 0.484561\n",
      "[2200]\tvalid_0's binary_logloss: 0.41327\tvalid_1's binary_logloss: 0.484561\n",
      "[2300]\tvalid_0's binary_logloss: 0.410962\tvalid_1's binary_logloss: 0.484477\n",
      "[2400]\tvalid_0's binary_logloss: 0.408697\tvalid_1's binary_logloss: 0.484454\n",
      "[2500]\tvalid_0's binary_logloss: 0.406414\tvalid_1's binary_logloss: 0.484396\n",
      "[2600]\tvalid_0's binary_logloss: 0.404255\tvalid_1's binary_logloss: 0.484415\n"
     ]
    },
    {
     "name": "stderr",
     "output_type": "stream",
     "text": [
      "num_leaves, val_score: 0.483988:  95%|#########5| 19/20 [30:31<01:32, 92.61s/it]\u001b[32m[I 2023-02-13 09:05:37,740]\u001b[0m Trial 25 finished with value: 0.48438903680053674 and parameters: {'num_leaves': 70}. Best is trial 24 with value: 0.4839883497614958.\u001b[0m\n",
      "num_leaves, val_score: 0.483988:  95%|#########5| 19/20 [30:31<01:32, 92.61s/it]"
     ]
    },
    {
     "name": "stdout",
     "output_type": "stream",
     "text": [
      "Early stopping, best iteration is:\n",
      "[2513]\tvalid_0's binary_logloss: 0.406093\tvalid_1's binary_logloss: 0.484389\n"
     ]
    },
    {
     "name": "stderr",
     "output_type": "stream",
     "text": [
      "/home/kaggler/.local/lib/python3.8/site-packages/lightgbm/engine.py:181: UserWarning: 'early_stopping_rounds' argument is deprecated and will be removed in a future release of LightGBM. Pass 'early_stopping()' callback via 'callbacks' argument instead.\n",
      "  _log_warning(\"'early_stopping_rounds' argument is deprecated and will be removed in a future release of LightGBM. \"\n",
      "/home/kaggler/.local/lib/python3.8/site-packages/lightgbm/engine.py:239: UserWarning: 'verbose_eval' argument is deprecated and will be removed in a future release of LightGBM. Pass 'log_evaluation()' callback via 'callbacks' argument instead.\n",
      "  _log_warning(\"'verbose_eval' argument is deprecated and will be removed in a future release of LightGBM. \"\n"
     ]
    },
    {
     "name": "stdout",
     "output_type": "stream",
     "text": [
      "[LightGBM] [Warning] min_data_in_leaf is set=50, min_child_samples=20 will be ignored. Current value: min_data_in_leaf=50\n",
      "[LightGBM] [Warning] min_data_in_leaf is set=50, min_child_samples=20 will be ignored. Current value: min_data_in_leaf=50\n",
      "[LightGBM] [Info] Number of positive: 119434, number of negative: 50180\n",
      "[LightGBM] [Warning] Auto-choosing col-wise multi-threading, the overhead of testing was 0.054844 seconds.\n",
      "You can set `force_col_wise=true` to remove the overhead.\n",
      "[LightGBM] [Info] Total Bins 58130\n",
      "[LightGBM] [Info] Number of data points in the train set: 169614, number of used features: 259\n"
     ]
    },
    {
     "name": "stderr",
     "output_type": "stream",
     "text": [
      "/home/kaggler/.local/lib/python3.8/site-packages/lightgbm/basic.py:1780: UserWarning: Overriding the parameters from Reference Dataset.\n",
      "  _log_warning('Overriding the parameters from Reference Dataset.')\n",
      "/home/kaggler/.local/lib/python3.8/site-packages/lightgbm/basic.py:1513: UserWarning: categorical_column in param dict is overridden.\n",
      "  _log_warning(f'{cat_alias} in param dict is overridden.')\n"
     ]
    },
    {
     "name": "stdout",
     "output_type": "stream",
     "text": [
      "[LightGBM] [Warning] min_data_in_leaf is set=50, min_child_samples=20 will be ignored. Current value: min_data_in_leaf=50\n"
     ]
    },
    {
     "name": "stderr",
     "output_type": "stream",
     "text": [
      "/home/kaggler/.local/lib/python3.8/site-packages/lightgbm/basic.py:1780: UserWarning: Overriding the parameters from Reference Dataset.\n",
      "  _log_warning('Overriding the parameters from Reference Dataset.')\n",
      "/home/kaggler/.local/lib/python3.8/site-packages/lightgbm/basic.py:1513: UserWarning: categorical_column in param dict is overridden.\n",
      "  _log_warning(f'{cat_alias} in param dict is overridden.')\n"
     ]
    },
    {
     "name": "stdout",
     "output_type": "stream",
     "text": [
      "[LightGBM] [Warning] min_data_in_leaf is set=50, min_child_samples=20 will be ignored. Current value: min_data_in_leaf=50\n",
      "[LightGBM] [Info] [binary:BoostFromScore]: pavg=0.704152 -> initscore=0.867147\n",
      "[LightGBM] [Info] Start training from score 0.867147\n",
      "Training until validation scores don't improve for 100 rounds\n",
      "[100]\tvalid_0's binary_logloss: 0.532539\tvalid_1's binary_logloss: 0.536645\n",
      "[200]\tvalid_0's binary_logloss: 0.501397\tvalid_1's binary_logloss: 0.509475\n",
      "[300]\tvalid_0's binary_logloss: 0.485237\tvalid_1's binary_logloss: 0.497679\n",
      "[400]\tvalid_0's binary_logloss: 0.475219\tvalid_1's binary_logloss: 0.492129\n",
      "[500]\tvalid_0's binary_logloss: 0.467838\tvalid_1's binary_logloss: 0.489369\n",
      "[600]\tvalid_0's binary_logloss: 0.461719\tvalid_1's binary_logloss: 0.487966\n",
      "[700]\tvalid_0's binary_logloss: 0.456289\tvalid_1's binary_logloss: 0.486992\n",
      "[800]\tvalid_0's binary_logloss: 0.451468\tvalid_1's binary_logloss: 0.486529\n",
      "[900]\tvalid_0's binary_logloss: 0.447032\tvalid_1's binary_logloss: 0.486125\n",
      "[1000]\tvalid_0's binary_logloss: 0.442871\tvalid_1's binary_logloss: 0.485815\n",
      "[1100]\tvalid_0's binary_logloss: 0.439024\tvalid_1's binary_logloss: 0.48559\n",
      "[1200]\tvalid_0's binary_logloss: 0.435351\tvalid_1's binary_logloss: 0.485382\n",
      "[1300]\tvalid_0's binary_logloss: 0.431921\tvalid_1's binary_logloss: 0.485203\n",
      "[1400]\tvalid_0's binary_logloss: 0.428644\tvalid_1's binary_logloss: 0.485092\n",
      "[1500]\tvalid_0's binary_logloss: 0.425486\tvalid_1's binary_logloss: 0.484978\n",
      "[1600]\tvalid_0's binary_logloss: 0.422461\tvalid_1's binary_logloss: 0.484904\n",
      "[1700]\tvalid_0's binary_logloss: 0.419569\tvalid_1's binary_logloss: 0.484828\n",
      "[1800]\tvalid_0's binary_logloss: 0.416692\tvalid_1's binary_logloss: 0.484674\n",
      "[1900]\tvalid_0's binary_logloss: 0.413981\tvalid_1's binary_logloss: 0.484649\n",
      "[2000]\tvalid_0's binary_logloss: 0.411342\tvalid_1's binary_logloss: 0.484597\n",
      "[2100]\tvalid_0's binary_logloss: 0.408655\tvalid_1's binary_logloss: 0.484554\n",
      "[2200]\tvalid_0's binary_logloss: 0.406161\tvalid_1's binary_logloss: 0.484546\n",
      "[2300]\tvalid_0's binary_logloss: 0.403753\tvalid_1's binary_logloss: 0.484471\n",
      "[2400]\tvalid_0's binary_logloss: 0.401335\tvalid_1's binary_logloss: 0.484419\n",
      "[2500]\tvalid_0's binary_logloss: 0.398909\tvalid_1's binary_logloss: 0.484392\n",
      "[2600]\tvalid_0's binary_logloss: 0.396617\tvalid_1's binary_logloss: 0.484394\n"
     ]
    },
    {
     "name": "stderr",
     "output_type": "stream",
     "text": [
      "num_leaves, val_score: 0.483988: 100%|##########| 20/20 [31:55<00:00, 89.90s/it]\u001b[32m[I 2023-02-13 09:07:01,314]\u001b[0m Trial 26 finished with value: 0.48437018469069126 and parameters: {'num_leaves': 79}. Best is trial 24 with value: 0.4839883497614958.\u001b[0m\n",
      "num_leaves, val_score: 0.483988: 100%|##########| 20/20 [31:55<00:00, 95.77s/it]\n"
     ]
    },
    {
     "name": "stdout",
     "output_type": "stream",
     "text": [
      "Early stopping, best iteration is:\n",
      "[2513]\tvalid_0's binary_logloss: 0.39858\tvalid_1's binary_logloss: 0.48437\n"
     ]
    },
    {
     "name": "stderr",
     "output_type": "stream",
     "text": [
      "bagging, val_score: 0.483988:   0%|          | 0/10 [00:00<?, ?it/s]/home/kaggler/.local/lib/python3.8/site-packages/lightgbm/engine.py:181: UserWarning: 'early_stopping_rounds' argument is deprecated and will be removed in a future release of LightGBM. Pass 'early_stopping()' callback via 'callbacks' argument instead.\n",
      "  _log_warning(\"'early_stopping_rounds' argument is deprecated and will be removed in a future release of LightGBM. \"\n",
      "/home/kaggler/.local/lib/python3.8/site-packages/lightgbm/engine.py:239: UserWarning: 'verbose_eval' argument is deprecated and will be removed in a future release of LightGBM. Pass 'log_evaluation()' callback via 'callbacks' argument instead.\n",
      "  _log_warning(\"'verbose_eval' argument is deprecated and will be removed in a future release of LightGBM. \"\n"
     ]
    },
    {
     "name": "stdout",
     "output_type": "stream",
     "text": [
      "[LightGBM] [Warning] min_data_in_leaf is set=50, min_child_samples=20 will be ignored. Current value: min_data_in_leaf=50\n",
      "[LightGBM] [Warning] min_data_in_leaf is set=50, min_child_samples=20 will be ignored. Current value: min_data_in_leaf=50\n",
      "[LightGBM] [Info] Number of positive: 119434, number of negative: 50180\n",
      "[LightGBM] [Warning] Auto-choosing col-wise multi-threading, the overhead of testing was 0.103841 seconds.\n",
      "You can set `force_col_wise=true` to remove the overhead.\n",
      "[LightGBM] [Info] Total Bins 58130\n",
      "[LightGBM] [Info] Number of data points in the train set: 169614, number of used features: 259\n"
     ]
    },
    {
     "name": "stderr",
     "output_type": "stream",
     "text": [
      "/home/kaggler/.local/lib/python3.8/site-packages/lightgbm/basic.py:1780: UserWarning: Overriding the parameters from Reference Dataset.\n",
      "  _log_warning('Overriding the parameters from Reference Dataset.')\n",
      "/home/kaggler/.local/lib/python3.8/site-packages/lightgbm/basic.py:1513: UserWarning: categorical_column in param dict is overridden.\n",
      "  _log_warning(f'{cat_alias} in param dict is overridden.')\n"
     ]
    },
    {
     "name": "stdout",
     "output_type": "stream",
     "text": [
      "[LightGBM] [Warning] min_data_in_leaf is set=50, min_child_samples=20 will be ignored. Current value: min_data_in_leaf=50\n"
     ]
    },
    {
     "name": "stderr",
     "output_type": "stream",
     "text": [
      "/home/kaggler/.local/lib/python3.8/site-packages/lightgbm/basic.py:1780: UserWarning: Overriding the parameters from Reference Dataset.\n",
      "  _log_warning('Overriding the parameters from Reference Dataset.')\n",
      "/home/kaggler/.local/lib/python3.8/site-packages/lightgbm/basic.py:1513: UserWarning: categorical_column in param dict is overridden.\n",
      "  _log_warning(f'{cat_alias} in param dict is overridden.')\n"
     ]
    },
    {
     "name": "stdout",
     "output_type": "stream",
     "text": [
      "[LightGBM] [Warning] min_data_in_leaf is set=50, min_child_samples=20 will be ignored. Current value: min_data_in_leaf=50\n",
      "[LightGBM] [Info] [binary:BoostFromScore]: pavg=0.704152 -> initscore=0.867147\n",
      "[LightGBM] [Info] Start training from score 0.867147\n",
      "Training until validation scores don't improve for 100 rounds\n",
      "[100]\tvalid_0's binary_logloss: 0.533426\tvalid_1's binary_logloss: 0.537024\n",
      "[200]\tvalid_0's binary_logloss: 0.50248\tvalid_1's binary_logloss: 0.509764\n",
      "[300]\tvalid_0's binary_logloss: 0.486478\tvalid_1's binary_logloss: 0.497882\n",
      "[400]\tvalid_0's binary_logloss: 0.47672\tvalid_1's binary_logloss: 0.492529\n",
      "[500]\tvalid_0's binary_logloss: 0.469509\tvalid_1's binary_logloss: 0.489715\n",
      "[600]\tvalid_0's binary_logloss: 0.463696\tvalid_1's binary_logloss: 0.488392\n",
      "[700]\tvalid_0's binary_logloss: 0.458406\tvalid_1's binary_logloss: 0.487178\n",
      "[800]\tvalid_0's binary_logloss: 0.453678\tvalid_1's binary_logloss: 0.486555\n",
      "[900]\tvalid_0's binary_logloss: 0.449292\tvalid_1's binary_logloss: 0.486005\n",
      "[1000]\tvalid_0's binary_logloss: 0.445164\tvalid_1's binary_logloss: 0.485663\n",
      "[1100]\tvalid_0's binary_logloss: 0.441284\tvalid_1's binary_logloss: 0.4855\n",
      "[1200]\tvalid_0's binary_logloss: 0.437546\tvalid_1's binary_logloss: 0.485227\n",
      "[1300]\tvalid_0's binary_logloss: 0.434065\tvalid_1's binary_logloss: 0.485082\n",
      "[1400]\tvalid_0's binary_logloss: 0.430701\tvalid_1's binary_logloss: 0.484989\n",
      "[1500]\tvalid_0's binary_logloss: 0.427481\tvalid_1's binary_logloss: 0.484875\n",
      "[1600]\tvalid_0's binary_logloss: 0.424354\tvalid_1's binary_logloss: 0.484793\n",
      "[1700]\tvalid_0's binary_logloss: 0.421409\tvalid_1's binary_logloss: 0.484752\n",
      "[1800]\tvalid_0's binary_logloss: 0.418498\tvalid_1's binary_logloss: 0.484638\n",
      "[1900]\tvalid_0's binary_logloss: 0.415748\tvalid_1's binary_logloss: 0.484569\n",
      "[2000]\tvalid_0's binary_logloss: 0.413037\tvalid_1's binary_logloss: 0.484502\n",
      "[2100]\tvalid_0's binary_logloss: 0.410332\tvalid_1's binary_logloss: 0.484462\n"
     ]
    },
    {
     "name": "stderr",
     "output_type": "stream",
     "text": [
      "bagging, val_score: 0.483988:  10%|#         | 1/10 [01:03<09:27, 63.03s/it]\u001b[32m[I 2023-02-13 09:08:04,357]\u001b[0m Trial 27 finished with value: 0.4844392539085366 and parameters: {'bagging_fraction': 0.5540204666891941, 'bagging_freq': 2}. Best is trial 27 with value: 0.4844392539085366.\u001b[0m\n",
      "bagging, val_score: 0.483988:  10%|#         | 1/10 [01:03<09:27, 63.03s/it]"
     ]
    },
    {
     "name": "stdout",
     "output_type": "stream",
     "text": [
      "Early stopping, best iteration is:\n",
      "[2074]\tvalid_0's binary_logloss: 0.411014\tvalid_1's binary_logloss: 0.484439\n"
     ]
    },
    {
     "name": "stderr",
     "output_type": "stream",
     "text": [
      "/home/kaggler/.local/lib/python3.8/site-packages/lightgbm/engine.py:181: UserWarning: 'early_stopping_rounds' argument is deprecated and will be removed in a future release of LightGBM. Pass 'early_stopping()' callback via 'callbacks' argument instead.\n",
      "  _log_warning(\"'early_stopping_rounds' argument is deprecated and will be removed in a future release of LightGBM. \"\n",
      "/home/kaggler/.local/lib/python3.8/site-packages/lightgbm/engine.py:239: UserWarning: 'verbose_eval' argument is deprecated and will be removed in a future release of LightGBM. Pass 'log_evaluation()' callback via 'callbacks' argument instead.\n",
      "  _log_warning(\"'verbose_eval' argument is deprecated and will be removed in a future release of LightGBM. \"\n"
     ]
    },
    {
     "name": "stdout",
     "output_type": "stream",
     "text": [
      "[LightGBM] [Warning] min_data_in_leaf is set=50, min_child_samples=20 will be ignored. Current value: min_data_in_leaf=50\n",
      "[LightGBM] [Warning] min_data_in_leaf is set=50, min_child_samples=20 will be ignored. Current value: min_data_in_leaf=50\n",
      "[LightGBM] [Info] Number of positive: 119434, number of negative: 50180\n",
      "[LightGBM] [Warning] Auto-choosing col-wise multi-threading, the overhead of testing was 0.049904 seconds.\n",
      "You can set `force_col_wise=true` to remove the overhead.\n",
      "[LightGBM] [Info] Total Bins 58130\n",
      "[LightGBM] [Info] Number of data points in the train set: 169614, number of used features: 259\n"
     ]
    },
    {
     "name": "stderr",
     "output_type": "stream",
     "text": [
      "/home/kaggler/.local/lib/python3.8/site-packages/lightgbm/basic.py:1780: UserWarning: Overriding the parameters from Reference Dataset.\n",
      "  _log_warning('Overriding the parameters from Reference Dataset.')\n",
      "/home/kaggler/.local/lib/python3.8/site-packages/lightgbm/basic.py:1513: UserWarning: categorical_column in param dict is overridden.\n",
      "  _log_warning(f'{cat_alias} in param dict is overridden.')\n"
     ]
    },
    {
     "name": "stdout",
     "output_type": "stream",
     "text": [
      "[LightGBM] [Warning] min_data_in_leaf is set=50, min_child_samples=20 will be ignored. Current value: min_data_in_leaf=50\n"
     ]
    },
    {
     "name": "stderr",
     "output_type": "stream",
     "text": [
      "/home/kaggler/.local/lib/python3.8/site-packages/lightgbm/basic.py:1780: UserWarning: Overriding the parameters from Reference Dataset.\n",
      "  _log_warning('Overriding the parameters from Reference Dataset.')\n",
      "/home/kaggler/.local/lib/python3.8/site-packages/lightgbm/basic.py:1513: UserWarning: categorical_column in param dict is overridden.\n",
      "  _log_warning(f'{cat_alias} in param dict is overridden.')\n"
     ]
    },
    {
     "name": "stdout",
     "output_type": "stream",
     "text": [
      "[LightGBM] [Warning] min_data_in_leaf is set=50, min_child_samples=20 will be ignored. Current value: min_data_in_leaf=50\n",
      "[LightGBM] [Info] [binary:BoostFromScore]: pavg=0.704152 -> initscore=0.867147\n",
      "[LightGBM] [Info] Start training from score 0.867147\n",
      "Training until validation scores don't improve for 100 rounds\n",
      "[100]\tvalid_0's binary_logloss: 0.533021\tvalid_1's binary_logloss: 0.536839\n",
      "[200]\tvalid_0's binary_logloss: 0.502004\tvalid_1's binary_logloss: 0.50961\n",
      "[300]\tvalid_0's binary_logloss: 0.486036\tvalid_1's binary_logloss: 0.49776\n",
      "[400]\tvalid_0's binary_logloss: 0.476248\tvalid_1's binary_logloss: 0.492291\n",
      "[500]\tvalid_0's binary_logloss: 0.469031\tvalid_1's binary_logloss: 0.489521\n",
      "[600]\tvalid_0's binary_logloss: 0.463141\tvalid_1's binary_logloss: 0.488135\n",
      "[700]\tvalid_0's binary_logloss: 0.457886\tvalid_1's binary_logloss: 0.487046\n",
      "[800]\tvalid_0's binary_logloss: 0.453179\tvalid_1's binary_logloss: 0.486541\n",
      "[900]\tvalid_0's binary_logloss: 0.448844\tvalid_1's binary_logloss: 0.486074\n",
      "[1000]\tvalid_0's binary_logloss: 0.444765\tvalid_1's binary_logloss: 0.485793\n",
      "[1100]\tvalid_0's binary_logloss: 0.440856\tvalid_1's binary_logloss: 0.485541\n",
      "[1200]\tvalid_0's binary_logloss: 0.437286\tvalid_1's binary_logloss: 0.485331\n",
      "[1300]\tvalid_0's binary_logloss: 0.433866\tvalid_1's binary_logloss: 0.485178\n",
      "[1400]\tvalid_0's binary_logloss: 0.430666\tvalid_1's binary_logloss: 0.48497\n",
      "[1500]\tvalid_0's binary_logloss: 0.427567\tvalid_1's binary_logloss: 0.484892\n",
      "[1600]\tvalid_0's binary_logloss: 0.424636\tvalid_1's binary_logloss: 0.484779\n",
      "[1700]\tvalid_0's binary_logloss: 0.421796\tvalid_1's binary_logloss: 0.484674\n",
      "[1800]\tvalid_0's binary_logloss: 0.419058\tvalid_1's binary_logloss: 0.484665\n",
      "[1900]\tvalid_0's binary_logloss: 0.416363\tvalid_1's binary_logloss: 0.4846\n",
      "[2000]\tvalid_0's binary_logloss: 0.413727\tvalid_1's binary_logloss: 0.484559\n"
     ]
    },
    {
     "name": "stderr",
     "output_type": "stream",
     "text": [
      "bagging, val_score: 0.483988:  20%|##        | 2/10 [02:07<08:32, 64.08s/it]\u001b[32m[I 2023-02-13 09:09:09,164]\u001b[0m Trial 28 finished with value: 0.484548039688726 and parameters: {'bagging_fraction': 0.9008390123420729, 'bagging_freq': 7}. Best is trial 27 with value: 0.4844392539085366.\u001b[0m\n",
      "bagging, val_score: 0.483988:  20%|##        | 2/10 [02:07<08:32, 64.08s/it]"
     ]
    },
    {
     "name": "stdout",
     "output_type": "stream",
     "text": [
      "Early stopping, best iteration is:\n",
      "[1920]\tvalid_0's binary_logloss: 0.415819\tvalid_1's binary_logloss: 0.484548\n"
     ]
    },
    {
     "name": "stderr",
     "output_type": "stream",
     "text": [
      "/home/kaggler/.local/lib/python3.8/site-packages/lightgbm/engine.py:181: UserWarning: 'early_stopping_rounds' argument is deprecated and will be removed in a future release of LightGBM. Pass 'early_stopping()' callback via 'callbacks' argument instead.\n",
      "  _log_warning(\"'early_stopping_rounds' argument is deprecated and will be removed in a future release of LightGBM. \"\n",
      "/home/kaggler/.local/lib/python3.8/site-packages/lightgbm/engine.py:239: UserWarning: 'verbose_eval' argument is deprecated and will be removed in a future release of LightGBM. Pass 'log_evaluation()' callback via 'callbacks' argument instead.\n",
      "  _log_warning(\"'verbose_eval' argument is deprecated and will be removed in a future release of LightGBM. \"\n"
     ]
    },
    {
     "name": "stdout",
     "output_type": "stream",
     "text": [
      "[LightGBM] [Warning] min_data_in_leaf is set=50, min_child_samples=20 will be ignored. Current value: min_data_in_leaf=50\n",
      "[LightGBM] [Warning] min_data_in_leaf is set=50, min_child_samples=20 will be ignored. Current value: min_data_in_leaf=50\n",
      "[LightGBM] [Info] Number of positive: 119434, number of negative: 50180\n",
      "[LightGBM] [Warning] Auto-choosing col-wise multi-threading, the overhead of testing was 0.052699 seconds.\n",
      "You can set `force_col_wise=true` to remove the overhead.\n",
      "[LightGBM] [Info] Total Bins 58130\n",
      "[LightGBM] [Info] Number of data points in the train set: 169614, number of used features: 259\n"
     ]
    },
    {
     "name": "stderr",
     "output_type": "stream",
     "text": [
      "/home/kaggler/.local/lib/python3.8/site-packages/lightgbm/basic.py:1780: UserWarning: Overriding the parameters from Reference Dataset.\n",
      "  _log_warning('Overriding the parameters from Reference Dataset.')\n",
      "/home/kaggler/.local/lib/python3.8/site-packages/lightgbm/basic.py:1513: UserWarning: categorical_column in param dict is overridden.\n",
      "  _log_warning(f'{cat_alias} in param dict is overridden.')\n"
     ]
    },
    {
     "name": "stdout",
     "output_type": "stream",
     "text": [
      "[LightGBM] [Warning] min_data_in_leaf is set=50, min_child_samples=20 will be ignored. Current value: min_data_in_leaf=50\n"
     ]
    },
    {
     "name": "stderr",
     "output_type": "stream",
     "text": [
      "/home/kaggler/.local/lib/python3.8/site-packages/lightgbm/basic.py:1780: UserWarning: Overriding the parameters from Reference Dataset.\n",
      "  _log_warning('Overriding the parameters from Reference Dataset.')\n",
      "/home/kaggler/.local/lib/python3.8/site-packages/lightgbm/basic.py:1513: UserWarning: categorical_column in param dict is overridden.\n",
      "  _log_warning(f'{cat_alias} in param dict is overridden.')\n"
     ]
    },
    {
     "name": "stdout",
     "output_type": "stream",
     "text": [
      "[LightGBM] [Warning] min_data_in_leaf is set=50, min_child_samples=20 will be ignored. Current value: min_data_in_leaf=50\n",
      "[LightGBM] [Info] [binary:BoostFromScore]: pavg=0.704152 -> initscore=0.867147\n",
      "[LightGBM] [Info] Start training from score 0.867147\n",
      "Training until validation scores don't improve for 100 rounds\n",
      "[100]\tvalid_0's binary_logloss: 0.533676\tvalid_1's binary_logloss: 0.53727\n",
      "[200]\tvalid_0's binary_logloss: 0.502744\tvalid_1's binary_logloss: 0.509976\n",
      "[300]\tvalid_0's binary_logloss: 0.486837\tvalid_1's binary_logloss: 0.498049\n",
      "[400]\tvalid_0's binary_logloss: 0.477108\tvalid_1's binary_logloss: 0.492503\n",
      "[500]\tvalid_0's binary_logloss: 0.469955\tvalid_1's binary_logloss: 0.489701\n",
      "[600]\tvalid_0's binary_logloss: 0.464203\tvalid_1's binary_logloss: 0.488365\n",
      "[700]\tvalid_0's binary_logloss: 0.458969\tvalid_1's binary_logloss: 0.487252\n",
      "[800]\tvalid_0's binary_logloss: 0.454224\tvalid_1's binary_logloss: 0.486594\n",
      "[900]\tvalid_0's binary_logloss: 0.449869\tvalid_1's binary_logloss: 0.486115\n",
      "[1000]\tvalid_0's binary_logloss: 0.445771\tvalid_1's binary_logloss: 0.485771\n",
      "[1100]\tvalid_0's binary_logloss: 0.44194\tvalid_1's binary_logloss: 0.485435\n",
      "[1200]\tvalid_0's binary_logloss: 0.438211\tvalid_1's binary_logloss: 0.485235\n",
      "[1300]\tvalid_0's binary_logloss: 0.434707\tvalid_1's binary_logloss: 0.485182\n",
      "[1400]\tvalid_0's binary_logloss: 0.431356\tvalid_1's binary_logloss: 0.485099\n",
      "[1500]\tvalid_0's binary_logloss: 0.428099\tvalid_1's binary_logloss: 0.485016\n",
      "[1600]\tvalid_0's binary_logloss: 0.425041\tvalid_1's binary_logloss: 0.484945\n",
      "[1700]\tvalid_0's binary_logloss: 0.422109\tvalid_1's binary_logloss: 0.484751\n",
      "[1800]\tvalid_0's binary_logloss: 0.419214\tvalid_1's binary_logloss: 0.484629\n",
      "[1900]\tvalid_0's binary_logloss: 0.416497\tvalid_1's binary_logloss: 0.484646\n"
     ]
    },
    {
     "name": "stderr",
     "output_type": "stream",
     "text": [
      "bagging, val_score: 0.483988:  30%|###       | 3/10 [03:03<07:01, 60.15s/it]\u001b[32m[I 2023-02-13 09:10:04,642]\u001b[0m Trial 29 finished with value: 0.4846212082899174 and parameters: {'bagging_fraction': 0.45678233316524575, 'bagging_freq': 2}. Best is trial 27 with value: 0.4844392539085366.\u001b[0m\n",
      "bagging, val_score: 0.483988:  30%|###       | 3/10 [03:03<07:01, 60.15s/it]"
     ]
    },
    {
     "name": "stdout",
     "output_type": "stream",
     "text": [
      "Early stopping, best iteration is:\n",
      "[1814]\tvalid_0's binary_logloss: 0.418828\tvalid_1's binary_logloss: 0.484621\n"
     ]
    },
    {
     "name": "stderr",
     "output_type": "stream",
     "text": [
      "/home/kaggler/.local/lib/python3.8/site-packages/lightgbm/engine.py:181: UserWarning: 'early_stopping_rounds' argument is deprecated and will be removed in a future release of LightGBM. Pass 'early_stopping()' callback via 'callbacks' argument instead.\n",
      "  _log_warning(\"'early_stopping_rounds' argument is deprecated and will be removed in a future release of LightGBM. \"\n",
      "/home/kaggler/.local/lib/python3.8/site-packages/lightgbm/engine.py:239: UserWarning: 'verbose_eval' argument is deprecated and will be removed in a future release of LightGBM. Pass 'log_evaluation()' callback via 'callbacks' argument instead.\n",
      "  _log_warning(\"'verbose_eval' argument is deprecated and will be removed in a future release of LightGBM. \"\n"
     ]
    },
    {
     "name": "stdout",
     "output_type": "stream",
     "text": [
      "[LightGBM] [Warning] min_data_in_leaf is set=50, min_child_samples=20 will be ignored. Current value: min_data_in_leaf=50\n",
      "[LightGBM] [Warning] min_data_in_leaf is set=50, min_child_samples=20 will be ignored. Current value: min_data_in_leaf=50\n",
      "[LightGBM] [Info] Number of positive: 119434, number of negative: 50180\n",
      "[LightGBM] [Warning] Auto-choosing col-wise multi-threading, the overhead of testing was 0.102572 seconds.\n",
      "You can set `force_col_wise=true` to remove the overhead.\n",
      "[LightGBM] [Info] Total Bins 58130\n",
      "[LightGBM] [Info] Number of data points in the train set: 169614, number of used features: 259\n"
     ]
    },
    {
     "name": "stderr",
     "output_type": "stream",
     "text": [
      "/home/kaggler/.local/lib/python3.8/site-packages/lightgbm/basic.py:1780: UserWarning: Overriding the parameters from Reference Dataset.\n",
      "  _log_warning('Overriding the parameters from Reference Dataset.')\n",
      "/home/kaggler/.local/lib/python3.8/site-packages/lightgbm/basic.py:1513: UserWarning: categorical_column in param dict is overridden.\n",
      "  _log_warning(f'{cat_alias} in param dict is overridden.')\n"
     ]
    },
    {
     "name": "stdout",
     "output_type": "stream",
     "text": [
      "[LightGBM] [Warning] min_data_in_leaf is set=50, min_child_samples=20 will be ignored. Current value: min_data_in_leaf=50\n"
     ]
    },
    {
     "name": "stderr",
     "output_type": "stream",
     "text": [
      "/home/kaggler/.local/lib/python3.8/site-packages/lightgbm/basic.py:1780: UserWarning: Overriding the parameters from Reference Dataset.\n",
      "  _log_warning('Overriding the parameters from Reference Dataset.')\n",
      "/home/kaggler/.local/lib/python3.8/site-packages/lightgbm/basic.py:1513: UserWarning: categorical_column in param dict is overridden.\n",
      "  _log_warning(f'{cat_alias} in param dict is overridden.')\n"
     ]
    },
    {
     "name": "stdout",
     "output_type": "stream",
     "text": [
      "[LightGBM] [Warning] min_data_in_leaf is set=50, min_child_samples=20 will be ignored. Current value: min_data_in_leaf=50\n",
      "[LightGBM] [Info] [binary:BoostFromScore]: pavg=0.704152 -> initscore=0.867147\n",
      "[LightGBM] [Info] Start training from score 0.867147\n",
      "Training until validation scores don't improve for 100 rounds\n",
      "[100]\tvalid_0's binary_logloss: 0.533316\tvalid_1's binary_logloss: 0.536997\n",
      "[200]\tvalid_0's binary_logloss: 0.502314\tvalid_1's binary_logloss: 0.509679\n",
      "[300]\tvalid_0's binary_logloss: 0.486378\tvalid_1's binary_logloss: 0.497751\n",
      "[400]\tvalid_0's binary_logloss: 0.476554\tvalid_1's binary_logloss: 0.492244\n",
      "[500]\tvalid_0's binary_logloss: 0.469387\tvalid_1's binary_logloss: 0.489436\n",
      "[600]\tvalid_0's binary_logloss: 0.463525\tvalid_1's binary_logloss: 0.488152\n",
      "[700]\tvalid_0's binary_logloss: 0.458192\tvalid_1's binary_logloss: 0.487095\n",
      "[800]\tvalid_0's binary_logloss: 0.453448\tvalid_1's binary_logloss: 0.486465\n",
      "[900]\tvalid_0's binary_logloss: 0.449058\tvalid_1's binary_logloss: 0.485931\n",
      "[1000]\tvalid_0's binary_logloss: 0.444928\tvalid_1's binary_logloss: 0.485601\n",
      "[1100]\tvalid_0's binary_logloss: 0.441007\tvalid_1's binary_logloss: 0.485338\n",
      "[1200]\tvalid_0's binary_logloss: 0.437366\tvalid_1's binary_logloss: 0.485207\n",
      "[1300]\tvalid_0's binary_logloss: 0.433808\tvalid_1's binary_logloss: 0.485015\n",
      "[1400]\tvalid_0's binary_logloss: 0.430448\tvalid_1's binary_logloss: 0.484841\n",
      "[1500]\tvalid_0's binary_logloss: 0.427209\tvalid_1's binary_logloss: 0.484766\n",
      "[1600]\tvalid_0's binary_logloss: 0.424185\tvalid_1's binary_logloss: 0.484639\n",
      "[1700]\tvalid_0's binary_logloss: 0.421253\tvalid_1's binary_logloss: 0.484539\n",
      "[1800]\tvalid_0's binary_logloss: 0.418387\tvalid_1's binary_logloss: 0.48445\n",
      "[1900]\tvalid_0's binary_logloss: 0.415574\tvalid_1's binary_logloss: 0.484309\n",
      "[2000]\tvalid_0's binary_logloss: 0.412847\tvalid_1's binary_logloss: 0.484252\n",
      "[2100]\tvalid_0's binary_logloss: 0.410138\tvalid_1's binary_logloss: 0.484194\n",
      "[2200]\tvalid_0's binary_logloss: 0.407658\tvalid_1's binary_logloss: 0.484173\n",
      "[2300]\tvalid_0's binary_logloss: 0.405174\tvalid_1's binary_logloss: 0.484144\n",
      "[2400]\tvalid_0's binary_logloss: 0.402733\tvalid_1's binary_logloss: 0.484161\n"
     ]
    },
    {
     "name": "stderr",
     "output_type": "stream",
     "text": [
      "bagging, val_score: 0.483988:  40%|####      | 4/10 [04:15<06:28, 64.78s/it]\u001b[32m[I 2023-02-13 09:11:16,524]\u001b[0m Trial 30 finished with value: 0.4841164897406828 and parameters: {'bagging_fraction': 0.6467569018893857, 'bagging_freq': 2}. Best is trial 30 with value: 0.4841164897406828.\u001b[0m\n",
      "bagging, val_score: 0.483988:  40%|####      | 4/10 [04:15<06:28, 64.78s/it]"
     ]
    },
    {
     "name": "stdout",
     "output_type": "stream",
     "text": [
      "Early stopping, best iteration is:\n",
      "[2312]\tvalid_0's binary_logloss: 0.404865\tvalid_1's binary_logloss: 0.484116\n"
     ]
    },
    {
     "name": "stderr",
     "output_type": "stream",
     "text": [
      "/home/kaggler/.local/lib/python3.8/site-packages/lightgbm/engine.py:181: UserWarning: 'early_stopping_rounds' argument is deprecated and will be removed in a future release of LightGBM. Pass 'early_stopping()' callback via 'callbacks' argument instead.\n",
      "  _log_warning(\"'early_stopping_rounds' argument is deprecated and will be removed in a future release of LightGBM. \"\n",
      "/home/kaggler/.local/lib/python3.8/site-packages/lightgbm/engine.py:239: UserWarning: 'verbose_eval' argument is deprecated and will be removed in a future release of LightGBM. Pass 'log_evaluation()' callback via 'callbacks' argument instead.\n",
      "  _log_warning(\"'verbose_eval' argument is deprecated and will be removed in a future release of LightGBM. \"\n"
     ]
    },
    {
     "name": "stdout",
     "output_type": "stream",
     "text": [
      "[LightGBM] [Warning] min_data_in_leaf is set=50, min_child_samples=20 will be ignored. Current value: min_data_in_leaf=50\n",
      "[LightGBM] [Warning] min_data_in_leaf is set=50, min_child_samples=20 will be ignored. Current value: min_data_in_leaf=50\n",
      "[LightGBM] [Info] Number of positive: 119434, number of negative: 50180\n",
      "[LightGBM] [Warning] Auto-choosing col-wise multi-threading, the overhead of testing was 0.050466 seconds.\n",
      "You can set `force_col_wise=true` to remove the overhead.\n",
      "[LightGBM] [Info] Total Bins 58130\n",
      "[LightGBM] [Info] Number of data points in the train set: 169614, number of used features: 259\n"
     ]
    },
    {
     "name": "stderr",
     "output_type": "stream",
     "text": [
      "/home/kaggler/.local/lib/python3.8/site-packages/lightgbm/basic.py:1780: UserWarning: Overriding the parameters from Reference Dataset.\n",
      "  _log_warning('Overriding the parameters from Reference Dataset.')\n",
      "/home/kaggler/.local/lib/python3.8/site-packages/lightgbm/basic.py:1513: UserWarning: categorical_column in param dict is overridden.\n",
      "  _log_warning(f'{cat_alias} in param dict is overridden.')\n"
     ]
    },
    {
     "name": "stdout",
     "output_type": "stream",
     "text": [
      "[LightGBM] [Warning] min_data_in_leaf is set=50, min_child_samples=20 will be ignored. Current value: min_data_in_leaf=50\n"
     ]
    },
    {
     "name": "stderr",
     "output_type": "stream",
     "text": [
      "/home/kaggler/.local/lib/python3.8/site-packages/lightgbm/basic.py:1780: UserWarning: Overriding the parameters from Reference Dataset.\n",
      "  _log_warning('Overriding the parameters from Reference Dataset.')\n",
      "/home/kaggler/.local/lib/python3.8/site-packages/lightgbm/basic.py:1513: UserWarning: categorical_column in param dict is overridden.\n",
      "  _log_warning(f'{cat_alias} in param dict is overridden.')\n"
     ]
    },
    {
     "name": "stdout",
     "output_type": "stream",
     "text": [
      "[LightGBM] [Warning] min_data_in_leaf is set=50, min_child_samples=20 will be ignored. Current value: min_data_in_leaf=50\n",
      "[LightGBM] [Info] [binary:BoostFromScore]: pavg=0.704152 -> initscore=0.867147\n",
      "[LightGBM] [Info] Start training from score 0.867147\n",
      "Training until validation scores don't improve for 100 rounds\n",
      "[100]\tvalid_0's binary_logloss: 0.533204\tvalid_1's binary_logloss: 0.536944\n",
      "[200]\tvalid_0's binary_logloss: 0.50216\tvalid_1's binary_logloss: 0.50968\n",
      "[300]\tvalid_0's binary_logloss: 0.486222\tvalid_1's binary_logloss: 0.497913\n",
      "[400]\tvalid_0's binary_logloss: 0.47646\tvalid_1's binary_logloss: 0.492424\n",
      "[500]\tvalid_0's binary_logloss: 0.469257\tvalid_1's binary_logloss: 0.48972\n",
      "[600]\tvalid_0's binary_logloss: 0.463363\tvalid_1's binary_logloss: 0.488333\n",
      "[700]\tvalid_0's binary_logloss: 0.458044\tvalid_1's binary_logloss: 0.487197\n",
      "[800]\tvalid_0's binary_logloss: 0.453302\tvalid_1's binary_logloss: 0.486565\n",
      "[900]\tvalid_0's binary_logloss: 0.448943\tvalid_1's binary_logloss: 0.486117\n",
      "[1000]\tvalid_0's binary_logloss: 0.44475\tvalid_1's binary_logloss: 0.485757\n",
      "[1100]\tvalid_0's binary_logloss: 0.440898\tvalid_1's binary_logloss: 0.485482\n",
      "[1200]\tvalid_0's binary_logloss: 0.437206\tvalid_1's binary_logloss: 0.485251\n",
      "[1300]\tvalid_0's binary_logloss: 0.433743\tvalid_1's binary_logloss: 0.485026\n",
      "[1400]\tvalid_0's binary_logloss: 0.430482\tvalid_1's binary_logloss: 0.484854\n",
      "[1500]\tvalid_0's binary_logloss: 0.427274\tvalid_1's binary_logloss: 0.484717\n",
      "[1600]\tvalid_0's binary_logloss: 0.424239\tvalid_1's binary_logloss: 0.484582\n",
      "[1700]\tvalid_0's binary_logloss: 0.421212\tvalid_1's binary_logloss: 0.484526\n",
      "[1800]\tvalid_0's binary_logloss: 0.418395\tvalid_1's binary_logloss: 0.484409\n",
      "[1900]\tvalid_0's binary_logloss: 0.415666\tvalid_1's binary_logloss: 0.484392\n",
      "[2000]\tvalid_0's binary_logloss: 0.412977\tvalid_1's binary_logloss: 0.484281\n",
      "[2100]\tvalid_0's binary_logloss: 0.410315\tvalid_1's binary_logloss: 0.484216\n",
      "[2200]\tvalid_0's binary_logloss: 0.407825\tvalid_1's binary_logloss: 0.48416\n",
      "[2300]\tvalid_0's binary_logloss: 0.405274\tvalid_1's binary_logloss: 0.484133\n",
      "[2400]\tvalid_0's binary_logloss: 0.402866\tvalid_1's binary_logloss: 0.4841\n",
      "[2500]\tvalid_0's binary_logloss: 0.400425\tvalid_1's binary_logloss: 0.484039\n",
      "[2600]\tvalid_0's binary_logloss: 0.398201\tvalid_1's binary_logloss: 0.484018\n",
      "[2700]\tvalid_0's binary_logloss: 0.395999\tvalid_1's binary_logloss: 0.484041\n"
     ]
    },
    {
     "name": "stderr",
     "output_type": "stream",
     "text": [
      "bagging, val_score: 0.483988:  50%|#####     | 5/10 [05:36<05:52, 70.57s/it]\u001b[32m[I 2023-02-13 09:12:37,370]\u001b[0m Trial 31 finished with value: 0.48400127190284303 and parameters: {'bagging_fraction': 0.7366869101790054, 'bagging_freq': 7}. Best is trial 31 with value: 0.48400127190284303.\u001b[0m\n",
      "bagging, val_score: 0.483988:  50%|#####     | 5/10 [05:36<05:52, 70.57s/it]"
     ]
    },
    {
     "name": "stdout",
     "output_type": "stream",
     "text": [
      "Early stopping, best iteration is:\n",
      "[2611]\tvalid_0's binary_logloss: 0.397972\tvalid_1's binary_logloss: 0.484001\n"
     ]
    },
    {
     "name": "stderr",
     "output_type": "stream",
     "text": [
      "/home/kaggler/.local/lib/python3.8/site-packages/lightgbm/engine.py:181: UserWarning: 'early_stopping_rounds' argument is deprecated and will be removed in a future release of LightGBM. Pass 'early_stopping()' callback via 'callbacks' argument instead.\n",
      "  _log_warning(\"'early_stopping_rounds' argument is deprecated and will be removed in a future release of LightGBM. \"\n",
      "/home/kaggler/.local/lib/python3.8/site-packages/lightgbm/engine.py:239: UserWarning: 'verbose_eval' argument is deprecated and will be removed in a future release of LightGBM. Pass 'log_evaluation()' callback via 'callbacks' argument instead.\n",
      "  _log_warning(\"'verbose_eval' argument is deprecated and will be removed in a future release of LightGBM. \"\n"
     ]
    },
    {
     "name": "stdout",
     "output_type": "stream",
     "text": [
      "[LightGBM] [Warning] min_data_in_leaf is set=50, min_child_samples=20 will be ignored. Current value: min_data_in_leaf=50\n",
      "[LightGBM] [Warning] min_data_in_leaf is set=50, min_child_samples=20 will be ignored. Current value: min_data_in_leaf=50\n",
      "[LightGBM] [Info] Number of positive: 119434, number of negative: 50180\n",
      "[LightGBM] [Warning] Auto-choosing col-wise multi-threading, the overhead of testing was 0.048038 seconds.\n",
      "You can set `force_col_wise=true` to remove the overhead.\n",
      "[LightGBM] [Info] Total Bins 58130\n",
      "[LightGBM] [Info] Number of data points in the train set: 169614, number of used features: 259\n"
     ]
    },
    {
     "name": "stderr",
     "output_type": "stream",
     "text": [
      "/home/kaggler/.local/lib/python3.8/site-packages/lightgbm/basic.py:1780: UserWarning: Overriding the parameters from Reference Dataset.\n",
      "  _log_warning('Overriding the parameters from Reference Dataset.')\n",
      "/home/kaggler/.local/lib/python3.8/site-packages/lightgbm/basic.py:1513: UserWarning: categorical_column in param dict is overridden.\n",
      "  _log_warning(f'{cat_alias} in param dict is overridden.')\n"
     ]
    },
    {
     "name": "stdout",
     "output_type": "stream",
     "text": [
      "[LightGBM] [Warning] min_data_in_leaf is set=50, min_child_samples=20 will be ignored. Current value: min_data_in_leaf=50\n"
     ]
    },
    {
     "name": "stderr",
     "output_type": "stream",
     "text": [
      "/home/kaggler/.local/lib/python3.8/site-packages/lightgbm/basic.py:1780: UserWarning: Overriding the parameters from Reference Dataset.\n",
      "  _log_warning('Overriding the parameters from Reference Dataset.')\n",
      "/home/kaggler/.local/lib/python3.8/site-packages/lightgbm/basic.py:1513: UserWarning: categorical_column in param dict is overridden.\n",
      "  _log_warning(f'{cat_alias} in param dict is overridden.')\n"
     ]
    },
    {
     "name": "stdout",
     "output_type": "stream",
     "text": [
      "[LightGBM] [Warning] min_data_in_leaf is set=50, min_child_samples=20 will be ignored. Current value: min_data_in_leaf=50\n",
      "[LightGBM] [Info] [binary:BoostFromScore]: pavg=0.704152 -> initscore=0.867147\n",
      "[LightGBM] [Info] Start training from score 0.867147\n",
      "Training until validation scores don't improve for 100 rounds\n",
      "[100]\tvalid_0's binary_logloss: 0.533089\tvalid_1's binary_logloss: 0.536862\n",
      "[200]\tvalid_0's binary_logloss: 0.502139\tvalid_1's binary_logloss: 0.509665\n",
      "[300]\tvalid_0's binary_logloss: 0.486106\tvalid_1's binary_logloss: 0.497738\n",
      "[400]\tvalid_0's binary_logloss: 0.47631\tvalid_1's binary_logloss: 0.492228\n",
      "[500]\tvalid_0's binary_logloss: 0.469089\tvalid_1's binary_logloss: 0.489398\n",
      "[600]\tvalid_0's binary_logloss: 0.463171\tvalid_1's binary_logloss: 0.488027\n",
      "[700]\tvalid_0's binary_logloss: 0.457902\tvalid_1's binary_logloss: 0.48703\n",
      "[800]\tvalid_0's binary_logloss: 0.45316\tvalid_1's binary_logloss: 0.486434\n",
      "[900]\tvalid_0's binary_logloss: 0.448768\tvalid_1's binary_logloss: 0.486007\n",
      "[1000]\tvalid_0's binary_logloss: 0.444704\tvalid_1's binary_logloss: 0.485646\n",
      "[1100]\tvalid_0's binary_logloss: 0.440899\tvalid_1's binary_logloss: 0.485351\n",
      "[1200]\tvalid_0's binary_logloss: 0.437253\tvalid_1's binary_logloss: 0.485127\n",
      "[1300]\tvalid_0's binary_logloss: 0.433834\tvalid_1's binary_logloss: 0.485013\n",
      "[1400]\tvalid_0's binary_logloss: 0.430551\tvalid_1's binary_logloss: 0.484859\n",
      "[1500]\tvalid_0's binary_logloss: 0.427471\tvalid_1's binary_logloss: 0.48477\n",
      "[1600]\tvalid_0's binary_logloss: 0.424545\tvalid_1's binary_logloss: 0.484703\n",
      "[1700]\tvalid_0's binary_logloss: 0.421717\tvalid_1's binary_logloss: 0.484639\n",
      "[1800]\tvalid_0's binary_logloss: 0.418873\tvalid_1's binary_logloss: 0.484551\n",
      "[1900]\tvalid_0's binary_logloss: 0.416134\tvalid_1's binary_logloss: 0.484476\n",
      "[2000]\tvalid_0's binary_logloss: 0.413518\tvalid_1's binary_logloss: 0.484442\n",
      "[2100]\tvalid_0's binary_logloss: 0.410874\tvalid_1's binary_logloss: 0.484408\n"
     ]
    },
    {
     "name": "stderr",
     "output_type": "stream",
     "text": [
      "bagging, val_score: 0.483988:  60%|######    | 6/10 [06:44<04:39, 69.97s/it]\u001b[32m[I 2023-02-13 09:13:46,160]\u001b[0m Trial 32 finished with value: 0.48438962061842383 and parameters: {'bagging_fraction': 0.8683795416742736, 'bagging_freq': 3}. Best is trial 31 with value: 0.48400127190284303.\u001b[0m\n",
      "bagging, val_score: 0.483988:  60%|######    | 6/10 [06:44<04:39, 69.97s/it]"
     ]
    },
    {
     "name": "stdout",
     "output_type": "stream",
     "text": [
      "Early stopping, best iteration is:\n",
      "[2088]\tvalid_0's binary_logloss: 0.411165\tvalid_1's binary_logloss: 0.48439\n"
     ]
    },
    {
     "name": "stderr",
     "output_type": "stream",
     "text": [
      "/home/kaggler/.local/lib/python3.8/site-packages/lightgbm/engine.py:181: UserWarning: 'early_stopping_rounds' argument is deprecated and will be removed in a future release of LightGBM. Pass 'early_stopping()' callback via 'callbacks' argument instead.\n",
      "  _log_warning(\"'early_stopping_rounds' argument is deprecated and will be removed in a future release of LightGBM. \"\n",
      "/home/kaggler/.local/lib/python3.8/site-packages/lightgbm/engine.py:239: UserWarning: 'verbose_eval' argument is deprecated and will be removed in a future release of LightGBM. Pass 'log_evaluation()' callback via 'callbacks' argument instead.\n",
      "  _log_warning(\"'verbose_eval' argument is deprecated and will be removed in a future release of LightGBM. \"\n"
     ]
    },
    {
     "name": "stdout",
     "output_type": "stream",
     "text": [
      "[LightGBM] [Warning] min_data_in_leaf is set=50, min_child_samples=20 will be ignored. Current value: min_data_in_leaf=50\n",
      "[LightGBM] [Warning] min_data_in_leaf is set=50, min_child_samples=20 will be ignored. Current value: min_data_in_leaf=50\n",
      "[LightGBM] [Info] Number of positive: 119434, number of negative: 50180\n",
      "[LightGBM] [Warning] Auto-choosing col-wise multi-threading, the overhead of testing was 0.053213 seconds.\n",
      "You can set `force_col_wise=true` to remove the overhead.\n",
      "[LightGBM] [Info] Total Bins 58130\n",
      "[LightGBM] [Info] Number of data points in the train set: 169614, number of used features: 259\n"
     ]
    },
    {
     "name": "stderr",
     "output_type": "stream",
     "text": [
      "/home/kaggler/.local/lib/python3.8/site-packages/lightgbm/basic.py:1780: UserWarning: Overriding the parameters from Reference Dataset.\n",
      "  _log_warning('Overriding the parameters from Reference Dataset.')\n",
      "/home/kaggler/.local/lib/python3.8/site-packages/lightgbm/basic.py:1513: UserWarning: categorical_column in param dict is overridden.\n",
      "  _log_warning(f'{cat_alias} in param dict is overridden.')\n"
     ]
    },
    {
     "name": "stdout",
     "output_type": "stream",
     "text": [
      "[LightGBM] [Warning] min_data_in_leaf is set=50, min_child_samples=20 will be ignored. Current value: min_data_in_leaf=50\n"
     ]
    },
    {
     "name": "stderr",
     "output_type": "stream",
     "text": [
      "/home/kaggler/.local/lib/python3.8/site-packages/lightgbm/basic.py:1780: UserWarning: Overriding the parameters from Reference Dataset.\n",
      "  _log_warning('Overriding the parameters from Reference Dataset.')\n",
      "/home/kaggler/.local/lib/python3.8/site-packages/lightgbm/basic.py:1513: UserWarning: categorical_column in param dict is overridden.\n",
      "  _log_warning(f'{cat_alias} in param dict is overridden.')\n"
     ]
    },
    {
     "name": "stdout",
     "output_type": "stream",
     "text": [
      "[LightGBM] [Warning] min_data_in_leaf is set=50, min_child_samples=20 will be ignored. Current value: min_data_in_leaf=50\n",
      "[LightGBM] [Info] [binary:BoostFromScore]: pavg=0.704152 -> initscore=0.867147\n",
      "[LightGBM] [Info] Start training from score 0.867147\n",
      "Training until validation scores don't improve for 100 rounds\n",
      "[100]\tvalid_0's binary_logloss: 0.533114\tvalid_1's binary_logloss: 0.536923\n",
      "[200]\tvalid_0's binary_logloss: 0.502152\tvalid_1's binary_logloss: 0.509675\n",
      "[300]\tvalid_0's binary_logloss: 0.486185\tvalid_1's binary_logloss: 0.497832\n",
      "[400]\tvalid_0's binary_logloss: 0.476343\tvalid_1's binary_logloss: 0.492253\n",
      "[500]\tvalid_0's binary_logloss: 0.469122\tvalid_1's binary_logloss: 0.489485\n",
      "[600]\tvalid_0's binary_logloss: 0.463247\tvalid_1's binary_logloss: 0.488186\n",
      "[700]\tvalid_0's binary_logloss: 0.457952\tvalid_1's binary_logloss: 0.48711\n",
      "[800]\tvalid_0's binary_logloss: 0.453171\tvalid_1's binary_logloss: 0.48653\n",
      "[900]\tvalid_0's binary_logloss: 0.448802\tvalid_1's binary_logloss: 0.486058\n",
      "[1000]\tvalid_0's binary_logloss: 0.444708\tvalid_1's binary_logloss: 0.485725\n",
      "[1100]\tvalid_0's binary_logloss: 0.440797\tvalid_1's binary_logloss: 0.485496\n",
      "[1200]\tvalid_0's binary_logloss: 0.437181\tvalid_1's binary_logloss: 0.485244\n",
      "[1300]\tvalid_0's binary_logloss: 0.433736\tvalid_1's binary_logloss: 0.485054\n",
      "[1400]\tvalid_0's binary_logloss: 0.430484\tvalid_1's binary_logloss: 0.484938\n",
      "[1500]\tvalid_0's binary_logloss: 0.42733\tvalid_1's binary_logloss: 0.484773\n",
      "[1600]\tvalid_0's binary_logloss: 0.424262\tvalid_1's binary_logloss: 0.484697\n",
      "[1700]\tvalid_0's binary_logloss: 0.421296\tvalid_1's binary_logloss: 0.484638\n",
      "[1800]\tvalid_0's binary_logloss: 0.418441\tvalid_1's binary_logloss: 0.484536\n",
      "[1900]\tvalid_0's binary_logloss: 0.415695\tvalid_1's binary_logloss: 0.484479\n",
      "[2000]\tvalid_0's binary_logloss: 0.413004\tvalid_1's binary_logloss: 0.484425\n",
      "[2100]\tvalid_0's binary_logloss: 0.410334\tvalid_1's binary_logloss: 0.484408\n",
      "[2200]\tvalid_0's binary_logloss: 0.407887\tvalid_1's binary_logloss: 0.484396\n",
      "[2300]\tvalid_0's binary_logloss: 0.405412\tvalid_1's binary_logloss: 0.484315\n",
      "[2400]\tvalid_0's binary_logloss: 0.403007\tvalid_1's binary_logloss: 0.484342\n"
     ]
    },
    {
     "name": "stderr",
     "output_type": "stream",
     "text": [
      "bagging, val_score: 0.483988:  70%|#######   | 7/10 [07:58<03:33, 71.15s/it]\u001b[32m[I 2023-02-13 09:14:59,750]\u001b[0m Trial 33 finished with value: 0.4843034030662679 and parameters: {'bagging_fraction': 0.7872189966778634, 'bagging_freq': 2}. Best is trial 31 with value: 0.48400127190284303.\u001b[0m\n",
      "bagging, val_score: 0.483988:  70%|#######   | 7/10 [07:58<03:33, 71.15s/it]"
     ]
    },
    {
     "name": "stdout",
     "output_type": "stream",
     "text": [
      "Early stopping, best iteration is:\n",
      "[2310]\tvalid_0's binary_logloss: 0.405159\tvalid_1's binary_logloss: 0.484303\n"
     ]
    },
    {
     "name": "stderr",
     "output_type": "stream",
     "text": [
      "/home/kaggler/.local/lib/python3.8/site-packages/lightgbm/engine.py:181: UserWarning: 'early_stopping_rounds' argument is deprecated and will be removed in a future release of LightGBM. Pass 'early_stopping()' callback via 'callbacks' argument instead.\n",
      "  _log_warning(\"'early_stopping_rounds' argument is deprecated and will be removed in a future release of LightGBM. \"\n",
      "/home/kaggler/.local/lib/python3.8/site-packages/lightgbm/engine.py:239: UserWarning: 'verbose_eval' argument is deprecated and will be removed in a future release of LightGBM. Pass 'log_evaluation()' callback via 'callbacks' argument instead.\n",
      "  _log_warning(\"'verbose_eval' argument is deprecated and will be removed in a future release of LightGBM. \"\n"
     ]
    },
    {
     "name": "stdout",
     "output_type": "stream",
     "text": [
      "[LightGBM] [Warning] min_data_in_leaf is set=50, min_child_samples=20 will be ignored. Current value: min_data_in_leaf=50\n",
      "[LightGBM] [Warning] min_data_in_leaf is set=50, min_child_samples=20 will be ignored. Current value: min_data_in_leaf=50\n",
      "[LightGBM] [Info] Number of positive: 119434, number of negative: 50180\n",
      "[LightGBM] [Warning] Auto-choosing col-wise multi-threading, the overhead of testing was 0.050715 seconds.\n",
      "You can set `force_col_wise=true` to remove the overhead.\n",
      "[LightGBM] [Info] Total Bins 58130\n",
      "[LightGBM] [Info] Number of data points in the train set: 169614, number of used features: 259\n"
     ]
    },
    {
     "name": "stderr",
     "output_type": "stream",
     "text": [
      "/home/kaggler/.local/lib/python3.8/site-packages/lightgbm/basic.py:1780: UserWarning: Overriding the parameters from Reference Dataset.\n",
      "  _log_warning('Overriding the parameters from Reference Dataset.')\n",
      "/home/kaggler/.local/lib/python3.8/site-packages/lightgbm/basic.py:1513: UserWarning: categorical_column in param dict is overridden.\n",
      "  _log_warning(f'{cat_alias} in param dict is overridden.')\n"
     ]
    },
    {
     "name": "stdout",
     "output_type": "stream",
     "text": [
      "[LightGBM] [Warning] min_data_in_leaf is set=50, min_child_samples=20 will be ignored. Current value: min_data_in_leaf=50\n"
     ]
    },
    {
     "name": "stderr",
     "output_type": "stream",
     "text": [
      "/home/kaggler/.local/lib/python3.8/site-packages/lightgbm/basic.py:1780: UserWarning: Overriding the parameters from Reference Dataset.\n",
      "  _log_warning('Overriding the parameters from Reference Dataset.')\n",
      "/home/kaggler/.local/lib/python3.8/site-packages/lightgbm/basic.py:1513: UserWarning: categorical_column in param dict is overridden.\n",
      "  _log_warning(f'{cat_alias} in param dict is overridden.')\n"
     ]
    },
    {
     "name": "stdout",
     "output_type": "stream",
     "text": [
      "[LightGBM] [Warning] min_data_in_leaf is set=50, min_child_samples=20 will be ignored. Current value: min_data_in_leaf=50\n",
      "[LightGBM] [Info] [binary:BoostFromScore]: pavg=0.704152 -> initscore=0.867147\n",
      "[LightGBM] [Info] Start training from score 0.867147\n",
      "Training until validation scores don't improve for 100 rounds\n",
      "[100]\tvalid_0's binary_logloss: 0.533276\tvalid_1's binary_logloss: 0.53691\n",
      "[200]\tvalid_0's binary_logloss: 0.502399\tvalid_1's binary_logloss: 0.509783\n",
      "[300]\tvalid_0's binary_logloss: 0.486348\tvalid_1's binary_logloss: 0.497862\n",
      "[400]\tvalid_0's binary_logloss: 0.476545\tvalid_1's binary_logloss: 0.492358\n",
      "[500]\tvalid_0's binary_logloss: 0.469365\tvalid_1's binary_logloss: 0.489517\n",
      "[600]\tvalid_0's binary_logloss: 0.463481\tvalid_1's binary_logloss: 0.488125\n",
      "[700]\tvalid_0's binary_logloss: 0.458229\tvalid_1's binary_logloss: 0.487036\n",
      "[800]\tvalid_0's binary_logloss: 0.453455\tvalid_1's binary_logloss: 0.48637\n",
      "[900]\tvalid_0's binary_logloss: 0.449037\tvalid_1's binary_logloss: 0.485876\n",
      "[1000]\tvalid_0's binary_logloss: 0.444863\tvalid_1's binary_logloss: 0.485467\n",
      "[1100]\tvalid_0's binary_logloss: 0.440994\tvalid_1's binary_logloss: 0.485153\n",
      "[1200]\tvalid_0's binary_logloss: 0.437254\tvalid_1's binary_logloss: 0.484856\n",
      "[1300]\tvalid_0's binary_logloss: 0.433747\tvalid_1's binary_logloss: 0.48464\n",
      "[1400]\tvalid_0's binary_logloss: 0.4304\tvalid_1's binary_logloss: 0.484446\n",
      "[1500]\tvalid_0's binary_logloss: 0.427279\tvalid_1's binary_logloss: 0.484339\n",
      "[1600]\tvalid_0's binary_logloss: 0.424175\tvalid_1's binary_logloss: 0.484318\n",
      "[1700]\tvalid_0's binary_logloss: 0.421257\tvalid_1's binary_logloss: 0.484235\n",
      "[1800]\tvalid_0's binary_logloss: 0.418382\tvalid_1's binary_logloss: 0.484121\n",
      "[1900]\tvalid_0's binary_logloss: 0.415668\tvalid_1's binary_logloss: 0.484011\n",
      "[2000]\tvalid_0's binary_logloss: 0.412984\tvalid_1's binary_logloss: 0.483947\n",
      "[2100]\tvalid_0's binary_logloss: 0.410347\tvalid_1's binary_logloss: 0.483901\n",
      "[2200]\tvalid_0's binary_logloss: 0.407862\tvalid_1's binary_logloss: 0.483849\n",
      "[2300]\tvalid_0's binary_logloss: 0.40532\tvalid_1's binary_logloss: 0.483808\n",
      "[2400]\tvalid_0's binary_logloss: 0.402814\tvalid_1's binary_logloss: 0.483785\n",
      "[2500]\tvalid_0's binary_logloss: 0.400421\tvalid_1's binary_logloss: 0.483742\n",
      "[2600]\tvalid_0's binary_logloss: 0.398111\tvalid_1's binary_logloss: 0.483731\n",
      "[2700]\tvalid_0's binary_logloss: 0.395874\tvalid_1's binary_logloss: 0.483684\n",
      "[2800]\tvalid_0's binary_logloss: 0.393692\tvalid_1's binary_logloss: 0.483658\n"
     ]
    },
    {
     "name": "stderr",
     "output_type": "stream",
     "text": [
      "bagging, val_score: 0.483638:  80%|########  | 8/10 [09:23<02:31, 75.60s/it]\u001b[32m[I 2023-02-13 09:16:24,862]\u001b[0m Trial 34 finished with value: 0.48363829883175685 and parameters: {'bagging_fraction': 0.7036110805680353, 'bagging_freq': 3}. Best is trial 34 with value: 0.48363829883175685.\u001b[0m\n",
      "bagging, val_score: 0.483638:  80%|########  | 8/10 [09:23<02:31, 75.60s/it]"
     ]
    },
    {
     "name": "stdout",
     "output_type": "stream",
     "text": [
      "Early stopping, best iteration is:\n",
      "[2791]\tvalid_0's binary_logloss: 0.393893\tvalid_1's binary_logloss: 0.483638\n"
     ]
    },
    {
     "name": "stderr",
     "output_type": "stream",
     "text": [
      "/home/kaggler/.local/lib/python3.8/site-packages/lightgbm/engine.py:181: UserWarning: 'early_stopping_rounds' argument is deprecated and will be removed in a future release of LightGBM. Pass 'early_stopping()' callback via 'callbacks' argument instead.\n",
      "  _log_warning(\"'early_stopping_rounds' argument is deprecated and will be removed in a future release of LightGBM. \"\n",
      "/home/kaggler/.local/lib/python3.8/site-packages/lightgbm/engine.py:239: UserWarning: 'verbose_eval' argument is deprecated and will be removed in a future release of LightGBM. Pass 'log_evaluation()' callback via 'callbacks' argument instead.\n",
      "  _log_warning(\"'verbose_eval' argument is deprecated and will be removed in a future release of LightGBM. \"\n"
     ]
    },
    {
     "name": "stdout",
     "output_type": "stream",
     "text": [
      "[LightGBM] [Warning] min_data_in_leaf is set=50, min_child_samples=20 will be ignored. Current value: min_data_in_leaf=50\n",
      "[LightGBM] [Warning] min_data_in_leaf is set=50, min_child_samples=20 will be ignored. Current value: min_data_in_leaf=50\n",
      "[LightGBM] [Info] Number of positive: 119434, number of negative: 50180\n",
      "[LightGBM] [Warning] Auto-choosing col-wise multi-threading, the overhead of testing was 0.047521 seconds.\n",
      "You can set `force_col_wise=true` to remove the overhead.\n",
      "[LightGBM] [Info] Total Bins 58130\n",
      "[LightGBM] [Info] Number of data points in the train set: 169614, number of used features: 259\n"
     ]
    },
    {
     "name": "stderr",
     "output_type": "stream",
     "text": [
      "/home/kaggler/.local/lib/python3.8/site-packages/lightgbm/basic.py:1780: UserWarning: Overriding the parameters from Reference Dataset.\n",
      "  _log_warning('Overriding the parameters from Reference Dataset.')\n",
      "/home/kaggler/.local/lib/python3.8/site-packages/lightgbm/basic.py:1513: UserWarning: categorical_column in param dict is overridden.\n",
      "  _log_warning(f'{cat_alias} in param dict is overridden.')\n"
     ]
    },
    {
     "name": "stdout",
     "output_type": "stream",
     "text": [
      "[LightGBM] [Warning] min_data_in_leaf is set=50, min_child_samples=20 will be ignored. Current value: min_data_in_leaf=50\n"
     ]
    },
    {
     "name": "stderr",
     "output_type": "stream",
     "text": [
      "/home/kaggler/.local/lib/python3.8/site-packages/lightgbm/basic.py:1780: UserWarning: Overriding the parameters from Reference Dataset.\n",
      "  _log_warning('Overriding the parameters from Reference Dataset.')\n",
      "/home/kaggler/.local/lib/python3.8/site-packages/lightgbm/basic.py:1513: UserWarning: categorical_column in param dict is overridden.\n",
      "  _log_warning(f'{cat_alias} in param dict is overridden.')\n"
     ]
    },
    {
     "name": "stdout",
     "output_type": "stream",
     "text": [
      "[LightGBM] [Warning] min_data_in_leaf is set=50, min_child_samples=20 will be ignored. Current value: min_data_in_leaf=50\n",
      "[LightGBM] [Info] [binary:BoostFromScore]: pavg=0.704152 -> initscore=0.867147\n",
      "[LightGBM] [Info] Start training from score 0.867147\n",
      "Training until validation scores don't improve for 100 rounds\n",
      "[100]\tvalid_0's binary_logloss: 0.533163\tvalid_1's binary_logloss: 0.536816\n",
      "[200]\tvalid_0's binary_logloss: 0.502172\tvalid_1's binary_logloss: 0.509564\n",
      "[300]\tvalid_0's binary_logloss: 0.486222\tvalid_1's binary_logloss: 0.497692\n",
      "[400]\tvalid_0's binary_logloss: 0.476388\tvalid_1's binary_logloss: 0.492126\n",
      "[500]\tvalid_0's binary_logloss: 0.469176\tvalid_1's binary_logloss: 0.489341\n",
      "[600]\tvalid_0's binary_logloss: 0.463273\tvalid_1's binary_logloss: 0.487928\n",
      "[700]\tvalid_0's binary_logloss: 0.457986\tvalid_1's binary_logloss: 0.486782\n",
      "[800]\tvalid_0's binary_logloss: 0.453247\tvalid_1's binary_logloss: 0.486202\n",
      "[900]\tvalid_0's binary_logloss: 0.448838\tvalid_1's binary_logloss: 0.485712\n",
      "[1000]\tvalid_0's binary_logloss: 0.444686\tvalid_1's binary_logloss: 0.485336\n",
      "[1100]\tvalid_0's binary_logloss: 0.440803\tvalid_1's binary_logloss: 0.485069\n",
      "[1200]\tvalid_0's binary_logloss: 0.437111\tvalid_1's binary_logloss: 0.484805\n",
      "[1300]\tvalid_0's binary_logloss: 0.43364\tvalid_1's binary_logloss: 0.484608\n",
      "[1400]\tvalid_0's binary_logloss: 0.430381\tvalid_1's binary_logloss: 0.484527\n",
      "[1500]\tvalid_0's binary_logloss: 0.427162\tvalid_1's binary_logloss: 0.484405\n",
      "[1600]\tvalid_0's binary_logloss: 0.424146\tvalid_1's binary_logloss: 0.48426\n",
      "[1700]\tvalid_0's binary_logloss: 0.421228\tvalid_1's binary_logloss: 0.484211\n",
      "[1800]\tvalid_0's binary_logloss: 0.418358\tvalid_1's binary_logloss: 0.484131\n",
      "[1900]\tvalid_0's binary_logloss: 0.415627\tvalid_1's binary_logloss: 0.484059\n",
      "[2000]\tvalid_0's binary_logloss: 0.412938\tvalid_1's binary_logloss: 0.484045\n",
      "[2100]\tvalid_0's binary_logloss: 0.410301\tvalid_1's binary_logloss: 0.484005\n",
      "[2200]\tvalid_0's binary_logloss: 0.407858\tvalid_1's binary_logloss: 0.483908\n",
      "[2300]\tvalid_0's binary_logloss: 0.405421\tvalid_1's binary_logloss: 0.483876\n",
      "[2400]\tvalid_0's binary_logloss: 0.403042\tvalid_1's binary_logloss: 0.483821\n",
      "[2500]\tvalid_0's binary_logloss: 0.400629\tvalid_1's binary_logloss: 0.483757\n"
     ]
    },
    {
     "name": "stderr",
     "output_type": "stream",
     "text": [
      "bagging, val_score: 0.483638:  90%|######### | 9/10 [10:41<01:16, 76.40s/it]\u001b[32m[I 2023-02-13 09:17:43,031]\u001b[0m Trial 35 finished with value: 0.48372164309813276 and parameters: {'bagging_fraction': 0.7776773613343093, 'bagging_freq': 1}. Best is trial 34 with value: 0.48363829883175685.\u001b[0m\n",
      "bagging, val_score: 0.483638:  90%|######### | 9/10 [10:41<01:16, 76.40s/it]"
     ]
    },
    {
     "name": "stdout",
     "output_type": "stream",
     "text": [
      "Early stopping, best iteration is:\n",
      "[2460]\tvalid_0's binary_logloss: 0.40161\tvalid_1's binary_logloss: 0.483722\n"
     ]
    },
    {
     "name": "stderr",
     "output_type": "stream",
     "text": [
      "/home/kaggler/.local/lib/python3.8/site-packages/lightgbm/engine.py:181: UserWarning: 'early_stopping_rounds' argument is deprecated and will be removed in a future release of LightGBM. Pass 'early_stopping()' callback via 'callbacks' argument instead.\n",
      "  _log_warning(\"'early_stopping_rounds' argument is deprecated and will be removed in a future release of LightGBM. \"\n",
      "/home/kaggler/.local/lib/python3.8/site-packages/lightgbm/engine.py:239: UserWarning: 'verbose_eval' argument is deprecated and will be removed in a future release of LightGBM. Pass 'log_evaluation()' callback via 'callbacks' argument instead.\n",
      "  _log_warning(\"'verbose_eval' argument is deprecated and will be removed in a future release of LightGBM. \"\n"
     ]
    },
    {
     "name": "stdout",
     "output_type": "stream",
     "text": [
      "[LightGBM] [Warning] min_data_in_leaf is set=50, min_child_samples=20 will be ignored. Current value: min_data_in_leaf=50\n",
      "[LightGBM] [Warning] min_data_in_leaf is set=50, min_child_samples=20 will be ignored. Current value: min_data_in_leaf=50\n",
      "[LightGBM] [Info] Number of positive: 119434, number of negative: 50180\n",
      "[LightGBM] [Warning] Auto-choosing col-wise multi-threading, the overhead of testing was 0.052276 seconds.\n",
      "You can set `force_col_wise=true` to remove the overhead.\n",
      "[LightGBM] [Info] Total Bins 58130\n",
      "[LightGBM] [Info] Number of data points in the train set: 169614, number of used features: 259\n"
     ]
    },
    {
     "name": "stderr",
     "output_type": "stream",
     "text": [
      "/home/kaggler/.local/lib/python3.8/site-packages/lightgbm/basic.py:1780: UserWarning: Overriding the parameters from Reference Dataset.\n",
      "  _log_warning('Overriding the parameters from Reference Dataset.')\n",
      "/home/kaggler/.local/lib/python3.8/site-packages/lightgbm/basic.py:1513: UserWarning: categorical_column in param dict is overridden.\n",
      "  _log_warning(f'{cat_alias} in param dict is overridden.')\n"
     ]
    },
    {
     "name": "stdout",
     "output_type": "stream",
     "text": [
      "[LightGBM] [Warning] min_data_in_leaf is set=50, min_child_samples=20 will be ignored. Current value: min_data_in_leaf=50\n"
     ]
    },
    {
     "name": "stderr",
     "output_type": "stream",
     "text": [
      "/home/kaggler/.local/lib/python3.8/site-packages/lightgbm/basic.py:1780: UserWarning: Overriding the parameters from Reference Dataset.\n",
      "  _log_warning('Overriding the parameters from Reference Dataset.')\n",
      "/home/kaggler/.local/lib/python3.8/site-packages/lightgbm/basic.py:1513: UserWarning: categorical_column in param dict is overridden.\n",
      "  _log_warning(f'{cat_alias} in param dict is overridden.')\n"
     ]
    },
    {
     "name": "stdout",
     "output_type": "stream",
     "text": [
      "[LightGBM] [Warning] min_data_in_leaf is set=50, min_child_samples=20 will be ignored. Current value: min_data_in_leaf=50\n",
      "[LightGBM] [Info] [binary:BoostFromScore]: pavg=0.704152 -> initscore=0.867147\n",
      "[LightGBM] [Info] Start training from score 0.867147\n",
      "Training until validation scores don't improve for 100 rounds\n",
      "[100]\tvalid_0's binary_logloss: 0.533112\tvalid_1's binary_logloss: 0.536852\n",
      "[200]\tvalid_0's binary_logloss: 0.502118\tvalid_1's binary_logloss: 0.509589\n",
      "[300]\tvalid_0's binary_logloss: 0.486148\tvalid_1's binary_logloss: 0.497752\n",
      "[400]\tvalid_0's binary_logloss: 0.476354\tvalid_1's binary_logloss: 0.492221\n",
      "[500]\tvalid_0's binary_logloss: 0.469121\tvalid_1's binary_logloss: 0.489386\n",
      "[600]\tvalid_0's binary_logloss: 0.463198\tvalid_1's binary_logloss: 0.488027\n",
      "[700]\tvalid_0's binary_logloss: 0.457896\tvalid_1's binary_logloss: 0.486985\n",
      "[800]\tvalid_0's binary_logloss: 0.453203\tvalid_1's binary_logloss: 0.486436\n",
      "[900]\tvalid_0's binary_logloss: 0.448818\tvalid_1's binary_logloss: 0.485991\n",
      "[1000]\tvalid_0's binary_logloss: 0.444728\tvalid_1's binary_logloss: 0.485715\n",
      "[1100]\tvalid_0's binary_logloss: 0.440785\tvalid_1's binary_logloss: 0.485457\n",
      "[1200]\tvalid_0's binary_logloss: 0.437228\tvalid_1's binary_logloss: 0.485267\n",
      "[1300]\tvalid_0's binary_logloss: 0.433796\tvalid_1's binary_logloss: 0.485084\n",
      "[1400]\tvalid_0's binary_logloss: 0.430589\tvalid_1's binary_logloss: 0.484938\n",
      "[1500]\tvalid_0's binary_logloss: 0.427466\tvalid_1's binary_logloss: 0.484852\n",
      "[1600]\tvalid_0's binary_logloss: 0.424469\tvalid_1's binary_logloss: 0.484798\n",
      "[1700]\tvalid_0's binary_logloss: 0.421591\tvalid_1's binary_logloss: 0.484683\n",
      "[1800]\tvalid_0's binary_logloss: 0.418761\tvalid_1's binary_logloss: 0.484575\n",
      "[1900]\tvalid_0's binary_logloss: 0.416066\tvalid_1's binary_logloss: 0.484575\n",
      "[2000]\tvalid_0's binary_logloss: 0.413407\tvalid_1's binary_logloss: 0.484555\n",
      "[2100]\tvalid_0's binary_logloss: 0.410781\tvalid_1's binary_logloss: 0.484421\n",
      "[2200]\tvalid_0's binary_logloss: 0.408316\tvalid_1's binary_logloss: 0.484387\n"
     ]
    },
    {
     "name": "stderr",
     "output_type": "stream",
     "text": [
      "bagging, val_score: 0.483638: 100%|##########| 10/10 [11:52<00:00, 74.53s/it]\u001b[32m[I 2023-02-13 09:18:53,367]\u001b[0m Trial 36 finished with value: 0.4843663935728402 and parameters: {'bagging_fraction': 0.8720695661366258, 'bagging_freq': 7}. Best is trial 34 with value: 0.48363829883175685.\u001b[0m\n",
      "bagging, val_score: 0.483638: 100%|##########| 10/10 [11:52<00:00, 71.20s/it]\n"
     ]
    },
    {
     "name": "stdout",
     "output_type": "stream",
     "text": [
      "Early stopping, best iteration is:\n",
      "[2145]\tvalid_0's binary_logloss: 0.409665\tvalid_1's binary_logloss: 0.484366\n"
     ]
    },
    {
     "name": "stderr",
     "output_type": "stream",
     "text": [
      "feature_fraction_stage2, val_score: 0.483638:   0%|          | 0/6 [00:00<?, ?it/s]/home/kaggler/.local/lib/python3.8/site-packages/lightgbm/engine.py:181: UserWarning: 'early_stopping_rounds' argument is deprecated and will be removed in a future release of LightGBM. Pass 'early_stopping()' callback via 'callbacks' argument instead.\n",
      "  _log_warning(\"'early_stopping_rounds' argument is deprecated and will be removed in a future release of LightGBM. \"\n",
      "/home/kaggler/.local/lib/python3.8/site-packages/lightgbm/engine.py:239: UserWarning: 'verbose_eval' argument is deprecated and will be removed in a future release of LightGBM. Pass 'log_evaluation()' callback via 'callbacks' argument instead.\n",
      "  _log_warning(\"'verbose_eval' argument is deprecated and will be removed in a future release of LightGBM. \"\n"
     ]
    },
    {
     "name": "stdout",
     "output_type": "stream",
     "text": [
      "[LightGBM] [Warning] min_data_in_leaf is set=50, min_child_samples=20 will be ignored. Current value: min_data_in_leaf=50\n",
      "[LightGBM] [Warning] min_data_in_leaf is set=50, min_child_samples=20 will be ignored. Current value: min_data_in_leaf=50\n",
      "[LightGBM] [Info] Number of positive: 119434, number of negative: 50180\n",
      "[LightGBM] [Warning] Auto-choosing col-wise multi-threading, the overhead of testing was 0.053315 seconds.\n",
      "You can set `force_col_wise=true` to remove the overhead.\n",
      "[LightGBM] [Info] Total Bins 58130\n",
      "[LightGBM] [Info] Number of data points in the train set: 169614, number of used features: 259\n"
     ]
    },
    {
     "name": "stderr",
     "output_type": "stream",
     "text": [
      "/home/kaggler/.local/lib/python3.8/site-packages/lightgbm/basic.py:1780: UserWarning: Overriding the parameters from Reference Dataset.\n",
      "  _log_warning('Overriding the parameters from Reference Dataset.')\n",
      "/home/kaggler/.local/lib/python3.8/site-packages/lightgbm/basic.py:1513: UserWarning: categorical_column in param dict is overridden.\n",
      "  _log_warning(f'{cat_alias} in param dict is overridden.')\n"
     ]
    },
    {
     "name": "stdout",
     "output_type": "stream",
     "text": [
      "[LightGBM] [Warning] min_data_in_leaf is set=50, min_child_samples=20 will be ignored. Current value: min_data_in_leaf=50\n"
     ]
    },
    {
     "name": "stderr",
     "output_type": "stream",
     "text": [
      "/home/kaggler/.local/lib/python3.8/site-packages/lightgbm/basic.py:1780: UserWarning: Overriding the parameters from Reference Dataset.\n",
      "  _log_warning('Overriding the parameters from Reference Dataset.')\n",
      "/home/kaggler/.local/lib/python3.8/site-packages/lightgbm/basic.py:1513: UserWarning: categorical_column in param dict is overridden.\n",
      "  _log_warning(f'{cat_alias} in param dict is overridden.')\n"
     ]
    },
    {
     "name": "stdout",
     "output_type": "stream",
     "text": [
      "[LightGBM] [Warning] min_data_in_leaf is set=50, min_child_samples=20 will be ignored. Current value: min_data_in_leaf=50\n",
      "[LightGBM] [Info] [binary:BoostFromScore]: pavg=0.704152 -> initscore=0.867147\n",
      "[LightGBM] [Info] Start training from score 0.867147\n",
      "Training until validation scores don't improve for 100 rounds\n",
      "[100]\tvalid_0's binary_logloss: 0.529778\tvalid_1's binary_logloss: 0.533474\n",
      "[200]\tvalid_0's binary_logloss: 0.499689\tvalid_1's binary_logloss: 0.506986\n",
      "[300]\tvalid_0's binary_logloss: 0.484974\tvalid_1's binary_logloss: 0.496451\n",
      "[400]\tvalid_0's binary_logloss: 0.47565\tvalid_1's binary_logloss: 0.491501\n",
      "[500]\tvalid_0's binary_logloss: 0.468746\tvalid_1's binary_logloss: 0.489054\n",
      "[600]\tvalid_0's binary_logloss: 0.462851\tvalid_1's binary_logloss: 0.487776\n",
      "[700]\tvalid_0's binary_logloss: 0.457582\tvalid_1's binary_logloss: 0.486772\n",
      "[800]\tvalid_0's binary_logloss: 0.452742\tvalid_1's binary_logloss: 0.486269\n",
      "[900]\tvalid_0's binary_logloss: 0.448281\tvalid_1's binary_logloss: 0.485861\n",
      "[1000]\tvalid_0's binary_logloss: 0.444074\tvalid_1's binary_logloss: 0.485546\n",
      "[1100]\tvalid_0's binary_logloss: 0.44019\tvalid_1's binary_logloss: 0.485246\n",
      "[1200]\tvalid_0's binary_logloss: 0.436431\tvalid_1's binary_logloss: 0.484999\n",
      "[1300]\tvalid_0's binary_logloss: 0.432882\tvalid_1's binary_logloss: 0.484801\n",
      "[1400]\tvalid_0's binary_logloss: 0.429491\tvalid_1's binary_logloss: 0.484694\n",
      "[1500]\tvalid_0's binary_logloss: 0.426391\tvalid_1's binary_logloss: 0.484585\n",
      "[1600]\tvalid_0's binary_logloss: 0.423243\tvalid_1's binary_logloss: 0.484484\n",
      "[1700]\tvalid_0's binary_logloss: 0.420267\tvalid_1's binary_logloss: 0.484389\n",
      "[1800]\tvalid_0's binary_logloss: 0.417356\tvalid_1's binary_logloss: 0.48434\n",
      "[1900]\tvalid_0's binary_logloss: 0.414575\tvalid_1's binary_logloss: 0.484239\n"
     ]
    },
    {
     "name": "stderr",
     "output_type": "stream",
     "text": [
      "feature_fraction_stage2, val_score: 0.483638:  17%|#6        | 1/6 [01:05<05:27, 65.59s/it]\u001b[32m[I 2023-02-13 09:19:58,974]\u001b[0m Trial 37 finished with value: 0.4842210262089935 and parameters: {'feature_fraction': 0.5479999999999999}. Best is trial 37 with value: 0.4842210262089935.\u001b[0m\n",
      "feature_fraction_stage2, val_score: 0.483638:  17%|#6        | 1/6 [01:05<05:27, 65.59s/it]"
     ]
    },
    {
     "name": "stdout",
     "output_type": "stream",
     "text": [
      "Early stopping, best iteration is:\n",
      "[1883]\tvalid_0's binary_logloss: 0.415046\tvalid_1's binary_logloss: 0.484221\n"
     ]
    },
    {
     "name": "stderr",
     "output_type": "stream",
     "text": [
      "/home/kaggler/.local/lib/python3.8/site-packages/lightgbm/engine.py:181: UserWarning: 'early_stopping_rounds' argument is deprecated and will be removed in a future release of LightGBM. Pass 'early_stopping()' callback via 'callbacks' argument instead.\n",
      "  _log_warning(\"'early_stopping_rounds' argument is deprecated and will be removed in a future release of LightGBM. \"\n",
      "/home/kaggler/.local/lib/python3.8/site-packages/lightgbm/engine.py:239: UserWarning: 'verbose_eval' argument is deprecated and will be removed in a future release of LightGBM. Pass 'log_evaluation()' callback via 'callbacks' argument instead.\n",
      "  _log_warning(\"'verbose_eval' argument is deprecated and will be removed in a future release of LightGBM. \"\n"
     ]
    },
    {
     "name": "stdout",
     "output_type": "stream",
     "text": [
      "[LightGBM] [Warning] min_data_in_leaf is set=50, min_child_samples=20 will be ignored. Current value: min_data_in_leaf=50\n",
      "[LightGBM] [Warning] min_data_in_leaf is set=50, min_child_samples=20 will be ignored. Current value: min_data_in_leaf=50\n",
      "[LightGBM] [Info] Number of positive: 119434, number of negative: 50180\n",
      "[LightGBM] [Warning] Auto-choosing col-wise multi-threading, the overhead of testing was 0.059385 seconds.\n",
      "You can set `force_col_wise=true` to remove the overhead.\n",
      "[LightGBM] [Info] Total Bins 58130\n",
      "[LightGBM] [Info] Number of data points in the train set: 169614, number of used features: 259\n"
     ]
    },
    {
     "name": "stderr",
     "output_type": "stream",
     "text": [
      "/home/kaggler/.local/lib/python3.8/site-packages/lightgbm/basic.py:1780: UserWarning: Overriding the parameters from Reference Dataset.\n",
      "  _log_warning('Overriding the parameters from Reference Dataset.')\n",
      "/home/kaggler/.local/lib/python3.8/site-packages/lightgbm/basic.py:1513: UserWarning: categorical_column in param dict is overridden.\n",
      "  _log_warning(f'{cat_alias} in param dict is overridden.')\n"
     ]
    },
    {
     "name": "stdout",
     "output_type": "stream",
     "text": [
      "[LightGBM] [Warning] min_data_in_leaf is set=50, min_child_samples=20 will be ignored. Current value: min_data_in_leaf=50\n"
     ]
    },
    {
     "name": "stderr",
     "output_type": "stream",
     "text": [
      "/home/kaggler/.local/lib/python3.8/site-packages/lightgbm/basic.py:1780: UserWarning: Overriding the parameters from Reference Dataset.\n",
      "  _log_warning('Overriding the parameters from Reference Dataset.')\n",
      "/home/kaggler/.local/lib/python3.8/site-packages/lightgbm/basic.py:1513: UserWarning: categorical_column in param dict is overridden.\n",
      "  _log_warning(f'{cat_alias} in param dict is overridden.')\n"
     ]
    },
    {
     "name": "stdout",
     "output_type": "stream",
     "text": [
      "[LightGBM] [Warning] min_data_in_leaf is set=50, min_child_samples=20 will be ignored. Current value: min_data_in_leaf=50\n",
      "[LightGBM] [Info] [binary:BoostFromScore]: pavg=0.704152 -> initscore=0.867147\n",
      "[LightGBM] [Info] Start training from score 0.867147\n",
      "Training until validation scores don't improve for 100 rounds\n",
      "[100]\tvalid_0's binary_logloss: 0.527148\tvalid_1's binary_logloss: 0.530794\n",
      "[200]\tvalid_0's binary_logloss: 0.498592\tvalid_1's binary_logloss: 0.505902\n",
      "[300]\tvalid_0's binary_logloss: 0.484141\tvalid_1's binary_logloss: 0.495621\n",
      "[400]\tvalid_0's binary_logloss: 0.475137\tvalid_1's binary_logloss: 0.491113\n",
      "[500]\tvalid_0's binary_logloss: 0.468336\tvalid_1's binary_logloss: 0.488784\n",
      "[600]\tvalid_0's binary_logloss: 0.462447\tvalid_1's binary_logloss: 0.487635\n",
      "[700]\tvalid_0's binary_logloss: 0.457177\tvalid_1's binary_logloss: 0.486719\n",
      "[800]\tvalid_0's binary_logloss: 0.452325\tvalid_1's binary_logloss: 0.486158\n",
      "[900]\tvalid_0's binary_logloss: 0.447845\tvalid_1's binary_logloss: 0.485741\n",
      "[1000]\tvalid_0's binary_logloss: 0.443618\tvalid_1's binary_logloss: 0.485392\n",
      "[1100]\tvalid_0's binary_logloss: 0.439702\tvalid_1's binary_logloss: 0.485166\n",
      "[1200]\tvalid_0's binary_logloss: 0.435892\tvalid_1's binary_logloss: 0.484922\n",
      "[1300]\tvalid_0's binary_logloss: 0.432325\tvalid_1's binary_logloss: 0.484705\n",
      "[1400]\tvalid_0's binary_logloss: 0.428894\tvalid_1's binary_logloss: 0.484567\n",
      "[1500]\tvalid_0's binary_logloss: 0.425726\tvalid_1's binary_logloss: 0.484457\n",
      "[1600]\tvalid_0's binary_logloss: 0.422584\tvalid_1's binary_logloss: 0.484342\n",
      "[1700]\tvalid_0's binary_logloss: 0.419559\tvalid_1's binary_logloss: 0.48421\n",
      "[1800]\tvalid_0's binary_logloss: 0.416625\tvalid_1's binary_logloss: 0.484122\n",
      "[1900]\tvalid_0's binary_logloss: 0.41385\tvalid_1's binary_logloss: 0.484091\n",
      "[2000]\tvalid_0's binary_logloss: 0.411062\tvalid_1's binary_logloss: 0.484014\n",
      "[2100]\tvalid_0's binary_logloss: 0.408319\tvalid_1's binary_logloss: 0.483953\n",
      "[2200]\tvalid_0's binary_logloss: 0.40578\tvalid_1's binary_logloss: 0.483938\n"
     ]
    },
    {
     "name": "stderr",
     "output_type": "stream",
     "text": [
      "feature_fraction_stage2, val_score: 0.483638:  33%|###3      | 2/6 [02:19<04:41, 70.49s/it]\u001b[32m[I 2023-02-13 09:21:12,895]\u001b[0m Trial 38 finished with value: 0.48391382423760915 and parameters: {'feature_fraction': 0.58}. Best is trial 38 with value: 0.48391382423760915.\u001b[0m\n",
      "feature_fraction_stage2, val_score: 0.483638:  33%|###3      | 2/6 [02:19<04:41, 70.49s/it]"
     ]
    },
    {
     "name": "stdout",
     "output_type": "stream",
     "text": [
      "Early stopping, best iteration is:\n",
      "[2123]\tvalid_0's binary_logloss: 0.407745\tvalid_1's binary_logloss: 0.483914\n"
     ]
    },
    {
     "name": "stderr",
     "output_type": "stream",
     "text": [
      "/home/kaggler/.local/lib/python3.8/site-packages/lightgbm/engine.py:181: UserWarning: 'early_stopping_rounds' argument is deprecated and will be removed in a future release of LightGBM. Pass 'early_stopping()' callback via 'callbacks' argument instead.\n",
      "  _log_warning(\"'early_stopping_rounds' argument is deprecated and will be removed in a future release of LightGBM. \"\n",
      "/home/kaggler/.local/lib/python3.8/site-packages/lightgbm/engine.py:239: UserWarning: 'verbose_eval' argument is deprecated and will be removed in a future release of LightGBM. Pass 'log_evaluation()' callback via 'callbacks' argument instead.\n",
      "  _log_warning(\"'verbose_eval' argument is deprecated and will be removed in a future release of LightGBM. \"\n"
     ]
    },
    {
     "name": "stdout",
     "output_type": "stream",
     "text": [
      "[LightGBM] [Warning] min_data_in_leaf is set=50, min_child_samples=20 will be ignored. Current value: min_data_in_leaf=50\n",
      "[LightGBM] [Warning] min_data_in_leaf is set=50, min_child_samples=20 will be ignored. Current value: min_data_in_leaf=50\n",
      "[LightGBM] [Info] Number of positive: 119434, number of negative: 50180\n",
      "[LightGBM] [Warning] Auto-choosing col-wise multi-threading, the overhead of testing was 0.057095 seconds.\n",
      "You can set `force_col_wise=true` to remove the overhead.\n",
      "[LightGBM] [Info] Total Bins 58130\n",
      "[LightGBM] [Info] Number of data points in the train set: 169614, number of used features: 259\n"
     ]
    },
    {
     "name": "stderr",
     "output_type": "stream",
     "text": [
      "/home/kaggler/.local/lib/python3.8/site-packages/lightgbm/basic.py:1780: UserWarning: Overriding the parameters from Reference Dataset.\n",
      "  _log_warning('Overriding the parameters from Reference Dataset.')\n",
      "/home/kaggler/.local/lib/python3.8/site-packages/lightgbm/basic.py:1513: UserWarning: categorical_column in param dict is overridden.\n",
      "  _log_warning(f'{cat_alias} in param dict is overridden.')\n"
     ]
    },
    {
     "name": "stdout",
     "output_type": "stream",
     "text": [
      "[LightGBM] [Warning] min_data_in_leaf is set=50, min_child_samples=20 will be ignored. Current value: min_data_in_leaf=50\n"
     ]
    },
    {
     "name": "stderr",
     "output_type": "stream",
     "text": [
      "/home/kaggler/.local/lib/python3.8/site-packages/lightgbm/basic.py:1780: UserWarning: Overriding the parameters from Reference Dataset.\n",
      "  _log_warning('Overriding the parameters from Reference Dataset.')\n",
      "/home/kaggler/.local/lib/python3.8/site-packages/lightgbm/basic.py:1513: UserWarning: categorical_column in param dict is overridden.\n",
      "  _log_warning(f'{cat_alias} in param dict is overridden.')\n"
     ]
    },
    {
     "name": "stdout",
     "output_type": "stream",
     "text": [
      "[LightGBM] [Warning] min_data_in_leaf is set=50, min_child_samples=20 will be ignored. Current value: min_data_in_leaf=50\n",
      "[LightGBM] [Info] [binary:BoostFromScore]: pavg=0.704152 -> initscore=0.867147\n",
      "[LightGBM] [Info] Start training from score 0.867147\n",
      "Training until validation scores don't improve for 100 rounds\n",
      "[100]\tvalid_0's binary_logloss: 0.534853\tvalid_1's binary_logloss: 0.538515\n",
      "[200]\tvalid_0's binary_logloss: 0.504005\tvalid_1's binary_logloss: 0.511412\n",
      "[300]\tvalid_0's binary_logloss: 0.487503\tvalid_1's binary_logloss: 0.499011\n",
      "[400]\tvalid_0's binary_logloss: 0.477495\tvalid_1's binary_logloss: 0.493231\n",
      "[500]\tvalid_0's binary_logloss: 0.470084\tvalid_1's binary_logloss: 0.490037\n",
      "[600]\tvalid_0's binary_logloss: 0.464173\tvalid_1's binary_logloss: 0.488455\n",
      "[700]\tvalid_0's binary_logloss: 0.458864\tvalid_1's binary_logloss: 0.487217\n",
      "[800]\tvalid_0's binary_logloss: 0.454148\tvalid_1's binary_logloss: 0.486399\n",
      "[900]\tvalid_0's binary_logloss: 0.449755\tvalid_1's binary_logloss: 0.485865\n",
      "[1000]\tvalid_0's binary_logloss: 0.445701\tvalid_1's binary_logloss: 0.485426\n",
      "[1100]\tvalid_0's binary_logloss: 0.441874\tvalid_1's binary_logloss: 0.485177\n",
      "[1200]\tvalid_0's binary_logloss: 0.438189\tvalid_1's binary_logloss: 0.484904\n",
      "[1300]\tvalid_0's binary_logloss: 0.43471\tvalid_1's binary_logloss: 0.484718\n",
      "[1400]\tvalid_0's binary_logloss: 0.431369\tvalid_1's binary_logloss: 0.484577\n",
      "[1500]\tvalid_0's binary_logloss: 0.428264\tvalid_1's binary_logloss: 0.4844\n",
      "[1600]\tvalid_0's binary_logloss: 0.425239\tvalid_1's binary_logloss: 0.484337\n",
      "[1700]\tvalid_0's binary_logloss: 0.422334\tvalid_1's binary_logloss: 0.484218\n",
      "[1800]\tvalid_0's binary_logloss: 0.419497\tvalid_1's binary_logloss: 0.484165\n",
      "[1900]\tvalid_0's binary_logloss: 0.416775\tvalid_1's binary_logloss: 0.484083\n"
     ]
    },
    {
     "name": "stderr",
     "output_type": "stream",
     "text": [
      "feature_fraction_stage2, val_score: 0.483638:  50%|#####     | 3/6 [03:17<03:14, 64.75s/it]\u001b[32m[I 2023-02-13 09:22:10,802]\u001b[0m Trial 39 finished with value: 0.48407886268763844 and parameters: {'feature_fraction': 0.45199999999999996}. Best is trial 38 with value: 0.48391382423760915.\u001b[0m\n",
      "feature_fraction_stage2, val_score: 0.483638:  50%|#####     | 3/6 [03:17<03:14, 64.75s/it]"
     ]
    },
    {
     "name": "stdout",
     "output_type": "stream",
     "text": [
      "Early stopping, best iteration is:\n",
      "[1886]\tvalid_0's binary_logloss: 0.417133\tvalid_1's binary_logloss: 0.484079\n"
     ]
    },
    {
     "name": "stderr",
     "output_type": "stream",
     "text": [
      "/home/kaggler/.local/lib/python3.8/site-packages/lightgbm/engine.py:181: UserWarning: 'early_stopping_rounds' argument is deprecated and will be removed in a future release of LightGBM. Pass 'early_stopping()' callback via 'callbacks' argument instead.\n",
      "  _log_warning(\"'early_stopping_rounds' argument is deprecated and will be removed in a future release of LightGBM. \"\n",
      "/home/kaggler/.local/lib/python3.8/site-packages/lightgbm/engine.py:239: UserWarning: 'verbose_eval' argument is deprecated and will be removed in a future release of LightGBM. Pass 'log_evaluation()' callback via 'callbacks' argument instead.\n",
      "  _log_warning(\"'verbose_eval' argument is deprecated and will be removed in a future release of LightGBM. \"\n"
     ]
    },
    {
     "name": "stdout",
     "output_type": "stream",
     "text": [
      "[LightGBM] [Warning] min_data_in_leaf is set=50, min_child_samples=20 will be ignored. Current value: min_data_in_leaf=50\n",
      "[LightGBM] [Warning] min_data_in_leaf is set=50, min_child_samples=20 will be ignored. Current value: min_data_in_leaf=50\n",
      "[LightGBM] [Info] Number of positive: 119434, number of negative: 50180\n",
      "[LightGBM] [Warning] Auto-choosing col-wise multi-threading, the overhead of testing was 0.053885 seconds.\n",
      "You can set `force_col_wise=true` to remove the overhead.\n",
      "[LightGBM] [Info] Total Bins 58130\n",
      "[LightGBM] [Info] Number of data points in the train set: 169614, number of used features: 259\n"
     ]
    },
    {
     "name": "stderr",
     "output_type": "stream",
     "text": [
      "/home/kaggler/.local/lib/python3.8/site-packages/lightgbm/basic.py:1780: UserWarning: Overriding the parameters from Reference Dataset.\n",
      "  _log_warning('Overriding the parameters from Reference Dataset.')\n",
      "/home/kaggler/.local/lib/python3.8/site-packages/lightgbm/basic.py:1513: UserWarning: categorical_column in param dict is overridden.\n",
      "  _log_warning(f'{cat_alias} in param dict is overridden.')\n"
     ]
    },
    {
     "name": "stdout",
     "output_type": "stream",
     "text": [
      "[LightGBM] [Warning] min_data_in_leaf is set=50, min_child_samples=20 will be ignored. Current value: min_data_in_leaf=50\n"
     ]
    },
    {
     "name": "stderr",
     "output_type": "stream",
     "text": [
      "/home/kaggler/.local/lib/python3.8/site-packages/lightgbm/basic.py:1780: UserWarning: Overriding the parameters from Reference Dataset.\n",
      "  _log_warning('Overriding the parameters from Reference Dataset.')\n",
      "/home/kaggler/.local/lib/python3.8/site-packages/lightgbm/basic.py:1513: UserWarning: categorical_column in param dict is overridden.\n",
      "  _log_warning(f'{cat_alias} in param dict is overridden.')\n"
     ]
    },
    {
     "name": "stdout",
     "output_type": "stream",
     "text": [
      "[LightGBM] [Warning] min_data_in_leaf is set=50, min_child_samples=20 will be ignored. Current value: min_data_in_leaf=50\n",
      "[LightGBM] [Info] [binary:BoostFromScore]: pavg=0.704152 -> initscore=0.867147\n",
      "[LightGBM] [Info] Start training from score 0.867147\n",
      "Training until validation scores don't improve for 100 rounds\n",
      "[100]\tvalid_0's binary_logloss: 0.531037\tvalid_1's binary_logloss: 0.534665\n",
      "[200]\tvalid_0's binary_logloss: 0.500522\tvalid_1's binary_logloss: 0.507816\n",
      "[300]\tvalid_0's binary_logloss: 0.485483\tvalid_1's binary_logloss: 0.496974\n",
      "[400]\tvalid_0's binary_logloss: 0.476022\tvalid_1's binary_logloss: 0.491872\n",
      "[500]\tvalid_0's binary_logloss: 0.468978\tvalid_1's binary_logloss: 0.489289\n",
      "[600]\tvalid_0's binary_logloss: 0.463113\tvalid_1's binary_logloss: 0.487972\n",
      "[700]\tvalid_0's binary_logloss: 0.457854\tvalid_1's binary_logloss: 0.486975\n",
      "[800]\tvalid_0's binary_logloss: 0.453062\tvalid_1's binary_logloss: 0.486301\n",
      "[900]\tvalid_0's binary_logloss: 0.448647\tvalid_1's binary_logloss: 0.485838\n",
      "[1000]\tvalid_0's binary_logloss: 0.444457\tvalid_1's binary_logloss: 0.48545\n",
      "[1100]\tvalid_0's binary_logloss: 0.440582\tvalid_1's binary_logloss: 0.485175\n",
      "[1200]\tvalid_0's binary_logloss: 0.436852\tvalid_1's binary_logloss: 0.484848\n",
      "[1300]\tvalid_0's binary_logloss: 0.433346\tvalid_1's binary_logloss: 0.484663\n",
      "[1400]\tvalid_0's binary_logloss: 0.429974\tvalid_1's binary_logloss: 0.484477\n",
      "[1500]\tvalid_0's binary_logloss: 0.426828\tvalid_1's binary_logloss: 0.484386\n",
      "[1600]\tvalid_0's binary_logloss: 0.423706\tvalid_1's binary_logloss: 0.484333\n",
      "[1700]\tvalid_0's binary_logloss: 0.420762\tvalid_1's binary_logloss: 0.484153\n",
      "[1800]\tvalid_0's binary_logloss: 0.417852\tvalid_1's binary_logloss: 0.484082\n",
      "[1900]\tvalid_0's binary_logloss: 0.415142\tvalid_1's binary_logloss: 0.483988\n",
      "[2000]\tvalid_0's binary_logloss: 0.412418\tvalid_1's binary_logloss: 0.483907\n",
      "[2100]\tvalid_0's binary_logloss: 0.409714\tvalid_1's binary_logloss: 0.483768\n",
      "[2200]\tvalid_0's binary_logloss: 0.407206\tvalid_1's binary_logloss: 0.483739\n",
      "[2300]\tvalid_0's binary_logloss: 0.404684\tvalid_1's binary_logloss: 0.48373\n",
      "[2400]\tvalid_0's binary_logloss: 0.402197\tvalid_1's binary_logloss: 0.483719\n",
      "[2500]\tvalid_0's binary_logloss: 0.399757\tvalid_1's binary_logloss: 0.483663\n"
     ]
    },
    {
     "name": "stderr",
     "output_type": "stream",
     "text": [
      "feature_fraction_stage2, val_score: 0.483638:  67%|######6   | 4/6 [04:36<02:21, 70.58s/it]\u001b[32m[I 2023-02-13 09:23:30,329]\u001b[0m Trial 40 finished with value: 0.48365825621831704 and parameters: {'feature_fraction': 0.516}. Best is trial 40 with value: 0.48365825621831704.\u001b[0m\n",
      "feature_fraction_stage2, val_score: 0.483638:  67%|######6   | 4/6 [04:36<02:21, 70.58s/it]"
     ]
    },
    {
     "name": "stdout",
     "output_type": "stream",
     "text": [
      "Early stopping, best iteration is:\n",
      "[2499]\tvalid_0's binary_logloss: 0.399787\tvalid_1's binary_logloss: 0.483658\n"
     ]
    },
    {
     "name": "stderr",
     "output_type": "stream",
     "text": [
      "/home/kaggler/.local/lib/python3.8/site-packages/lightgbm/engine.py:181: UserWarning: 'early_stopping_rounds' argument is deprecated and will be removed in a future release of LightGBM. Pass 'early_stopping()' callback via 'callbacks' argument instead.\n",
      "  _log_warning(\"'early_stopping_rounds' argument is deprecated and will be removed in a future release of LightGBM. \"\n",
      "/home/kaggler/.local/lib/python3.8/site-packages/lightgbm/engine.py:239: UserWarning: 'verbose_eval' argument is deprecated and will be removed in a future release of LightGBM. Pass 'log_evaluation()' callback via 'callbacks' argument instead.\n",
      "  _log_warning(\"'verbose_eval' argument is deprecated and will be removed in a future release of LightGBM. \"\n"
     ]
    },
    {
     "name": "stdout",
     "output_type": "stream",
     "text": [
      "[LightGBM] [Warning] min_data_in_leaf is set=50, min_child_samples=20 will be ignored. Current value: min_data_in_leaf=50\n",
      "[LightGBM] [Warning] min_data_in_leaf is set=50, min_child_samples=20 will be ignored. Current value: min_data_in_leaf=50\n",
      "[LightGBM] [Info] Number of positive: 119434, number of negative: 50180\n",
      "[LightGBM] [Warning] Auto-choosing col-wise multi-threading, the overhead of testing was 0.050244 seconds.\n",
      "You can set `force_col_wise=true` to remove the overhead.\n",
      "[LightGBM] [Info] Total Bins 58130\n",
      "[LightGBM] [Info] Number of data points in the train set: 169614, number of used features: 259\n"
     ]
    },
    {
     "name": "stderr",
     "output_type": "stream",
     "text": [
      "/home/kaggler/.local/lib/python3.8/site-packages/lightgbm/basic.py:1780: UserWarning: Overriding the parameters from Reference Dataset.\n",
      "  _log_warning('Overriding the parameters from Reference Dataset.')\n",
      "/home/kaggler/.local/lib/python3.8/site-packages/lightgbm/basic.py:1513: UserWarning: categorical_column in param dict is overridden.\n",
      "  _log_warning(f'{cat_alias} in param dict is overridden.')\n"
     ]
    },
    {
     "name": "stdout",
     "output_type": "stream",
     "text": [
      "[LightGBM] [Warning] min_data_in_leaf is set=50, min_child_samples=20 will be ignored. Current value: min_data_in_leaf=50\n"
     ]
    },
    {
     "name": "stderr",
     "output_type": "stream",
     "text": [
      "/home/kaggler/.local/lib/python3.8/site-packages/lightgbm/basic.py:1780: UserWarning: Overriding the parameters from Reference Dataset.\n",
      "  _log_warning('Overriding the parameters from Reference Dataset.')\n",
      "/home/kaggler/.local/lib/python3.8/site-packages/lightgbm/basic.py:1513: UserWarning: categorical_column in param dict is overridden.\n",
      "  _log_warning(f'{cat_alias} in param dict is overridden.')\n"
     ]
    },
    {
     "name": "stdout",
     "output_type": "stream",
     "text": [
      "[LightGBM] [Warning] min_data_in_leaf is set=50, min_child_samples=20 will be ignored. Current value: min_data_in_leaf=50\n",
      "[LightGBM] [Info] [binary:BoostFromScore]: pavg=0.704152 -> initscore=0.867147\n",
      "[LightGBM] [Info] Start training from score 0.867147\n",
      "Training until validation scores don't improve for 100 rounds\n",
      "[100]\tvalid_0's binary_logloss: 0.533751\tvalid_1's binary_logloss: 0.537385\n",
      "[200]\tvalid_0's binary_logloss: 0.50299\tvalid_1's binary_logloss: 0.510372\n",
      "[300]\tvalid_0's binary_logloss: 0.486707\tvalid_1's binary_logloss: 0.49822\n",
      "[400]\tvalid_0's binary_logloss: 0.47687\tvalid_1's binary_logloss: 0.492602\n",
      "[500]\tvalid_0's binary_logloss: 0.469625\tvalid_1's binary_logloss: 0.489701\n",
      "[600]\tvalid_0's binary_logloss: 0.463716\tvalid_1's binary_logloss: 0.488243\n",
      "[700]\tvalid_0's binary_logloss: 0.458465\tvalid_1's binary_logloss: 0.487149\n",
      "[800]\tvalid_0's binary_logloss: 0.453739\tvalid_1's binary_logloss: 0.486451\n",
      "[900]\tvalid_0's binary_logloss: 0.449341\tvalid_1's binary_logloss: 0.485983\n",
      "[1000]\tvalid_0's binary_logloss: 0.445208\tvalid_1's binary_logloss: 0.485646\n",
      "[1100]\tvalid_0's binary_logloss: 0.441336\tvalid_1's binary_logloss: 0.485328\n",
      "[1200]\tvalid_0's binary_logloss: 0.437604\tvalid_1's binary_logloss: 0.485056\n",
      "[1300]\tvalid_0's binary_logloss: 0.43409\tvalid_1's binary_logloss: 0.484815\n",
      "[1400]\tvalid_0's binary_logloss: 0.430732\tvalid_1's binary_logloss: 0.48458\n",
      "[1500]\tvalid_0's binary_logloss: 0.427562\tvalid_1's binary_logloss: 0.48441\n",
      "[1600]\tvalid_0's binary_logloss: 0.42448\tvalid_1's binary_logloss: 0.484327\n",
      "[1700]\tvalid_0's binary_logloss: 0.421574\tvalid_1's binary_logloss: 0.484222\n",
      "[1800]\tvalid_0's binary_logloss: 0.418698\tvalid_1's binary_logloss: 0.484146\n",
      "[1900]\tvalid_0's binary_logloss: 0.415954\tvalid_1's binary_logloss: 0.484045\n",
      "[2000]\tvalid_0's binary_logloss: 0.413268\tvalid_1's binary_logloss: 0.48396\n",
      "[2100]\tvalid_0's binary_logloss: 0.410602\tvalid_1's binary_logloss: 0.483896\n"
     ]
    },
    {
     "name": "stderr",
     "output_type": "stream",
     "text": [
      "feature_fraction_stage2, val_score: 0.483638:  83%|########3 | 5/6 [05:41<01:08, 68.32s/it]\u001b[32m[I 2023-02-13 09:24:34,641]\u001b[0m Trial 41 finished with value: 0.48387526833632466 and parameters: {'feature_fraction': 0.484}. Best is trial 40 with value: 0.48365825621831704.\u001b[0m\n",
      "feature_fraction_stage2, val_score: 0.483638:  83%|########3 | 5/6 [05:41<01:08, 68.32s/it]"
     ]
    },
    {
     "name": "stdout",
     "output_type": "stream",
     "text": [
      "Early stopping, best iteration is:\n",
      "[2063]\tvalid_0's binary_logloss: 0.411639\tvalid_1's binary_logloss: 0.483875\n"
     ]
    },
    {
     "name": "stderr",
     "output_type": "stream",
     "text": [
      "/home/kaggler/.local/lib/python3.8/site-packages/lightgbm/engine.py:181: UserWarning: 'early_stopping_rounds' argument is deprecated and will be removed in a future release of LightGBM. Pass 'early_stopping()' callback via 'callbacks' argument instead.\n",
      "  _log_warning(\"'early_stopping_rounds' argument is deprecated and will be removed in a future release of LightGBM. \"\n",
      "/home/kaggler/.local/lib/python3.8/site-packages/lightgbm/engine.py:239: UserWarning: 'verbose_eval' argument is deprecated and will be removed in a future release of LightGBM. Pass 'log_evaluation()' callback via 'callbacks' argument instead.\n",
      "  _log_warning(\"'verbose_eval' argument is deprecated and will be removed in a future release of LightGBM. \"\n"
     ]
    },
    {
     "name": "stdout",
     "output_type": "stream",
     "text": [
      "[LightGBM] [Warning] min_data_in_leaf is set=50, min_child_samples=20 will be ignored. Current value: min_data_in_leaf=50\n",
      "[LightGBM] [Warning] min_data_in_leaf is set=50, min_child_samples=20 will be ignored. Current value: min_data_in_leaf=50\n",
      "[LightGBM] [Info] Number of positive: 119434, number of negative: 50180\n",
      "[LightGBM] [Warning] Auto-choosing col-wise multi-threading, the overhead of testing was 0.051111 seconds.\n",
      "You can set `force_col_wise=true` to remove the overhead.\n",
      "[LightGBM] [Info] Total Bins 58130\n",
      "[LightGBM] [Info] Number of data points in the train set: 169614, number of used features: 259\n"
     ]
    },
    {
     "name": "stderr",
     "output_type": "stream",
     "text": [
      "/home/kaggler/.local/lib/python3.8/site-packages/lightgbm/basic.py:1780: UserWarning: Overriding the parameters from Reference Dataset.\n",
      "  _log_warning('Overriding the parameters from Reference Dataset.')\n",
      "/home/kaggler/.local/lib/python3.8/site-packages/lightgbm/basic.py:1513: UserWarning: categorical_column in param dict is overridden.\n",
      "  _log_warning(f'{cat_alias} in param dict is overridden.')\n"
     ]
    },
    {
     "name": "stdout",
     "output_type": "stream",
     "text": [
      "[LightGBM] [Warning] min_data_in_leaf is set=50, min_child_samples=20 will be ignored. Current value: min_data_in_leaf=50\n"
     ]
    },
    {
     "name": "stderr",
     "output_type": "stream",
     "text": [
      "/home/kaggler/.local/lib/python3.8/site-packages/lightgbm/basic.py:1780: UserWarning: Overriding the parameters from Reference Dataset.\n",
      "  _log_warning('Overriding the parameters from Reference Dataset.')\n",
      "/home/kaggler/.local/lib/python3.8/site-packages/lightgbm/basic.py:1513: UserWarning: categorical_column in param dict is overridden.\n",
      "  _log_warning(f'{cat_alias} in param dict is overridden.')\n"
     ]
    },
    {
     "name": "stdout",
     "output_type": "stream",
     "text": [
      "[LightGBM] [Warning] min_data_in_leaf is set=50, min_child_samples=20 will be ignored. Current value: min_data_in_leaf=50\n",
      "[LightGBM] [Info] [binary:BoostFromScore]: pavg=0.704152 -> initscore=0.867147\n",
      "[LightGBM] [Info] Start training from score 0.867147\n",
      "Training until validation scores don't improve for 100 rounds\n",
      "[100]\tvalid_0's binary_logloss: 0.536964\tvalid_1's binary_logloss: 0.54066\n",
      "[200]\tvalid_0's binary_logloss: 0.50553\tvalid_1's binary_logloss: 0.51293\n",
      "[300]\tvalid_0's binary_logloss: 0.48862\tvalid_1's binary_logloss: 0.500106\n",
      "[400]\tvalid_0's binary_logloss: 0.478204\tvalid_1's binary_logloss: 0.493814\n",
      "[500]\tvalid_0's binary_logloss: 0.47065\tvalid_1's binary_logloss: 0.490539\n",
      "[600]\tvalid_0's binary_logloss: 0.464637\tvalid_1's binary_logloss: 0.488873\n",
      "[700]\tvalid_0's binary_logloss: 0.459284\tvalid_1's binary_logloss: 0.48757\n",
      "[800]\tvalid_0's binary_logloss: 0.454538\tvalid_1's binary_logloss: 0.486789\n",
      "[900]\tvalid_0's binary_logloss: 0.450199\tvalid_1's binary_logloss: 0.486285\n",
      "[1000]\tvalid_0's binary_logloss: 0.446138\tvalid_1's binary_logloss: 0.485872\n",
      "[1100]\tvalid_0's binary_logloss: 0.44239\tvalid_1's binary_logloss: 0.485601\n",
      "[1200]\tvalid_0's binary_logloss: 0.438716\tvalid_1's binary_logloss: 0.485393\n",
      "[1300]\tvalid_0's binary_logloss: 0.435293\tvalid_1's binary_logloss: 0.485181\n",
      "[1400]\tvalid_0's binary_logloss: 0.431964\tvalid_1's binary_logloss: 0.485001\n",
      "[1500]\tvalid_0's binary_logloss: 0.428888\tvalid_1's binary_logloss: 0.484937\n",
      "[1600]\tvalid_0's binary_logloss: 0.42588\tvalid_1's binary_logloss: 0.48485\n",
      "[1700]\tvalid_0's binary_logloss: 0.422967\tvalid_1's binary_logloss: 0.484715\n",
      "[1800]\tvalid_0's binary_logloss: 0.42021\tvalid_1's binary_logloss: 0.484741\n",
      "[1900]\tvalid_0's binary_logloss: 0.417541\tvalid_1's binary_logloss: 0.484671\n"
     ]
    },
    {
     "name": "stderr",
     "output_type": "stream",
     "text": [
      "feature_fraction_stage2, val_score: 0.483638: 100%|##########| 6/6 [06:36<00:00, 63.90s/it]\u001b[32m[I 2023-02-13 09:25:29,975]\u001b[0m Trial 42 finished with value: 0.48465151190572237 and parameters: {'feature_fraction': 0.42}. Best is trial 40 with value: 0.48365825621831704.\u001b[0m\n",
      "feature_fraction_stage2, val_score: 0.483638: 100%|##########| 6/6 [06:36<00:00, 66.10s/it]\n"
     ]
    },
    {
     "name": "stdout",
     "output_type": "stream",
     "text": [
      "Early stopping, best iteration is:\n",
      "[1886]\tvalid_0's binary_logloss: 0.417896\tvalid_1's binary_logloss: 0.484652\n"
     ]
    },
    {
     "name": "stderr",
     "output_type": "stream",
     "text": [
      "regularization_factors, val_score: 0.483638:   0%|          | 0/20 [00:00<?, ?it/s]/home/kaggler/.local/lib/python3.8/site-packages/lightgbm/engine.py:181: UserWarning: 'early_stopping_rounds' argument is deprecated and will be removed in a future release of LightGBM. Pass 'early_stopping()' callback via 'callbacks' argument instead.\n",
      "  _log_warning(\"'early_stopping_rounds' argument is deprecated and will be removed in a future release of LightGBM. \"\n",
      "/home/kaggler/.local/lib/python3.8/site-packages/lightgbm/engine.py:239: UserWarning: 'verbose_eval' argument is deprecated and will be removed in a future release of LightGBM. Pass 'log_evaluation()' callback via 'callbacks' argument instead.\n",
      "  _log_warning(\"'verbose_eval' argument is deprecated and will be removed in a future release of LightGBM. \"\n"
     ]
    },
    {
     "name": "stdout",
     "output_type": "stream",
     "text": [
      "[LightGBM] [Warning] min_data_in_leaf is set=50, min_child_samples=20 will be ignored. Current value: min_data_in_leaf=50\n",
      "[LightGBM] [Warning] min_data_in_leaf is set=50, min_child_samples=20 will be ignored. Current value: min_data_in_leaf=50\n",
      "[LightGBM] [Info] Number of positive: 119434, number of negative: 50180\n",
      "[LightGBM] [Warning] Auto-choosing col-wise multi-threading, the overhead of testing was 0.053968 seconds.\n",
      "You can set `force_col_wise=true` to remove the overhead.\n",
      "[LightGBM] [Info] Total Bins 58130\n",
      "[LightGBM] [Info] Number of data points in the train set: 169614, number of used features: 259\n"
     ]
    },
    {
     "name": "stderr",
     "output_type": "stream",
     "text": [
      "/home/kaggler/.local/lib/python3.8/site-packages/lightgbm/basic.py:1780: UserWarning: Overriding the parameters from Reference Dataset.\n",
      "  _log_warning('Overriding the parameters from Reference Dataset.')\n",
      "/home/kaggler/.local/lib/python3.8/site-packages/lightgbm/basic.py:1513: UserWarning: categorical_column in param dict is overridden.\n",
      "  _log_warning(f'{cat_alias} in param dict is overridden.')\n"
     ]
    },
    {
     "name": "stdout",
     "output_type": "stream",
     "text": [
      "[LightGBM] [Warning] min_data_in_leaf is set=50, min_child_samples=20 will be ignored. Current value: min_data_in_leaf=50\n"
     ]
    },
    {
     "name": "stderr",
     "output_type": "stream",
     "text": [
      "/home/kaggler/.local/lib/python3.8/site-packages/lightgbm/basic.py:1780: UserWarning: Overriding the parameters from Reference Dataset.\n",
      "  _log_warning('Overriding the parameters from Reference Dataset.')\n",
      "/home/kaggler/.local/lib/python3.8/site-packages/lightgbm/basic.py:1513: UserWarning: categorical_column in param dict is overridden.\n",
      "  _log_warning(f'{cat_alias} in param dict is overridden.')\n"
     ]
    },
    {
     "name": "stdout",
     "output_type": "stream",
     "text": [
      "[LightGBM] [Warning] min_data_in_leaf is set=50, min_child_samples=20 will be ignored. Current value: min_data_in_leaf=50\n",
      "[LightGBM] [Info] [binary:BoostFromScore]: pavg=0.704152 -> initscore=0.867147\n",
      "[LightGBM] [Info] Start training from score 0.867147\n",
      "Training until validation scores don't improve for 100 rounds\n",
      "[100]\tvalid_0's binary_logloss: 0.532533\tvalid_1's binary_logloss: 0.536384\n",
      "[200]\tvalid_0's binary_logloss: 0.501486\tvalid_1's binary_logloss: 0.509196\n",
      "[300]\tvalid_0's binary_logloss: 0.485331\tvalid_1's binary_logloss: 0.497404\n",
      "[400]\tvalid_0's binary_logloss: 0.475394\tvalid_1's binary_logloss: 0.492044\n",
      "[500]\tvalid_0's binary_logloss: 0.468025\tvalid_1's binary_logloss: 0.489282\n",
      "[600]\tvalid_0's binary_logloss: 0.461982\tvalid_1's binary_logloss: 0.487996\n",
      "[700]\tvalid_0's binary_logloss: 0.456549\tvalid_1's binary_logloss: 0.487023\n",
      "[800]\tvalid_0's binary_logloss: 0.45161\tvalid_1's binary_logloss: 0.486372\n",
      "[900]\tvalid_0's binary_logloss: 0.447023\tvalid_1's binary_logloss: 0.485972\n",
      "[1000]\tvalid_0's binary_logloss: 0.442695\tvalid_1's binary_logloss: 0.485597\n",
      "[1100]\tvalid_0's binary_logloss: 0.438647\tvalid_1's binary_logloss: 0.485345\n",
      "[1200]\tvalid_0's binary_logloss: 0.434783\tvalid_1's binary_logloss: 0.485126\n",
      "[1300]\tvalid_0's binary_logloss: 0.431166\tvalid_1's binary_logloss: 0.484922\n",
      "[1400]\tvalid_0's binary_logloss: 0.427692\tvalid_1's binary_logloss: 0.48476\n",
      "[1500]\tvalid_0's binary_logloss: 0.424434\tvalid_1's binary_logloss: 0.484583\n",
      "[1600]\tvalid_0's binary_logloss: 0.421229\tvalid_1's binary_logloss: 0.484597\n"
     ]
    },
    {
     "name": "stderr",
     "output_type": "stream",
     "text": [
      "regularization_factors, val_score: 0.483638:   5%|5         | 1/20 [00:50<15:58, 50.45s/it]\u001b[32m[I 2023-02-13 09:26:20,435]\u001b[0m Trial 43 finished with value: 0.48455922461721845 and parameters: {'lambda_l1': 0.0007076646092113725, 'lambda_l2': 2.6434570485130178}. Best is trial 43 with value: 0.48455922461721845.\u001b[0m\n",
      "regularization_factors, val_score: 0.483638:   5%|5         | 1/20 [00:50<15:58, 50.45s/it]"
     ]
    },
    {
     "name": "stdout",
     "output_type": "stream",
     "text": [
      "Early stopping, best iteration is:\n",
      "[1543]\tvalid_0's binary_logloss: 0.422998\tvalid_1's binary_logloss: 0.484559\n"
     ]
    },
    {
     "name": "stderr",
     "output_type": "stream",
     "text": [
      "/home/kaggler/.local/lib/python3.8/site-packages/lightgbm/engine.py:181: UserWarning: 'early_stopping_rounds' argument is deprecated and will be removed in a future release of LightGBM. Pass 'early_stopping()' callback via 'callbacks' argument instead.\n",
      "  _log_warning(\"'early_stopping_rounds' argument is deprecated and will be removed in a future release of LightGBM. \"\n",
      "/home/kaggler/.local/lib/python3.8/site-packages/lightgbm/engine.py:239: UserWarning: 'verbose_eval' argument is deprecated and will be removed in a future release of LightGBM. Pass 'log_evaluation()' callback via 'callbacks' argument instead.\n",
      "  _log_warning(\"'verbose_eval' argument is deprecated and will be removed in a future release of LightGBM. \"\n"
     ]
    },
    {
     "name": "stdout",
     "output_type": "stream",
     "text": [
      "[LightGBM] [Warning] min_data_in_leaf is set=50, min_child_samples=20 will be ignored. Current value: min_data_in_leaf=50\n",
      "[LightGBM] [Warning] min_data_in_leaf is set=50, min_child_samples=20 will be ignored. Current value: min_data_in_leaf=50\n",
      "[LightGBM] [Info] Number of positive: 119434, number of negative: 50180\n",
      "[LightGBM] [Warning] Auto-choosing row-wise multi-threading, the overhead of testing was 0.021596 seconds.\n",
      "You can set `force_row_wise=true` to remove the overhead.\n",
      "And if memory is not enough, you can set `force_col_wise=true`.\n",
      "[LightGBM] [Info] Total Bins 58130\n",
      "[LightGBM] [Info] Number of data points in the train set: 169614, number of used features: 259\n"
     ]
    },
    {
     "name": "stderr",
     "output_type": "stream",
     "text": [
      "/home/kaggler/.local/lib/python3.8/site-packages/lightgbm/basic.py:1780: UserWarning: Overriding the parameters from Reference Dataset.\n",
      "  _log_warning('Overriding the parameters from Reference Dataset.')\n",
      "/home/kaggler/.local/lib/python3.8/site-packages/lightgbm/basic.py:1513: UserWarning: categorical_column in param dict is overridden.\n",
      "  _log_warning(f'{cat_alias} in param dict is overridden.')\n"
     ]
    },
    {
     "name": "stdout",
     "output_type": "stream",
     "text": [
      "[LightGBM] [Warning] min_data_in_leaf is set=50, min_child_samples=20 will be ignored. Current value: min_data_in_leaf=50\n"
     ]
    },
    {
     "name": "stderr",
     "output_type": "stream",
     "text": [
      "/home/kaggler/.local/lib/python3.8/site-packages/lightgbm/basic.py:1780: UserWarning: Overriding the parameters from Reference Dataset.\n",
      "  _log_warning('Overriding the parameters from Reference Dataset.')\n",
      "/home/kaggler/.local/lib/python3.8/site-packages/lightgbm/basic.py:1513: UserWarning: categorical_column in param dict is overridden.\n",
      "  _log_warning(f'{cat_alias} in param dict is overridden.')\n"
     ]
    },
    {
     "name": "stdout",
     "output_type": "stream",
     "text": [
      "[LightGBM] [Warning] min_data_in_leaf is set=50, min_child_samples=20 will be ignored. Current value: min_data_in_leaf=50\n",
      "[LightGBM] [Info] [binary:BoostFromScore]: pavg=0.704152 -> initscore=0.867147\n",
      "[LightGBM] [Info] Start training from score 0.867147\n",
      "Training until validation scores don't improve for 100 rounds\n",
      "[100]\tvalid_0's binary_logloss: 0.532725\tvalid_1's binary_logloss: 0.536518\n",
      "[200]\tvalid_0's binary_logloss: 0.501858\tvalid_1's binary_logloss: 0.509435\n",
      "[300]\tvalid_0's binary_logloss: 0.485841\tvalid_1's binary_logloss: 0.497589\n",
      "[400]\tvalid_0's binary_logloss: 0.476037\tvalid_1's binary_logloss: 0.492205\n",
      "[500]\tvalid_0's binary_logloss: 0.468809\tvalid_1's binary_logloss: 0.489452\n",
      "[600]\tvalid_0's binary_logloss: 0.462805\tvalid_1's binary_logloss: 0.488028\n",
      "[700]\tvalid_0's binary_logloss: 0.457448\tvalid_1's binary_logloss: 0.486941\n",
      "[800]\tvalid_0's binary_logloss: 0.45254\tvalid_1's binary_logloss: 0.486285\n",
      "[900]\tvalid_0's binary_logloss: 0.447955\tvalid_1's binary_logloss: 0.485851\n",
      "[1000]\tvalid_0's binary_logloss: 0.443668\tvalid_1's binary_logloss: 0.485447\n",
      "[1100]\tvalid_0's binary_logloss: 0.439654\tvalid_1's binary_logloss: 0.485152\n",
      "[1200]\tvalid_0's binary_logloss: 0.435824\tvalid_1's binary_logloss: 0.484917\n",
      "[1300]\tvalid_0's binary_logloss: 0.432213\tvalid_1's binary_logloss: 0.484724\n",
      "[1400]\tvalid_0's binary_logloss: 0.428735\tvalid_1's binary_logloss: 0.484599\n",
      "[1500]\tvalid_0's binary_logloss: 0.425488\tvalid_1's binary_logloss: 0.484461\n",
      "[1600]\tvalid_0's binary_logloss: 0.422263\tvalid_1's binary_logloss: 0.484362\n",
      "[1700]\tvalid_0's binary_logloss: 0.419252\tvalid_1's binary_logloss: 0.484345\n",
      "[1800]\tvalid_0's binary_logloss: 0.41627\tvalid_1's binary_logloss: 0.484252\n",
      "[1900]\tvalid_0's binary_logloss: 0.413419\tvalid_1's binary_logloss: 0.484168\n"
     ]
    },
    {
     "name": "stderr",
     "output_type": "stream",
     "text": [
      "regularization_factors, val_score: 0.483638:  10%|#         | 2/20 [02:46<26:37, 88.77s/it]\u001b[32m[I 2023-02-13 09:28:16,026]\u001b[0m Trial 44 finished with value: 0.4841475838612406 and parameters: {'lambda_l1': 2.8660463862782817, 'lambda_l2': 0.11280564140931351}. Best is trial 44 with value: 0.4841475838612406.\u001b[0m\n",
      "regularization_factors, val_score: 0.483638:  10%|#         | 2/20 [02:46<26:37, 88.77s/it]"
     ]
    },
    {
     "name": "stdout",
     "output_type": "stream",
     "text": [
      "Early stopping, best iteration is:\n",
      "[1888]\tvalid_0's binary_logloss: 0.413753\tvalid_1's binary_logloss: 0.484148\n"
     ]
    },
    {
     "name": "stderr",
     "output_type": "stream",
     "text": [
      "/home/kaggler/.local/lib/python3.8/site-packages/lightgbm/engine.py:181: UserWarning: 'early_stopping_rounds' argument is deprecated and will be removed in a future release of LightGBM. Pass 'early_stopping()' callback via 'callbacks' argument instead.\n",
      "  _log_warning(\"'early_stopping_rounds' argument is deprecated and will be removed in a future release of LightGBM. \"\n",
      "/home/kaggler/.local/lib/python3.8/site-packages/lightgbm/engine.py:239: UserWarning: 'verbose_eval' argument is deprecated and will be removed in a future release of LightGBM. Pass 'log_evaluation()' callback via 'callbacks' argument instead.\n",
      "  _log_warning(\"'verbose_eval' argument is deprecated and will be removed in a future release of LightGBM. \"\n"
     ]
    },
    {
     "name": "stdout",
     "output_type": "stream",
     "text": [
      "[LightGBM] [Warning] min_data_in_leaf is set=50, min_child_samples=20 will be ignored. Current value: min_data_in_leaf=50\n",
      "[LightGBM] [Warning] min_data_in_leaf is set=50, min_child_samples=20 will be ignored. Current value: min_data_in_leaf=50\n",
      "[LightGBM] [Info] Number of positive: 119434, number of negative: 50180\n",
      "[LightGBM] [Warning] Auto-choosing col-wise multi-threading, the overhead of testing was 0.063441 seconds.\n",
      "You can set `force_col_wise=true` to remove the overhead.\n",
      "[LightGBM] [Info] Total Bins 58130\n",
      "[LightGBM] [Info] Number of data points in the train set: 169614, number of used features: 259\n"
     ]
    },
    {
     "name": "stderr",
     "output_type": "stream",
     "text": [
      "/home/kaggler/.local/lib/python3.8/site-packages/lightgbm/basic.py:1780: UserWarning: Overriding the parameters from Reference Dataset.\n",
      "  _log_warning('Overriding the parameters from Reference Dataset.')\n",
      "/home/kaggler/.local/lib/python3.8/site-packages/lightgbm/basic.py:1513: UserWarning: categorical_column in param dict is overridden.\n",
      "  _log_warning(f'{cat_alias} in param dict is overridden.')\n"
     ]
    },
    {
     "name": "stdout",
     "output_type": "stream",
     "text": [
      "[LightGBM] [Warning] min_data_in_leaf is set=50, min_child_samples=20 will be ignored. Current value: min_data_in_leaf=50\n"
     ]
    },
    {
     "name": "stderr",
     "output_type": "stream",
     "text": [
      "/home/kaggler/.local/lib/python3.8/site-packages/lightgbm/basic.py:1780: UserWarning: Overriding the parameters from Reference Dataset.\n",
      "  _log_warning('Overriding the parameters from Reference Dataset.')\n",
      "/home/kaggler/.local/lib/python3.8/site-packages/lightgbm/basic.py:1513: UserWarning: categorical_column in param dict is overridden.\n",
      "  _log_warning(f'{cat_alias} in param dict is overridden.')\n"
     ]
    },
    {
     "name": "stdout",
     "output_type": "stream",
     "text": [
      "[LightGBM] [Warning] min_data_in_leaf is set=50, min_child_samples=20 will be ignored. Current value: min_data_in_leaf=50\n",
      "[LightGBM] [Info] [binary:BoostFromScore]: pavg=0.704152 -> initscore=0.867147\n",
      "[LightGBM] [Info] Start training from score 0.867147\n",
      "Training until validation scores don't improve for 100 rounds\n",
      "[100]\tvalid_0's binary_logloss: 0.532079\tvalid_1's binary_logloss: 0.536179\n",
      "[200]\tvalid_0's binary_logloss: 0.500882\tvalid_1's binary_logloss: 0.509104\n",
      "[300]\tvalid_0's binary_logloss: 0.48459\tvalid_1's binary_logloss: 0.497424\n",
      "[400]\tvalid_0's binary_logloss: 0.47446\tvalid_1's binary_logloss: 0.492141\n",
      "[500]\tvalid_0's binary_logloss: 0.466949\tvalid_1's binary_logloss: 0.489527\n",
      "[600]\tvalid_0's binary_logloss: 0.460709\tvalid_1's binary_logloss: 0.488276\n",
      "[700]\tvalid_0's binary_logloss: 0.455052\tvalid_1's binary_logloss: 0.487325\n",
      "[800]\tvalid_0's binary_logloss: 0.449927\tvalid_1's binary_logloss: 0.486774\n",
      "[900]\tvalid_0's binary_logloss: 0.445156\tvalid_1's binary_logloss: 0.486402\n",
      "[1000]\tvalid_0's binary_logloss: 0.440646\tvalid_1's binary_logloss: 0.486077\n",
      "[1100]\tvalid_0's binary_logloss: 0.43643\tvalid_1's binary_logloss: 0.485764\n",
      "[1200]\tvalid_0's binary_logloss: 0.432383\tvalid_1's binary_logloss: 0.485541\n",
      "[1300]\tvalid_0's binary_logloss: 0.428644\tvalid_1's binary_logloss: 0.485433\n",
      "[1400]\tvalid_0's binary_logloss: 0.425012\tvalid_1's binary_logloss: 0.485347\n",
      "[1500]\tvalid_0's binary_logloss: 0.42158\tvalid_1's binary_logloss: 0.485179\n",
      "[1600]\tvalid_0's binary_logloss: 0.418236\tvalid_1's binary_logloss: 0.485068\n",
      "[1700]\tvalid_0's binary_logloss: 0.415037\tvalid_1's binary_logloss: 0.484929\n",
      "[1800]\tvalid_0's binary_logloss: 0.411886\tvalid_1's binary_logloss: 0.484916\n",
      "[1900]\tvalid_0's binary_logloss: 0.408883\tvalid_1's binary_logloss: 0.484792\n"
     ]
    },
    {
     "name": "stderr",
     "output_type": "stream",
     "text": [
      "regularization_factors, val_score: 0.483638:  15%|#5        | 3/20 [03:49<21:51, 77.12s/it]\u001b[32m[I 2023-02-13 09:29:19,282]\u001b[0m Trial 45 finished with value: 0.48479189305808496 and parameters: {'lambda_l1': 5.769359052345342e-05, 'lambda_l2': 0.04495445370837609}. Best is trial 44 with value: 0.4841475838612406.\u001b[0m\n",
      "regularization_factors, val_score: 0.483638:  15%|#5        | 3/20 [03:49<21:51, 77.12s/it]"
     ]
    },
    {
     "name": "stdout",
     "output_type": "stream",
     "text": [
      "[2000]\tvalid_0's binary_logloss: 0.405916\tvalid_1's binary_logloss: 0.484838\n",
      "Early stopping, best iteration is:\n",
      "[1900]\tvalid_0's binary_logloss: 0.408883\tvalid_1's binary_logloss: 0.484792\n"
     ]
    },
    {
     "name": "stderr",
     "output_type": "stream",
     "text": [
      "/home/kaggler/.local/lib/python3.8/site-packages/lightgbm/engine.py:181: UserWarning: 'early_stopping_rounds' argument is deprecated and will be removed in a future release of LightGBM. Pass 'early_stopping()' callback via 'callbacks' argument instead.\n",
      "  _log_warning(\"'early_stopping_rounds' argument is deprecated and will be removed in a future release of LightGBM. \"\n",
      "/home/kaggler/.local/lib/python3.8/site-packages/lightgbm/engine.py:239: UserWarning: 'verbose_eval' argument is deprecated and will be removed in a future release of LightGBM. Pass 'log_evaluation()' callback via 'callbacks' argument instead.\n",
      "  _log_warning(\"'verbose_eval' argument is deprecated and will be removed in a future release of LightGBM. \"\n"
     ]
    },
    {
     "name": "stdout",
     "output_type": "stream",
     "text": [
      "[LightGBM] [Warning] min_data_in_leaf is set=50, min_child_samples=20 will be ignored. Current value: min_data_in_leaf=50\n",
      "[LightGBM] [Warning] min_data_in_leaf is set=50, min_child_samples=20 will be ignored. Current value: min_data_in_leaf=50\n",
      "[LightGBM] [Info] Number of positive: 119434, number of negative: 50180\n",
      "[LightGBM] [Warning] Auto-choosing col-wise multi-threading, the overhead of testing was 0.056359 seconds.\n",
      "You can set `force_col_wise=true` to remove the overhead.\n",
      "[LightGBM] [Info] Total Bins 58130\n",
      "[LightGBM] [Info] Number of data points in the train set: 169614, number of used features: 259\n"
     ]
    },
    {
     "name": "stderr",
     "output_type": "stream",
     "text": [
      "/home/kaggler/.local/lib/python3.8/site-packages/lightgbm/basic.py:1780: UserWarning: Overriding the parameters from Reference Dataset.\n",
      "  _log_warning('Overriding the parameters from Reference Dataset.')\n",
      "/home/kaggler/.local/lib/python3.8/site-packages/lightgbm/basic.py:1513: UserWarning: categorical_column in param dict is overridden.\n",
      "  _log_warning(f'{cat_alias} in param dict is overridden.')\n"
     ]
    },
    {
     "name": "stdout",
     "output_type": "stream",
     "text": [
      "[LightGBM] [Warning] min_data_in_leaf is set=50, min_child_samples=20 will be ignored. Current value: min_data_in_leaf=50\n"
     ]
    },
    {
     "name": "stderr",
     "output_type": "stream",
     "text": [
      "/home/kaggler/.local/lib/python3.8/site-packages/lightgbm/basic.py:1780: UserWarning: Overriding the parameters from Reference Dataset.\n",
      "  _log_warning('Overriding the parameters from Reference Dataset.')\n",
      "/home/kaggler/.local/lib/python3.8/site-packages/lightgbm/basic.py:1513: UserWarning: categorical_column in param dict is overridden.\n",
      "  _log_warning(f'{cat_alias} in param dict is overridden.')\n"
     ]
    },
    {
     "name": "stdout",
     "output_type": "stream",
     "text": [
      "[LightGBM] [Warning] min_data_in_leaf is set=50, min_child_samples=20 will be ignored. Current value: min_data_in_leaf=50\n",
      "[LightGBM] [Info] [binary:BoostFromScore]: pavg=0.704152 -> initscore=0.867147\n",
      "[LightGBM] [Info] Start training from score 0.867147\n",
      "Training until validation scores don't improve for 100 rounds\n",
      "[100]\tvalid_0's binary_logloss: 0.532081\tvalid_1's binary_logloss: 0.536162\n",
      "[200]\tvalid_0's binary_logloss: 0.500881\tvalid_1's binary_logloss: 0.509078\n",
      "[300]\tvalid_0's binary_logloss: 0.484572\tvalid_1's binary_logloss: 0.497377\n",
      "[400]\tvalid_0's binary_logloss: 0.474424\tvalid_1's binary_logloss: 0.492111\n",
      "[500]\tvalid_0's binary_logloss: 0.466902\tvalid_1's binary_logloss: 0.489479\n",
      "[600]\tvalid_0's binary_logloss: 0.460685\tvalid_1's binary_logloss: 0.488304\n",
      "[700]\tvalid_0's binary_logloss: 0.455033\tvalid_1's binary_logloss: 0.487262\n",
      "[800]\tvalid_0's binary_logloss: 0.449909\tvalid_1's binary_logloss: 0.486709\n",
      "[900]\tvalid_0's binary_logloss: 0.445152\tvalid_1's binary_logloss: 0.486354\n",
      "[1000]\tvalid_0's binary_logloss: 0.440651\tvalid_1's binary_logloss: 0.486017\n",
      "[1100]\tvalid_0's binary_logloss: 0.43645\tvalid_1's binary_logloss: 0.485743\n",
      "[1200]\tvalid_0's binary_logloss: 0.432378\tvalid_1's binary_logloss: 0.485584\n",
      "[1300]\tvalid_0's binary_logloss: 0.428576\tvalid_1's binary_logloss: 0.485376\n",
      "[1400]\tvalid_0's binary_logloss: 0.424888\tvalid_1's binary_logloss: 0.485219\n",
      "[1500]\tvalid_0's binary_logloss: 0.421433\tvalid_1's binary_logloss: 0.485132\n",
      "[1600]\tvalid_0's binary_logloss: 0.4181\tvalid_1's binary_logloss: 0.485037\n",
      "[1700]\tvalid_0's binary_logloss: 0.414915\tvalid_1's binary_logloss: 0.484928\n",
      "[1800]\tvalid_0's binary_logloss: 0.411784\tvalid_1's binary_logloss: 0.484904\n",
      "[1900]\tvalid_0's binary_logloss: 0.408796\tvalid_1's binary_logloss: 0.484838\n"
     ]
    },
    {
     "name": "stderr",
     "output_type": "stream",
     "text": [
      "regularization_factors, val_score: 0.483638:  20%|##        | 4/20 [04:47<18:32, 69.50s/it]\u001b[32m[I 2023-02-13 09:30:17,103]\u001b[0m Trial 46 finished with value: 0.48483053980981894 and parameters: {'lambda_l1': 0.0005580972855971794, 'lambda_l2': 5.472912490947585e-06}. Best is trial 44 with value: 0.4841475838612406.\u001b[0m\n",
      "regularization_factors, val_score: 0.483638:  20%|##        | 4/20 [04:47<18:32, 69.50s/it]"
     ]
    },
    {
     "name": "stdout",
     "output_type": "stream",
     "text": [
      "[2000]\tvalid_0's binary_logloss: 0.405802\tvalid_1's binary_logloss: 0.484869\n",
      "Early stopping, best iteration is:\n",
      "[1902]\tvalid_0's binary_logloss: 0.408728\tvalid_1's binary_logloss: 0.484831\n"
     ]
    },
    {
     "name": "stderr",
     "output_type": "stream",
     "text": [
      "/home/kaggler/.local/lib/python3.8/site-packages/lightgbm/engine.py:181: UserWarning: 'early_stopping_rounds' argument is deprecated and will be removed in a future release of LightGBM. Pass 'early_stopping()' callback via 'callbacks' argument instead.\n",
      "  _log_warning(\"'early_stopping_rounds' argument is deprecated and will be removed in a future release of LightGBM. \"\n",
      "/home/kaggler/.local/lib/python3.8/site-packages/lightgbm/engine.py:239: UserWarning: 'verbose_eval' argument is deprecated and will be removed in a future release of LightGBM. Pass 'log_evaluation()' callback via 'callbacks' argument instead.\n",
      "  _log_warning(\"'verbose_eval' argument is deprecated and will be removed in a future release of LightGBM. \"\n"
     ]
    },
    {
     "name": "stdout",
     "output_type": "stream",
     "text": [
      "[LightGBM] [Warning] min_data_in_leaf is set=50, min_child_samples=20 will be ignored. Current value: min_data_in_leaf=50\n",
      "[LightGBM] [Warning] min_data_in_leaf is set=50, min_child_samples=20 will be ignored. Current value: min_data_in_leaf=50\n",
      "[LightGBM] [Info] Number of positive: 119434, number of negative: 50180\n",
      "[LightGBM] [Warning] Auto-choosing col-wise multi-threading, the overhead of testing was 0.054688 seconds.\n",
      "You can set `force_col_wise=true` to remove the overhead.\n",
      "[LightGBM] [Info] Total Bins 58130\n",
      "[LightGBM] [Info] Number of data points in the train set: 169614, number of used features: 259\n"
     ]
    },
    {
     "name": "stderr",
     "output_type": "stream",
     "text": [
      "/home/kaggler/.local/lib/python3.8/site-packages/lightgbm/basic.py:1780: UserWarning: Overriding the parameters from Reference Dataset.\n",
      "  _log_warning('Overriding the parameters from Reference Dataset.')\n",
      "/home/kaggler/.local/lib/python3.8/site-packages/lightgbm/basic.py:1513: UserWarning: categorical_column in param dict is overridden.\n",
      "  _log_warning(f'{cat_alias} in param dict is overridden.')\n"
     ]
    },
    {
     "name": "stdout",
     "output_type": "stream",
     "text": [
      "[LightGBM] [Warning] min_data_in_leaf is set=50, min_child_samples=20 will be ignored. Current value: min_data_in_leaf=50\n"
     ]
    },
    {
     "name": "stderr",
     "output_type": "stream",
     "text": [
      "/home/kaggler/.local/lib/python3.8/site-packages/lightgbm/basic.py:1780: UserWarning: Overriding the parameters from Reference Dataset.\n",
      "  _log_warning('Overriding the parameters from Reference Dataset.')\n",
      "/home/kaggler/.local/lib/python3.8/site-packages/lightgbm/basic.py:1513: UserWarning: categorical_column in param dict is overridden.\n",
      "  _log_warning(f'{cat_alias} in param dict is overridden.')\n"
     ]
    },
    {
     "name": "stdout",
     "output_type": "stream",
     "text": [
      "[LightGBM] [Warning] min_data_in_leaf is set=50, min_child_samples=20 will be ignored. Current value: min_data_in_leaf=50\n",
      "[LightGBM] [Info] [binary:BoostFromScore]: pavg=0.704152 -> initscore=0.867147\n",
      "[LightGBM] [Info] Start training from score 0.867147\n",
      "Training until validation scores don't improve for 100 rounds\n",
      "[100]\tvalid_0's binary_logloss: 0.532551\tvalid_1's binary_logloss: 0.536419\n",
      "[200]\tvalid_0's binary_logloss: 0.50151\tvalid_1's binary_logloss: 0.509208\n",
      "[300]\tvalid_0's binary_logloss: 0.48534\tvalid_1's binary_logloss: 0.497447\n",
      "[400]\tvalid_0's binary_logloss: 0.475384\tvalid_1's binary_logloss: 0.492067\n",
      "[500]\tvalid_0's binary_logloss: 0.468036\tvalid_1's binary_logloss: 0.489284\n",
      "[600]\tvalid_0's binary_logloss: 0.461978\tvalid_1's binary_logloss: 0.488042\n",
      "[700]\tvalid_0's binary_logloss: 0.456583\tvalid_1's binary_logloss: 0.487025\n",
      "[800]\tvalid_0's binary_logloss: 0.451673\tvalid_1's binary_logloss: 0.486399\n",
      "[900]\tvalid_0's binary_logloss: 0.447096\tvalid_1's binary_logloss: 0.485998\n",
      "[1000]\tvalid_0's binary_logloss: 0.442776\tvalid_1's binary_logloss: 0.485656\n",
      "[1100]\tvalid_0's binary_logloss: 0.438738\tvalid_1's binary_logloss: 0.485397\n",
      "[1200]\tvalid_0's binary_logloss: 0.434849\tvalid_1's binary_logloss: 0.485186\n",
      "[1300]\tvalid_0's binary_logloss: 0.431234\tvalid_1's binary_logloss: 0.484989\n",
      "[1400]\tvalid_0's binary_logloss: 0.427766\tvalid_1's binary_logloss: 0.484907\n",
      "[1500]\tvalid_0's binary_logloss: 0.424508\tvalid_1's binary_logloss: 0.48481\n",
      "[1600]\tvalid_0's binary_logloss: 0.4213\tvalid_1's binary_logloss: 0.484774\n",
      "[1700]\tvalid_0's binary_logloss: 0.418248\tvalid_1's binary_logloss: 0.484706\n",
      "[1800]\tvalid_0's binary_logloss: 0.415217\tvalid_1's binary_logloss: 0.484674\n",
      "[1900]\tvalid_0's binary_logloss: 0.412354\tvalid_1's binary_logloss: 0.484584\n",
      "[2000]\tvalid_0's binary_logloss: 0.409541\tvalid_1's binary_logloss: 0.48457\n",
      "[2100]\tvalid_0's binary_logloss: 0.406746\tvalid_1's binary_logloss: 0.484545\n",
      "[2200]\tvalid_0's binary_logloss: 0.404179\tvalid_1's binary_logloss: 0.484534\n"
     ]
    },
    {
     "name": "stderr",
     "output_type": "stream",
     "text": [
      "regularization_factors, val_score: 0.483638:  25%|##5       | 5/20 [05:55<17:16, 69.08s/it]\u001b[32m[I 2023-02-13 09:31:25,438]\u001b[0m Trial 47 finished with value: 0.48450674050123627 and parameters: {'lambda_l1': 0.012883625503927621, 'lambda_l2': 2.7880817982265773}. Best is trial 44 with value: 0.4841475838612406.\u001b[0m\n",
      "regularization_factors, val_score: 0.483638:  25%|##5       | 5/20 [05:55<17:16, 69.08s/it]"
     ]
    },
    {
     "name": "stdout",
     "output_type": "stream",
     "text": [
      "Early stopping, best iteration is:\n",
      "[2127]\tvalid_0's binary_logloss: 0.40605\tvalid_1's binary_logloss: 0.484507\n"
     ]
    },
    {
     "name": "stderr",
     "output_type": "stream",
     "text": [
      "/home/kaggler/.local/lib/python3.8/site-packages/lightgbm/engine.py:181: UserWarning: 'early_stopping_rounds' argument is deprecated and will be removed in a future release of LightGBM. Pass 'early_stopping()' callback via 'callbacks' argument instead.\n",
      "  _log_warning(\"'early_stopping_rounds' argument is deprecated and will be removed in a future release of LightGBM. \"\n",
      "/home/kaggler/.local/lib/python3.8/site-packages/lightgbm/engine.py:239: UserWarning: 'verbose_eval' argument is deprecated and will be removed in a future release of LightGBM. Pass 'log_evaluation()' callback via 'callbacks' argument instead.\n",
      "  _log_warning(\"'verbose_eval' argument is deprecated and will be removed in a future release of LightGBM. \"\n"
     ]
    },
    {
     "name": "stdout",
     "output_type": "stream",
     "text": [
      "[LightGBM] [Warning] min_data_in_leaf is set=50, min_child_samples=20 will be ignored. Current value: min_data_in_leaf=50\n",
      "[LightGBM] [Warning] min_data_in_leaf is set=50, min_child_samples=20 will be ignored. Current value: min_data_in_leaf=50\n",
      "[LightGBM] [Info] Number of positive: 119434, number of negative: 50180\n",
      "[LightGBM] [Warning] Auto-choosing col-wise multi-threading, the overhead of testing was 0.065827 seconds.\n",
      "You can set `force_col_wise=true` to remove the overhead.\n",
      "[LightGBM] [Info] Total Bins 58130\n",
      "[LightGBM] [Info] Number of data points in the train set: 169614, number of used features: 259\n"
     ]
    },
    {
     "name": "stderr",
     "output_type": "stream",
     "text": [
      "/home/kaggler/.local/lib/python3.8/site-packages/lightgbm/basic.py:1780: UserWarning: Overriding the parameters from Reference Dataset.\n",
      "  _log_warning('Overriding the parameters from Reference Dataset.')\n",
      "/home/kaggler/.local/lib/python3.8/site-packages/lightgbm/basic.py:1513: UserWarning: categorical_column in param dict is overridden.\n",
      "  _log_warning(f'{cat_alias} in param dict is overridden.')\n"
     ]
    },
    {
     "name": "stdout",
     "output_type": "stream",
     "text": [
      "[LightGBM] [Warning] min_data_in_leaf is set=50, min_child_samples=20 will be ignored. Current value: min_data_in_leaf=50\n"
     ]
    },
    {
     "name": "stderr",
     "output_type": "stream",
     "text": [
      "/home/kaggler/.local/lib/python3.8/site-packages/lightgbm/basic.py:1780: UserWarning: Overriding the parameters from Reference Dataset.\n",
      "  _log_warning('Overriding the parameters from Reference Dataset.')\n",
      "/home/kaggler/.local/lib/python3.8/site-packages/lightgbm/basic.py:1513: UserWarning: categorical_column in param dict is overridden.\n",
      "  _log_warning(f'{cat_alias} in param dict is overridden.')\n"
     ]
    },
    {
     "name": "stdout",
     "output_type": "stream",
     "text": [
      "[LightGBM] [Warning] min_data_in_leaf is set=50, min_child_samples=20 will be ignored. Current value: min_data_in_leaf=50\n",
      "[LightGBM] [Info] [binary:BoostFromScore]: pavg=0.704152 -> initscore=0.867147\n",
      "[LightGBM] [Info] Start training from score 0.867147\n",
      "Training until validation scores don't improve for 100 rounds\n",
      "[100]\tvalid_0's binary_logloss: 0.532082\tvalid_1's binary_logloss: 0.536161\n",
      "[200]\tvalid_0's binary_logloss: 0.500879\tvalid_1's binary_logloss: 0.509099\n",
      "[300]\tvalid_0's binary_logloss: 0.484574\tvalid_1's binary_logloss: 0.497399\n",
      "[400]\tvalid_0's binary_logloss: 0.474458\tvalid_1's binary_logloss: 0.492093\n",
      "[500]\tvalid_0's binary_logloss: 0.466929\tvalid_1's binary_logloss: 0.489492\n",
      "[600]\tvalid_0's binary_logloss: 0.4607\tvalid_1's binary_logloss: 0.488288\n",
      "[700]\tvalid_0's binary_logloss: 0.455038\tvalid_1's binary_logloss: 0.487199\n",
      "[800]\tvalid_0's binary_logloss: 0.449909\tvalid_1's binary_logloss: 0.486604\n",
      "[900]\tvalid_0's binary_logloss: 0.445155\tvalid_1's binary_logloss: 0.486233\n",
      "[1000]\tvalid_0's binary_logloss: 0.440665\tvalid_1's binary_logloss: 0.485888\n",
      "[1100]\tvalid_0's binary_logloss: 0.436449\tvalid_1's binary_logloss: 0.485659\n",
      "[1200]\tvalid_0's binary_logloss: 0.432384\tvalid_1's binary_logloss: 0.485483\n",
      "[1300]\tvalid_0's binary_logloss: 0.428616\tvalid_1's binary_logloss: 0.48531\n",
      "[1400]\tvalid_0's binary_logloss: 0.424951\tvalid_1's binary_logloss: 0.485197\n",
      "[1500]\tvalid_0's binary_logloss: 0.421514\tvalid_1's binary_logloss: 0.485067\n",
      "[1600]\tvalid_0's binary_logloss: 0.418169\tvalid_1's binary_logloss: 0.484998\n",
      "[1700]\tvalid_0's binary_logloss: 0.414992\tvalid_1's binary_logloss: 0.484885\n",
      "[1800]\tvalid_0's binary_logloss: 0.411866\tvalid_1's binary_logloss: 0.484783\n",
      "[1900]\tvalid_0's binary_logloss: 0.40884\tvalid_1's binary_logloss: 0.484652\n",
      "[2000]\tvalid_0's binary_logloss: 0.405853\tvalid_1's binary_logloss: 0.484645\n",
      "[2100]\tvalid_0's binary_logloss: 0.402886\tvalid_1's binary_logloss: 0.48453\n"
     ]
    },
    {
     "name": "stderr",
     "output_type": "stream",
     "text": [
      "regularization_factors, val_score: 0.483638:  30%|###       | 6/20 [06:55<15:22, 65.91s/it]\u001b[32m[I 2023-02-13 09:32:25,180]\u001b[0m Trial 48 finished with value: 0.484517938840327 and parameters: {'lambda_l1': 3.882765060291834e-07, 'lambda_l2': 1.1891203372774372e-08}. Best is trial 44 with value: 0.4841475838612406.\u001b[0m\n",
      "regularization_factors, val_score: 0.483638:  30%|###       | 6/20 [06:55<15:22, 65.91s/it]"
     ]
    },
    {
     "name": "stdout",
     "output_type": "stream",
     "text": [
      "Early stopping, best iteration is:\n",
      "[2096]\tvalid_0's binary_logloss: 0.402982\tvalid_1's binary_logloss: 0.484518\n"
     ]
    },
    {
     "name": "stderr",
     "output_type": "stream",
     "text": [
      "/home/kaggler/.local/lib/python3.8/site-packages/lightgbm/engine.py:181: UserWarning: 'early_stopping_rounds' argument is deprecated and will be removed in a future release of LightGBM. Pass 'early_stopping()' callback via 'callbacks' argument instead.\n",
      "  _log_warning(\"'early_stopping_rounds' argument is deprecated and will be removed in a future release of LightGBM. \"\n",
      "/home/kaggler/.local/lib/python3.8/site-packages/lightgbm/engine.py:239: UserWarning: 'verbose_eval' argument is deprecated and will be removed in a future release of LightGBM. Pass 'log_evaluation()' callback via 'callbacks' argument instead.\n",
      "  _log_warning(\"'verbose_eval' argument is deprecated and will be removed in a future release of LightGBM. \"\n"
     ]
    },
    {
     "name": "stdout",
     "output_type": "stream",
     "text": [
      "[LightGBM] [Warning] min_data_in_leaf is set=50, min_child_samples=20 will be ignored. Current value: min_data_in_leaf=50\n",
      "[LightGBM] [Warning] min_data_in_leaf is set=50, min_child_samples=20 will be ignored. Current value: min_data_in_leaf=50\n",
      "[LightGBM] [Info] Number of positive: 119434, number of negative: 50180\n",
      "[LightGBM] [Warning] Auto-choosing col-wise multi-threading, the overhead of testing was 0.053544 seconds.\n",
      "You can set `force_col_wise=true` to remove the overhead.\n",
      "[LightGBM] [Info] Total Bins 58130\n",
      "[LightGBM] [Info] Number of data points in the train set: 169614, number of used features: 259\n"
     ]
    },
    {
     "name": "stderr",
     "output_type": "stream",
     "text": [
      "/home/kaggler/.local/lib/python3.8/site-packages/lightgbm/basic.py:1780: UserWarning: Overriding the parameters from Reference Dataset.\n",
      "  _log_warning('Overriding the parameters from Reference Dataset.')\n",
      "/home/kaggler/.local/lib/python3.8/site-packages/lightgbm/basic.py:1513: UserWarning: categorical_column in param dict is overridden.\n",
      "  _log_warning(f'{cat_alias} in param dict is overridden.')\n"
     ]
    },
    {
     "name": "stdout",
     "output_type": "stream",
     "text": [
      "[LightGBM] [Warning] min_data_in_leaf is set=50, min_child_samples=20 will be ignored. Current value: min_data_in_leaf=50\n"
     ]
    },
    {
     "name": "stderr",
     "output_type": "stream",
     "text": [
      "/home/kaggler/.local/lib/python3.8/site-packages/lightgbm/basic.py:1780: UserWarning: Overriding the parameters from Reference Dataset.\n",
      "  _log_warning('Overriding the parameters from Reference Dataset.')\n",
      "/home/kaggler/.local/lib/python3.8/site-packages/lightgbm/basic.py:1513: UserWarning: categorical_column in param dict is overridden.\n",
      "  _log_warning(f'{cat_alias} in param dict is overridden.')\n"
     ]
    },
    {
     "name": "stdout",
     "output_type": "stream",
     "text": [
      "[LightGBM] [Warning] min_data_in_leaf is set=50, min_child_samples=20 will be ignored. Current value: min_data_in_leaf=50\n",
      "[LightGBM] [Info] [binary:BoostFromScore]: pavg=0.704152 -> initscore=0.867147\n",
      "[LightGBM] [Info] Start training from score 0.867147\n",
      "Training until validation scores don't improve for 100 rounds\n",
      "[100]\tvalid_0's binary_logloss: 0.532424\tvalid_1's binary_logloss: 0.536333\n",
      "[200]\tvalid_0's binary_logloss: 0.501328\tvalid_1's binary_logloss: 0.509191\n",
      "[300]\tvalid_0's binary_logloss: 0.485138\tvalid_1's binary_logloss: 0.497455\n",
      "[400]\tvalid_0's binary_logloss: 0.475112\tvalid_1's binary_logloss: 0.492062\n",
      "[500]\tvalid_0's binary_logloss: 0.467728\tvalid_1's binary_logloss: 0.489336\n",
      "[600]\tvalid_0's binary_logloss: 0.461643\tvalid_1's binary_logloss: 0.488048\n",
      "[700]\tvalid_0's binary_logloss: 0.456152\tvalid_1's binary_logloss: 0.487008\n",
      "[800]\tvalid_0's binary_logloss: 0.451198\tvalid_1's binary_logloss: 0.486382\n",
      "[900]\tvalid_0's binary_logloss: 0.446619\tvalid_1's binary_logloss: 0.486033\n",
      "[1000]\tvalid_0's binary_logloss: 0.442277\tvalid_1's binary_logloss: 0.485686\n",
      "[1100]\tvalid_0's binary_logloss: 0.438211\tvalid_1's binary_logloss: 0.485458\n",
      "[1200]\tvalid_0's binary_logloss: 0.434296\tvalid_1's binary_logloss: 0.485312\n",
      "[1300]\tvalid_0's binary_logloss: 0.430656\tvalid_1's binary_logloss: 0.485152\n",
      "[1400]\tvalid_0's binary_logloss: 0.427141\tvalid_1's binary_logloss: 0.484975\n",
      "[1500]\tvalid_0's binary_logloss: 0.423833\tvalid_1's binary_logloss: 0.484834\n",
      "[1600]\tvalid_0's binary_logloss: 0.420617\tvalid_1's binary_logloss: 0.484805\n",
      "[1700]\tvalid_0's binary_logloss: 0.417542\tvalid_1's binary_logloss: 0.484705\n",
      "[1800]\tvalid_0's binary_logloss: 0.414539\tvalid_1's binary_logloss: 0.484735\n",
      "Early stopping, best iteration is:\n",
      "[1708]\tvalid_0's binary_logloss: 0.417295\tvalid_1's binary_logloss: 0.484679\n"
     ]
    },
    {
     "name": "stderr",
     "output_type": "stream",
     "text": [
      "regularization_factors, val_score: 0.483638:  35%|###5      | 7/20 [07:48<13:21, 61.62s/it]\u001b[32m[I 2023-02-13 09:33:17,986]\u001b[0m Trial 49 finished with value: 0.48467944201506613 and parameters: {'lambda_l1': 9.037016227444223e-05, 'lambda_l2': 1.9270667918571696}. Best is trial 44 with value: 0.4841475838612406.\u001b[0m\n",
      "regularization_factors, val_score: 0.483638:  35%|###5      | 7/20 [07:48<13:21, 61.62s/it]/home/kaggler/.local/lib/python3.8/site-packages/lightgbm/engine.py:181: UserWarning: 'early_stopping_rounds' argument is deprecated and will be removed in a future release of LightGBM. Pass 'early_stopping()' callback via 'callbacks' argument instead.\n",
      "  _log_warning(\"'early_stopping_rounds' argument is deprecated and will be removed in a future release of LightGBM. \"\n",
      "/home/kaggler/.local/lib/python3.8/site-packages/lightgbm/engine.py:239: UserWarning: 'verbose_eval' argument is deprecated and will be removed in a future release of LightGBM. Pass 'log_evaluation()' callback via 'callbacks' argument instead.\n",
      "  _log_warning(\"'verbose_eval' argument is deprecated and will be removed in a future release of LightGBM. \"\n"
     ]
    },
    {
     "name": "stdout",
     "output_type": "stream",
     "text": [
      "[LightGBM] [Warning] min_data_in_leaf is set=50, min_child_samples=20 will be ignored. Current value: min_data_in_leaf=50\n",
      "[LightGBM] [Warning] min_data_in_leaf is set=50, min_child_samples=20 will be ignored. Current value: min_data_in_leaf=50\n",
      "[LightGBM] [Info] Number of positive: 119434, number of negative: 50180\n",
      "[LightGBM] [Warning] Auto-choosing col-wise multi-threading, the overhead of testing was 0.055733 seconds.\n",
      "You can set `force_col_wise=true` to remove the overhead.\n",
      "[LightGBM] [Info] Total Bins 58130\n",
      "[LightGBM] [Info] Number of data points in the train set: 169614, number of used features: 259\n"
     ]
    },
    {
     "name": "stderr",
     "output_type": "stream",
     "text": [
      "/home/kaggler/.local/lib/python3.8/site-packages/lightgbm/basic.py:1780: UserWarning: Overriding the parameters from Reference Dataset.\n",
      "  _log_warning('Overriding the parameters from Reference Dataset.')\n",
      "/home/kaggler/.local/lib/python3.8/site-packages/lightgbm/basic.py:1513: UserWarning: categorical_column in param dict is overridden.\n",
      "  _log_warning(f'{cat_alias} in param dict is overridden.')\n"
     ]
    },
    {
     "name": "stdout",
     "output_type": "stream",
     "text": [
      "[LightGBM] [Warning] min_data_in_leaf is set=50, min_child_samples=20 will be ignored. Current value: min_data_in_leaf=50\n"
     ]
    },
    {
     "name": "stderr",
     "output_type": "stream",
     "text": [
      "/home/kaggler/.local/lib/python3.8/site-packages/lightgbm/basic.py:1780: UserWarning: Overriding the parameters from Reference Dataset.\n",
      "  _log_warning('Overriding the parameters from Reference Dataset.')\n",
      "/home/kaggler/.local/lib/python3.8/site-packages/lightgbm/basic.py:1513: UserWarning: categorical_column in param dict is overridden.\n",
      "  _log_warning(f'{cat_alias} in param dict is overridden.')\n"
     ]
    },
    {
     "name": "stdout",
     "output_type": "stream",
     "text": [
      "[LightGBM] [Warning] min_data_in_leaf is set=50, min_child_samples=20 will be ignored. Current value: min_data_in_leaf=50\n",
      "[LightGBM] [Info] [binary:BoostFromScore]: pavg=0.704152 -> initscore=0.867147\n",
      "[LightGBM] [Info] Start training from score 0.867147\n",
      "Training until validation scores don't improve for 100 rounds\n",
      "[100]\tvalid_0's binary_logloss: 0.532082\tvalid_1's binary_logloss: 0.536165\n",
      "[200]\tvalid_0's binary_logloss: 0.500876\tvalid_1's binary_logloss: 0.509102\n",
      "[300]\tvalid_0's binary_logloss: 0.484578\tvalid_1's binary_logloss: 0.49742\n",
      "[400]\tvalid_0's binary_logloss: 0.474439\tvalid_1's binary_logloss: 0.492171\n",
      "[500]\tvalid_0's binary_logloss: 0.466911\tvalid_1's binary_logloss: 0.489515\n",
      "[600]\tvalid_0's binary_logloss: 0.460672\tvalid_1's binary_logloss: 0.488282\n",
      "[700]\tvalid_0's binary_logloss: 0.455008\tvalid_1's binary_logloss: 0.487271\n",
      "[800]\tvalid_0's binary_logloss: 0.449876\tvalid_1's binary_logloss: 0.486666\n",
      "[900]\tvalid_0's binary_logloss: 0.445131\tvalid_1's binary_logloss: 0.486303\n",
      "[1000]\tvalid_0's binary_logloss: 0.440648\tvalid_1's binary_logloss: 0.485974\n",
      "[1100]\tvalid_0's binary_logloss: 0.436433\tvalid_1's binary_logloss: 0.485769\n",
      "[1200]\tvalid_0's binary_logloss: 0.432357\tvalid_1's binary_logloss: 0.485544\n",
      "[1300]\tvalid_0's binary_logloss: 0.428578\tvalid_1's binary_logloss: 0.485357\n",
      "[1400]\tvalid_0's binary_logloss: 0.424916\tvalid_1's binary_logloss: 0.485244\n",
      "[1500]\tvalid_0's binary_logloss: 0.421458\tvalid_1's binary_logloss: 0.485086\n",
      "[1600]\tvalid_0's binary_logloss: 0.41813\tvalid_1's binary_logloss: 0.48504\n",
      "[1700]\tvalid_0's binary_logloss: 0.414937\tvalid_1's binary_logloss: 0.484929\n",
      "[1800]\tvalid_0's binary_logloss: 0.411799\tvalid_1's binary_logloss: 0.484921\n",
      "[1900]\tvalid_0's binary_logloss: 0.408784\tvalid_1's binary_logloss: 0.484821\n"
     ]
    },
    {
     "name": "stderr",
     "output_type": "stream",
     "text": [
      "regularization_factors, val_score: 0.483638:  40%|####      | 8/20 [08:43<11:57, 59.82s/it]\u001b[32m[I 2023-02-13 09:34:13,934]\u001b[0m Trial 50 finished with value: 0.48481232271215724 and parameters: {'lambda_l1': 0.011907309232247757, 'lambda_l2': 2.372980684593243e-05}. Best is trial 44 with value: 0.4841475838612406.\u001b[0m\n",
      "regularization_factors, val_score: 0.483638:  40%|####      | 8/20 [08:43<11:57, 59.82s/it]"
     ]
    },
    {
     "name": "stdout",
     "output_type": "stream",
     "text": [
      "Early stopping, best iteration is:\n",
      "[1887]\tvalid_0's binary_logloss: 0.409168\tvalid_1's binary_logloss: 0.484812\n"
     ]
    },
    {
     "name": "stderr",
     "output_type": "stream",
     "text": [
      "/home/kaggler/.local/lib/python3.8/site-packages/lightgbm/engine.py:181: UserWarning: 'early_stopping_rounds' argument is deprecated and will be removed in a future release of LightGBM. Pass 'early_stopping()' callback via 'callbacks' argument instead.\n",
      "  _log_warning(\"'early_stopping_rounds' argument is deprecated and will be removed in a future release of LightGBM. \"\n",
      "/home/kaggler/.local/lib/python3.8/site-packages/lightgbm/engine.py:239: UserWarning: 'verbose_eval' argument is deprecated and will be removed in a future release of LightGBM. Pass 'log_evaluation()' callback via 'callbacks' argument instead.\n",
      "  _log_warning(\"'verbose_eval' argument is deprecated and will be removed in a future release of LightGBM. \"\n"
     ]
    },
    {
     "name": "stdout",
     "output_type": "stream",
     "text": [
      "[LightGBM] [Warning] min_data_in_leaf is set=50, min_child_samples=20 will be ignored. Current value: min_data_in_leaf=50\n",
      "[LightGBM] [Warning] min_data_in_leaf is set=50, min_child_samples=20 will be ignored. Current value: min_data_in_leaf=50\n",
      "[LightGBM] [Info] Number of positive: 119434, number of negative: 50180\n",
      "[LightGBM] [Warning] Auto-choosing col-wise multi-threading, the overhead of testing was 0.052169 seconds.\n",
      "You can set `force_col_wise=true` to remove the overhead.\n",
      "[LightGBM] [Info] Total Bins 58130\n",
      "[LightGBM] [Info] Number of data points in the train set: 169614, number of used features: 259\n"
     ]
    },
    {
     "name": "stderr",
     "output_type": "stream",
     "text": [
      "/home/kaggler/.local/lib/python3.8/site-packages/lightgbm/basic.py:1780: UserWarning: Overriding the parameters from Reference Dataset.\n",
      "  _log_warning('Overriding the parameters from Reference Dataset.')\n",
      "/home/kaggler/.local/lib/python3.8/site-packages/lightgbm/basic.py:1513: UserWarning: categorical_column in param dict is overridden.\n",
      "  _log_warning(f'{cat_alias} in param dict is overridden.')\n"
     ]
    },
    {
     "name": "stdout",
     "output_type": "stream",
     "text": [
      "[LightGBM] [Warning] min_data_in_leaf is set=50, min_child_samples=20 will be ignored. Current value: min_data_in_leaf=50\n"
     ]
    },
    {
     "name": "stderr",
     "output_type": "stream",
     "text": [
      "/home/kaggler/.local/lib/python3.8/site-packages/lightgbm/basic.py:1780: UserWarning: Overriding the parameters from Reference Dataset.\n",
      "  _log_warning('Overriding the parameters from Reference Dataset.')\n",
      "/home/kaggler/.local/lib/python3.8/site-packages/lightgbm/basic.py:1513: UserWarning: categorical_column in param dict is overridden.\n",
      "  _log_warning(f'{cat_alias} in param dict is overridden.')\n"
     ]
    },
    {
     "name": "stdout",
     "output_type": "stream",
     "text": [
      "[LightGBM] [Warning] min_data_in_leaf is set=50, min_child_samples=20 will be ignored. Current value: min_data_in_leaf=50\n",
      "[LightGBM] [Info] [binary:BoostFromScore]: pavg=0.704152 -> initscore=0.867147\n",
      "[LightGBM] [Info] Start training from score 0.867147\n",
      "Training until validation scores don't improve for 100 rounds\n",
      "[100]\tvalid_0's binary_logloss: 0.532438\tvalid_1's binary_logloss: 0.536371\n",
      "[200]\tvalid_0's binary_logloss: 0.50135\tvalid_1's binary_logloss: 0.509198\n",
      "[300]\tvalid_0's binary_logloss: 0.48518\tvalid_1's binary_logloss: 0.497454\n",
      "[400]\tvalid_0's binary_logloss: 0.475194\tvalid_1's binary_logloss: 0.492132\n",
      "[500]\tvalid_0's binary_logloss: 0.467807\tvalid_1's binary_logloss: 0.489396\n",
      "[600]\tvalid_0's binary_logloss: 0.461733\tvalid_1's binary_logloss: 0.48812\n",
      "[700]\tvalid_0's binary_logloss: 0.456268\tvalid_1's binary_logloss: 0.487086\n",
      "[800]\tvalid_0's binary_logloss: 0.451272\tvalid_1's binary_logloss: 0.486478\n",
      "[900]\tvalid_0's binary_logloss: 0.446667\tvalid_1's binary_logloss: 0.486087\n",
      "[1000]\tvalid_0's binary_logloss: 0.442322\tvalid_1's binary_logloss: 0.485731\n",
      "[1100]\tvalid_0's binary_logloss: 0.438234\tvalid_1's binary_logloss: 0.485494\n",
      "[1200]\tvalid_0's binary_logloss: 0.434316\tvalid_1's binary_logloss: 0.485275\n",
      "[1300]\tvalid_0's binary_logloss: 0.430688\tvalid_1's binary_logloss: 0.485091\n",
      "[1400]\tvalid_0's binary_logloss: 0.427194\tvalid_1's binary_logloss: 0.48502\n",
      "[1500]\tvalid_0's binary_logloss: 0.423889\tvalid_1's binary_logloss: 0.484891\n",
      "[1600]\tvalid_0's binary_logloss: 0.420637\tvalid_1's binary_logloss: 0.484855\n",
      "[1700]\tvalid_0's binary_logloss: 0.417549\tvalid_1's binary_logloss: 0.484735\n",
      "[1800]\tvalid_0's binary_logloss: 0.414519\tvalid_1's binary_logloss: 0.484701\n",
      "[1900]\tvalid_0's binary_logloss: 0.411624\tvalid_1's binary_logloss: 0.484659\n"
     ]
    },
    {
     "name": "stderr",
     "output_type": "stream",
     "text": [
      "regularization_factors, val_score: 0.483638:  45%|####5     | 9/20 [09:39<10:44, 58.57s/it]\u001b[32m[I 2023-02-13 09:35:09,760]\u001b[0m Trial 51 finished with value: 0.48463932846718516 and parameters: {'lambda_l1': 0.03613304822616901, 'lambda_l2': 1.9493977310202344}. Best is trial 44 with value: 0.4841475838612406.\u001b[0m\n",
      "regularization_factors, val_score: 0.483638:  45%|####5     | 9/20 [09:39<10:44, 58.57s/it]"
     ]
    },
    {
     "name": "stdout",
     "output_type": "stream",
     "text": [
      "Early stopping, best iteration is:\n",
      "[1836]\tvalid_0's binary_logloss: 0.413455\tvalid_1's binary_logloss: 0.484639\n"
     ]
    },
    {
     "name": "stderr",
     "output_type": "stream",
     "text": [
      "/home/kaggler/.local/lib/python3.8/site-packages/lightgbm/engine.py:181: UserWarning: 'early_stopping_rounds' argument is deprecated and will be removed in a future release of LightGBM. Pass 'early_stopping()' callback via 'callbacks' argument instead.\n",
      "  _log_warning(\"'early_stopping_rounds' argument is deprecated and will be removed in a future release of LightGBM. \"\n",
      "/home/kaggler/.local/lib/python3.8/site-packages/lightgbm/engine.py:239: UserWarning: 'verbose_eval' argument is deprecated and will be removed in a future release of LightGBM. Pass 'log_evaluation()' callback via 'callbacks' argument instead.\n",
      "  _log_warning(\"'verbose_eval' argument is deprecated and will be removed in a future release of LightGBM. \"\n"
     ]
    },
    {
     "name": "stdout",
     "output_type": "stream",
     "text": [
      "[LightGBM] [Warning] min_data_in_leaf is set=50, min_child_samples=20 will be ignored. Current value: min_data_in_leaf=50\n",
      "[LightGBM] [Warning] min_data_in_leaf is set=50, min_child_samples=20 will be ignored. Current value: min_data_in_leaf=50\n",
      "[LightGBM] [Info] Number of positive: 119434, number of negative: 50180\n",
      "[LightGBM] [Warning] Auto-choosing col-wise multi-threading, the overhead of testing was 0.053888 seconds.\n",
      "You can set `force_col_wise=true` to remove the overhead.\n",
      "[LightGBM] [Info] Total Bins 58130\n",
      "[LightGBM] [Info] Number of data points in the train set: 169614, number of used features: 259\n"
     ]
    },
    {
     "name": "stderr",
     "output_type": "stream",
     "text": [
      "/home/kaggler/.local/lib/python3.8/site-packages/lightgbm/basic.py:1780: UserWarning: Overriding the parameters from Reference Dataset.\n",
      "  _log_warning('Overriding the parameters from Reference Dataset.')\n",
      "/home/kaggler/.local/lib/python3.8/site-packages/lightgbm/basic.py:1513: UserWarning: categorical_column in param dict is overridden.\n",
      "  _log_warning(f'{cat_alias} in param dict is overridden.')\n"
     ]
    },
    {
     "name": "stdout",
     "output_type": "stream",
     "text": [
      "[LightGBM] [Warning] min_data_in_leaf is set=50, min_child_samples=20 will be ignored. Current value: min_data_in_leaf=50\n"
     ]
    },
    {
     "name": "stderr",
     "output_type": "stream",
     "text": [
      "/home/kaggler/.local/lib/python3.8/site-packages/lightgbm/basic.py:1780: UserWarning: Overriding the parameters from Reference Dataset.\n",
      "  _log_warning('Overriding the parameters from Reference Dataset.')\n",
      "/home/kaggler/.local/lib/python3.8/site-packages/lightgbm/basic.py:1513: UserWarning: categorical_column in param dict is overridden.\n",
      "  _log_warning(f'{cat_alias} in param dict is overridden.')\n"
     ]
    },
    {
     "name": "stdout",
     "output_type": "stream",
     "text": [
      "[LightGBM] [Warning] min_data_in_leaf is set=50, min_child_samples=20 will be ignored. Current value: min_data_in_leaf=50\n",
      "[LightGBM] [Info] [binary:BoostFromScore]: pavg=0.704152 -> initscore=0.867147\n",
      "[LightGBM] [Info] Start training from score 0.867147\n",
      "Training until validation scores don't improve for 100 rounds\n",
      "[100]\tvalid_0's binary_logloss: 0.532476\tvalid_1's binary_logloss: 0.536408\n",
      "[200]\tvalid_0's binary_logloss: 0.501412\tvalid_1's binary_logloss: 0.509209\n",
      "[300]\tvalid_0's binary_logloss: 0.485246\tvalid_1's binary_logloss: 0.497458\n",
      "[400]\tvalid_0's binary_logloss: 0.475249\tvalid_1's binary_logloss: 0.49206\n",
      "[500]\tvalid_0's binary_logloss: 0.467884\tvalid_1's binary_logloss: 0.489332\n",
      "[600]\tvalid_0's binary_logloss: 0.461825\tvalid_1's binary_logloss: 0.488047\n",
      "[700]\tvalid_0's binary_logloss: 0.456392\tvalid_1's binary_logloss: 0.487085\n",
      "[800]\tvalid_0's binary_logloss: 0.451447\tvalid_1's binary_logloss: 0.486503\n",
      "[900]\tvalid_0's binary_logloss: 0.446867\tvalid_1's binary_logloss: 0.486065\n",
      "[1000]\tvalid_0's binary_logloss: 0.442517\tvalid_1's binary_logloss: 0.485718\n",
      "[1100]\tvalid_0's binary_logloss: 0.438454\tvalid_1's binary_logloss: 0.485445\n",
      "[1200]\tvalid_0's binary_logloss: 0.434532\tvalid_1's binary_logloss: 0.48522\n",
      "[1300]\tvalid_0's binary_logloss: 0.430899\tvalid_1's binary_logloss: 0.485013\n",
      "[1400]\tvalid_0's binary_logloss: 0.427401\tvalid_1's binary_logloss: 0.484908\n",
      "[1500]\tvalid_0's binary_logloss: 0.424122\tvalid_1's binary_logloss: 0.48481\n",
      "[1600]\tvalid_0's binary_logloss: 0.420875\tvalid_1's binary_logloss: 0.484791\n",
      "[1700]\tvalid_0's binary_logloss: 0.417807\tvalid_1's binary_logloss: 0.484708\n",
      "[1800]\tvalid_0's binary_logloss: 0.414818\tvalid_1's binary_logloss: 0.484647\n",
      "[1900]\tvalid_0's binary_logloss: 0.411926\tvalid_1's binary_logloss: 0.484522\n",
      "[2000]\tvalid_0's binary_logloss: 0.409097\tvalid_1's binary_logloss: 0.484464\n",
      "[2100]\tvalid_0's binary_logloss: 0.406278\tvalid_1's binary_logloss: 0.484341\n",
      "[2200]\tvalid_0's binary_logloss: 0.403709\tvalid_1's binary_logloss: 0.484309\n",
      "[2300]\tvalid_0's binary_logloss: 0.401074\tvalid_1's binary_logloss: 0.484271\n"
     ]
    },
    {
     "name": "stderr",
     "output_type": "stream",
     "text": [
      "regularization_factors, val_score: 0.483638:  50%|#####     | 10/20 [10:47<10:13, 61.33s/it]\u001b[32m[I 2023-02-13 09:36:17,282]\u001b[0m Trial 52 finished with value: 0.48426598582306957 and parameters: {'lambda_l1': 0.021394057895748313, 'lambda_l2': 2.234968108271044}. Best is trial 44 with value: 0.4841475838612406.\u001b[0m\n",
      "regularization_factors, val_score: 0.483638:  50%|#####     | 10/20 [10:47<10:13, 61.33s/it]"
     ]
    },
    {
     "name": "stdout",
     "output_type": "stream",
     "text": [
      "Early stopping, best iteration is:\n",
      "[2298]\tvalid_0's binary_logloss: 0.401117\tvalid_1's binary_logloss: 0.484266\n"
     ]
    },
    {
     "name": "stderr",
     "output_type": "stream",
     "text": [
      "/home/kaggler/.local/lib/python3.8/site-packages/lightgbm/engine.py:181: UserWarning: 'early_stopping_rounds' argument is deprecated and will be removed in a future release of LightGBM. Pass 'early_stopping()' callback via 'callbacks' argument instead.\n",
      "  _log_warning(\"'early_stopping_rounds' argument is deprecated and will be removed in a future release of LightGBM. \"\n",
      "/home/kaggler/.local/lib/python3.8/site-packages/lightgbm/engine.py:239: UserWarning: 'verbose_eval' argument is deprecated and will be removed in a future release of LightGBM. Pass 'log_evaluation()' callback via 'callbacks' argument instead.\n",
      "  _log_warning(\"'verbose_eval' argument is deprecated and will be removed in a future release of LightGBM. \"\n"
     ]
    },
    {
     "name": "stdout",
     "output_type": "stream",
     "text": [
      "[LightGBM] [Warning] min_data_in_leaf is set=50, min_child_samples=20 will be ignored. Current value: min_data_in_leaf=50\n",
      "[LightGBM] [Warning] min_data_in_leaf is set=50, min_child_samples=20 will be ignored. Current value: min_data_in_leaf=50\n",
      "[LightGBM] [Info] Number of positive: 119434, number of negative: 50180\n",
      "[LightGBM] [Warning] Auto-choosing col-wise multi-threading, the overhead of testing was 0.053932 seconds.\n",
      "You can set `force_col_wise=true` to remove the overhead.\n",
      "[LightGBM] [Info] Total Bins 58130\n",
      "[LightGBM] [Info] Number of data points in the train set: 169614, number of used features: 259\n"
     ]
    },
    {
     "name": "stderr",
     "output_type": "stream",
     "text": [
      "/home/kaggler/.local/lib/python3.8/site-packages/lightgbm/basic.py:1780: UserWarning: Overriding the parameters from Reference Dataset.\n",
      "  _log_warning('Overriding the parameters from Reference Dataset.')\n",
      "/home/kaggler/.local/lib/python3.8/site-packages/lightgbm/basic.py:1513: UserWarning: categorical_column in param dict is overridden.\n",
      "  _log_warning(f'{cat_alias} in param dict is overridden.')\n"
     ]
    },
    {
     "name": "stdout",
     "output_type": "stream",
     "text": [
      "[LightGBM] [Warning] min_data_in_leaf is set=50, min_child_samples=20 will be ignored. Current value: min_data_in_leaf=50\n"
     ]
    },
    {
     "name": "stderr",
     "output_type": "stream",
     "text": [
      "/home/kaggler/.local/lib/python3.8/site-packages/lightgbm/basic.py:1780: UserWarning: Overriding the parameters from Reference Dataset.\n",
      "  _log_warning('Overriding the parameters from Reference Dataset.')\n",
      "/home/kaggler/.local/lib/python3.8/site-packages/lightgbm/basic.py:1513: UserWarning: categorical_column in param dict is overridden.\n",
      "  _log_warning(f'{cat_alias} in param dict is overridden.')\n"
     ]
    },
    {
     "name": "stdout",
     "output_type": "stream",
     "text": [
      "[LightGBM] [Warning] min_data_in_leaf is set=50, min_child_samples=20 will be ignored. Current value: min_data_in_leaf=50\n",
      "[LightGBM] [Info] [binary:BoostFromScore]: pavg=0.704152 -> initscore=0.867147\n",
      "[LightGBM] [Info] Start training from score 0.867147\n",
      "Training until validation scores don't improve for 100 rounds\n",
      "[100]\tvalid_0's binary_logloss: 0.534183\tvalid_1's binary_logloss: 0.537491\n",
      "[200]\tvalid_0's binary_logloss: 0.503989\tvalid_1's binary_logloss: 0.510494\n",
      "[300]\tvalid_0's binary_logloss: 0.488507\tvalid_1's binary_logloss: 0.498545\n",
      "[400]\tvalid_0's binary_logloss: 0.479272\tvalid_1's binary_logloss: 0.493002\n",
      "[500]\tvalid_0's binary_logloss: 0.472592\tvalid_1's binary_logloss: 0.490058\n",
      "[600]\tvalid_0's binary_logloss: 0.467142\tvalid_1's binary_logloss: 0.48858\n",
      "[700]\tvalid_0's binary_logloss: 0.462295\tvalid_1's binary_logloss: 0.487417\n",
      "[800]\tvalid_0's binary_logloss: 0.457904\tvalid_1's binary_logloss: 0.486674\n",
      "[900]\tvalid_0's binary_logloss: 0.453813\tvalid_1's binary_logloss: 0.486092\n",
      "[1000]\tvalid_0's binary_logloss: 0.449941\tvalid_1's binary_logloss: 0.485608\n",
      "[1100]\tvalid_0's binary_logloss: 0.446339\tvalid_1's binary_logloss: 0.485253\n",
      "[1200]\tvalid_0's binary_logloss: 0.442893\tvalid_1's binary_logloss: 0.484973\n",
      "[1300]\tvalid_0's binary_logloss: 0.439643\tvalid_1's binary_logloss: 0.484726\n",
      "[1400]\tvalid_0's binary_logloss: 0.436549\tvalid_1's binary_logloss: 0.484568\n",
      "[1500]\tvalid_0's binary_logloss: 0.433601\tvalid_1's binary_logloss: 0.484389\n",
      "[1600]\tvalid_0's binary_logloss: 0.430733\tvalid_1's binary_logloss: 0.484279\n",
      "[1700]\tvalid_0's binary_logloss: 0.428053\tvalid_1's binary_logloss: 0.484215\n",
      "[1800]\tvalid_0's binary_logloss: 0.42541\tvalid_1's binary_logloss: 0.484136\n",
      "[1900]\tvalid_0's binary_logloss: 0.422874\tvalid_1's binary_logloss: 0.484077\n",
      "[2000]\tvalid_0's binary_logloss: 0.420394\tvalid_1's binary_logloss: 0.483991\n",
      "[2100]\tvalid_0's binary_logloss: 0.41797\tvalid_1's binary_logloss: 0.483878\n",
      "[2200]\tvalid_0's binary_logloss: 0.4157\tvalid_1's binary_logloss: 0.483819\n",
      "[2300]\tvalid_0's binary_logloss: 0.413431\tvalid_1's binary_logloss: 0.483725\n",
      "[2400]\tvalid_0's binary_logloss: 0.411217\tvalid_1's binary_logloss: 0.483758\n"
     ]
    },
    {
     "name": "stderr",
     "output_type": "stream",
     "text": [
      "regularization_factors, val_score: 0.483638:  55%|#####5    | 11/20 [12:02<09:50, 65.60s/it]\u001b[32m[I 2023-02-13 09:37:32,570]\u001b[0m Trial 53 finished with value: 0.48371284798755515 and parameters: {'lambda_l1': 9.451096373256119, 'lambda_l2': 0.004716436214782945}. Best is trial 53 with value: 0.48371284798755515.\u001b[0m\n",
      "regularization_factors, val_score: 0.483638:  55%|#####5    | 11/20 [12:02<09:50, 65.60s/it]"
     ]
    },
    {
     "name": "stdout",
     "output_type": "stream",
     "text": [
      "Early stopping, best iteration is:\n",
      "[2310]\tvalid_0's binary_logloss: 0.41321\tvalid_1's binary_logloss: 0.483713\n"
     ]
    },
    {
     "name": "stderr",
     "output_type": "stream",
     "text": [
      "/home/kaggler/.local/lib/python3.8/site-packages/lightgbm/engine.py:181: UserWarning: 'early_stopping_rounds' argument is deprecated and will be removed in a future release of LightGBM. Pass 'early_stopping()' callback via 'callbacks' argument instead.\n",
      "  _log_warning(\"'early_stopping_rounds' argument is deprecated and will be removed in a future release of LightGBM. \"\n",
      "/home/kaggler/.local/lib/python3.8/site-packages/lightgbm/engine.py:239: UserWarning: 'verbose_eval' argument is deprecated and will be removed in a future release of LightGBM. Pass 'log_evaluation()' callback via 'callbacks' argument instead.\n",
      "  _log_warning(\"'verbose_eval' argument is deprecated and will be removed in a future release of LightGBM. \"\n"
     ]
    },
    {
     "name": "stdout",
     "output_type": "stream",
     "text": [
      "[LightGBM] [Warning] min_data_in_leaf is set=50, min_child_samples=20 will be ignored. Current value: min_data_in_leaf=50\n",
      "[LightGBM] [Warning] min_data_in_leaf is set=50, min_child_samples=20 will be ignored. Current value: min_data_in_leaf=50\n",
      "[LightGBM] [Info] Number of positive: 119434, number of negative: 50180\n",
      "[LightGBM] [Warning] Auto-choosing col-wise multi-threading, the overhead of testing was 0.056177 seconds.\n",
      "You can set `force_col_wise=true` to remove the overhead.\n",
      "[LightGBM] [Info] Total Bins 58130\n",
      "[LightGBM] [Info] Number of data points in the train set: 169614, number of used features: 259\n"
     ]
    },
    {
     "name": "stderr",
     "output_type": "stream",
     "text": [
      "/home/kaggler/.local/lib/python3.8/site-packages/lightgbm/basic.py:1780: UserWarning: Overriding the parameters from Reference Dataset.\n",
      "  _log_warning('Overriding the parameters from Reference Dataset.')\n",
      "/home/kaggler/.local/lib/python3.8/site-packages/lightgbm/basic.py:1513: UserWarning: categorical_column in param dict is overridden.\n",
      "  _log_warning(f'{cat_alias} in param dict is overridden.')\n"
     ]
    },
    {
     "name": "stdout",
     "output_type": "stream",
     "text": [
      "[LightGBM] [Warning] min_data_in_leaf is set=50, min_child_samples=20 will be ignored. Current value: min_data_in_leaf=50\n"
     ]
    },
    {
     "name": "stderr",
     "output_type": "stream",
     "text": [
      "/home/kaggler/.local/lib/python3.8/site-packages/lightgbm/basic.py:1780: UserWarning: Overriding the parameters from Reference Dataset.\n",
      "  _log_warning('Overriding the parameters from Reference Dataset.')\n",
      "/home/kaggler/.local/lib/python3.8/site-packages/lightgbm/basic.py:1513: UserWarning: categorical_column in param dict is overridden.\n",
      "  _log_warning(f'{cat_alias} in param dict is overridden.')\n"
     ]
    },
    {
     "name": "stdout",
     "output_type": "stream",
     "text": [
      "[LightGBM] [Warning] min_data_in_leaf is set=50, min_child_samples=20 will be ignored. Current value: min_data_in_leaf=50\n",
      "[LightGBM] [Info] [binary:BoostFromScore]: pavg=0.704152 -> initscore=0.867147\n",
      "[LightGBM] [Info] Start training from score 0.867147\n",
      "Training until validation scores don't improve for 100 rounds\n",
      "[100]\tvalid_0's binary_logloss: 0.533013\tvalid_1's binary_logloss: 0.536683\n",
      "[200]\tvalid_0's binary_logloss: 0.502278\tvalid_1's binary_logloss: 0.509557\n",
      "[300]\tvalid_0's binary_logloss: 0.486357\tvalid_1's binary_logloss: 0.497724\n",
      "[400]\tvalid_0's binary_logloss: 0.476662\tvalid_1's binary_logloss: 0.492245\n",
      "[500]\tvalid_0's binary_logloss: 0.46954\tvalid_1's binary_logloss: 0.489441\n",
      "[600]\tvalid_0's binary_logloss: 0.46366\tvalid_1's binary_logloss: 0.488064\n",
      "[700]\tvalid_0's binary_logloss: 0.458377\tvalid_1's binary_logloss: 0.486973\n",
      "[800]\tvalid_0's binary_logloss: 0.453557\tvalid_1's binary_logloss: 0.486275\n",
      "[900]\tvalid_0's binary_logloss: 0.449115\tvalid_1's binary_logloss: 0.485773\n",
      "[1000]\tvalid_0's binary_logloss: 0.444907\tvalid_1's binary_logloss: 0.485351\n",
      "[1100]\tvalid_0's binary_logloss: 0.440999\tvalid_1's binary_logloss: 0.485121\n",
      "[1200]\tvalid_0's binary_logloss: 0.437236\tvalid_1's binary_logloss: 0.484872\n",
      "[1300]\tvalid_0's binary_logloss: 0.433703\tvalid_1's binary_logloss: 0.484717\n",
      "[1400]\tvalid_0's binary_logloss: 0.430301\tvalid_1's binary_logloss: 0.484533\n",
      "[1500]\tvalid_0's binary_logloss: 0.42708\tvalid_1's binary_logloss: 0.484332\n",
      "[1600]\tvalid_0's binary_logloss: 0.423938\tvalid_1's binary_logloss: 0.484224\n",
      "[1700]\tvalid_0's binary_logloss: 0.42099\tvalid_1's binary_logloss: 0.484111\n",
      "[1800]\tvalid_0's binary_logloss: 0.418061\tvalid_1's binary_logloss: 0.484082\n",
      "[1900]\tvalid_0's binary_logloss: 0.415306\tvalid_1's binary_logloss: 0.484015\n",
      "[2000]\tvalid_0's binary_logloss: 0.41263\tvalid_1's binary_logloss: 0.483942\n",
      "[2100]\tvalid_0's binary_logloss: 0.409923\tvalid_1's binary_logloss: 0.48388\n",
      "[2200]\tvalid_0's binary_logloss: 0.40741\tvalid_1's binary_logloss: 0.483861\n",
      "[2300]\tvalid_0's binary_logloss: 0.404878\tvalid_1's binary_logloss: 0.483838\n",
      "[2400]\tvalid_0's binary_logloss: 0.402392\tvalid_1's binary_logloss: 0.483782\n",
      "[2500]\tvalid_0's binary_logloss: 0.400029\tvalid_1's binary_logloss: 0.483686\n",
      "[2600]\tvalid_0's binary_logloss: 0.397729\tvalid_1's binary_logloss: 0.483592\n",
      "[2700]\tvalid_0's binary_logloss: 0.395514\tvalid_1's binary_logloss: 0.483558\n"
     ]
    },
    {
     "name": "stderr",
     "output_type": "stream",
     "text": [
      "regularization_factors, val_score: 0.483536:  60%|######    | 12/20 [13:24<09:23, 70.46s/it]\u001b[32m[I 2023-02-13 09:38:54,146]\u001b[0m Trial 54 finished with value: 0.4835360385459322 and parameters: {'lambda_l1': 4.134488140102331, 'lambda_l2': 0.007775200046481757}. Best is trial 54 with value: 0.4835360385459322.\u001b[0m\n",
      "regularization_factors, val_score: 0.483536:  60%|######    | 12/20 [13:24<09:23, 70.46s/it]"
     ]
    },
    {
     "name": "stdout",
     "output_type": "stream",
     "text": [
      "Early stopping, best iteration is:\n",
      "[2638]\tvalid_0's binary_logloss: 0.39688\tvalid_1's binary_logloss: 0.483536\n"
     ]
    },
    {
     "name": "stderr",
     "output_type": "stream",
     "text": [
      "/home/kaggler/.local/lib/python3.8/site-packages/lightgbm/engine.py:181: UserWarning: 'early_stopping_rounds' argument is deprecated and will be removed in a future release of LightGBM. Pass 'early_stopping()' callback via 'callbacks' argument instead.\n",
      "  _log_warning(\"'early_stopping_rounds' argument is deprecated and will be removed in a future release of LightGBM. \"\n",
      "/home/kaggler/.local/lib/python3.8/site-packages/lightgbm/engine.py:239: UserWarning: 'verbose_eval' argument is deprecated and will be removed in a future release of LightGBM. Pass 'log_evaluation()' callback via 'callbacks' argument instead.\n",
      "  _log_warning(\"'verbose_eval' argument is deprecated and will be removed in a future release of LightGBM. \"\n"
     ]
    },
    {
     "name": "stdout",
     "output_type": "stream",
     "text": [
      "[LightGBM] [Warning] min_data_in_leaf is set=50, min_child_samples=20 will be ignored. Current value: min_data_in_leaf=50\n",
      "[LightGBM] [Warning] min_data_in_leaf is set=50, min_child_samples=20 will be ignored. Current value: min_data_in_leaf=50\n",
      "[LightGBM] [Info] Number of positive: 119434, number of negative: 50180\n",
      "[LightGBM] [Warning] Auto-choosing col-wise multi-threading, the overhead of testing was 0.052389 seconds.\n",
      "You can set `force_col_wise=true` to remove the overhead.\n",
      "[LightGBM] [Info] Total Bins 58130\n",
      "[LightGBM] [Info] Number of data points in the train set: 169614, number of used features: 259\n"
     ]
    },
    {
     "name": "stderr",
     "output_type": "stream",
     "text": [
      "/home/kaggler/.local/lib/python3.8/site-packages/lightgbm/basic.py:1780: UserWarning: Overriding the parameters from Reference Dataset.\n",
      "  _log_warning('Overriding the parameters from Reference Dataset.')\n",
      "/home/kaggler/.local/lib/python3.8/site-packages/lightgbm/basic.py:1513: UserWarning: categorical_column in param dict is overridden.\n",
      "  _log_warning(f'{cat_alias} in param dict is overridden.')\n"
     ]
    },
    {
     "name": "stdout",
     "output_type": "stream",
     "text": [
      "[LightGBM] [Warning] min_data_in_leaf is set=50, min_child_samples=20 will be ignored. Current value: min_data_in_leaf=50\n"
     ]
    },
    {
     "name": "stderr",
     "output_type": "stream",
     "text": [
      "/home/kaggler/.local/lib/python3.8/site-packages/lightgbm/basic.py:1780: UserWarning: Overriding the parameters from Reference Dataset.\n",
      "  _log_warning('Overriding the parameters from Reference Dataset.')\n",
      "/home/kaggler/.local/lib/python3.8/site-packages/lightgbm/basic.py:1513: UserWarning: categorical_column in param dict is overridden.\n",
      "  _log_warning(f'{cat_alias} in param dict is overridden.')\n"
     ]
    },
    {
     "name": "stdout",
     "output_type": "stream",
     "text": [
      "[LightGBM] [Warning] min_data_in_leaf is set=50, min_child_samples=20 will be ignored. Current value: min_data_in_leaf=50\n",
      "[LightGBM] [Info] [binary:BoostFromScore]: pavg=0.704152 -> initscore=0.867147\n",
      "[LightGBM] [Info] Start training from score 0.867147\n",
      "Training until validation scores don't improve for 100 rounds\n",
      "[100]\tvalid_0's binary_logloss: 0.533893\tvalid_1's binary_logloss: 0.537308\n",
      "[200]\tvalid_0's binary_logloss: 0.503552\tvalid_1's binary_logloss: 0.510309\n",
      "[300]\tvalid_0's binary_logloss: 0.487976\tvalid_1's binary_logloss: 0.498429\n",
      "[400]\tvalid_0's binary_logloss: 0.478592\tvalid_1's binary_logloss: 0.492856\n",
      "[500]\tvalid_0's binary_logloss: 0.471806\tvalid_1's binary_logloss: 0.490003\n",
      "[600]\tvalid_0's binary_logloss: 0.466268\tvalid_1's binary_logloss: 0.488581\n",
      "[700]\tvalid_0's binary_logloss: 0.461306\tvalid_1's binary_logloss: 0.487417\n",
      "[800]\tvalid_0's binary_logloss: 0.456827\tvalid_1's binary_logloss: 0.486712\n",
      "[900]\tvalid_0's binary_logloss: 0.452653\tvalid_1's binary_logloss: 0.486164\n",
      "[1000]\tvalid_0's binary_logloss: 0.448722\tvalid_1's binary_logloss: 0.485727\n",
      "[1100]\tvalid_0's binary_logloss: 0.445048\tvalid_1's binary_logloss: 0.48542\n",
      "[1200]\tvalid_0's binary_logloss: 0.441552\tvalid_1's binary_logloss: 0.485128\n",
      "[1300]\tvalid_0's binary_logloss: 0.438248\tvalid_1's binary_logloss: 0.484925\n",
      "[1400]\tvalid_0's binary_logloss: 0.435113\tvalid_1's binary_logloss: 0.484791\n",
      "[1500]\tvalid_0's binary_logloss: 0.432073\tvalid_1's binary_logloss: 0.484658\n",
      "[1600]\tvalid_0's binary_logloss: 0.429141\tvalid_1's binary_logloss: 0.484591\n",
      "[1700]\tvalid_0's binary_logloss: 0.426369\tvalid_1's binary_logloss: 0.484455\n",
      "[1800]\tvalid_0's binary_logloss: 0.423654\tvalid_1's binary_logloss: 0.48436\n",
      "[1900]\tvalid_0's binary_logloss: 0.421077\tvalid_1's binary_logloss: 0.484338\n",
      "[2000]\tvalid_0's binary_logloss: 0.418554\tvalid_1's binary_logloss: 0.484301\n",
      "[2100]\tvalid_0's binary_logloss: 0.41606\tvalid_1's binary_logloss: 0.484241\n"
     ]
    },
    {
     "name": "stderr",
     "output_type": "stream",
     "text": [
      "regularization_factors, val_score: 0.483536:  65%|######5   | 13/20 [14:34<08:12, 70.34s/it]\u001b[32m[I 2023-02-13 09:40:04,193]\u001b[0m Trial 55 finished with value: 0.4842296662460483 and parameters: {'lambda_l1': 7.990263836901427, 'lambda_l2': 0.004987539819008698}. Best is trial 54 with value: 0.4835360385459322.\u001b[0m\n",
      "regularization_factors, val_score: 0.483536:  65%|######5   | 13/20 [14:34<08:12, 70.34s/it]"
     ]
    },
    {
     "name": "stdout",
     "output_type": "stream",
     "text": [
      "Early stopping, best iteration is:\n",
      "[2093]\tvalid_0's binary_logloss: 0.416213\tvalid_1's binary_logloss: 0.48423\n"
     ]
    },
    {
     "name": "stderr",
     "output_type": "stream",
     "text": [
      "/home/kaggler/.local/lib/python3.8/site-packages/lightgbm/engine.py:181: UserWarning: 'early_stopping_rounds' argument is deprecated and will be removed in a future release of LightGBM. Pass 'early_stopping()' callback via 'callbacks' argument instead.\n",
      "  _log_warning(\"'early_stopping_rounds' argument is deprecated and will be removed in a future release of LightGBM. \"\n",
      "/home/kaggler/.local/lib/python3.8/site-packages/lightgbm/engine.py:239: UserWarning: 'verbose_eval' argument is deprecated and will be removed in a future release of LightGBM. Pass 'log_evaluation()' callback via 'callbacks' argument instead.\n",
      "  _log_warning(\"'verbose_eval' argument is deprecated and will be removed in a future release of LightGBM. \"\n"
     ]
    },
    {
     "name": "stdout",
     "output_type": "stream",
     "text": [
      "[LightGBM] [Warning] min_data_in_leaf is set=50, min_child_samples=20 will be ignored. Current value: min_data_in_leaf=50\n",
      "[LightGBM] [Warning] min_data_in_leaf is set=50, min_child_samples=20 will be ignored. Current value: min_data_in_leaf=50\n",
      "[LightGBM] [Info] Number of positive: 119434, number of negative: 50180\n",
      "[LightGBM] [Warning] Auto-choosing col-wise multi-threading, the overhead of testing was 0.050175 seconds.\n",
      "You can set `force_col_wise=true` to remove the overhead.\n",
      "[LightGBM] [Info] Total Bins 58130\n",
      "[LightGBM] [Info] Number of data points in the train set: 169614, number of used features: 259\n"
     ]
    },
    {
     "name": "stderr",
     "output_type": "stream",
     "text": [
      "/home/kaggler/.local/lib/python3.8/site-packages/lightgbm/basic.py:1780: UserWarning: Overriding the parameters from Reference Dataset.\n",
      "  _log_warning('Overriding the parameters from Reference Dataset.')\n",
      "/home/kaggler/.local/lib/python3.8/site-packages/lightgbm/basic.py:1513: UserWarning: categorical_column in param dict is overridden.\n",
      "  _log_warning(f'{cat_alias} in param dict is overridden.')\n"
     ]
    },
    {
     "name": "stdout",
     "output_type": "stream",
     "text": [
      "[LightGBM] [Warning] min_data_in_leaf is set=50, min_child_samples=20 will be ignored. Current value: min_data_in_leaf=50\n"
     ]
    },
    {
     "name": "stderr",
     "output_type": "stream",
     "text": [
      "/home/kaggler/.local/lib/python3.8/site-packages/lightgbm/basic.py:1780: UserWarning: Overriding the parameters from Reference Dataset.\n",
      "  _log_warning('Overriding the parameters from Reference Dataset.')\n",
      "/home/kaggler/.local/lib/python3.8/site-packages/lightgbm/basic.py:1513: UserWarning: categorical_column in param dict is overridden.\n",
      "  _log_warning(f'{cat_alias} in param dict is overridden.')\n"
     ]
    },
    {
     "name": "stdout",
     "output_type": "stream",
     "text": [
      "[LightGBM] [Warning] min_data_in_leaf is set=50, min_child_samples=20 will be ignored. Current value: min_data_in_leaf=50\n",
      "[LightGBM] [Info] [binary:BoostFromScore]: pavg=0.704152 -> initscore=0.867147\n",
      "[LightGBM] [Info] Start training from score 0.867147\n",
      "Training until validation scores don't improve for 100 rounds\n",
      "[100]\tvalid_0's binary_logloss: 0.532288\tvalid_1's binary_logloss: 0.536294\n",
      "[200]\tvalid_0's binary_logloss: 0.501192\tvalid_1's binary_logloss: 0.509202\n",
      "[300]\tvalid_0's binary_logloss: 0.485018\tvalid_1's binary_logloss: 0.497479\n",
      "[400]\tvalid_0's binary_logloss: 0.475012\tvalid_1's binary_logloss: 0.492157\n",
      "[500]\tvalid_0's binary_logloss: 0.467574\tvalid_1's binary_logloss: 0.48941\n",
      "[600]\tvalid_0's binary_logloss: 0.461406\tvalid_1's binary_logloss: 0.48818\n",
      "[700]\tvalid_0's binary_logloss: 0.455832\tvalid_1's binary_logloss: 0.48724\n",
      "[800]\tvalid_0's binary_logloss: 0.450741\tvalid_1's binary_logloss: 0.486676\n",
      "[900]\tvalid_0's binary_logloss: 0.446011\tvalid_1's binary_logloss: 0.486251\n",
      "[1000]\tvalid_0's binary_logloss: 0.441542\tvalid_1's binary_logloss: 0.485925\n",
      "[1100]\tvalid_0's binary_logloss: 0.437326\tvalid_1's binary_logloss: 0.485662\n",
      "[1200]\tvalid_0's binary_logloss: 0.433324\tvalid_1's binary_logloss: 0.485479\n",
      "[1300]\tvalid_0's binary_logloss: 0.429604\tvalid_1's binary_logloss: 0.485312\n",
      "[1400]\tvalid_0's binary_logloss: 0.426006\tvalid_1's binary_logloss: 0.485194\n",
      "[1500]\tvalid_0's binary_logloss: 0.422609\tvalid_1's binary_logloss: 0.485071\n",
      "[1600]\tvalid_0's binary_logloss: 0.419289\tvalid_1's binary_logloss: 0.485026\n",
      "[1700]\tvalid_0's binary_logloss: 0.416149\tvalid_1's binary_logloss: 0.484953\n",
      "[1800]\tvalid_0's binary_logloss: 0.413062\tvalid_1's binary_logloss: 0.484908\n",
      "[1900]\tvalid_0's binary_logloss: 0.410077\tvalid_1's binary_logloss: 0.484808\n",
      "[2000]\tvalid_0's binary_logloss: 0.407171\tvalid_1's binary_logloss: 0.484793\n",
      "[2100]\tvalid_0's binary_logloss: 0.404256\tvalid_1's binary_logloss: 0.4847\n"
     ]
    },
    {
     "name": "stderr",
     "output_type": "stream",
     "text": [
      "regularization_factors, val_score: 0.483536:  70%|#######   | 14/20 [15:36<06:46, 67.78s/it]\u001b[32m[I 2023-02-13 09:41:06,056]\u001b[0m Trial 56 finished with value: 0.48469587281012233 and parameters: {'lambda_l1': 1.040052886215707, 'lambda_l2': 0.0011391671148490534}. Best is trial 54 with value: 0.4835360385459322.\u001b[0m\n",
      "regularization_factors, val_score: 0.483536:  70%|#######   | 14/20 [15:36<06:46, 67.78s/it]"
     ]
    },
    {
     "name": "stdout",
     "output_type": "stream",
     "text": [
      "Early stopping, best iteration is:\n",
      "[2097]\tvalid_0's binary_logloss: 0.404335\tvalid_1's binary_logloss: 0.484696\n"
     ]
    },
    {
     "name": "stderr",
     "output_type": "stream",
     "text": [
      "/home/kaggler/.local/lib/python3.8/site-packages/lightgbm/engine.py:181: UserWarning: 'early_stopping_rounds' argument is deprecated and will be removed in a future release of LightGBM. Pass 'early_stopping()' callback via 'callbacks' argument instead.\n",
      "  _log_warning(\"'early_stopping_rounds' argument is deprecated and will be removed in a future release of LightGBM. \"\n",
      "/home/kaggler/.local/lib/python3.8/site-packages/lightgbm/engine.py:239: UserWarning: 'verbose_eval' argument is deprecated and will be removed in a future release of LightGBM. Pass 'log_evaluation()' callback via 'callbacks' argument instead.\n",
      "  _log_warning(\"'verbose_eval' argument is deprecated and will be removed in a future release of LightGBM. \"\n"
     ]
    },
    {
     "name": "stdout",
     "output_type": "stream",
     "text": [
      "[LightGBM] [Warning] min_data_in_leaf is set=50, min_child_samples=20 will be ignored. Current value: min_data_in_leaf=50\n",
      "[LightGBM] [Warning] min_data_in_leaf is set=50, min_child_samples=20 will be ignored. Current value: min_data_in_leaf=50\n",
      "[LightGBM] [Info] Number of positive: 119434, number of negative: 50180\n",
      "[LightGBM] [Warning] Auto-choosing col-wise multi-threading, the overhead of testing was 0.051345 seconds.\n",
      "You can set `force_col_wise=true` to remove the overhead.\n",
      "[LightGBM] [Info] Total Bins 58130\n",
      "[LightGBM] [Info] Number of data points in the train set: 169614, number of used features: 259\n"
     ]
    },
    {
     "name": "stderr",
     "output_type": "stream",
     "text": [
      "/home/kaggler/.local/lib/python3.8/site-packages/lightgbm/basic.py:1780: UserWarning: Overriding the parameters from Reference Dataset.\n",
      "  _log_warning('Overriding the parameters from Reference Dataset.')\n",
      "/home/kaggler/.local/lib/python3.8/site-packages/lightgbm/basic.py:1513: UserWarning: categorical_column in param dict is overridden.\n",
      "  _log_warning(f'{cat_alias} in param dict is overridden.')\n"
     ]
    },
    {
     "name": "stdout",
     "output_type": "stream",
     "text": [
      "[LightGBM] [Warning] min_data_in_leaf is set=50, min_child_samples=20 will be ignored. Current value: min_data_in_leaf=50\n"
     ]
    },
    {
     "name": "stderr",
     "output_type": "stream",
     "text": [
      "/home/kaggler/.local/lib/python3.8/site-packages/lightgbm/basic.py:1780: UserWarning: Overriding the parameters from Reference Dataset.\n",
      "  _log_warning('Overriding the parameters from Reference Dataset.')\n",
      "/home/kaggler/.local/lib/python3.8/site-packages/lightgbm/basic.py:1513: UserWarning: categorical_column in param dict is overridden.\n",
      "  _log_warning(f'{cat_alias} in param dict is overridden.')\n"
     ]
    },
    {
     "name": "stdout",
     "output_type": "stream",
     "text": [
      "[LightGBM] [Warning] min_data_in_leaf is set=50, min_child_samples=20 will be ignored. Current value: min_data_in_leaf=50\n",
      "[LightGBM] [Info] [binary:BoostFromScore]: pavg=0.704152 -> initscore=0.867147\n",
      "[LightGBM] [Info] Start training from score 0.867147\n",
      "Training until validation scores don't improve for 100 rounds\n",
      "[100]\tvalid_0's binary_logloss: 0.532171\tvalid_1's binary_logloss: 0.536216\n",
      "[200]\tvalid_0's binary_logloss: 0.501013\tvalid_1's binary_logloss: 0.509127\n",
      "[300]\tvalid_0's binary_logloss: 0.484767\tvalid_1's binary_logloss: 0.497428\n",
      "[400]\tvalid_0's binary_logloss: 0.474682\tvalid_1's binary_logloss: 0.492046\n",
      "[500]\tvalid_0's binary_logloss: 0.467187\tvalid_1's binary_logloss: 0.48938\n",
      "[600]\tvalid_0's binary_logloss: 0.460995\tvalid_1's binary_logloss: 0.488066\n",
      "[700]\tvalid_0's binary_logloss: 0.455363\tvalid_1's binary_logloss: 0.487067\n",
      "[800]\tvalid_0's binary_logloss: 0.450268\tvalid_1's binary_logloss: 0.486496\n",
      "[900]\tvalid_0's binary_logloss: 0.445523\tvalid_1's binary_logloss: 0.486153\n",
      "[1000]\tvalid_0's binary_logloss: 0.441074\tvalid_1's binary_logloss: 0.485828\n",
      "[1100]\tvalid_0's binary_logloss: 0.436861\tvalid_1's binary_logloss: 0.485481\n",
      "[1200]\tvalid_0's binary_logloss: 0.432813\tvalid_1's binary_logloss: 0.485189\n",
      "[1300]\tvalid_0's binary_logloss: 0.429051\tvalid_1's binary_logloss: 0.484972\n",
      "[1400]\tvalid_0's binary_logloss: 0.425415\tvalid_1's binary_logloss: 0.484887\n",
      "[1500]\tvalid_0's binary_logloss: 0.421992\tvalid_1's binary_logloss: 0.484703\n",
      "[1600]\tvalid_0's binary_logloss: 0.418656\tvalid_1's binary_logloss: 0.48459\n",
      "[1700]\tvalid_0's binary_logloss: 0.415488\tvalid_1's binary_logloss: 0.484448\n",
      "[1800]\tvalid_0's binary_logloss: 0.412377\tvalid_1's binary_logloss: 0.484391\n",
      "[1900]\tvalid_0's binary_logloss: 0.409382\tvalid_1's binary_logloss: 0.484355\n",
      "[2000]\tvalid_0's binary_logloss: 0.406464\tvalid_1's binary_logloss: 0.484341\n"
     ]
    },
    {
     "name": "stderr",
     "output_type": "stream",
     "text": [
      "regularization_factors, val_score: 0.483536:  75%|#######5  | 15/20 [16:34<05:25, 65.01s/it]\u001b[32m[I 2023-02-13 09:42:04,646]\u001b[0m Trial 57 finished with value: 0.4843189863875675 and parameters: {'lambda_l1': 0.5005238799008884, 'lambda_l2': 0.00011431093837457536}. Best is trial 54 with value: 0.4835360385459322.\u001b[0m\n",
      "regularization_factors, val_score: 0.483536:  75%|#######5  | 15/20 [16:34<05:25, 65.01s/it]"
     ]
    },
    {
     "name": "stdout",
     "output_type": "stream",
     "text": [
      "Early stopping, best iteration is:\n",
      "[1984]\tvalid_0's binary_logloss: 0.406954\tvalid_1's binary_logloss: 0.484319\n"
     ]
    },
    {
     "name": "stderr",
     "output_type": "stream",
     "text": [
      "/home/kaggler/.local/lib/python3.8/site-packages/lightgbm/engine.py:181: UserWarning: 'early_stopping_rounds' argument is deprecated and will be removed in a future release of LightGBM. Pass 'early_stopping()' callback via 'callbacks' argument instead.\n",
      "  _log_warning(\"'early_stopping_rounds' argument is deprecated and will be removed in a future release of LightGBM. \"\n",
      "/home/kaggler/.local/lib/python3.8/site-packages/lightgbm/engine.py:239: UserWarning: 'verbose_eval' argument is deprecated and will be removed in a future release of LightGBM. Pass 'log_evaluation()' callback via 'callbacks' argument instead.\n",
      "  _log_warning(\"'verbose_eval' argument is deprecated and will be removed in a future release of LightGBM. \"\n"
     ]
    },
    {
     "name": "stdout",
     "output_type": "stream",
     "text": [
      "[LightGBM] [Warning] min_data_in_leaf is set=50, min_child_samples=20 will be ignored. Current value: min_data_in_leaf=50\n",
      "[LightGBM] [Warning] min_data_in_leaf is set=50, min_child_samples=20 will be ignored. Current value: min_data_in_leaf=50\n",
      "[LightGBM] [Info] Number of positive: 119434, number of negative: 50180\n",
      "[LightGBM] [Warning] Auto-choosing col-wise multi-threading, the overhead of testing was 0.051294 seconds.\n",
      "You can set `force_col_wise=true` to remove the overhead.\n",
      "[LightGBM] [Info] Total Bins 58130\n",
      "[LightGBM] [Info] Number of data points in the train set: 169614, number of used features: 259\n"
     ]
    },
    {
     "name": "stderr",
     "output_type": "stream",
     "text": [
      "/home/kaggler/.local/lib/python3.8/site-packages/lightgbm/basic.py:1780: UserWarning: Overriding the parameters from Reference Dataset.\n",
      "  _log_warning('Overriding the parameters from Reference Dataset.')\n",
      "/home/kaggler/.local/lib/python3.8/site-packages/lightgbm/basic.py:1513: UserWarning: categorical_column in param dict is overridden.\n",
      "  _log_warning(f'{cat_alias} in param dict is overridden.')\n"
     ]
    },
    {
     "name": "stdout",
     "output_type": "stream",
     "text": [
      "[LightGBM] [Warning] min_data_in_leaf is set=50, min_child_samples=20 will be ignored. Current value: min_data_in_leaf=50\n"
     ]
    },
    {
     "name": "stderr",
     "output_type": "stream",
     "text": [
      "/home/kaggler/.local/lib/python3.8/site-packages/lightgbm/basic.py:1780: UserWarning: Overriding the parameters from Reference Dataset.\n",
      "  _log_warning('Overriding the parameters from Reference Dataset.')\n",
      "/home/kaggler/.local/lib/python3.8/site-packages/lightgbm/basic.py:1513: UserWarning: categorical_column in param dict is overridden.\n",
      "  _log_warning(f'{cat_alias} in param dict is overridden.')\n"
     ]
    },
    {
     "name": "stdout",
     "output_type": "stream",
     "text": [
      "[LightGBM] [Warning] min_data_in_leaf is set=50, min_child_samples=20 will be ignored. Current value: min_data_in_leaf=50\n",
      "[LightGBM] [Info] [binary:BoostFromScore]: pavg=0.704152 -> initscore=0.867147\n",
      "[LightGBM] [Info] Start training from score 0.867147\n",
      "Training until validation scores don't improve for 100 rounds\n",
      "[100]\tvalid_0's binary_logloss: 0.534131\tvalid_1's binary_logloss: 0.537414\n",
      "[200]\tvalid_0's binary_logloss: 0.503903\tvalid_1's binary_logloss: 0.510394\n",
      "[300]\tvalid_0's binary_logloss: 0.488433\tvalid_1's binary_logloss: 0.49848\n",
      "[400]\tvalid_0's binary_logloss: 0.479175\tvalid_1's binary_logloss: 0.492884\n",
      "[500]\tvalid_0's binary_logloss: 0.472482\tvalid_1's binary_logloss: 0.489933\n",
      "[600]\tvalid_0's binary_logloss: 0.467044\tvalid_1's binary_logloss: 0.488441\n",
      "[700]\tvalid_0's binary_logloss: 0.462193\tvalid_1's binary_logloss: 0.487287\n",
      "[800]\tvalid_0's binary_logloss: 0.457782\tvalid_1's binary_logloss: 0.48655\n",
      "[900]\tvalid_0's binary_logloss: 0.453677\tvalid_1's binary_logloss: 0.486028\n",
      "[1000]\tvalid_0's binary_logloss: 0.44981\tvalid_1's binary_logloss: 0.485562\n",
      "[1100]\tvalid_0's binary_logloss: 0.446184\tvalid_1's binary_logloss: 0.485228\n",
      "[1200]\tvalid_0's binary_logloss: 0.442742\tvalid_1's binary_logloss: 0.485025\n",
      "[1300]\tvalid_0's binary_logloss: 0.439483\tvalid_1's binary_logloss: 0.484775\n",
      "[1400]\tvalid_0's binary_logloss: 0.436361\tvalid_1's binary_logloss: 0.484595\n",
      "[1500]\tvalid_0's binary_logloss: 0.433399\tvalid_1's binary_logloss: 0.484452\n",
      "[1600]\tvalid_0's binary_logloss: 0.430518\tvalid_1's binary_logloss: 0.484331\n",
      "[1700]\tvalid_0's binary_logloss: 0.427805\tvalid_1's binary_logloss: 0.484154\n",
      "[1800]\tvalid_0's binary_logloss: 0.425139\tvalid_1's binary_logloss: 0.48413\n",
      "[1900]\tvalid_0's binary_logloss: 0.422612\tvalid_1's binary_logloss: 0.484054\n",
      "[2000]\tvalid_0's binary_logloss: 0.420129\tvalid_1's binary_logloss: 0.484014\n",
      "[2100]\tvalid_0's binary_logloss: 0.417691\tvalid_1's binary_logloss: 0.483888\n",
      "[2200]\tvalid_0's binary_logloss: 0.415399\tvalid_1's binary_logloss: 0.48386\n",
      "[2300]\tvalid_0's binary_logloss: 0.413093\tvalid_1's binary_logloss: 0.483833\n",
      "[2400]\tvalid_0's binary_logloss: 0.41086\tvalid_1's binary_logloss: 0.48376\n"
     ]
    },
    {
     "name": "stderr",
     "output_type": "stream",
     "text": [
      "regularization_factors, val_score: 0.483536:  80%|########  | 16/20 [17:51<04:33, 68.45s/it]\u001b[32m[I 2023-02-13 09:43:21,105]\u001b[0m Trial 58 finished with value: 0.4837349221962754 and parameters: {'lambda_l1': 9.186078371027389, 'lambda_l2': 0.003656384674005334}. Best is trial 54 with value: 0.4835360385459322.\u001b[0m\n",
      "regularization_factors, val_score: 0.483536:  80%|########  | 16/20 [17:51<04:33, 68.45s/it]"
     ]
    },
    {
     "name": "stdout",
     "output_type": "stream",
     "text": [
      "Early stopping, best iteration is:\n",
      "[2356]\tvalid_0's binary_logloss: 0.411818\tvalid_1's binary_logloss: 0.483735\n"
     ]
    },
    {
     "name": "stderr",
     "output_type": "stream",
     "text": [
      "/home/kaggler/.local/lib/python3.8/site-packages/lightgbm/engine.py:181: UserWarning: 'early_stopping_rounds' argument is deprecated and will be removed in a future release of LightGBM. Pass 'early_stopping()' callback via 'callbacks' argument instead.\n",
      "  _log_warning(\"'early_stopping_rounds' argument is deprecated and will be removed in a future release of LightGBM. \"\n",
      "/home/kaggler/.local/lib/python3.8/site-packages/lightgbm/engine.py:239: UserWarning: 'verbose_eval' argument is deprecated and will be removed in a future release of LightGBM. Pass 'log_evaluation()' callback via 'callbacks' argument instead.\n",
      "  _log_warning(\"'verbose_eval' argument is deprecated and will be removed in a future release of LightGBM. \"\n"
     ]
    },
    {
     "name": "stdout",
     "output_type": "stream",
     "text": [
      "[LightGBM] [Warning] min_data_in_leaf is set=50, min_child_samples=20 will be ignored. Current value: min_data_in_leaf=50\n",
      "[LightGBM] [Warning] min_data_in_leaf is set=50, min_child_samples=20 will be ignored. Current value: min_data_in_leaf=50\n",
      "[LightGBM] [Info] Number of positive: 119434, number of negative: 50180\n",
      "[LightGBM] [Warning] Auto-choosing col-wise multi-threading, the overhead of testing was 0.054377 seconds.\n",
      "You can set `force_col_wise=true` to remove the overhead.\n",
      "[LightGBM] [Info] Total Bins 58130\n",
      "[LightGBM] [Info] Number of data points in the train set: 169614, number of used features: 259\n"
     ]
    },
    {
     "name": "stderr",
     "output_type": "stream",
     "text": [
      "/home/kaggler/.local/lib/python3.8/site-packages/lightgbm/basic.py:1780: UserWarning: Overriding the parameters from Reference Dataset.\n",
      "  _log_warning('Overriding the parameters from Reference Dataset.')\n",
      "/home/kaggler/.local/lib/python3.8/site-packages/lightgbm/basic.py:1513: UserWarning: categorical_column in param dict is overridden.\n",
      "  _log_warning(f'{cat_alias} in param dict is overridden.')\n"
     ]
    },
    {
     "name": "stdout",
     "output_type": "stream",
     "text": [
      "[LightGBM] [Warning] min_data_in_leaf is set=50, min_child_samples=20 will be ignored. Current value: min_data_in_leaf=50\n"
     ]
    },
    {
     "name": "stderr",
     "output_type": "stream",
     "text": [
      "/home/kaggler/.local/lib/python3.8/site-packages/lightgbm/basic.py:1780: UserWarning: Overriding the parameters from Reference Dataset.\n",
      "  _log_warning('Overriding the parameters from Reference Dataset.')\n",
      "/home/kaggler/.local/lib/python3.8/site-packages/lightgbm/basic.py:1513: UserWarning: categorical_column in param dict is overridden.\n",
      "  _log_warning(f'{cat_alias} in param dict is overridden.')\n"
     ]
    },
    {
     "name": "stdout",
     "output_type": "stream",
     "text": [
      "[LightGBM] [Warning] min_data_in_leaf is set=50, min_child_samples=20 will be ignored. Current value: min_data_in_leaf=50\n",
      "[LightGBM] [Info] [binary:BoostFromScore]: pavg=0.704152 -> initscore=0.867147\n",
      "[LightGBM] [Info] Start training from score 0.867147\n",
      "Training until validation scores don't improve for 100 rounds\n",
      "[100]\tvalid_0's binary_logloss: 0.532154\tvalid_1's binary_logloss: 0.536196\n",
      "[200]\tvalid_0's binary_logloss: 0.501003\tvalid_1's binary_logloss: 0.509125\n",
      "[300]\tvalid_0's binary_logloss: 0.48477\tvalid_1's binary_logloss: 0.49743\n",
      "[400]\tvalid_0's binary_logloss: 0.474632\tvalid_1's binary_logloss: 0.492122\n",
      "[500]\tvalid_0's binary_logloss: 0.467157\tvalid_1's binary_logloss: 0.489456\n",
      "[600]\tvalid_0's binary_logloss: 0.460955\tvalid_1's binary_logloss: 0.488155\n",
      "[700]\tvalid_0's binary_logloss: 0.455323\tvalid_1's binary_logloss: 0.487167\n",
      "[800]\tvalid_0's binary_logloss: 0.450206\tvalid_1's binary_logloss: 0.486573\n",
      "[900]\tvalid_0's binary_logloss: 0.445489\tvalid_1's binary_logloss: 0.486152\n",
      "[1000]\tvalid_0's binary_logloss: 0.441013\tvalid_1's binary_logloss: 0.485824\n",
      "[1100]\tvalid_0's binary_logloss: 0.436805\tvalid_1's binary_logloss: 0.485506\n",
      "[1200]\tvalid_0's binary_logloss: 0.432731\tvalid_1's binary_logloss: 0.485307\n",
      "[1300]\tvalid_0's binary_logloss: 0.428972\tvalid_1's binary_logloss: 0.485204\n",
      "[1400]\tvalid_0's binary_logloss: 0.425301\tvalid_1's binary_logloss: 0.485077\n",
      "[1500]\tvalid_0's binary_logloss: 0.421895\tvalid_1's binary_logloss: 0.484952\n",
      "[1600]\tvalid_0's binary_logloss: 0.418551\tvalid_1's binary_logloss: 0.484861\n",
      "[1700]\tvalid_0's binary_logloss: 0.415407\tvalid_1's binary_logloss: 0.484758\n",
      "[1800]\tvalid_0's binary_logloss: 0.412292\tvalid_1's binary_logloss: 0.484745\n",
      "[1900]\tvalid_0's binary_logloss: 0.409302\tvalid_1's binary_logloss: 0.484699\n"
     ]
    },
    {
     "name": "stderr",
     "output_type": "stream",
     "text": [
      "regularization_factors, val_score: 0.483536:  85%|########5 | 17/20 [18:50<03:17, 65.78s/it]\u001b[32m[I 2023-02-13 09:44:20,669]\u001b[0m Trial 59 finished with value: 0.4846810087766923 and parameters: {'lambda_l1': 0.3605852397425263, 'lambda_l2': 0.041218796133482304}. Best is trial 54 with value: 0.4835360385459322.\u001b[0m\n",
      "regularization_factors, val_score: 0.483536:  85%|########5 | 17/20 [18:50<03:17, 65.78s/it]"
     ]
    },
    {
     "name": "stdout",
     "output_type": "stream",
     "text": [
      "Early stopping, best iteration is:\n",
      "[1873]\tvalid_0's binary_logloss: 0.410112\tvalid_1's binary_logloss: 0.484681\n"
     ]
    },
    {
     "name": "stderr",
     "output_type": "stream",
     "text": [
      "/home/kaggler/.local/lib/python3.8/site-packages/lightgbm/engine.py:181: UserWarning: 'early_stopping_rounds' argument is deprecated and will be removed in a future release of LightGBM. Pass 'early_stopping()' callback via 'callbacks' argument instead.\n",
      "  _log_warning(\"'early_stopping_rounds' argument is deprecated and will be removed in a future release of LightGBM. \"\n",
      "/home/kaggler/.local/lib/python3.8/site-packages/lightgbm/engine.py:239: UserWarning: 'verbose_eval' argument is deprecated and will be removed in a future release of LightGBM. Pass 'log_evaluation()' callback via 'callbacks' argument instead.\n",
      "  _log_warning(\"'verbose_eval' argument is deprecated and will be removed in a future release of LightGBM. \"\n"
     ]
    },
    {
     "name": "stdout",
     "output_type": "stream",
     "text": [
      "[LightGBM] [Warning] min_data_in_leaf is set=50, min_child_samples=20 will be ignored. Current value: min_data_in_leaf=50\n",
      "[LightGBM] [Warning] min_data_in_leaf is set=50, min_child_samples=20 will be ignored. Current value: min_data_in_leaf=50\n",
      "[LightGBM] [Info] Number of positive: 119434, number of negative: 50180\n",
      "[LightGBM] [Warning] Auto-choosing col-wise multi-threading, the overhead of testing was 0.054651 seconds.\n",
      "You can set `force_col_wise=true` to remove the overhead.\n",
      "[LightGBM] [Info] Total Bins 58130\n",
      "[LightGBM] [Info] Number of data points in the train set: 169614, number of used features: 259\n"
     ]
    },
    {
     "name": "stderr",
     "output_type": "stream",
     "text": [
      "/home/kaggler/.local/lib/python3.8/site-packages/lightgbm/basic.py:1780: UserWarning: Overriding the parameters from Reference Dataset.\n",
      "  _log_warning('Overriding the parameters from Reference Dataset.')\n",
      "/home/kaggler/.local/lib/python3.8/site-packages/lightgbm/basic.py:1513: UserWarning: categorical_column in param dict is overridden.\n",
      "  _log_warning(f'{cat_alias} in param dict is overridden.')\n"
     ]
    },
    {
     "name": "stdout",
     "output_type": "stream",
     "text": [
      "[LightGBM] [Warning] min_data_in_leaf is set=50, min_child_samples=20 will be ignored. Current value: min_data_in_leaf=50\n"
     ]
    },
    {
     "name": "stderr",
     "output_type": "stream",
     "text": [
      "/home/kaggler/.local/lib/python3.8/site-packages/lightgbm/basic.py:1780: UserWarning: Overriding the parameters from Reference Dataset.\n",
      "  _log_warning('Overriding the parameters from Reference Dataset.')\n",
      "/home/kaggler/.local/lib/python3.8/site-packages/lightgbm/basic.py:1513: UserWarning: categorical_column in param dict is overridden.\n",
      "  _log_warning(f'{cat_alias} in param dict is overridden.')\n"
     ]
    },
    {
     "name": "stdout",
     "output_type": "stream",
     "text": [
      "[LightGBM] [Warning] min_data_in_leaf is set=50, min_child_samples=20 will be ignored. Current value: min_data_in_leaf=50\n",
      "[LightGBM] [Info] [binary:BoostFromScore]: pavg=0.704152 -> initscore=0.867147\n",
      "[LightGBM] [Info] Start training from score 0.867147\n",
      "Training until validation scores don't improve for 100 rounds\n",
      "[100]\tvalid_0's binary_logloss: 0.532119\tvalid_1's binary_logloss: 0.536197\n",
      "[200]\tvalid_0's binary_logloss: 0.50096\tvalid_1's binary_logloss: 0.509195\n",
      "[300]\tvalid_0's binary_logloss: 0.484693\tvalid_1's binary_logloss: 0.497497\n",
      "[400]\tvalid_0's binary_logloss: 0.474569\tvalid_1's binary_logloss: 0.492172\n",
      "[500]\tvalid_0's binary_logloss: 0.467043\tvalid_1's binary_logloss: 0.489483\n",
      "[600]\tvalid_0's binary_logloss: 0.460833\tvalid_1's binary_logloss: 0.488218\n",
      "[700]\tvalid_0's binary_logloss: 0.455213\tvalid_1's binary_logloss: 0.487218\n",
      "[800]\tvalid_0's binary_logloss: 0.450115\tvalid_1's binary_logloss: 0.486612\n",
      "[900]\tvalid_0's binary_logloss: 0.445363\tvalid_1's binary_logloss: 0.486231\n",
      "[1000]\tvalid_0's binary_logloss: 0.440848\tvalid_1's binary_logloss: 0.4859\n",
      "[1100]\tvalid_0's binary_logloss: 0.436685\tvalid_1's binary_logloss: 0.485666\n",
      "[1200]\tvalid_0's binary_logloss: 0.432624\tvalid_1's binary_logloss: 0.48543\n",
      "[1300]\tvalid_0's binary_logloss: 0.428833\tvalid_1's binary_logloss: 0.48532\n",
      "[1400]\tvalid_0's binary_logloss: 0.425134\tvalid_1's binary_logloss: 0.485224\n",
      "[1500]\tvalid_0's binary_logloss: 0.421702\tvalid_1's binary_logloss: 0.485027\n",
      "[1600]\tvalid_0's binary_logloss: 0.418368\tvalid_1's binary_logloss: 0.484929\n",
      "[1700]\tvalid_0's binary_logloss: 0.415185\tvalid_1's binary_logloss: 0.484753\n",
      "[1800]\tvalid_0's binary_logloss: 0.412049\tvalid_1's binary_logloss: 0.484683\n",
      "[1900]\tvalid_0's binary_logloss: 0.409085\tvalid_1's binary_logloss: 0.484623\n",
      "[2000]\tvalid_0's binary_logloss: 0.406123\tvalid_1's binary_logloss: 0.484626\n",
      "[2100]\tvalid_0's binary_logloss: 0.403175\tvalid_1's binary_logloss: 0.484523\n"
     ]
    },
    {
     "name": "stderr",
     "output_type": "stream",
     "text": [
      "regularization_factors, val_score: 0.483536:  90%|######### | 18/20 [19:50<02:08, 64.13s/it]\u001b[32m[I 2023-02-13 09:45:20,942]\u001b[0m Trial 60 finished with value: 0.4845123949661519 and parameters: {'lambda_l1': 0.22436215199827603, 'lambda_l2': 0.00035273504569800475}. Best is trial 54 with value: 0.4835360385459322.\u001b[0m\n",
      "regularization_factors, val_score: 0.483536:  90%|######### | 18/20 [19:50<02:08, 64.13s/it]"
     ]
    },
    {
     "name": "stdout",
     "output_type": "stream",
     "text": [
      "[2200]\tvalid_0's binary_logloss: 0.400509\tvalid_1's binary_logloss: 0.484568\n",
      "Early stopping, best iteration is:\n",
      "[2103]\tvalid_0's binary_logloss: 0.40309\tvalid_1's binary_logloss: 0.484512\n"
     ]
    },
    {
     "name": "stderr",
     "output_type": "stream",
     "text": [
      "/home/kaggler/.local/lib/python3.8/site-packages/lightgbm/engine.py:181: UserWarning: 'early_stopping_rounds' argument is deprecated and will be removed in a future release of LightGBM. Pass 'early_stopping()' callback via 'callbacks' argument instead.\n",
      "  _log_warning(\"'early_stopping_rounds' argument is deprecated and will be removed in a future release of LightGBM. \"\n",
      "/home/kaggler/.local/lib/python3.8/site-packages/lightgbm/engine.py:239: UserWarning: 'verbose_eval' argument is deprecated and will be removed in a future release of LightGBM. Pass 'log_evaluation()' callback via 'callbacks' argument instead.\n",
      "  _log_warning(\"'verbose_eval' argument is deprecated and will be removed in a future release of LightGBM. \"\n"
     ]
    },
    {
     "name": "stdout",
     "output_type": "stream",
     "text": [
      "[LightGBM] [Warning] min_data_in_leaf is set=50, min_child_samples=20 will be ignored. Current value: min_data_in_leaf=50\n",
      "[LightGBM] [Warning] min_data_in_leaf is set=50, min_child_samples=20 will be ignored. Current value: min_data_in_leaf=50\n",
      "[LightGBM] [Info] Number of positive: 119434, number of negative: 50180\n",
      "[LightGBM] [Warning] Auto-choosing col-wise multi-threading, the overhead of testing was 0.055434 seconds.\n",
      "You can set `force_col_wise=true` to remove the overhead.\n",
      "[LightGBM] [Info] Total Bins 58130\n",
      "[LightGBM] [Info] Number of data points in the train set: 169614, number of used features: 259\n"
     ]
    },
    {
     "name": "stderr",
     "output_type": "stream",
     "text": [
      "/home/kaggler/.local/lib/python3.8/site-packages/lightgbm/basic.py:1780: UserWarning: Overriding the parameters from Reference Dataset.\n",
      "  _log_warning('Overriding the parameters from Reference Dataset.')\n",
      "/home/kaggler/.local/lib/python3.8/site-packages/lightgbm/basic.py:1513: UserWarning: categorical_column in param dict is overridden.\n",
      "  _log_warning(f'{cat_alias} in param dict is overridden.')\n"
     ]
    },
    {
     "name": "stdout",
     "output_type": "stream",
     "text": [
      "[LightGBM] [Warning] min_data_in_leaf is set=50, min_child_samples=20 will be ignored. Current value: min_data_in_leaf=50\n"
     ]
    },
    {
     "name": "stderr",
     "output_type": "stream",
     "text": [
      "/home/kaggler/.local/lib/python3.8/site-packages/lightgbm/basic.py:1780: UserWarning: Overriding the parameters from Reference Dataset.\n",
      "  _log_warning('Overriding the parameters from Reference Dataset.')\n",
      "/home/kaggler/.local/lib/python3.8/site-packages/lightgbm/basic.py:1513: UserWarning: categorical_column in param dict is overridden.\n",
      "  _log_warning(f'{cat_alias} in param dict is overridden.')\n"
     ]
    },
    {
     "name": "stdout",
     "output_type": "stream",
     "text": [
      "[LightGBM] [Warning] min_data_in_leaf is set=50, min_child_samples=20 will be ignored. Current value: min_data_in_leaf=50\n",
      "[LightGBM] [Info] [binary:BoostFromScore]: pavg=0.704152 -> initscore=0.867147\n",
      "[LightGBM] [Info] Start training from score 0.867147\n",
      "Training until validation scores don't improve for 100 rounds\n",
      "[100]\tvalid_0's binary_logloss: 0.533259\tvalid_1's binary_logloss: 0.536871\n",
      "[200]\tvalid_0's binary_logloss: 0.502648\tvalid_1's binary_logloss: 0.509845\n",
      "[300]\tvalid_0's binary_logloss: 0.486825\tvalid_1's binary_logloss: 0.497989\n",
      "[400]\tvalid_0's binary_logloss: 0.477226\tvalid_1's binary_logloss: 0.492459\n",
      "[500]\tvalid_0's binary_logloss: 0.47021\tvalid_1's binary_logloss: 0.489712\n",
      "[600]\tvalid_0's binary_logloss: 0.464457\tvalid_1's binary_logloss: 0.48829\n",
      "[700]\tvalid_0's binary_logloss: 0.459283\tvalid_1's binary_logloss: 0.487131\n",
      "[800]\tvalid_0's binary_logloss: 0.454563\tvalid_1's binary_logloss: 0.486461\n",
      "[900]\tvalid_0's binary_logloss: 0.450185\tvalid_1's binary_logloss: 0.486013\n",
      "[1000]\tvalid_0's binary_logloss: 0.446064\tvalid_1's binary_logloss: 0.485641\n",
      "[1100]\tvalid_0's binary_logloss: 0.442232\tvalid_1's binary_logloss: 0.485296\n",
      "[1200]\tvalid_0's binary_logloss: 0.438564\tvalid_1's binary_logloss: 0.485048\n",
      "[1300]\tvalid_0's binary_logloss: 0.435102\tvalid_1's binary_logloss: 0.484833\n",
      "[1400]\tvalid_0's binary_logloss: 0.431774\tvalid_1's binary_logloss: 0.484656\n",
      "[1500]\tvalid_0's binary_logloss: 0.428626\tvalid_1's binary_logloss: 0.484473\n",
      "[1600]\tvalid_0's binary_logloss: 0.425581\tvalid_1's binary_logloss: 0.484342\n",
      "[1700]\tvalid_0's binary_logloss: 0.422671\tvalid_1's binary_logloss: 0.484179\n",
      "[1800]\tvalid_0's binary_logloss: 0.419788\tvalid_1's binary_logloss: 0.484115\n",
      "[1900]\tvalid_0's binary_logloss: 0.417085\tvalid_1's binary_logloss: 0.484032\n",
      "[2000]\tvalid_0's binary_logloss: 0.414442\tvalid_1's binary_logloss: 0.483979\n",
      "[2100]\tvalid_0's binary_logloss: 0.411788\tvalid_1's binary_logloss: 0.483911\n",
      "[2200]\tvalid_0's binary_logloss: 0.409355\tvalid_1's binary_logloss: 0.483861\n",
      "[2300]\tvalid_0's binary_logloss: 0.406894\tvalid_1's binary_logloss: 0.483793\n",
      "[2400]\tvalid_0's binary_logloss: 0.404489\tvalid_1's binary_logloss: 0.483805\n"
     ]
    },
    {
     "name": "stderr",
     "output_type": "stream",
     "text": [
      "regularization_factors, val_score: 0.483536:  95%|#########5| 19/20 [21:05<01:07, 67.15s/it]\u001b[32m[I 2023-02-13 09:46:35,131]\u001b[0m Trial 61 finished with value: 0.4837690335499359 and parameters: {'lambda_l1': 5.221806686664409, 'lambda_l2': 0.011150671220179795}. Best is trial 54 with value: 0.4835360385459322.\u001b[0m\n",
      "regularization_factors, val_score: 0.483536:  95%|#########5| 19/20 [21:05<01:07, 67.15s/it]"
     ]
    },
    {
     "name": "stdout",
     "output_type": "stream",
     "text": [
      "Early stopping, best iteration is:\n",
      "[2348]\tvalid_0's binary_logloss: 0.405734\tvalid_1's binary_logloss: 0.483769\n"
     ]
    },
    {
     "name": "stderr",
     "output_type": "stream",
     "text": [
      "/home/kaggler/.local/lib/python3.8/site-packages/lightgbm/engine.py:181: UserWarning: 'early_stopping_rounds' argument is deprecated and will be removed in a future release of LightGBM. Pass 'early_stopping()' callback via 'callbacks' argument instead.\n",
      "  _log_warning(\"'early_stopping_rounds' argument is deprecated and will be removed in a future release of LightGBM. \"\n",
      "/home/kaggler/.local/lib/python3.8/site-packages/lightgbm/engine.py:239: UserWarning: 'verbose_eval' argument is deprecated and will be removed in a future release of LightGBM. Pass 'log_evaluation()' callback via 'callbacks' argument instead.\n",
      "  _log_warning(\"'verbose_eval' argument is deprecated and will be removed in a future release of LightGBM. \"\n"
     ]
    },
    {
     "name": "stdout",
     "output_type": "stream",
     "text": [
      "[LightGBM] [Warning] min_data_in_leaf is set=50, min_child_samples=20 will be ignored. Current value: min_data_in_leaf=50\n",
      "[LightGBM] [Warning] min_data_in_leaf is set=50, min_child_samples=20 will be ignored. Current value: min_data_in_leaf=50\n",
      "[LightGBM] [Info] Number of positive: 119434, number of negative: 50180\n",
      "[LightGBM] [Warning] Auto-choosing col-wise multi-threading, the overhead of testing was 0.050971 seconds.\n",
      "You can set `force_col_wise=true` to remove the overhead.\n",
      "[LightGBM] [Info] Total Bins 58130\n",
      "[LightGBM] [Info] Number of data points in the train set: 169614, number of used features: 259\n"
     ]
    },
    {
     "name": "stderr",
     "output_type": "stream",
     "text": [
      "/home/kaggler/.local/lib/python3.8/site-packages/lightgbm/basic.py:1780: UserWarning: Overriding the parameters from Reference Dataset.\n",
      "  _log_warning('Overriding the parameters from Reference Dataset.')\n",
      "/home/kaggler/.local/lib/python3.8/site-packages/lightgbm/basic.py:1513: UserWarning: categorical_column in param dict is overridden.\n",
      "  _log_warning(f'{cat_alias} in param dict is overridden.')\n"
     ]
    },
    {
     "name": "stdout",
     "output_type": "stream",
     "text": [
      "[LightGBM] [Warning] min_data_in_leaf is set=50, min_child_samples=20 will be ignored. Current value: min_data_in_leaf=50\n"
     ]
    },
    {
     "name": "stderr",
     "output_type": "stream",
     "text": [
      "/home/kaggler/.local/lib/python3.8/site-packages/lightgbm/basic.py:1780: UserWarning: Overriding the parameters from Reference Dataset.\n",
      "  _log_warning('Overriding the parameters from Reference Dataset.')\n",
      "/home/kaggler/.local/lib/python3.8/site-packages/lightgbm/basic.py:1513: UserWarning: categorical_column in param dict is overridden.\n",
      "  _log_warning(f'{cat_alias} in param dict is overridden.')\n"
     ]
    },
    {
     "name": "stdout",
     "output_type": "stream",
     "text": [
      "[LightGBM] [Warning] min_data_in_leaf is set=50, min_child_samples=20 will be ignored. Current value: min_data_in_leaf=50\n",
      "[LightGBM] [Info] [binary:BoostFromScore]: pavg=0.704152 -> initscore=0.867147\n",
      "[LightGBM] [Info] Start training from score 0.867147\n",
      "Training until validation scores don't improve for 100 rounds\n",
      "[100]\tvalid_0's binary_logloss: 0.532188\tvalid_1's binary_logloss: 0.536165\n",
      "[200]\tvalid_0's binary_logloss: 0.501048\tvalid_1's binary_logloss: 0.509124\n",
      "[300]\tvalid_0's binary_logloss: 0.484792\tvalid_1's binary_logloss: 0.497425\n",
      "[400]\tvalid_0's binary_logloss: 0.474684\tvalid_1's binary_logloss: 0.492042\n",
      "[500]\tvalid_0's binary_logloss: 0.467189\tvalid_1's binary_logloss: 0.489355\n",
      "[600]\tvalid_0's binary_logloss: 0.460978\tvalid_1's binary_logloss: 0.488109\n",
      "[700]\tvalid_0's binary_logloss: 0.455375\tvalid_1's binary_logloss: 0.487127\n",
      "[800]\tvalid_0's binary_logloss: 0.450278\tvalid_1's binary_logloss: 0.486534\n",
      "[900]\tvalid_0's binary_logloss: 0.445571\tvalid_1's binary_logloss: 0.486138\n",
      "[1000]\tvalid_0's binary_logloss: 0.44112\tvalid_1's binary_logloss: 0.485851\n",
      "[1100]\tvalid_0's binary_logloss: 0.436931\tvalid_1's binary_logloss: 0.48564\n",
      "[1200]\tvalid_0's binary_logloss: 0.432915\tvalid_1's binary_logloss: 0.485363\n",
      "[1300]\tvalid_0's binary_logloss: 0.429168\tvalid_1's binary_logloss: 0.485167\n",
      "[1400]\tvalid_0's binary_logloss: 0.42554\tvalid_1's binary_logloss: 0.485085\n",
      "[1500]\tvalid_0's binary_logloss: 0.422143\tvalid_1's binary_logloss: 0.484931\n",
      "[1600]\tvalid_0's binary_logloss: 0.418827\tvalid_1's binary_logloss: 0.484844\n",
      "[1700]\tvalid_0's binary_logloss: 0.415662\tvalid_1's binary_logloss: 0.484809\n"
     ]
    },
    {
     "name": "stderr",
     "output_type": "stream",
     "text": [
      "regularization_factors, val_score: 0.483536: 100%|##########| 20/20 [21:56<00:00, 62.28s/it]\u001b[32m[I 2023-02-13 09:47:26,077]\u001b[0m Trial 62 finished with value: 0.48479229546815106 and parameters: {'lambda_l1': 0.29354716253889523, 'lambda_l2': 0.22571774892329108}. Best is trial 54 with value: 0.4835360385459322.\u001b[0m\n",
      "regularization_factors, val_score: 0.483536: 100%|##########| 20/20 [21:56<00:00, 65.80s/it]\n"
     ]
    },
    {
     "name": "stdout",
     "output_type": "stream",
     "text": [
      "Early stopping, best iteration is:\n",
      "[1680]\tvalid_0's binary_logloss: 0.416268\tvalid_1's binary_logloss: 0.484792\n"
     ]
    },
    {
     "name": "stderr",
     "output_type": "stream",
     "text": [
      "min_data_in_leaf, val_score: 0.483536:   0%|          | 0/5 [00:00<?, ?it/s]/home/kaggler/.local/lib/python3.8/site-packages/lightgbm/engine.py:181: UserWarning: 'early_stopping_rounds' argument is deprecated and will be removed in a future release of LightGBM. Pass 'early_stopping()' callback via 'callbacks' argument instead.\n",
      "  _log_warning(\"'early_stopping_rounds' argument is deprecated and will be removed in a future release of LightGBM. \"\n",
      "/home/kaggler/.local/lib/python3.8/site-packages/lightgbm/engine.py:239: UserWarning: 'verbose_eval' argument is deprecated and will be removed in a future release of LightGBM. Pass 'log_evaluation()' callback via 'callbacks' argument instead.\n",
      "  _log_warning(\"'verbose_eval' argument is deprecated and will be removed in a future release of LightGBM. \"\n"
     ]
    },
    {
     "name": "stdout",
     "output_type": "stream",
     "text": [
      "[LightGBM] [Warning] min_data_in_leaf is set=50, min_child_samples=50 will be ignored. Current value: min_data_in_leaf=50\n",
      "[LightGBM] [Warning] min_data_in_leaf is set=50, min_child_samples=50 will be ignored. Current value: min_data_in_leaf=50\n",
      "[LightGBM] [Info] Number of positive: 119434, number of negative: 50180\n",
      "[LightGBM] [Warning] Auto-choosing col-wise multi-threading, the overhead of testing was 0.050955 seconds.\n",
      "You can set `force_col_wise=true` to remove the overhead.\n",
      "[LightGBM] [Info] Total Bins 58130\n",
      "[LightGBM] [Info] Number of data points in the train set: 169614, number of used features: 259\n"
     ]
    },
    {
     "name": "stderr",
     "output_type": "stream",
     "text": [
      "/home/kaggler/.local/lib/python3.8/site-packages/lightgbm/basic.py:1780: UserWarning: Overriding the parameters from Reference Dataset.\n",
      "  _log_warning('Overriding the parameters from Reference Dataset.')\n",
      "/home/kaggler/.local/lib/python3.8/site-packages/lightgbm/basic.py:1513: UserWarning: categorical_column in param dict is overridden.\n",
      "  _log_warning(f'{cat_alias} in param dict is overridden.')\n"
     ]
    },
    {
     "name": "stdout",
     "output_type": "stream",
     "text": [
      "[LightGBM] [Warning] min_data_in_leaf is set=50, min_child_samples=50 will be ignored. Current value: min_data_in_leaf=50\n"
     ]
    },
    {
     "name": "stderr",
     "output_type": "stream",
     "text": [
      "/home/kaggler/.local/lib/python3.8/site-packages/lightgbm/basic.py:1780: UserWarning: Overriding the parameters from Reference Dataset.\n",
      "  _log_warning('Overriding the parameters from Reference Dataset.')\n",
      "/home/kaggler/.local/lib/python3.8/site-packages/lightgbm/basic.py:1513: UserWarning: categorical_column in param dict is overridden.\n",
      "  _log_warning(f'{cat_alias} in param dict is overridden.')\n"
     ]
    },
    {
     "name": "stdout",
     "output_type": "stream",
     "text": [
      "[LightGBM] [Warning] min_data_in_leaf is set=50, min_child_samples=50 will be ignored. Current value: min_data_in_leaf=50\n",
      "[LightGBM] [Info] [binary:BoostFromScore]: pavg=0.704152 -> initscore=0.867147\n",
      "[LightGBM] [Info] Start training from score 0.867147\n",
      "Training until validation scores don't improve for 100 rounds\n",
      "[100]\tvalid_0's binary_logloss: 0.533013\tvalid_1's binary_logloss: 0.536683\n",
      "[200]\tvalid_0's binary_logloss: 0.502278\tvalid_1's binary_logloss: 0.509557\n",
      "[300]\tvalid_0's binary_logloss: 0.486357\tvalid_1's binary_logloss: 0.497724\n",
      "[400]\tvalid_0's binary_logloss: 0.476662\tvalid_1's binary_logloss: 0.492245\n",
      "[500]\tvalid_0's binary_logloss: 0.46954\tvalid_1's binary_logloss: 0.489441\n",
      "[600]\tvalid_0's binary_logloss: 0.46366\tvalid_1's binary_logloss: 0.488064\n",
      "[700]\tvalid_0's binary_logloss: 0.458377\tvalid_1's binary_logloss: 0.486973\n",
      "[800]\tvalid_0's binary_logloss: 0.453557\tvalid_1's binary_logloss: 0.486275\n",
      "[900]\tvalid_0's binary_logloss: 0.449115\tvalid_1's binary_logloss: 0.485773\n",
      "[1000]\tvalid_0's binary_logloss: 0.444907\tvalid_1's binary_logloss: 0.485351\n",
      "[1100]\tvalid_0's binary_logloss: 0.440999\tvalid_1's binary_logloss: 0.485121\n",
      "[1200]\tvalid_0's binary_logloss: 0.437236\tvalid_1's binary_logloss: 0.484872\n",
      "[1300]\tvalid_0's binary_logloss: 0.433703\tvalid_1's binary_logloss: 0.484717\n",
      "[1400]\tvalid_0's binary_logloss: 0.430301\tvalid_1's binary_logloss: 0.484533\n",
      "[1500]\tvalid_0's binary_logloss: 0.42708\tvalid_1's binary_logloss: 0.484332\n",
      "[1600]\tvalid_0's binary_logloss: 0.423938\tvalid_1's binary_logloss: 0.484224\n",
      "[1700]\tvalid_0's binary_logloss: 0.42099\tvalid_1's binary_logloss: 0.484111\n",
      "[1800]\tvalid_0's binary_logloss: 0.418061\tvalid_1's binary_logloss: 0.484082\n",
      "[1900]\tvalid_0's binary_logloss: 0.415306\tvalid_1's binary_logloss: 0.484015\n",
      "[2000]\tvalid_0's binary_logloss: 0.41263\tvalid_1's binary_logloss: 0.483942\n",
      "[2100]\tvalid_0's binary_logloss: 0.409923\tvalid_1's binary_logloss: 0.48388\n",
      "[2200]\tvalid_0's binary_logloss: 0.40741\tvalid_1's binary_logloss: 0.483861\n",
      "[2300]\tvalid_0's binary_logloss: 0.404878\tvalid_1's binary_logloss: 0.483838\n",
      "[2400]\tvalid_0's binary_logloss: 0.402392\tvalid_1's binary_logloss: 0.483782\n",
      "[2500]\tvalid_0's binary_logloss: 0.400029\tvalid_1's binary_logloss: 0.483686\n",
      "[2600]\tvalid_0's binary_logloss: 0.397729\tvalid_1's binary_logloss: 0.483592\n",
      "[2700]\tvalid_0's binary_logloss: 0.395514\tvalid_1's binary_logloss: 0.483558\n"
     ]
    },
    {
     "name": "stderr",
     "output_type": "stream",
     "text": [
      "min_data_in_leaf, val_score: 0.483536:  20%|##        | 1/5 [01:22<05:28, 82.04s/it]\u001b[32m[I 2023-02-13 09:48:48,125]\u001b[0m Trial 63 finished with value: 0.48353603854593213 and parameters: {'min_child_samples': 50}. Best is trial 63 with value: 0.48353603854593213.\u001b[0m\n",
      "min_data_in_leaf, val_score: 0.483536:  20%|##        | 1/5 [01:22<05:28, 82.04s/it]"
     ]
    },
    {
     "name": "stdout",
     "output_type": "stream",
     "text": [
      "Early stopping, best iteration is:\n",
      "[2638]\tvalid_0's binary_logloss: 0.39688\tvalid_1's binary_logloss: 0.483536\n"
     ]
    },
    {
     "name": "stderr",
     "output_type": "stream",
     "text": [
      "/home/kaggler/.local/lib/python3.8/site-packages/lightgbm/engine.py:181: UserWarning: 'early_stopping_rounds' argument is deprecated and will be removed in a future release of LightGBM. Pass 'early_stopping()' callback via 'callbacks' argument instead.\n",
      "  _log_warning(\"'early_stopping_rounds' argument is deprecated and will be removed in a future release of LightGBM. \"\n",
      "/home/kaggler/.local/lib/python3.8/site-packages/lightgbm/engine.py:239: UserWarning: 'verbose_eval' argument is deprecated and will be removed in a future release of LightGBM. Pass 'log_evaluation()' callback via 'callbacks' argument instead.\n",
      "  _log_warning(\"'verbose_eval' argument is deprecated and will be removed in a future release of LightGBM. \"\n"
     ]
    },
    {
     "name": "stdout",
     "output_type": "stream",
     "text": [
      "[LightGBM] [Warning] min_data_in_leaf is set=50, min_child_samples=25 will be ignored. Current value: min_data_in_leaf=50\n",
      "[LightGBM] [Warning] min_data_in_leaf is set=50, min_child_samples=25 will be ignored. Current value: min_data_in_leaf=50\n",
      "[LightGBM] [Info] Number of positive: 119434, number of negative: 50180\n",
      "[LightGBM] [Warning] Auto-choosing col-wise multi-threading, the overhead of testing was 0.054201 seconds.\n",
      "You can set `force_col_wise=true` to remove the overhead.\n",
      "[LightGBM] [Info] Total Bins 58130\n",
      "[LightGBM] [Info] Number of data points in the train set: 169614, number of used features: 259\n"
     ]
    },
    {
     "name": "stderr",
     "output_type": "stream",
     "text": [
      "/home/kaggler/.local/lib/python3.8/site-packages/lightgbm/basic.py:1780: UserWarning: Overriding the parameters from Reference Dataset.\n",
      "  _log_warning('Overriding the parameters from Reference Dataset.')\n",
      "/home/kaggler/.local/lib/python3.8/site-packages/lightgbm/basic.py:1513: UserWarning: categorical_column in param dict is overridden.\n",
      "  _log_warning(f'{cat_alias} in param dict is overridden.')\n"
     ]
    },
    {
     "name": "stdout",
     "output_type": "stream",
     "text": [
      "[LightGBM] [Warning] min_data_in_leaf is set=50, min_child_samples=25 will be ignored. Current value: min_data_in_leaf=50\n"
     ]
    },
    {
     "name": "stderr",
     "output_type": "stream",
     "text": [
      "/home/kaggler/.local/lib/python3.8/site-packages/lightgbm/basic.py:1780: UserWarning: Overriding the parameters from Reference Dataset.\n",
      "  _log_warning('Overriding the parameters from Reference Dataset.')\n",
      "/home/kaggler/.local/lib/python3.8/site-packages/lightgbm/basic.py:1513: UserWarning: categorical_column in param dict is overridden.\n",
      "  _log_warning(f'{cat_alias} in param dict is overridden.')\n"
     ]
    },
    {
     "name": "stdout",
     "output_type": "stream",
     "text": [
      "[LightGBM] [Warning] min_data_in_leaf is set=50, min_child_samples=25 will be ignored. Current value: min_data_in_leaf=50\n",
      "[LightGBM] [Info] [binary:BoostFromScore]: pavg=0.704152 -> initscore=0.867147\n",
      "[LightGBM] [Info] Start training from score 0.867147\n",
      "Training until validation scores don't improve for 100 rounds\n",
      "[100]\tvalid_0's binary_logloss: 0.533013\tvalid_1's binary_logloss: 0.536683\n",
      "[200]\tvalid_0's binary_logloss: 0.502278\tvalid_1's binary_logloss: 0.509557\n",
      "[300]\tvalid_0's binary_logloss: 0.486357\tvalid_1's binary_logloss: 0.497724\n",
      "[400]\tvalid_0's binary_logloss: 0.476662\tvalid_1's binary_logloss: 0.492245\n",
      "[500]\tvalid_0's binary_logloss: 0.46954\tvalid_1's binary_logloss: 0.489441\n",
      "[600]\tvalid_0's binary_logloss: 0.46366\tvalid_1's binary_logloss: 0.488064\n",
      "[700]\tvalid_0's binary_logloss: 0.458377\tvalid_1's binary_logloss: 0.486973\n",
      "[800]\tvalid_0's binary_logloss: 0.453557\tvalid_1's binary_logloss: 0.486275\n",
      "[900]\tvalid_0's binary_logloss: 0.449115\tvalid_1's binary_logloss: 0.485773\n",
      "[1000]\tvalid_0's binary_logloss: 0.444907\tvalid_1's binary_logloss: 0.485351\n",
      "[1100]\tvalid_0's binary_logloss: 0.440999\tvalid_1's binary_logloss: 0.485121\n",
      "[1200]\tvalid_0's binary_logloss: 0.437236\tvalid_1's binary_logloss: 0.484872\n",
      "[1300]\tvalid_0's binary_logloss: 0.433703\tvalid_1's binary_logloss: 0.484717\n",
      "[1400]\tvalid_0's binary_logloss: 0.430301\tvalid_1's binary_logloss: 0.484533\n",
      "[1500]\tvalid_0's binary_logloss: 0.42708\tvalid_1's binary_logloss: 0.484332\n",
      "[1600]\tvalid_0's binary_logloss: 0.423938\tvalid_1's binary_logloss: 0.484224\n",
      "[1700]\tvalid_0's binary_logloss: 0.42099\tvalid_1's binary_logloss: 0.484111\n",
      "[1800]\tvalid_0's binary_logloss: 0.418061\tvalid_1's binary_logloss: 0.484082\n",
      "[1900]\tvalid_0's binary_logloss: 0.415306\tvalid_1's binary_logloss: 0.484015\n",
      "[2000]\tvalid_0's binary_logloss: 0.41263\tvalid_1's binary_logloss: 0.483942\n",
      "[2100]\tvalid_0's binary_logloss: 0.409923\tvalid_1's binary_logloss: 0.48388\n",
      "[2200]\tvalid_0's binary_logloss: 0.40741\tvalid_1's binary_logloss: 0.483861\n",
      "[2300]\tvalid_0's binary_logloss: 0.404878\tvalid_1's binary_logloss: 0.483838\n",
      "[2400]\tvalid_0's binary_logloss: 0.402392\tvalid_1's binary_logloss: 0.483782\n",
      "[2500]\tvalid_0's binary_logloss: 0.400029\tvalid_1's binary_logloss: 0.483686\n",
      "[2600]\tvalid_0's binary_logloss: 0.397729\tvalid_1's binary_logloss: 0.483592\n",
      "[2700]\tvalid_0's binary_logloss: 0.395514\tvalid_1's binary_logloss: 0.483558\n"
     ]
    },
    {
     "name": "stderr",
     "output_type": "stream",
     "text": [
      "min_data_in_leaf, val_score: 0.483536:  40%|####      | 2/5 [02:44<04:07, 82.36s/it]\u001b[32m[I 2023-02-13 09:50:10,706]\u001b[0m Trial 64 finished with value: 0.4835360385459322 and parameters: {'min_child_samples': 25}. Best is trial 63 with value: 0.48353603854593213.\u001b[0m\n",
      "min_data_in_leaf, val_score: 0.483536:  40%|####      | 2/5 [02:44<04:07, 82.36s/it]"
     ]
    },
    {
     "name": "stdout",
     "output_type": "stream",
     "text": [
      "Early stopping, best iteration is:\n",
      "[2638]\tvalid_0's binary_logloss: 0.39688\tvalid_1's binary_logloss: 0.483536\n"
     ]
    },
    {
     "name": "stderr",
     "output_type": "stream",
     "text": [
      "/home/kaggler/.local/lib/python3.8/site-packages/lightgbm/engine.py:181: UserWarning: 'early_stopping_rounds' argument is deprecated and will be removed in a future release of LightGBM. Pass 'early_stopping()' callback via 'callbacks' argument instead.\n",
      "  _log_warning(\"'early_stopping_rounds' argument is deprecated and will be removed in a future release of LightGBM. \"\n",
      "/home/kaggler/.local/lib/python3.8/site-packages/lightgbm/engine.py:239: UserWarning: 'verbose_eval' argument is deprecated and will be removed in a future release of LightGBM. Pass 'log_evaluation()' callback via 'callbacks' argument instead.\n",
      "  _log_warning(\"'verbose_eval' argument is deprecated and will be removed in a future release of LightGBM. \"\n"
     ]
    },
    {
     "name": "stdout",
     "output_type": "stream",
     "text": [
      "[LightGBM] [Warning] min_data_in_leaf is set=50, min_child_samples=10 will be ignored. Current value: min_data_in_leaf=50\n",
      "[LightGBM] [Warning] min_data_in_leaf is set=50, min_child_samples=10 will be ignored. Current value: min_data_in_leaf=50\n",
      "[LightGBM] [Info] Number of positive: 119434, number of negative: 50180\n",
      "[LightGBM] [Warning] Auto-choosing col-wise multi-threading, the overhead of testing was 0.051333 seconds.\n",
      "You can set `force_col_wise=true` to remove the overhead.\n",
      "[LightGBM] [Info] Total Bins 58130\n",
      "[LightGBM] [Info] Number of data points in the train set: 169614, number of used features: 259\n"
     ]
    },
    {
     "name": "stderr",
     "output_type": "stream",
     "text": [
      "/home/kaggler/.local/lib/python3.8/site-packages/lightgbm/basic.py:1780: UserWarning: Overriding the parameters from Reference Dataset.\n",
      "  _log_warning('Overriding the parameters from Reference Dataset.')\n",
      "/home/kaggler/.local/lib/python3.8/site-packages/lightgbm/basic.py:1513: UserWarning: categorical_column in param dict is overridden.\n",
      "  _log_warning(f'{cat_alias} in param dict is overridden.')\n"
     ]
    },
    {
     "name": "stdout",
     "output_type": "stream",
     "text": [
      "[LightGBM] [Warning] min_data_in_leaf is set=50, min_child_samples=10 will be ignored. Current value: min_data_in_leaf=50\n"
     ]
    },
    {
     "name": "stderr",
     "output_type": "stream",
     "text": [
      "/home/kaggler/.local/lib/python3.8/site-packages/lightgbm/basic.py:1780: UserWarning: Overriding the parameters from Reference Dataset.\n",
      "  _log_warning('Overriding the parameters from Reference Dataset.')\n",
      "/home/kaggler/.local/lib/python3.8/site-packages/lightgbm/basic.py:1513: UserWarning: categorical_column in param dict is overridden.\n",
      "  _log_warning(f'{cat_alias} in param dict is overridden.')\n"
     ]
    },
    {
     "name": "stdout",
     "output_type": "stream",
     "text": [
      "[LightGBM] [Warning] min_data_in_leaf is set=50, min_child_samples=10 will be ignored. Current value: min_data_in_leaf=50\n",
      "[LightGBM] [Info] [binary:BoostFromScore]: pavg=0.704152 -> initscore=0.867147\n",
      "[LightGBM] [Info] Start training from score 0.867147\n",
      "Training until validation scores don't improve for 100 rounds\n",
      "[100]\tvalid_0's binary_logloss: 0.533013\tvalid_1's binary_logloss: 0.536683\n",
      "[200]\tvalid_0's binary_logloss: 0.502278\tvalid_1's binary_logloss: 0.509557\n",
      "[300]\tvalid_0's binary_logloss: 0.486357\tvalid_1's binary_logloss: 0.497724\n",
      "[400]\tvalid_0's binary_logloss: 0.476662\tvalid_1's binary_logloss: 0.492245\n",
      "[500]\tvalid_0's binary_logloss: 0.46954\tvalid_1's binary_logloss: 0.489441\n",
      "[600]\tvalid_0's binary_logloss: 0.46366\tvalid_1's binary_logloss: 0.488064\n",
      "[700]\tvalid_0's binary_logloss: 0.458377\tvalid_1's binary_logloss: 0.486973\n",
      "[800]\tvalid_0's binary_logloss: 0.453557\tvalid_1's binary_logloss: 0.486275\n",
      "[900]\tvalid_0's binary_logloss: 0.449115\tvalid_1's binary_logloss: 0.485773\n",
      "[1000]\tvalid_0's binary_logloss: 0.444907\tvalid_1's binary_logloss: 0.485351\n",
      "[1100]\tvalid_0's binary_logloss: 0.440999\tvalid_1's binary_logloss: 0.485121\n",
      "[1200]\tvalid_0's binary_logloss: 0.437236\tvalid_1's binary_logloss: 0.484872\n",
      "[1300]\tvalid_0's binary_logloss: 0.433703\tvalid_1's binary_logloss: 0.484717\n",
      "[1400]\tvalid_0's binary_logloss: 0.430301\tvalid_1's binary_logloss: 0.484533\n",
      "[1500]\tvalid_0's binary_logloss: 0.42708\tvalid_1's binary_logloss: 0.484332\n",
      "[1600]\tvalid_0's binary_logloss: 0.423938\tvalid_1's binary_logloss: 0.484224\n",
      "[1700]\tvalid_0's binary_logloss: 0.42099\tvalid_1's binary_logloss: 0.484111\n",
      "[1800]\tvalid_0's binary_logloss: 0.418061\tvalid_1's binary_logloss: 0.484082\n",
      "[1900]\tvalid_0's binary_logloss: 0.415306\tvalid_1's binary_logloss: 0.484015\n",
      "[2000]\tvalid_0's binary_logloss: 0.41263\tvalid_1's binary_logloss: 0.483942\n",
      "[2100]\tvalid_0's binary_logloss: 0.409923\tvalid_1's binary_logloss: 0.48388\n",
      "[2200]\tvalid_0's binary_logloss: 0.40741\tvalid_1's binary_logloss: 0.483861\n",
      "[2300]\tvalid_0's binary_logloss: 0.404878\tvalid_1's binary_logloss: 0.483838\n",
      "[2400]\tvalid_0's binary_logloss: 0.402392\tvalid_1's binary_logloss: 0.483782\n",
      "[2500]\tvalid_0's binary_logloss: 0.400029\tvalid_1's binary_logloss: 0.483686\n",
      "[2600]\tvalid_0's binary_logloss: 0.397729\tvalid_1's binary_logloss: 0.483592\n",
      "[2700]\tvalid_0's binary_logloss: 0.395514\tvalid_1's binary_logloss: 0.483558\n"
     ]
    },
    {
     "name": "stderr",
     "output_type": "stream",
     "text": [
      "min_data_in_leaf, val_score: 0.483536:  60%|######    | 3/5 [04:05<02:43, 81.84s/it]\u001b[32m[I 2023-02-13 09:51:31,928]\u001b[0m Trial 65 finished with value: 0.4835360385459322 and parameters: {'min_child_samples': 10}. Best is trial 63 with value: 0.48353603854593213.\u001b[0m\n",
      "min_data_in_leaf, val_score: 0.483536:  60%|######    | 3/5 [04:05<02:43, 81.84s/it]"
     ]
    },
    {
     "name": "stdout",
     "output_type": "stream",
     "text": [
      "Early stopping, best iteration is:\n",
      "[2638]\tvalid_0's binary_logloss: 0.39688\tvalid_1's binary_logloss: 0.483536\n"
     ]
    },
    {
     "name": "stderr",
     "output_type": "stream",
     "text": [
      "/home/kaggler/.local/lib/python3.8/site-packages/lightgbm/engine.py:181: UserWarning: 'early_stopping_rounds' argument is deprecated and will be removed in a future release of LightGBM. Pass 'early_stopping()' callback via 'callbacks' argument instead.\n",
      "  _log_warning(\"'early_stopping_rounds' argument is deprecated and will be removed in a future release of LightGBM. \"\n",
      "/home/kaggler/.local/lib/python3.8/site-packages/lightgbm/engine.py:239: UserWarning: 'verbose_eval' argument is deprecated and will be removed in a future release of LightGBM. Pass 'log_evaluation()' callback via 'callbacks' argument instead.\n",
      "  _log_warning(\"'verbose_eval' argument is deprecated and will be removed in a future release of LightGBM. \"\n"
     ]
    },
    {
     "name": "stdout",
     "output_type": "stream",
     "text": [
      "[LightGBM] [Warning] min_data_in_leaf is set=50, min_child_samples=100 will be ignored. Current value: min_data_in_leaf=50\n",
      "[LightGBM] [Warning] min_data_in_leaf is set=50, min_child_samples=100 will be ignored. Current value: min_data_in_leaf=50\n",
      "[LightGBM] [Info] Number of positive: 119434, number of negative: 50180\n",
      "[LightGBM] [Warning] Auto-choosing col-wise multi-threading, the overhead of testing was 0.052990 seconds.\n",
      "You can set `force_col_wise=true` to remove the overhead.\n",
      "[LightGBM] [Info] Total Bins 58130\n",
      "[LightGBM] [Info] Number of data points in the train set: 169614, number of used features: 259\n"
     ]
    },
    {
     "name": "stderr",
     "output_type": "stream",
     "text": [
      "/home/kaggler/.local/lib/python3.8/site-packages/lightgbm/basic.py:1780: UserWarning: Overriding the parameters from Reference Dataset.\n",
      "  _log_warning('Overriding the parameters from Reference Dataset.')\n",
      "/home/kaggler/.local/lib/python3.8/site-packages/lightgbm/basic.py:1513: UserWarning: categorical_column in param dict is overridden.\n",
      "  _log_warning(f'{cat_alias} in param dict is overridden.')\n"
     ]
    },
    {
     "name": "stdout",
     "output_type": "stream",
     "text": [
      "[LightGBM] [Warning] min_data_in_leaf is set=50, min_child_samples=100 will be ignored. Current value: min_data_in_leaf=50\n"
     ]
    },
    {
     "name": "stderr",
     "output_type": "stream",
     "text": [
      "/home/kaggler/.local/lib/python3.8/site-packages/lightgbm/basic.py:1780: UserWarning: Overriding the parameters from Reference Dataset.\n",
      "  _log_warning('Overriding the parameters from Reference Dataset.')\n",
      "/home/kaggler/.local/lib/python3.8/site-packages/lightgbm/basic.py:1513: UserWarning: categorical_column in param dict is overridden.\n",
      "  _log_warning(f'{cat_alias} in param dict is overridden.')\n"
     ]
    },
    {
     "name": "stdout",
     "output_type": "stream",
     "text": [
      "[LightGBM] [Warning] min_data_in_leaf is set=50, min_child_samples=100 will be ignored. Current value: min_data_in_leaf=50\n",
      "[LightGBM] [Info] [binary:BoostFromScore]: pavg=0.704152 -> initscore=0.867147\n",
      "[LightGBM] [Info] Start training from score 0.867147\n",
      "Training until validation scores don't improve for 100 rounds\n",
      "[100]\tvalid_0's binary_logloss: 0.533013\tvalid_1's binary_logloss: 0.536683\n",
      "[200]\tvalid_0's binary_logloss: 0.502278\tvalid_1's binary_logloss: 0.509557\n",
      "[300]\tvalid_0's binary_logloss: 0.486357\tvalid_1's binary_logloss: 0.497724\n",
      "[400]\tvalid_0's binary_logloss: 0.476662\tvalid_1's binary_logloss: 0.492245\n",
      "[500]\tvalid_0's binary_logloss: 0.46954\tvalid_1's binary_logloss: 0.489441\n",
      "[600]\tvalid_0's binary_logloss: 0.46366\tvalid_1's binary_logloss: 0.488064\n",
      "[700]\tvalid_0's binary_logloss: 0.458377\tvalid_1's binary_logloss: 0.486973\n",
      "[800]\tvalid_0's binary_logloss: 0.453557\tvalid_1's binary_logloss: 0.486275\n",
      "[900]\tvalid_0's binary_logloss: 0.449115\tvalid_1's binary_logloss: 0.485773\n",
      "[1000]\tvalid_0's binary_logloss: 0.444907\tvalid_1's binary_logloss: 0.485351\n",
      "[1100]\tvalid_0's binary_logloss: 0.440999\tvalid_1's binary_logloss: 0.485121\n",
      "[1200]\tvalid_0's binary_logloss: 0.437236\tvalid_1's binary_logloss: 0.484872\n",
      "[1300]\tvalid_0's binary_logloss: 0.433703\tvalid_1's binary_logloss: 0.484717\n",
      "[1400]\tvalid_0's binary_logloss: 0.430301\tvalid_1's binary_logloss: 0.484533\n",
      "[1500]\tvalid_0's binary_logloss: 0.42708\tvalid_1's binary_logloss: 0.484332\n",
      "[1600]\tvalid_0's binary_logloss: 0.423938\tvalid_1's binary_logloss: 0.484224\n",
      "[1700]\tvalid_0's binary_logloss: 0.42099\tvalid_1's binary_logloss: 0.484111\n",
      "[1800]\tvalid_0's binary_logloss: 0.418061\tvalid_1's binary_logloss: 0.484082\n",
      "[1900]\tvalid_0's binary_logloss: 0.415306\tvalid_1's binary_logloss: 0.484015\n",
      "[2000]\tvalid_0's binary_logloss: 0.41263\tvalid_1's binary_logloss: 0.483942\n",
      "[2100]\tvalid_0's binary_logloss: 0.409923\tvalid_1's binary_logloss: 0.48388\n",
      "[2200]\tvalid_0's binary_logloss: 0.40741\tvalid_1's binary_logloss: 0.483861\n",
      "[2300]\tvalid_0's binary_logloss: 0.404878\tvalid_1's binary_logloss: 0.483838\n",
      "[2400]\tvalid_0's binary_logloss: 0.402392\tvalid_1's binary_logloss: 0.483782\n",
      "[2500]\tvalid_0's binary_logloss: 0.400029\tvalid_1's binary_logloss: 0.483686\n",
      "[2600]\tvalid_0's binary_logloss: 0.397729\tvalid_1's binary_logloss: 0.483592\n",
      "[2700]\tvalid_0's binary_logloss: 0.395514\tvalid_1's binary_logloss: 0.483558\n"
     ]
    },
    {
     "name": "stderr",
     "output_type": "stream",
     "text": [
      "min_data_in_leaf, val_score: 0.483536:  80%|########  | 4/5 [05:27<01:21, 81.78s/it]\u001b[32m[I 2023-02-13 09:52:53,626]\u001b[0m Trial 66 finished with value: 0.483536038545932 and parameters: {'min_child_samples': 100}. Best is trial 66 with value: 0.483536038545932.\u001b[0m\n",
      "min_data_in_leaf, val_score: 0.483536:  80%|########  | 4/5 [05:27<01:21, 81.78s/it]"
     ]
    },
    {
     "name": "stdout",
     "output_type": "stream",
     "text": [
      "Early stopping, best iteration is:\n",
      "[2638]\tvalid_0's binary_logloss: 0.39688\tvalid_1's binary_logloss: 0.483536\n"
     ]
    },
    {
     "name": "stderr",
     "output_type": "stream",
     "text": [
      "/home/kaggler/.local/lib/python3.8/site-packages/lightgbm/engine.py:181: UserWarning: 'early_stopping_rounds' argument is deprecated and will be removed in a future release of LightGBM. Pass 'early_stopping()' callback via 'callbacks' argument instead.\n",
      "  _log_warning(\"'early_stopping_rounds' argument is deprecated and will be removed in a future release of LightGBM. \"\n",
      "/home/kaggler/.local/lib/python3.8/site-packages/lightgbm/engine.py:239: UserWarning: 'verbose_eval' argument is deprecated and will be removed in a future release of LightGBM. Pass 'log_evaluation()' callback via 'callbacks' argument instead.\n",
      "  _log_warning(\"'verbose_eval' argument is deprecated and will be removed in a future release of LightGBM. \"\n"
     ]
    },
    {
     "name": "stdout",
     "output_type": "stream",
     "text": [
      "[LightGBM] [Warning] min_data_in_leaf is set=50, min_child_samples=5 will be ignored. Current value: min_data_in_leaf=50\n",
      "[LightGBM] [Warning] min_data_in_leaf is set=50, min_child_samples=5 will be ignored. Current value: min_data_in_leaf=50\n",
      "[LightGBM] [Info] Number of positive: 119434, number of negative: 50180\n",
      "[LightGBM] [Warning] Auto-choosing col-wise multi-threading, the overhead of testing was 0.055685 seconds.\n",
      "You can set `force_col_wise=true` to remove the overhead.\n",
      "[LightGBM] [Info] Total Bins 58130\n",
      "[LightGBM] [Info] Number of data points in the train set: 169614, number of used features: 259\n"
     ]
    },
    {
     "name": "stderr",
     "output_type": "stream",
     "text": [
      "/home/kaggler/.local/lib/python3.8/site-packages/lightgbm/basic.py:1780: UserWarning: Overriding the parameters from Reference Dataset.\n",
      "  _log_warning('Overriding the parameters from Reference Dataset.')\n",
      "/home/kaggler/.local/lib/python3.8/site-packages/lightgbm/basic.py:1513: UserWarning: categorical_column in param dict is overridden.\n",
      "  _log_warning(f'{cat_alias} in param dict is overridden.')\n"
     ]
    },
    {
     "name": "stdout",
     "output_type": "stream",
     "text": [
      "[LightGBM] [Warning] min_data_in_leaf is set=50, min_child_samples=5 will be ignored. Current value: min_data_in_leaf=50\n"
     ]
    },
    {
     "name": "stderr",
     "output_type": "stream",
     "text": [
      "/home/kaggler/.local/lib/python3.8/site-packages/lightgbm/basic.py:1780: UserWarning: Overriding the parameters from Reference Dataset.\n",
      "  _log_warning('Overriding the parameters from Reference Dataset.')\n",
      "/home/kaggler/.local/lib/python3.8/site-packages/lightgbm/basic.py:1513: UserWarning: categorical_column in param dict is overridden.\n",
      "  _log_warning(f'{cat_alias} in param dict is overridden.')\n"
     ]
    },
    {
     "name": "stdout",
     "output_type": "stream",
     "text": [
      "[LightGBM] [Warning] min_data_in_leaf is set=50, min_child_samples=5 will be ignored. Current value: min_data_in_leaf=50\n",
      "[LightGBM] [Info] [binary:BoostFromScore]: pavg=0.704152 -> initscore=0.867147\n",
      "[LightGBM] [Info] Start training from score 0.867147\n",
      "Training until validation scores don't improve for 100 rounds\n",
      "[100]\tvalid_0's binary_logloss: 0.533013\tvalid_1's binary_logloss: 0.536683\n",
      "[200]\tvalid_0's binary_logloss: 0.502278\tvalid_1's binary_logloss: 0.509557\n",
      "[300]\tvalid_0's binary_logloss: 0.486357\tvalid_1's binary_logloss: 0.497724\n",
      "[400]\tvalid_0's binary_logloss: 0.476662\tvalid_1's binary_logloss: 0.492245\n",
      "[500]\tvalid_0's binary_logloss: 0.46954\tvalid_1's binary_logloss: 0.489441\n",
      "[600]\tvalid_0's binary_logloss: 0.46366\tvalid_1's binary_logloss: 0.488064\n",
      "[700]\tvalid_0's binary_logloss: 0.458377\tvalid_1's binary_logloss: 0.486973\n",
      "[800]\tvalid_0's binary_logloss: 0.453557\tvalid_1's binary_logloss: 0.486275\n",
      "[900]\tvalid_0's binary_logloss: 0.449115\tvalid_1's binary_logloss: 0.485773\n",
      "[1000]\tvalid_0's binary_logloss: 0.444907\tvalid_1's binary_logloss: 0.485351\n",
      "[1100]\tvalid_0's binary_logloss: 0.440999\tvalid_1's binary_logloss: 0.485121\n",
      "[1200]\tvalid_0's binary_logloss: 0.437236\tvalid_1's binary_logloss: 0.484872\n",
      "[1300]\tvalid_0's binary_logloss: 0.433703\tvalid_1's binary_logloss: 0.484717\n",
      "[1400]\tvalid_0's binary_logloss: 0.430301\tvalid_1's binary_logloss: 0.484533\n",
      "[1500]\tvalid_0's binary_logloss: 0.42708\tvalid_1's binary_logloss: 0.484332\n",
      "[1600]\tvalid_0's binary_logloss: 0.423938\tvalid_1's binary_logloss: 0.484224\n",
      "[1700]\tvalid_0's binary_logloss: 0.42099\tvalid_1's binary_logloss: 0.484111\n",
      "[1800]\tvalid_0's binary_logloss: 0.418061\tvalid_1's binary_logloss: 0.484082\n",
      "[1900]\tvalid_0's binary_logloss: 0.415306\tvalid_1's binary_logloss: 0.484015\n",
      "[2000]\tvalid_0's binary_logloss: 0.41263\tvalid_1's binary_logloss: 0.483942\n",
      "[2100]\tvalid_0's binary_logloss: 0.409923\tvalid_1's binary_logloss: 0.48388\n",
      "[2200]\tvalid_0's binary_logloss: 0.40741\tvalid_1's binary_logloss: 0.483861\n",
      "[2300]\tvalid_0's binary_logloss: 0.404878\tvalid_1's binary_logloss: 0.483838\n",
      "[2400]\tvalid_0's binary_logloss: 0.402392\tvalid_1's binary_logloss: 0.483782\n",
      "[2500]\tvalid_0's binary_logloss: 0.400029\tvalid_1's binary_logloss: 0.483686\n",
      "[2600]\tvalid_0's binary_logloss: 0.397729\tvalid_1's binary_logloss: 0.483592\n",
      "[2700]\tvalid_0's binary_logloss: 0.395514\tvalid_1's binary_logloss: 0.483558\n"
     ]
    },
    {
     "name": "stderr",
     "output_type": "stream",
     "text": [
      "min_data_in_leaf, val_score: 0.483536: 100%|##########| 5/5 [06:48<00:00, 81.62s/it]\u001b[32m[I 2023-02-13 09:54:14,970]\u001b[0m Trial 67 finished with value: 0.4835360385459322 and parameters: {'min_child_samples': 5}. Best is trial 66 with value: 0.483536038545932.\u001b[0m\n",
      "min_data_in_leaf, val_score: 0.483536: 100%|##########| 5/5 [06:48<00:00, 81.78s/it]"
     ]
    },
    {
     "name": "stdout",
     "output_type": "stream",
     "text": [
      "Early stopping, best iteration is:\n",
      "[2638]\tvalid_0's binary_logloss: 0.39688\tvalid_1's binary_logloss: 0.483536\n",
      "{'objective': 'binary', 'boosting': 'gbdt', 'learning_rate': 0.01, 'metric': 'binary_logloss', 'seed': 42, 'feature_pre_filter': False, 'lambda_l1': 4.134488140102331, 'lambda_l2': 0.007775200046481757, 'num_leaves': 75, 'feature_fraction': 0.5, 'bagging_fraction': 0.7036110805680353, 'bagging_freq': 3, 'min_data_in_leaf': 50, 'min_child_samples': 100, 'num_iterations': 2000000, 'early_stopping_round': 100, 'categorical_column': [257]}\n"
     ]
    },
    {
     "name": "stderr",
     "output_type": "stream",
     "text": [
      "\n"
     ]
    }
   ],
   "source": [
    "dfs = []\n",
    "hist = History()\n",
    "for group in level_group_list:\n",
    "    # データ読み込み\n",
    "    train_sessions = pd.read_csv(cfg.prep_dir + f\"train{group}.csv\")\n",
    "    labels = pd.read_csv(cfg.prep_dir + f\"train_labels{group}.csv\")\n",
    "    train_group, hist = get_train_data(train_sessions, labels, hist)\n",
    "    dfs.append(train_group)\n",
    "train = pd.concat(dfs, ignore_index=True)\n",
    "# concatするとcategory型がリセットされてしまうので再度cast\n",
    "train[\"level_group\"] = train[\"level_group\"].astype(\"category\")\n",
    "train[\"question\"] = train[\"question\"].astype(\"category\")\n",
    "\n",
    "target = \"correct\"\n",
    "not_use_cols = [target, \"session_id\", \"level_group\"]\n",
    "features = [c for c in train.columns if c not in not_use_cols]\n",
    "\n",
    "gkf = GroupKFold(n_splits=cfg.n_splits)\n",
    "fis = []\n",
    "oofs = []\n",
    "for i, (tr_idx, vl_idx) in enumerate(gkf.split(train[features], train[target], train[\"session_id\"])):\n",
    "    print(f\"fold : {i}\")\n",
    "    tr_x, tr_y = train.iloc[tr_idx][features], train.iloc[tr_idx][target]\n",
    "    vl_x, vl_y = train.iloc[vl_idx][features], train.iloc[vl_idx][target]\n",
    "    tr_data = lgb.Dataset(tr_x, label=tr_y)\n",
    "    vl_data = lgb.Dataset(vl_x, label=vl_y)\n",
    "    break\n",
    "\n",
    "model = optuna_lgb.train(params, tr_data, valid_sets=[tr_data, vl_data],\n",
    "                num_boost_round=2000000, early_stopping_rounds=100, verbose_eval=100)\n",
    "print(model.params)"
   ]
  }
 ],
 "metadata": {
  "kernelspec": {
   "display_name": "Python 3 (ipykernel)",
   "language": "python",
   "name": "python3"
  },
  "language_info": {
   "codemirror_mode": {
    "name": "ipython",
    "version": 3
   },
   "file_extension": ".py",
   "mimetype": "text/x-python",
   "name": "python",
   "nbconvert_exporter": "python",
   "pygments_lexer": "ipython3",
   "version": "3.8.10"
  },
  "orig_nbformat": 4
 },
 "nbformat": 4,
 "nbformat_minor": 2
}
